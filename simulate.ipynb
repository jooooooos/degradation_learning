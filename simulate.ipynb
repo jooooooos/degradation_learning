{
 "cells": [
  {
   "cell_type": "code",
   "execution_count": 1,
   "id": "f1bf8ff4",
   "metadata": {},
   "outputs": [],
   "source": [
    "import pickle\n",
    "import numpy as np\n",
    "import pandas as pd\n",
    "from scipy.optimize import minimize\n",
    "import torch\n",
    "\n",
    "from policy import DPAgent\n",
    "from new_new_policy import DiscretizedDPAgent\n",
    "from simulation import Simulator, CustomerGenerator\n",
    "from hazard_models import ExponentialHazard\n",
    "from utility_learner import ProjectedVolumeLearner, diam\n",
    "from degradation_learner import DegradationLearner\n",
    "\n",
    "from utils import unit_ball_rejection_sample, correct_signs\n",
    "import matplotlib.pyplot as plt\n",
    "from scipy.stats import gaussian_kde\n",
    "\n",
    "import logging\n",
    "logging.basicConfig(level=logging.INFO)\n",
    "\n",
    "np.set_printoptions(suppress=True)"
   ]
  },
  {
   "cell_type": "code",
   "execution_count": 2,
   "id": "52e08dea",
   "metadata": {},
   "outputs": [],
   "source": [
    "# --- 2. Define Sampling Functions ---\n",
    "# def context_sampler() -> np.ndarray:\n",
    "#     \"\"\"Samples a customer's context vector from a uniform distribution.\"\"\"\n",
    "#     return np.random.uniform(low=0.0, high=1.0, size=D)\n",
    "\n",
    "def context_sampler() -> np.ndarray:\n",
    "    \"\"\"Samples a customer's context vector uniformly from the unit ball.\"\"\"\n",
    "    return np.abs(unit_ball_rejection_sample(D))\n",
    "\n",
    "def rental_sampler() -> float:\n",
    "    \"\"\"Samples a customer's desired rental duration from an exponential distribution.\"\"\"\n",
    "    return np.random.exponential(scale=10.0)\n",
    "\n",
    "def interarrival_sampler() -> float:\n",
    "    \"\"\"Samples the time until the next customer arrives.\"\"\"\n",
    "    return np.random.exponential(scale=5.0)"
   ]
  },
  {
   "cell_type": "code",
   "execution_count": 3,
   "id": "8cc2c2dd",
   "metadata": {},
   "outputs": [],
   "source": [
    "# --- 1. Simulation Configuration ---\n",
    "D = 4                                  # Dimension of context vectors\n",
    "LAMBDA_VAL = 0.001                     # Baseline hazard constant\n",
    "NUM_CUSTOMERS = 20000                   # Total number of customers to simulate, i.e. T\n",
    "\n",
    "# Set a random seed for reproducibility\n",
    "np.random.seed(41)\n",
    "\n",
    "# Ground truth vectors\n",
    "THETA_TRUE = np.array([0.5, 0.2, 0.4, 0.3])#$, 0.4])    # For degradation\n",
    "UTILITY_TRUE = np.array([0.372450167, 0.10850869, 0.33930126, 0.71356037])\n",
    "\n",
    "# context_sampler()  # For customer's willingness to pay\n",
    "\n",
    "# --- Machine's Pricing Vector 'r' ---\n",
    "# This is a fallback pricing vector, when we don't feed u_hat to calculate_price\n",
    "PRICING_R = np.zeros(D)"
   ]
  },
  {
   "cell_type": "code",
   "execution_count": null,
   "id": "8e600551",
   "metadata": {},
   "outputs": [],
   "source": [
    "usage_exp_hazard_model = ExponentialHazard(lambda_val=LAMBDA_VAL)\n",
    "# spontaneous_exp_hazard_model = None # ExponentialHazard(lambda_val=0.01)\n",
    "\n",
    "customer_gen = CustomerGenerator(\n",
    "    d=D,\n",
    "    context_sampler=context_sampler,\n",
    "    rental_sampler=rental_sampler,\n",
    "    interarrival_sampler=interarrival_sampler\n",
    ")\n",
    "\n",
    "centroid_params = {\n",
    "    # 'num_samples': 2000,\n",
    "    # 'thin': None,\n",
    "    # 'burn_in': 500 * D ** 2,\n",
    "    # 'tol': 1e-4,\n",
    "    # 'rho_target': 0.01\n",
    "}\n",
    "\n",
    "termination_rule = lambda diameter: diameter < 0.0005  # Example custom termination rule\n",
    "\n",
    "projected_volume_learner = ProjectedVolumeLearner(\n",
    "    T=NUM_CUSTOMERS, \n",
    "    d=D, \n",
    "    centroid_params=centroid_params,\n",
    "    incentive_constant=1.1,\n",
    "    termination_rule=termination_rule,\n",
    ")\n",
    "\n",
    "mdp_params = {\n",
    "    'duration_lambda': 10.0,\n",
    "    'interarrival_lambda': 5.0,\n",
    "    'replacement_cost': 1.5,   # Cost to replace the machine\n",
    "    'failure_cost': 0.75,      # Additional penalty for in-service failure\n",
    "    'holding_cost_rate': 0.02,   # Cost per unit of idle time\n",
    "    'gamma': 0.99,             # Discount factor\n",
    "    'learning_rate': 1e-3,      # Learning rate for the Adam optimizer\n",
    "    'target_update_freq': 10    # How often to update the target network (in iterations)\n",
    "}\n",
    "\n",
    "training_hyperparams = {\n",
    "    # For FQI\n",
    "    'num_iterations': 1, # Number of training iterations per policy update\n",
    "    'dataset_size': 50000,      # Number of transitions to generate for the offline dataset\n",
    "    'batch_size': 256,           # Batch size for training\n",
    "\n",
    "    # For discrete DP\n",
    "    # 'N': [80, 20, 60, 150], # grid sizes [cum_context, context, duration, active_time\n",
    "    'N': [100, 50, 100, 100], # grid sizes [cum_context, context, revenue, duration]\n",
    "    'max_cumulative_context': 8.0,\n",
    "    # 'max_active_time': 150.0,\n",
    "    'num_value_iterations': 100,\n",
    "    \n",
    "}\n",
    "\n",
    "policy_type = 'decaying_epsilon_greedy'\n",
    "policy_kwargs = {\n",
    "    'current_epsilon': 0.10,\n",
    "    'decay_rate': 0.95,\n",
    "    'step': 0,\n",
    "}\n",
    "\n",
    "# Instantiate the Simulator with the new parameters\n",
    "simulator = Simulator(\n",
    "    d=D,\n",
    "    T=NUM_CUSTOMERS,\n",
    "    \n",
    "    theta_true=THETA_TRUE,\n",
    "    utility_true=UTILITY_TRUE,\n",
    "    pricing_r=PRICING_R,\n",
    "    \n",
    "    usage_hazard_model=usage_exp_hazard_model,\n",
    "    customer_generator=customer_gen,\n",
    "    projected_volume_learner=projected_volume_learner,  # Use default ProjectedVolumeLearner\n",
    "    \n",
    "    mdp_params=mdp_params,\n",
    "    discrete_dp=True,\n",
    "    policy_type=policy_type,\n",
    "    training_hyperparams=training_hyperparams,\n",
    "    policy_kwargs=policy_kwargs,\n",
    "    policy_update_threshold=100,\n",
    "    time_normalize=True,\n",
    ")"
   ]
  },
  {
   "cell_type": "code",
   "execution_count": 5,
   "id": "6ab40bba",
   "metadata": {},
   "outputs": [
    {
     "name": "stdout",
     "output_type": "stream",
     "text": [
      "Discretization setup:\n",
      "  - Cumulative Context (cc):    100 steps up to 8.00\n",
      "  - Cust. Degradation (cx):     50 steps up to 1.00\n",
      "  - Cust. Revenue (cu):         100 steps up to 1.00 (99.9th percentile)\n",
      "  - Rental Duration (T):        100 steps up to 76.01 (99.95th percentile)\n",
      "Pre-computing expectations from 100000 customer samples...\n",
      "Starting Numba-accelerated pre-computation of arrival dynamics...\n"
     ]
    },
    {
     "name": "stderr",
     "output_type": "stream",
     "text": [
      "OMP: Info #276: omp_set_nested routine deprecated, please use omp_set_max_active_levels instead.\n"
     ]
    },
    {
     "name": "stdout",
     "output_type": "stream",
     "text": [
      "Pre-computation complete. ✅\n",
      "\n",
      "Starting Value Iteration...\n",
      "Iteration 10/100 | Max Change (Delta): 0.364501\n",
      "Iteration 20/100 | Max Change (Delta): 0.277504\n",
      "Iteration 30/100 | Max Change (Delta): 0.219789\n",
      "Iteration 40/100 | Max Change (Delta): 0.175778\n",
      "Iteration 50/100 | Max Change (Delta): 0.141952\n",
      "Iteration 60/100 | Max Change (Delta): 0.115378\n",
      "Iteration 70/100 | Max Change (Delta): 0.093910\n",
      "Iteration 80/100 | Max Change (Delta): 0.076692\n",
      "Iteration 90/100 | Max Change (Delta): 0.062615\n",
      "Iteration 100/100 | Max Change (Delta): 0.051195\n",
      "\n",
      "Value iteration finished (max iterations reached).\n"
     ]
    }
   ],
   "source": [
    "# Lets you skip utility exploration with perfect u starting point\n",
    "simulator.projected_volume_learner.centroids.append(UTILITY_TRUE)\n",
    "simulator.projected_volume_learner.is_terminated = True\n",
    "simulator.seen_breakdowns = 2\n",
    "\n",
    "degradation_learner = DegradationLearner(d=simulator.d)\n",
    "degradation_learner.theta = np.ones(D) * 0.1\n",
    "degradation_learner.cum_baseline = lambda x: LAMBDA_VAL * x\n",
    "degradation_learner.inverse_cum_baseline = lambda y: y / LAMBDA_VAL\n",
    "simulator.degradation_learner = degradation_learner\n",
    "\n",
    "# dp_agent = DPAgent(\n",
    "#     d=simulator.d,\n",
    "#     u_hat=UTILITY_TRUE,\n",
    "#     time_normalize=simulator.time_normalize,\n",
    "#     degradation_learner=simulator.degradation_learner,\n",
    "#     customer_generator=simulator.customer_generator,\n",
    "#     params=simulator.mdp_params\n",
    "# )\n",
    "# dp_agent.train(**simulator.training_hyperparams)\n",
    "\n",
    "dp_agent = DiscretizedDPAgent(\n",
    "    N=training_hyperparams['N'], # grid sizes [cum_context, context, duration, active_time]\n",
    "    max_cumulative_context=training_hyperparams['max_cumulative_context'],\n",
    "    # max_active_time=training_hyperparams['max_active_time'],\n",
    "    u_hat=UTILITY_TRUE,\n",
    "    degradation_learner=degradation_learner,\n",
    "    customer_generator=customer_gen,\n",
    "    params=mdp_params,\n",
    ")\n",
    "# dp_agent._precompute_dynamics(num_samples=50000)\n",
    "dp_agent.run_value_iteration(100)\n",
    "\n",
    "simulator.dp_agent = dp_agent\n",
    "simulator.optimal_policy = dp_agent.get_policy(simulator.policy_type)\n",
    "simulator.breakdowns_since_last_update = 0 # Reset the counter\n"
   ]
  },
  {
   "cell_type": "code",
   "execution_count": 6,
   "id": "5e90ec1a",
   "metadata": {},
   "outputs": [
    {
     "name": "stderr",
     "output_type": "stream",
     "text": [
      "INFO:root:Starting simulation for 20000 customers...\n",
      "  0%|          | 0/20000 [00:00<?, ?it/s]INFO:root:Updating optimal policy...\n"
     ]
    },
    {
     "name": "stdout",
     "output_type": "stream",
     "text": [
      "RUNNING THE L-BFGS-B CODE\n",
      "\n",
      "           * * *\n",
      "\n",
      "Machine precision = 2.220D-16\n",
      " N =            4     M =           10\n",
      "\n",
      "At X0         4 variables are exactly at the bounds\n",
      "\n",
      "At iterate    0    f=  3.93345D+02    |proj g|=  1.00000D+00\n",
      "\n",
      "At iterate    1    f=  3.50043D+02    |proj g|=  6.32233D-01\n",
      "\n",
      "At iterate    2    f=  3.49971D+02    |proj g|=  6.23056D-01\n",
      "\n",
      "At iterate    3    f=  3.49815D+02    |proj g|=  3.74423D-01\n",
      "\n",
      "At iterate    4    f=  3.49812D+02    |proj g|=  7.84313D-02\n",
      "\n",
      "At iterate    5    f=  3.49812D+02    |proj g|=  4.51280D-02\n",
      "\n",
      "At iterate    6    f=  3.49812D+02    |proj g|=  1.81773D-02\n"
     ]
    },
    {
     "name": "stderr",
     "output_type": "stream",
     "text": [
      "INFO:root:Theta updated. New theta_hat: [0.362 0.419 0.441 0.269]\n"
     ]
    },
    {
     "name": "stdout",
     "output_type": "stream",
     "text": [
      "\n",
      "At iterate    7    f=  3.49812D+02    |proj g|=  1.22351D-03\n",
      "\n",
      "At iterate    8    f=  3.49812D+02    |proj g|=  3.39816D-04\n",
      "\n",
      "           * * *\n",
      "\n",
      "Tit   = total number of iterations\n",
      "Tnf   = total number of function evaluations\n",
      "Tnint = total number of segments explored during Cauchy searches\n",
      "Skip  = number of BFGS updates skipped\n",
      "Nact  = number of active bounds at final generalized Cauchy point\n",
      "Projg = norm of the final projected gradient\n",
      "F     = final function value\n",
      "\n",
      "           * * *\n",
      "\n",
      "   N    Tit     Tnf  Tnint  Skip  Nact     Projg        F\n",
      "    4      8     10     11     0     0   3.398D-04   3.498D+02\n",
      "  F =   349.81175918254547     \n",
      "\n",
      "CONVERGENCE: REL_REDUCTION_OF_F_<=_FACTR*EPSMCH             \n",
      "Discretization setup:\n",
      "  - Cumulative Context (cc):    100 steps up to 8.00\n",
      "  - Cust. Degradation (cx):     50 steps up to 1.00\n",
      "  - Cust. Revenue (cu):         100 steps up to 1.00 (99.9th percentile)\n",
      "  - Rental Duration (T):        100 steps up to 76.01 (99.95th percentile)\n",
      "Pre-computing expectations from 100000 customer samples...\n",
      "Starting Numba-accelerated pre-computation of arrival dynamics...\n",
      "Pre-computation complete. ✅\n",
      "\n",
      "Starting Value Iteration...\n",
      "Iteration 10/100 | Max Change (Delta): 0.196933\n",
      "Iteration 20/100 | Max Change (Delta): 0.145176\n",
      "Iteration 30/100 | Max Change (Delta): 0.115872\n",
      "Iteration 40/100 | Max Change (Delta): 0.094205\n",
      "Iteration 50/100 | Max Change (Delta): 0.076944\n",
      "Iteration 60/100 | Max Change (Delta): 0.062911\n",
      "Iteration 70/100 | Max Change (Delta): 0.051451\n",
      "Iteration 80/100 | Max Change (Delta): 0.042081\n",
      "Iteration 90/100 | Max Change (Delta): 0.034418\n"
     ]
    },
    {
     "name": "stderr",
     "output_type": "stream",
     "text": [
      "INFO:root:Policy updated.\n",
      "  6%|▌         | 1168/20000 [01:07<18:06, 17.33it/s]INFO:root:Updating optimal policy...\n"
     ]
    },
    {
     "name": "stdout",
     "output_type": "stream",
     "text": [
      "Iteration 100/100 | Max Change (Delta): 0.028151\n",
      "\n",
      "Value iteration finished (max iterations reached).\n",
      "RUNNING THE L-BFGS-B CODE\n",
      "\n",
      "           * * *\n",
      "\n",
      "Machine precision = 2.220D-16\n",
      " N =            4     M =           10\n",
      "\n",
      "At X0         4 variables are exactly at the bounds\n",
      "\n",
      "At iterate    0    f=  9.72578D+02    |proj g|=  1.00000D+00\n",
      "\n",
      "At iterate    1    f=  9.01151D+02    |proj g|=  6.43879D-01\n",
      "\n",
      "At iterate    2    f=  9.00826D+02    |proj g|=  6.20459D-01\n",
      "\n",
      "At iterate    3    f=  9.00343D+02    |proj g|=  4.40583D-01\n",
      "\n",
      "At iterate    4    f=  9.00312D+02    |proj g|=  2.54764D-01\n",
      "\n",
      "At iterate    5    f=  9.00312D+02    |proj g|=  2.04372D-02\n",
      "\n",
      "At iterate    6    f=  9.00312D+02    |proj g|=  1.38793D-02\n"
     ]
    },
    {
     "name": "stderr",
     "output_type": "stream",
     "text": [
      "INFO:root:Theta updated. New theta_hat: [0.449 0.242 0.438 0.314]\n"
     ]
    },
    {
     "name": "stdout",
     "output_type": "stream",
     "text": [
      "\n",
      "At iterate    7    f=  9.00312D+02    |proj g|=  8.40625D-04\n",
      "\n",
      "           * * *\n",
      "\n",
      "Tit   = total number of iterations\n",
      "Tnf   = total number of function evaluations\n",
      "Tnint = total number of segments explored during Cauchy searches\n",
      "Skip  = number of BFGS updates skipped\n",
      "Nact  = number of active bounds at final generalized Cauchy point\n",
      "Projg = norm of the final projected gradient\n",
      "F     = final function value\n",
      "\n",
      "           * * *\n",
      "\n",
      "   N    Tit     Tnf  Tnint  Skip  Nact     Projg        F\n",
      "    4      7      9     10     0     0   8.406D-04   9.003D+02\n",
      "  F =   900.31178560745582     \n",
      "\n",
      "CONVERGENCE: REL_REDUCTION_OF_F_<=_FACTR*EPSMCH             \n",
      "Discretization setup:\n",
      "  - Cumulative Context (cc):    100 steps up to 8.00\n",
      "  - Cust. Degradation (cx):     50 steps up to 1.00\n",
      "  - Cust. Revenue (cu):         100 steps up to 1.00 (99.9th percentile)\n",
      "  - Rental Duration (T):        100 steps up to 76.01 (99.95th percentile)\n",
      "Pre-computing expectations from 100000 customer samples...\n",
      "Starting Numba-accelerated pre-computation of arrival dynamics...\n",
      "Pre-computation complete. ✅\n",
      "\n",
      "Starting Value Iteration...\n",
      "Iteration 10/100 | Max Change (Delta): 0.203136\n"
     ]
    },
    {
     "name": "stderr",
     "output_type": "stream",
     "text": [
      "  6%|▌         | 1168/20000 [01:20<18:06, 17.33it/s]"
     ]
    },
    {
     "name": "stdout",
     "output_type": "stream",
     "text": [
      "Iteration 20/100 | Max Change (Delta): 0.149383\n",
      "Iteration 30/100 | Max Change (Delta): 0.119233\n",
      "Iteration 40/100 | Max Change (Delta): 0.096875\n",
      "Iteration 50/100 | Max Change (Delta): 0.079103\n",
      "Iteration 60/100 | Max Change (Delta): 0.064671\n",
      "Iteration 70/100 | Max Change (Delta): 0.052889\n",
      "Iteration 80/100 | Max Change (Delta): 0.043257\n",
      "Iteration 90/100 | Max Change (Delta): 0.035380\n"
     ]
    },
    {
     "name": "stderr",
     "output_type": "stream",
     "text": [
      "INFO:root:Policy updated.\n",
      " 14%|█▍        | 2868/20000 [02:17<13:19, 21.42it/s]INFO:root:Updating optimal policy...\n"
     ]
    },
    {
     "name": "stdout",
     "output_type": "stream",
     "text": [
      "Iteration 100/100 | Max Change (Delta): 0.028937\n",
      "\n",
      "Value iteration finished (max iterations reached).\n",
      "RUNNING THE L-BFGS-B CODE\n",
      "\n",
      "           * * *\n",
      "\n",
      "Machine precision = 2.220D-16\n",
      " N =            4     M =           10\n",
      "\n",
      "At X0         4 variables are exactly at the bounds\n",
      "\n",
      "At iterate    0    f=  1.60099D+03    |proj g|=  1.00000D+00\n",
      "\n",
      "At iterate    1    f=  1.50268D+03    |proj g|=  6.49858D-01\n",
      "\n",
      "At iterate    2    f=  1.50213D+03    |proj g|=  6.28269D-01\n",
      "\n",
      "At iterate    3    f=  1.50136D+03    |proj g|=  4.50331D-01\n",
      "\n",
      "At iterate    4    f=  1.50134D+03    |proj g|=  9.81323D-02\n"
     ]
    },
    {
     "name": "stderr",
     "output_type": "stream",
     "text": [
      "INFO:root:Theta updated. New theta_hat: [0.432 0.248 0.446 0.29 ]\n"
     ]
    },
    {
     "name": "stdout",
     "output_type": "stream",
     "text": [
      "\n",
      "At iterate    5    f=  1.50134D+03    |proj g|=  7.30445D-03\n",
      "\n",
      "At iterate    6    f=  1.50134D+03    |proj g|=  3.32608D-03\n",
      "\n",
      "           * * *\n",
      "\n",
      "Tit   = total number of iterations\n",
      "Tnf   = total number of function evaluations\n",
      "Tnint = total number of segments explored during Cauchy searches\n",
      "Skip  = number of BFGS updates skipped\n",
      "Nact  = number of active bounds at final generalized Cauchy point\n",
      "Projg = norm of the final projected gradient\n",
      "F     = final function value\n",
      "\n",
      "           * * *\n",
      "\n",
      "   N    Tit     Tnf  Tnint  Skip  Nact     Projg        F\n",
      "    4      6      8      9     0     0   3.326D-03   1.501D+03\n",
      "  F =   1501.3436822457486     \n",
      "\n",
      "CONVERGENCE: REL_REDUCTION_OF_F_<=_FACTR*EPSMCH             \n",
      "Discretization setup:\n",
      "  - Cumulative Context (cc):    100 steps up to 8.00\n",
      "  - Cust. Degradation (cx):     50 steps up to 1.00\n",
      "  - Cust. Revenue (cu):         100 steps up to 1.00 (99.9th percentile)\n",
      "  - Rental Duration (T):        100 steps up to 76.01 (99.95th percentile)\n",
      "Pre-computing expectations from 100000 customer samples...\n",
      "Starting Numba-accelerated pre-computation of arrival dynamics...\n",
      "Pre-computation complete. ✅\n",
      "\n",
      "Starting Value Iteration...\n",
      "Iteration 10/100 | Max Change (Delta): 0.207100\n"
     ]
    },
    {
     "name": "stderr",
     "output_type": "stream",
     "text": [
      " 14%|█▍        | 2868/20000 [02:30<13:19, 21.42it/s]"
     ]
    },
    {
     "name": "stdout",
     "output_type": "stream",
     "text": [
      "Iteration 20/100 | Max Change (Delta): 0.152203\n",
      "Iteration 30/100 | Max Change (Delta): 0.121388\n",
      "Iteration 40/100 | Max Change (Delta): 0.098575\n",
      "Iteration 50/100 | Max Change (Delta): 0.080478\n",
      "Iteration 60/100 | Max Change (Delta): 0.065792\n",
      "Iteration 70/100 | Max Change (Delta): 0.053805\n",
      "Iteration 80/100 | Max Change (Delta): 0.044006\n",
      "Iteration 90/100 | Max Change (Delta): 0.035992\n"
     ]
    },
    {
     "name": "stderr",
     "output_type": "stream",
     "text": [
      "INFO:root:Policy updated.\n",
      " 22%|██▏       | 4483/20000 [03:26<11:34, 22.35it/s]INFO:root:Updating optimal policy...\n"
     ]
    },
    {
     "name": "stdout",
     "output_type": "stream",
     "text": [
      "Iteration 100/100 | Max Change (Delta): 0.029438\n",
      "\n",
      "Value iteration finished (max iterations reached).\n",
      "RUNNING THE L-BFGS-B CODE\n",
      "\n",
      "           * * *\n",
      "\n",
      "Machine precision = 2.220D-16\n",
      " N =            4     M =           10\n",
      "\n",
      "At X0         4 variables are exactly at the bounds\n",
      "\n",
      "At iterate    0    f=  2.25671D+03    |proj g|=  1.00000D+00\n",
      "\n",
      "At iterate    1    f=  2.13707D+03    |proj g|=  6.71910D-01\n",
      "\n",
      "At iterate    2    f=  2.13517D+03    |proj g|=  6.59025D-01\n",
      "\n",
      "At iterate    3    f=  2.13239D+03    |proj g|=  5.27795D-01\n",
      "\n",
      "At iterate    4    f=  2.13238D+03    |proj g|=  6.37721D-02\n",
      "\n",
      "At iterate    5    f=  2.13238D+03    |proj g|=  8.51204D-03\n",
      "\n",
      "At iterate    6    f=  2.13238D+03    |proj g|=  5.47719D-03\n",
      "\n",
      "           * * *\n",
      "\n",
      "Tit   = total number of iterations\n",
      "Tnf   = total number of function evaluations\n",
      "Tnint = total number of segments explored during Cauchy searches\n",
      "Skip  = number of BFGS updates skipped\n",
      "Nact  = number of active bounds at final generalized Cauchy point\n",
      "Projg = norm of the final projected gradient\n",
      "F     = final function value\n",
      "\n",
      "           * * *\n",
      "\n",
      "   N    Tit     Tnf  Tnint  Skip  Nact     Projg        F\n",
      "    4      6      8      9     0     0   5.477D-03   2.132D+03\n",
      "  F =   2132.3820971989121     \n",
      "\n",
      "CONVERGENCE: REL_REDUCTION_OF_F_<=_FACTR*EPSMCH             \n"
     ]
    },
    {
     "name": "stderr",
     "output_type": "stream",
     "text": [
      "INFO:root:Theta updated. New theta_hat: [0.528 0.15  0.368 0.271]\n"
     ]
    },
    {
     "name": "stdout",
     "output_type": "stream",
     "text": [
      "Discretization setup:\n",
      "  - Cumulative Context (cc):    100 steps up to 8.00\n",
      "  - Cust. Degradation (cx):     50 steps up to 1.00\n",
      "  - Cust. Revenue (cu):         100 steps up to 1.00 (99.9th percentile)\n",
      "  - Rental Duration (T):        100 steps up to 76.01 (99.95th percentile)\n",
      "Pre-computing expectations from 100000 customer samples...\n",
      "Starting Numba-accelerated pre-computation of arrival dynamics...\n",
      "Pre-computation complete. ✅\n",
      "\n",
      "Starting Value Iteration...\n",
      "Iteration 10/100 | Max Change (Delta): 0.222536\n"
     ]
    },
    {
     "name": "stderr",
     "output_type": "stream",
     "text": [
      " 22%|██▏       | 4483/20000 [03:40<11:34, 22.35it/s]"
     ]
    },
    {
     "name": "stdout",
     "output_type": "stream",
     "text": [
      "Iteration 20/100 | Max Change (Delta): 0.163383\n",
      "Iteration 30/100 | Max Change (Delta): 0.129751\n",
      "Iteration 40/100 | Max Change (Delta): 0.105215\n",
      "Iteration 50/100 | Max Change (Delta): 0.085832\n",
      "Iteration 60/100 | Max Change (Delta): 0.070150\n",
      "Iteration 70/100 | Max Change (Delta): 0.057364\n",
      "Iteration 80/100 | Max Change (Delta): 0.046915\n",
      "Iteration 90/100 | Max Change (Delta): 0.038371\n"
     ]
    },
    {
     "name": "stderr",
     "output_type": "stream",
     "text": [
      "INFO:root:Policy updated.\n",
      " 31%|███       | 6104/20000 [04:34<10:06, 22.90it/s]INFO:root:Updating optimal policy...\n"
     ]
    },
    {
     "name": "stdout",
     "output_type": "stream",
     "text": [
      "Iteration 100/100 | Max Change (Delta): 0.031384\n",
      "\n",
      "Value iteration finished (max iterations reached).\n",
      "RUNNING THE L-BFGS-B CODE\n",
      "\n",
      "           * * *\n",
      "\n",
      "Machine precision = 2.220D-16\n",
      " N =            4     M =           10\n",
      "\n",
      "At X0         4 variables are exactly at the bounds\n",
      "\n",
      "At iterate    0    f=  2.92698D+03    |proj g|=  1.00000D+00\n",
      "\n",
      "At iterate    1    f=  2.77113D+03    |proj g|=  6.74899D-01\n",
      "\n",
      "At iterate    2    f=  2.76933D+03    |proj g|=  6.61523D-01\n",
      "\n",
      "At iterate    3    f=  2.76663D+03    |proj g|=  4.98121D-01\n",
      "\n",
      "At iterate    4    f=  2.76662D+03    |proj g|=  1.34657D-01\n",
      "\n",
      "At iterate    5    f=  2.76662D+03    |proj g|=  4.59359D-02\n"
     ]
    },
    {
     "name": "stderr",
     "output_type": "stream",
     "text": [
      "INFO:root:Theta updated. New theta_hat: [0.501 0.17  0.363 0.292]\n"
     ]
    },
    {
     "name": "stdout",
     "output_type": "stream",
     "text": [
      "\n",
      "At iterate    6    f=  2.76662D+03    |proj g|=  1.10313D-02\n",
      "\n",
      "           * * *\n",
      "\n",
      "Tit   = total number of iterations\n",
      "Tnf   = total number of function evaluations\n",
      "Tnint = total number of segments explored during Cauchy searches\n",
      "Skip  = number of BFGS updates skipped\n",
      "Nact  = number of active bounds at final generalized Cauchy point\n",
      "Projg = norm of the final projected gradient\n",
      "F     = final function value\n",
      "\n",
      "           * * *\n",
      "\n",
      "   N    Tit     Tnf  Tnint  Skip  Nact     Projg        F\n",
      "    4      6      8      9     0     0   1.103D-02   2.767D+03\n",
      "  F =   2766.6158718907018     \n",
      "\n",
      "CONVERGENCE: REL_REDUCTION_OF_F_<=_FACTR*EPSMCH             \n",
      "Discretization setup:\n",
      "  - Cumulative Context (cc):    100 steps up to 8.00\n",
      "  - Cust. Degradation (cx):     50 steps up to 1.00\n",
      "  - Cust. Revenue (cu):         100 steps up to 1.00 (99.9th percentile)\n",
      "  - Rental Duration (T):        100 steps up to 76.01 (99.95th percentile)\n",
      "Pre-computing expectations from 100000 customer samples...\n",
      "Starting Numba-accelerated pre-computation of arrival dynamics...\n",
      "Pre-computation complete. ✅\n",
      "\n",
      "Starting Value Iteration...\n",
      "Iteration 10/100 | Max Change (Delta): 0.219164\n"
     ]
    },
    {
     "name": "stderr",
     "output_type": "stream",
     "text": [
      " 31%|███       | 6104/20000 [04:50<10:06, 22.90it/s]"
     ]
    },
    {
     "name": "stdout",
     "output_type": "stream",
     "text": [
      "Iteration 20/100 | Max Change (Delta): 0.160930\n",
      "Iteration 30/100 | Max Change (Delta): 0.127771\n",
      "Iteration 40/100 | Max Change (Delta): 0.103632\n",
      "Iteration 50/100 | Max Change (Delta): 0.084546\n",
      "Iteration 60/100 | Max Change (Delta): 0.069101\n",
      "Iteration 70/100 | Max Change (Delta): 0.056506\n",
      "Iteration 80/100 | Max Change (Delta): 0.046214\n",
      "Iteration 90/100 | Max Change (Delta): 0.037798\n"
     ]
    },
    {
     "name": "stderr",
     "output_type": "stream",
     "text": [
      "INFO:root:Policy updated.\n",
      " 37%|███▋      | 7346/20000 [05:44<10:00, 21.08it/s]INFO:root:Updating optimal policy...\n"
     ]
    },
    {
     "name": "stdout",
     "output_type": "stream",
     "text": [
      "Iteration 100/100 | Max Change (Delta): 0.030915\n",
      "\n",
      "Value iteration finished (max iterations reached).\n",
      "RUNNING THE L-BFGS-B CODE\n",
      "\n",
      "           * * *\n",
      "\n",
      "Machine precision = 2.220D-16\n",
      " N =            4     M =           10\n",
      "\n",
      "At X0         4 variables are exactly at the bounds\n",
      "\n",
      "At iterate    0    f=  3.61772D+03    |proj g|=  1.00000D+00\n",
      "\n",
      "At iterate    1    f=  3.43467D+03    |proj g|=  6.74343D-01\n",
      "\n",
      "At iterate    2    f=  3.43204D+03    |proj g|=  6.55871D-01\n",
      "\n",
      "At iterate    3    f=  3.42810D+03    |proj g|=  5.01855D-01\n",
      "\n",
      "At iterate    4    f=  3.42809D+03    |proj g|=  7.66468D-02\n",
      "\n",
      "At iterate    5    f=  3.42809D+03    |proj g|=  1.21362D-02\n"
     ]
    },
    {
     "name": "stderr",
     "output_type": "stream",
     "text": [
      "INFO:root:Theta updated. New theta_hat: [0.502 0.15  0.398 0.275]\n"
     ]
    },
    {
     "name": "stdout",
     "output_type": "stream",
     "text": [
      "\n",
      "At iterate    6    f=  3.42809D+03    |proj g|=  7.66976D-03\n",
      "\n",
      "           * * *\n",
      "\n",
      "Tit   = total number of iterations\n",
      "Tnf   = total number of function evaluations\n",
      "Tnint = total number of segments explored during Cauchy searches\n",
      "Skip  = number of BFGS updates skipped\n",
      "Nact  = number of active bounds at final generalized Cauchy point\n",
      "Projg = norm of the final projected gradient\n",
      "F     = final function value\n",
      "\n",
      "           * * *\n",
      "\n",
      "   N    Tit     Tnf  Tnint  Skip  Nact     Projg        F\n",
      "    4      6      8      9     0     0   7.670D-03   3.428D+03\n",
      "  F =   3428.0917939788587     \n",
      "\n",
      "CONVERGENCE: REL_REDUCTION_OF_F_<=_FACTR*EPSMCH             \n",
      "Discretization setup:\n",
      "  - Cumulative Context (cc):    100 steps up to 8.00\n",
      "  - Cust. Degradation (cx):     50 steps up to 1.00\n",
      "  - Cust. Revenue (cu):         100 steps up to 1.00 (99.9th percentile)\n",
      "  - Rental Duration (T):        100 steps up to 76.01 (99.95th percentile)\n",
      "Pre-computing expectations from 100000 customer samples...\n",
      "Starting Numba-accelerated pre-computation of arrival dynamics...\n",
      "Pre-computation complete. ✅\n",
      "\n",
      "Starting Value Iteration...\n",
      "Iteration 10/100 | Max Change (Delta): 0.220526\n"
     ]
    },
    {
     "name": "stderr",
     "output_type": "stream",
     "text": [
      " 37%|███▋      | 7346/20000 [06:00<10:00, 21.08it/s]"
     ]
    },
    {
     "name": "stdout",
     "output_type": "stream",
     "text": [
      "Iteration 20/100 | Max Change (Delta): 0.161955\n",
      "Iteration 30/100 | Max Change (Delta): 0.128612\n",
      "Iteration 40/100 | Max Change (Delta): 0.104315\n",
      "Iteration 50/100 | Max Change (Delta): 0.085105\n",
      "Iteration 60/100 | Max Change (Delta): 0.069559\n",
      "Iteration 70/100 | Max Change (Delta): 0.056881\n",
      "Iteration 80/100 | Max Change (Delta): 0.046520\n",
      "Iteration 90/100 | Max Change (Delta): 0.038049\n"
     ]
    },
    {
     "name": "stderr",
     "output_type": "stream",
     "text": [
      "INFO:root:Policy updated.\n",
      " 44%|████▎     | 8712/20000 [06:54<09:11, 20.48it/s]INFO:root:Updating optimal policy...\n"
     ]
    },
    {
     "name": "stdout",
     "output_type": "stream",
     "text": [
      "Iteration 100/100 | Max Change (Delta): 0.031120\n",
      "\n",
      "Value iteration finished (max iterations reached).\n",
      "RUNNING THE L-BFGS-B CODE\n",
      "\n",
      "           * * *\n",
      "\n",
      "Machine precision = 2.220D-16\n",
      " N =            4     M =           10\n",
      "\n",
      "At X0         4 variables are exactly at the bounds\n",
      "\n",
      "At iterate    0    f=  4.32641D+03    |proj g|=  1.00000D+00\n",
      "\n",
      "At iterate    1    f=  4.10292D+03    |proj g|=  6.64891D-01\n",
      "\n",
      "At iterate    2    f=  4.09960D+03    |proj g|=  6.47378D-01\n",
      "\n",
      "At iterate    3    f=  4.09468D+03    |proj g|=  5.19740D-01\n",
      "\n",
      "At iterate    4    f=  4.09467D+03    |proj g|=  9.06817D-02\n",
      "\n",
      "At iterate    5    f=  4.09467D+03    |proj g|=  2.72525D-02\n"
     ]
    },
    {
     "name": "stderr",
     "output_type": "stream",
     "text": [
      "INFO:root:Theta updated. New theta_hat: [0.518 0.157 0.411 0.277]\n"
     ]
    },
    {
     "name": "stdout",
     "output_type": "stream",
     "text": [
      "\n",
      "At iterate    6    f=  4.09467D+03    |proj g|=  1.15550D-02\n",
      "\n",
      "           * * *\n",
      "\n",
      "Tit   = total number of iterations\n",
      "Tnf   = total number of function evaluations\n",
      "Tnint = total number of segments explored during Cauchy searches\n",
      "Skip  = number of BFGS updates skipped\n",
      "Nact  = number of active bounds at final generalized Cauchy point\n",
      "Projg = norm of the final projected gradient\n",
      "F     = final function value\n",
      "\n",
      "           * * *\n",
      "\n",
      "   N    Tit     Tnf  Tnint  Skip  Nact     Projg        F\n",
      "    4      6      8      9     0     0   1.155D-02   4.095D+03\n",
      "  F =   4094.6735186928522     \n",
      "\n",
      "CONVERGENCE: REL_REDUCTION_OF_F_<=_FACTR*EPSMCH             \n",
      "Discretization setup:\n",
      "  - Cumulative Context (cc):    100 steps up to 8.00\n",
      "  - Cust. Degradation (cx):     50 steps up to 1.00\n",
      "  - Cust. Revenue (cu):         100 steps up to 1.00 (99.9th percentile)\n",
      "  - Rental Duration (T):        100 steps up to 76.01 (99.95th percentile)\n",
      "Pre-computing expectations from 100000 customer samples...\n",
      "Starting Numba-accelerated pre-computation of arrival dynamics...\n",
      "Pre-computation complete. ✅\n",
      "\n",
      "Starting Value Iteration...\n",
      "Iteration 10/100 | Max Change (Delta): 0.214520\n"
     ]
    },
    {
     "name": "stderr",
     "output_type": "stream",
     "text": [
      " 44%|████▎     | 8712/20000 [07:10<09:11, 20.48it/s]"
     ]
    },
    {
     "name": "stdout",
     "output_type": "stream",
     "text": [
      "Iteration 20/100 | Max Change (Delta): 0.157652\n",
      "Iteration 30/100 | Max Change (Delta): 0.125440\n",
      "Iteration 40/100 | Max Change (Delta): 0.101815\n",
      "Iteration 50/100 | Max Change (Delta): 0.083099\n",
      "Iteration 60/100 | Max Change (Delta): 0.067928\n",
      "Iteration 70/100 | Max Change (Delta): 0.055550\n",
      "Iteration 80/100 | Max Change (Delta): 0.045433\n",
      "Iteration 90/100 | Max Change (Delta): 0.037160\n"
     ]
    },
    {
     "name": "stderr",
     "output_type": "stream",
     "text": [
      "INFO:root:Policy updated.\n",
      " 51%|█████     | 10115/20000 [08:05<08:08, 20.24it/s]INFO:root:Updating optimal policy...\n"
     ]
    },
    {
     "name": "stdout",
     "output_type": "stream",
     "text": [
      "Iteration 100/100 | Max Change (Delta): 0.030393\n",
      "\n",
      "Value iteration finished (max iterations reached).\n",
      "RUNNING THE L-BFGS-B CODE\n",
      "\n",
      "           * * *\n",
      "\n",
      "Machine precision = 2.220D-16\n",
      " N =            4     M =           10\n",
      "\n",
      "At X0         4 variables are exactly at the bounds\n",
      "\n",
      "At iterate    0    f=  5.04047D+03    |proj g|=  1.00000D+00\n",
      "\n",
      "At iterate    1    f=  4.78948D+03    |proj g|=  6.66620D-01\n",
      "\n",
      "At iterate    2    f=  4.78589D+03    |proj g|=  6.47947D-01\n",
      "\n",
      "At iterate    3    f=  4.78070D+03    |proj g|=  5.06006D-01\n",
      "\n",
      "At iterate    4    f=  4.78070D+03    |proj g|=  7.98528D-02\n"
     ]
    },
    {
     "name": "stderr",
     "output_type": "stream",
     "text": [
      "INFO:root:Theta updated. New theta_hat: [0.504 0.157 0.412 0.283]\n"
     ]
    },
    {
     "name": "stdout",
     "output_type": "stream",
     "text": [
      "\n",
      "At iterate    5    f=  4.78070D+03    |proj g|=  3.01141D-02\n",
      "\n",
      "           * * *\n",
      "\n",
      "Tit   = total number of iterations\n",
      "Tnf   = total number of function evaluations\n",
      "Tnint = total number of segments explored during Cauchy searches\n",
      "Skip  = number of BFGS updates skipped\n",
      "Nact  = number of active bounds at final generalized Cauchy point\n",
      "Projg = norm of the final projected gradient\n",
      "F     = final function value\n",
      "\n",
      "           * * *\n",
      "\n",
      "   N    Tit     Tnf  Tnint  Skip  Nact     Projg        F\n",
      "    4      5      7      8     0     0   3.011D-02   4.781D+03\n",
      "  F =   4780.6994755558044     \n",
      "\n",
      "CONVERGENCE: REL_REDUCTION_OF_F_<=_FACTR*EPSMCH             \n",
      "Discretization setup:\n",
      "  - Cumulative Context (cc):    100 steps up to 8.00\n",
      "  - Cust. Degradation (cx):     50 steps up to 1.00\n",
      "  - Cust. Revenue (cu):         100 steps up to 1.00 (99.9th percentile)\n",
      "  - Rental Duration (T):        100 steps up to 76.01 (99.95th percentile)\n",
      "Pre-computing expectations from 100000 customer samples...\n",
      "Starting Numba-accelerated pre-computation of arrival dynamics...\n",
      "Pre-computation complete. ✅\n",
      "\n",
      "Starting Value Iteration...\n",
      "Iteration 10/100 | Max Change (Delta): 0.214982\n"
     ]
    },
    {
     "name": "stderr",
     "output_type": "stream",
     "text": [
      " 51%|█████     | 10115/20000 [08:20<08:08, 20.24it/s]"
     ]
    },
    {
     "name": "stdout",
     "output_type": "stream",
     "text": [
      "Iteration 20/100 | Max Change (Delta): 0.157953\n",
      "Iteration 30/100 | Max Change (Delta): 0.125622\n",
      "Iteration 40/100 | Max Change (Delta): 0.101956\n",
      "Iteration 50/100 | Max Change (Delta): 0.083210\n",
      "Iteration 60/100 | Max Change (Delta): 0.068018\n",
      "Iteration 70/100 | Max Change (Delta): 0.055623\n",
      "Iteration 80/100 | Max Change (Delta): 0.045492\n",
      "Iteration 90/100 | Max Change (Delta): 0.037208\n"
     ]
    },
    {
     "name": "stderr",
     "output_type": "stream",
     "text": [
      "INFO:root:Policy updated.\n",
      " 56%|█████▋    | 11291/20000 [09:15<07:35, 19.14it/s]INFO:root:Updating optimal policy...\n"
     ]
    },
    {
     "name": "stdout",
     "output_type": "stream",
     "text": [
      "Iteration 100/100 | Max Change (Delta): 0.030432\n",
      "\n",
      "Value iteration finished (max iterations reached).\n",
      "RUNNING THE L-BFGS-B CODE\n",
      "\n",
      "           * * *\n",
      "\n",
      "Machine precision = 2.220D-16\n",
      " N =            4     M =           10\n",
      "\n",
      "At X0         4 variables are exactly at the bounds\n",
      "\n",
      "At iterate    0    f=  5.77709D+03    |proj g|=  1.00000D+00\n",
      "\n",
      "At iterate    1    f=  5.50523D+03    |proj g|=  6.72150D-01\n",
      "\n",
      "At iterate    2    f=  5.50117D+03    |proj g|=  6.59192D-01\n",
      "\n",
      "At iterate    3    f=  5.49552D+03    |proj g|=  5.18000D-01\n",
      "\n",
      "At iterate    4    f=  5.49551D+03    |proj g|=  1.02069D-01\n"
     ]
    },
    {
     "name": "stderr",
     "output_type": "stream",
     "text": [
      "INFO:root:Theta updated. New theta_hat: [0.516 0.165 0.377 0.279]\n"
     ]
    },
    {
     "name": "stdout",
     "output_type": "stream",
     "text": [
      "\n",
      "At iterate    5    f=  5.49551D+03    |proj g|=  5.62107D-02\n",
      "\n",
      "           * * *\n",
      "\n",
      "Tit   = total number of iterations\n",
      "Tnf   = total number of function evaluations\n",
      "Tnint = total number of segments explored during Cauchy searches\n",
      "Skip  = number of BFGS updates skipped\n",
      "Nact  = number of active bounds at final generalized Cauchy point\n",
      "Projg = norm of the final projected gradient\n",
      "F     = final function value\n",
      "\n",
      "           * * *\n",
      "\n",
      "   N    Tit     Tnf  Tnint  Skip  Nact     Projg        F\n",
      "    4      5      7      8     0     0   5.621D-02   5.496D+03\n",
      "  F =   5495.5132404289270     \n",
      "\n",
      "CONVERGENCE: REL_REDUCTION_OF_F_<=_FACTR*EPSMCH             \n",
      "Discretization setup:\n",
      "  - Cumulative Context (cc):    100 steps up to 8.00\n",
      "  - Cust. Degradation (cx):     50 steps up to 1.00\n",
      "  - Cust. Revenue (cu):         100 steps up to 1.00 (99.9th percentile)\n",
      "  - Rental Duration (T):        100 steps up to 76.01 (99.95th percentile)\n",
      "Pre-computing expectations from 100000 customer samples...\n",
      "Starting Numba-accelerated pre-computation of arrival dynamics...\n",
      "Pre-computation complete. ✅\n",
      "\n",
      "Starting Value Iteration...\n",
      "Iteration 10/100 | Max Change (Delta): 0.217919\n"
     ]
    },
    {
     "name": "stderr",
     "output_type": "stream",
     "text": [
      " 56%|█████▋    | 11291/20000 [09:30<07:35, 19.14it/s]"
     ]
    },
    {
     "name": "stdout",
     "output_type": "stream",
     "text": [
      "Iteration 20/100 | Max Change (Delta): 0.160074\n",
      "Iteration 30/100 | Max Change (Delta): 0.127183\n",
      "Iteration 40/100 | Max Change (Delta): 0.103177\n",
      "Iteration 50/100 | Max Change (Delta): 0.084186\n",
      "Iteration 60/100 | Max Change (Delta): 0.068810\n",
      "Iteration 70/100 | Max Change (Delta): 0.056269\n",
      "Iteration 80/100 | Max Change (Delta): 0.046020\n",
      "Iteration 90/100 | Max Change (Delta): 0.037640\n"
     ]
    },
    {
     "name": "stderr",
     "output_type": "stream",
     "text": [
      "INFO:root:Policy updated.\n",
      " 64%|██████▍   | 12802/20000 [10:26<06:03, 19.81it/s]INFO:root:Updating optimal policy...\n"
     ]
    },
    {
     "name": "stdout",
     "output_type": "stream",
     "text": [
      "Iteration 100/100 | Max Change (Delta): 0.030786\n",
      "\n",
      "Value iteration finished (max iterations reached).\n",
      "RUNNING THE L-BFGS-B CODE\n",
      "\n",
      "           * * *\n",
      "\n",
      "Machine precision = 2.220D-16\n",
      " N =            4     M =           10\n",
      "\n",
      "At X0         4 variables are exactly at the bounds\n",
      "\n",
      "At iterate    0    f=  6.54255D+03    |proj g|=  1.00000D+00\n",
      "\n",
      "At iterate    1    f=  6.22455D+03    |proj g|=  6.62250D-01\n",
      "\n",
      "At iterate    2    f=  6.21936D+03    |proj g|=  6.42411D-01\n",
      "\n",
      "At iterate    3    f=  6.21194D+03    |proj g|=  5.19362D-01\n",
      "\n",
      "At iterate    4    f=  6.21193D+03    |proj g|=  1.15018D-01\n",
      "\n",
      "At iterate    5    f=  6.21193D+03    |proj g|=  4.02872D-02\n",
      "\n",
      "           * * *\n",
      "\n",
      "Tit   = total number of iterations\n",
      "Tnf   = total number of function evaluations\n",
      "Tnint = total number of segments explored during Cauchy searches\n",
      "Skip  = number of BFGS updates skipped\n",
      "Nact  = number of active bounds at final generalized Cauchy point\n",
      "Projg = norm of the final projected gradient\n",
      "F     = final function value\n",
      "\n",
      "           * * *\n",
      "\n",
      "   N    Tit     Tnf  Tnint  Skip  Nact     Projg        F\n",
      "    4      5      7      8     0     0   4.029D-02   6.212D+03\n",
      "  F =   6211.9332628678185     \n",
      "\n",
      "CONVERGENCE: REL_REDUCTION_OF_F_<=_FACTR*EPSMCH             \n"
     ]
    },
    {
     "name": "stderr",
     "output_type": "stream",
     "text": [
      "INFO:root:Theta updated. New theta_hat: [0.518 0.144 0.423 0.291]\n"
     ]
    },
    {
     "name": "stdout",
     "output_type": "stream",
     "text": [
      "Discretization setup:\n",
      "  - Cumulative Context (cc):    100 steps up to 8.00\n",
      "  - Cust. Degradation (cx):     50 steps up to 1.00\n",
      "  - Cust. Revenue (cu):         100 steps up to 1.00 (99.9th percentile)\n",
      "  - Rental Duration (T):        100 steps up to 76.01 (99.95th percentile)\n",
      "Pre-computing expectations from 100000 customer samples...\n",
      "Starting Numba-accelerated pre-computation of arrival dynamics...\n",
      "Pre-computation complete. ✅\n",
      "\n",
      "Starting Value Iteration...\n"
     ]
    },
    {
     "name": "stderr",
     "output_type": "stream",
     "text": [
      " 64%|██████▍   | 12802/20000 [10:40<06:03, 19.81it/s]"
     ]
    },
    {
     "name": "stdout",
     "output_type": "stream",
     "text": [
      "Iteration 10/100 | Max Change (Delta): 0.212507\n",
      "Iteration 20/100 | Max Change (Delta): 0.156227\n",
      "Iteration 30/100 | Max Change (Delta): 0.124422\n",
      "Iteration 40/100 | Max Change (Delta): 0.101014\n",
      "Iteration 50/100 | Max Change (Delta): 0.082459\n",
      "Iteration 60/100 | Max Change (Delta): 0.067408\n",
      "Iteration 70/100 | Max Change (Delta): 0.055126\n",
      "Iteration 80/100 | Max Change (Delta): 0.045086\n",
      "Iteration 90/100 | Max Change (Delta): 0.036876\n"
     ]
    },
    {
     "name": "stderr",
     "output_type": "stream",
     "text": [
      "INFO:root:Policy updated.\n",
      " 71%|███████   | 14248/20000 [11:38<04:47, 19.97it/s]INFO:root:Updating optimal policy...\n"
     ]
    },
    {
     "name": "stdout",
     "output_type": "stream",
     "text": [
      "Iteration 100/100 | Max Change (Delta): 0.030161\n",
      "\n",
      "Value iteration finished (max iterations reached).\n",
      "RUNNING THE L-BFGS-B CODE\n",
      "\n",
      "           * * *\n",
      "\n",
      "Machine precision = 2.220D-16\n",
      " N =            4     M =           10\n",
      "\n",
      "At X0         4 variables are exactly at the bounds\n",
      "\n",
      "At iterate    0    f=  7.29810D+03    |proj g|=  1.00000D+00\n",
      "\n",
      "At iterate    1    f=  6.93147D+03    |proj g|=  6.55130D-01\n",
      "\n",
      "At iterate    2    f=  6.92547D+03    |proj g|=  6.37740D-01\n",
      "\n",
      "At iterate    3    f=  6.91702D+03    |proj g|=  5.25235D-01\n",
      "\n",
      "At iterate    4    f=  6.91701D+03    |proj g|=  1.33839D-01\n",
      "\n",
      "At iterate    5    f=  6.91701D+03    |proj g|=  4.51213D-02\n",
      "\n",
      "At iterate    6    f=  6.91701D+03    |proj g|=  1.68231D-02\n",
      "\n",
      "           * * *\n",
      "\n",
      "Tit   = total number of iterations\n",
      "Tnf   = total number of function evaluations\n",
      "Tnint = total number of segments explored during Cauchy searches\n",
      "Skip  = number of BFGS updates skipped\n",
      "Nact  = number of active bounds at final generalized Cauchy point\n",
      "Projg = norm of the final projected gradient\n",
      "F     = final function value\n",
      "\n",
      "           * * *\n",
      "\n",
      "   N    Tit     Tnf  Tnint  Skip  Nact     Projg        F\n",
      "    4      6      8      9     0     0   1.682D-02   6.917D+03\n",
      "  F =   6917.0090427178457     \n",
      "\n",
      "CONVERGENCE: REL_REDUCTION_OF_F_<=_FACTR*EPSMCH             \n"
     ]
    },
    {
     "name": "stderr",
     "output_type": "stream",
     "text": [
      "INFO:root:Theta updated. New theta_hat: [0.524 0.138 0.422 0.321]\n"
     ]
    },
    {
     "name": "stdout",
     "output_type": "stream",
     "text": [
      "Discretization setup:\n",
      "  - Cumulative Context (cc):    100 steps up to 8.00\n",
      "  - Cust. Degradation (cx):     50 steps up to 1.00\n",
      "  - Cust. Revenue (cu):         100 steps up to 1.00 (99.9th percentile)\n",
      "  - Rental Duration (T):        100 steps up to 76.01 (99.95th percentile)\n",
      "Pre-computing expectations from 100000 customer samples...\n",
      "Starting Numba-accelerated pre-computation of arrival dynamics...\n",
      "Pre-computation complete. ✅\n",
      "\n",
      "Starting Value Iteration...\n"
     ]
    },
    {
     "name": "stderr",
     "output_type": "stream",
     "text": [
      " 71%|███████   | 14248/20000 [11:50<04:47, 19.97it/s]"
     ]
    },
    {
     "name": "stdout",
     "output_type": "stream",
     "text": [
      "Iteration 10/100 | Max Change (Delta): 0.208035\n",
      "Iteration 20/100 | Max Change (Delta): 0.153017\n",
      "Iteration 30/100 | Max Change (Delta): 0.122076\n",
      "Iteration 40/100 | Max Change (Delta): 0.099159\n",
      "Iteration 50/100 | Max Change (Delta): 0.080961\n",
      "Iteration 60/100 | Max Change (Delta): 0.066189\n",
      "Iteration 70/100 | Max Change (Delta): 0.054130\n",
      "Iteration 80/100 | Max Change (Delta): 0.044272\n",
      "Iteration 90/100 | Max Change (Delta): 0.036210\n"
     ]
    },
    {
     "name": "stderr",
     "output_type": "stream",
     "text": [
      "INFO:root:Policy updated.\n",
      " 78%|███████▊  | 15614/20000 [12:51<03:44, 19.53it/s]INFO:root:Updating optimal policy...\n"
     ]
    },
    {
     "name": "stdout",
     "output_type": "stream",
     "text": [
      "Iteration 100/100 | Max Change (Delta): 0.029616\n",
      "\n",
      "Value iteration finished (max iterations reached).\n",
      "RUNNING THE L-BFGS-B CODE\n",
      "\n",
      "           * * *\n",
      "\n",
      "Machine precision = 2.220D-16\n",
      " N =            4     M =           10\n",
      "\n",
      "At X0         4 variables are exactly at the bounds\n",
      "\n",
      "At iterate    0    f=  8.07859D+03    |proj g|=  1.00000D+00\n",
      "\n",
      "At iterate    1    f=  7.66827D+03    |proj g|=  6.47244D-01\n",
      "\n",
      "At iterate    2    f=  7.66234D+03    |proj g|=  6.35175D-01\n",
      "\n",
      "At iterate    3    f=  7.65426D+03    |proj g|=  5.37195D-01\n",
      "\n",
      "At iterate    4    f=  7.65426D+03    |proj g|=  1.30805D-01\n",
      "\n",
      "At iterate    5    f=  7.65426D+03    |proj g|=  3.99287D-02\n",
      "\n",
      "           * * *\n",
      "\n",
      "Tit   = total number of iterations\n",
      "Tnf   = total number of function evaluations\n",
      "Tnint = total number of segments explored during Cauchy searches\n",
      "Skip  = number of BFGS updates skipped\n",
      "Nact  = number of active bounds at final generalized Cauchy point\n",
      "Projg = norm of the final projected gradient\n",
      "F     = final function value\n",
      "\n",
      "           * * *\n",
      "\n",
      "   N    Tit     Tnf  Tnint  Skip  Nact     Projg        F\n",
      "    4      5      7      8     0     0   3.993D-02   7.654D+03\n",
      "  F =   7654.2576043309964     \n",
      "\n",
      "CONVERGENCE: REL_REDUCTION_OF_F_<=_FACTR*EPSMCH             \n"
     ]
    },
    {
     "name": "stderr",
     "output_type": "stream",
     "text": [
      "INFO:root:Theta updated. New theta_hat: [0.536 0.169 0.409 0.319]\n"
     ]
    },
    {
     "name": "stdout",
     "output_type": "stream",
     "text": [
      "Discretization setup:\n",
      "  - Cumulative Context (cc):    100 steps up to 8.00\n",
      "  - Cust. Degradation (cx):     50 steps up to 1.00\n",
      "  - Cust. Revenue (cu):         100 steps up to 1.00 (99.9th percentile)\n",
      "  - Rental Duration (T):        100 steps up to 76.01 (99.95th percentile)\n",
      "Pre-computing expectations from 100000 customer samples...\n",
      "Starting Numba-accelerated pre-computation of arrival dynamics...\n",
      "Pre-computation complete. ✅\n",
      "\n",
      "Starting Value Iteration...\n",
      "Iteration 10/100 | Max Change (Delta): 0.204151\n"
     ]
    },
    {
     "name": "stderr",
     "output_type": "stream",
     "text": [
      " 78%|███████▊  | 15614/20000 [13:10<03:44, 19.53it/s]"
     ]
    },
    {
     "name": "stdout",
     "output_type": "stream",
     "text": [
      "Iteration 20/100 | Max Change (Delta): 0.150227\n",
      "Iteration 30/100 | Max Change (Delta): 0.119869\n",
      "Iteration 40/100 | Max Change (Delta): 0.097398\n",
      "Iteration 50/100 | Max Change (Delta): 0.079532\n",
      "Iteration 60/100 | Max Change (Delta): 0.065022\n",
      "Iteration 70/100 | Max Change (Delta): 0.053176\n",
      "Iteration 80/100 | Max Change (Delta): 0.043492\n",
      "Iteration 90/100 | Max Change (Delta): 0.035572\n"
     ]
    },
    {
     "name": "stderr",
     "output_type": "stream",
     "text": [
      "INFO:root:Policy updated.\n",
      " 85%|████████▌ | 17022/20000 [14:05<02:33, 19.38it/s]INFO:root:Updating optimal policy...\n"
     ]
    },
    {
     "name": "stdout",
     "output_type": "stream",
     "text": [
      "Iteration 100/100 | Max Change (Delta): 0.029094\n",
      "\n",
      "Value iteration finished (max iterations reached).\n",
      "RUNNING THE L-BFGS-B CODE\n",
      "\n",
      "           * * *\n",
      "\n",
      "Machine precision = 2.220D-16\n",
      " N =            4     M =           10\n",
      "\n",
      "At X0         4 variables are exactly at the bounds\n",
      "\n",
      "At iterate    0    f=  8.86373D+03    |proj g|=  1.00000D+00\n",
      "\n",
      "At iterate    1    f=  8.43219D+03    |proj g|=  6.52042D-01\n",
      "\n",
      "At iterate    2    f=  8.42537D+03    |proj g|=  6.39380D-01\n",
      "\n",
      "At iterate    3    f=  8.41639D+03    |proj g|=  5.40125D-01\n",
      "\n",
      "At iterate    4    f=  8.41639D+03    |proj g|=  1.40499D-01\n",
      "\n",
      "At iterate    5    f=  8.41639D+03    |proj g|=  4.28065D-02\n",
      "\n",
      "           * * *\n",
      "\n",
      "Tit   = total number of iterations\n",
      "Tnf   = total number of function evaluations\n",
      "Tnint = total number of segments explored during Cauchy searches\n",
      "Skip  = number of BFGS updates skipped\n",
      "Nact  = number of active bounds at final generalized Cauchy point\n",
      "Projg = norm of the final projected gradient\n",
      "F     = final function value\n",
      "\n",
      "           * * *\n",
      "\n",
      "   N    Tit     Tnf  Tnint  Skip  Nact     Projg        F\n",
      "    4      5      7      8     0     0   4.281D-02   8.416D+03\n",
      "  F =   8416.3851739794864     \n",
      "\n",
      "CONVERGENCE: REL_REDUCTION_OF_F_<=_FACTR*EPSMCH             \n"
     ]
    },
    {
     "name": "stderr",
     "output_type": "stream",
     "text": [
      "INFO:root:Theta updated. New theta_hat: [0.539 0.171 0.405 0.303]\n"
     ]
    },
    {
     "name": "stdout",
     "output_type": "stream",
     "text": [
      "Discretization setup:\n",
      "  - Cumulative Context (cc):    100 steps up to 8.00\n",
      "  - Cust. Degradation (cx):     50 steps up to 1.00\n",
      "  - Cust. Revenue (cu):         100 steps up to 1.00 (99.9th percentile)\n",
      "  - Rental Duration (T):        100 steps up to 76.01 (99.95th percentile)\n",
      "Pre-computing expectations from 100000 customer samples...\n",
      "Starting Numba-accelerated pre-computation of arrival dynamics...\n",
      "Pre-computation complete. ✅\n",
      "\n",
      "Starting Value Iteration...\n"
     ]
    },
    {
     "name": "stderr",
     "output_type": "stream",
     "text": [
      " 85%|████████▌ | 17022/20000 [14:20<02:33, 19.38it/s]"
     ]
    },
    {
     "name": "stdout",
     "output_type": "stream",
     "text": [
      "Iteration 10/100 | Max Change (Delta): 0.206245\n",
      "Iteration 20/100 | Max Change (Delta): 0.151683\n",
      "Iteration 30/100 | Max Change (Delta): 0.121011\n",
      "Iteration 40/100 | Max Change (Delta): 0.098303\n",
      "Iteration 50/100 | Max Change (Delta): 0.080265\n",
      "Iteration 60/100 | Max Change (Delta): 0.065620\n",
      "Iteration 70/100 | Max Change (Delta): 0.053665\n",
      "Iteration 80/100 | Max Change (Delta): 0.043891\n",
      "Iteration 90/100 | Max Change (Delta): 0.035899\n"
     ]
    },
    {
     "name": "stderr",
     "output_type": "stream",
     "text": [
      "INFO:root:Policy updated.\n",
      " 92%|█████████▏| 18416/20000 [15:20<01:22, 19.15it/s]INFO:root:Updating optimal policy...\n"
     ]
    },
    {
     "name": "stdout",
     "output_type": "stream",
     "text": [
      "Iteration 100/100 | Max Change (Delta): 0.029362\n",
      "\n",
      "Value iteration finished (max iterations reached).\n",
      "RUNNING THE L-BFGS-B CODE\n",
      "\n",
      "           * * *\n",
      "\n",
      "Machine precision = 2.220D-16\n",
      " N =            4     M =           10\n",
      "\n",
      "At X0         4 variables are exactly at the bounds\n",
      "\n",
      "At iterate    0    f=  9.64702D+03    |proj g|=  1.00000D+00\n",
      "\n",
      "At iterate    1    f=  9.18935D+03    |proj g|=  6.54952D-01\n",
      "\n",
      "At iterate    2    f=  9.18158D+03    |proj g|=  6.41155D-01\n",
      "\n",
      "At iterate    3    f=  9.17154D+03    |proj g|=  5.43855D-01\n",
      "\n",
      "At iterate    4    f=  9.17153D+03    |proj g|=  1.41420D-01\n",
      "\n",
      "At iterate    5    f=  9.17153D+03    |proj g|=  5.46348D-02\n",
      "\n",
      "           * * *\n",
      "\n",
      "Tit   = total number of iterations\n",
      "Tnf   = total number of function evaluations\n",
      "Tnint = total number of segments explored during Cauchy searches\n",
      "Skip  = number of BFGS updates skipped\n",
      "Nact  = number of active bounds at final generalized Cauchy point\n",
      "Projg = norm of the final projected gradient\n",
      "F     = final function value\n",
      "\n",
      "           * * *\n",
      "\n",
      "   N    Tit     Tnf  Tnint  Skip  Nact     Projg        F\n",
      "    4      5      7      8     0     0   5.463D-02   9.172D+03\n",
      "  F =   9171.5310284676707     \n",
      "\n",
      "CONVERGENCE: REL_REDUCTION_OF_F_<=_FACTR*EPSMCH             \n"
     ]
    },
    {
     "name": "stderr",
     "output_type": "stream",
     "text": [
      "INFO:root:Theta updated. New theta_hat: [0.542 0.168 0.401 0.296]\n"
     ]
    },
    {
     "name": "stdout",
     "output_type": "stream",
     "text": [
      "Discretization setup:\n",
      "  - Cumulative Context (cc):    100 steps up to 8.00\n",
      "  - Cust. Degradation (cx):     50 steps up to 1.00\n",
      "  - Cust. Revenue (cu):         100 steps up to 1.00 (99.9th percentile)\n",
      "  - Rental Duration (T):        100 steps up to 76.01 (99.95th percentile)\n",
      "Pre-computing expectations from 100000 customer samples...\n",
      "Starting Numba-accelerated pre-computation of arrival dynamics...\n",
      "Pre-computation complete. ✅\n",
      "\n",
      "Starting Value Iteration...\n",
      "Iteration 10/100 | Max Change (Delta): 0.207324\n"
     ]
    },
    {
     "name": "stderr",
     "output_type": "stream",
     "text": [
      " 92%|█████████▏| 18416/20000 [15:40<01:22, 19.15it/s]"
     ]
    },
    {
     "name": "stdout",
     "output_type": "stream",
     "text": [
      "Iteration 20/100 | Max Change (Delta): 0.152470\n",
      "Iteration 30/100 | Max Change (Delta): 0.121592\n",
      "Iteration 40/100 | Max Change (Delta): 0.098754\n",
      "Iteration 50/100 | Max Change (Delta): 0.080629\n",
      "Iteration 60/100 | Max Change (Delta): 0.065916\n",
      "Iteration 70/100 | Max Change (Delta): 0.053907\n",
      "Iteration 80/100 | Max Change (Delta): 0.044089\n",
      "Iteration 90/100 | Max Change (Delta): 0.036060\n"
     ]
    },
    {
     "name": "stderr",
     "output_type": "stream",
     "text": [
      "INFO:root:Policy updated.\n",
      "100%|██████████| 20000/20000 [16:35<00:00, 20.09it/s]\n",
      "INFO:root:Simulation finished.\n"
     ]
    },
    {
     "name": "stdout",
     "output_type": "stream",
     "text": [
      "Iteration 100/100 | Max Change (Delta): 0.029494\n",
      "\n",
      "Value iteration finished (max iterations reached).\n"
     ]
    }
   ],
   "source": [
    "# simulator.projected_volume_learner.is_terminated = True\n",
    "simulation_data = simulator.run(num_customers=NUM_CUSTOMERS)\n",
    "degradation_df = pd.DataFrame(simulator.degradation_history)\n",
    "simulation_df = pd.DataFrame(simulator.history)"
   ]
  },
  {
   "cell_type": "markdown",
   "id": "2ffaa1c1",
   "metadata": {},
   "source": [
    "### Convergence of $\\hat\\theta$"
   ]
  },
  {
   "cell_type": "code",
   "execution_count": 7,
   "id": "221cf058",
   "metadata": {},
   "outputs": [
    {
     "data": {
      "image/png": "[encoded data removed]",
      "text/plain": [
       "<Figure size 1200x600 with 1 Axes>"
      ]
     },
     "metadata": {},
     "output_type": "display_data"
    }
   ],
   "source": [
    "# simulator = Simulator.load('models/simulator_0914')\n",
    "\n",
    "history = pd.DataFrame(simulator.history)\n",
    "degradation_history = pd.DataFrame(simulator.degradation_history)\n",
    "\n",
    "epsilons = [0.20 * (0.95 ** i) for i in range(len(simulator.theta_updates))]\n",
    "\n",
    "times = []\n",
    "\n",
    "for d in simulator.theta_updates:\n",
    "    idx, theta_hat = d['customer_idx'], d['theta_hat']\n",
    "    time = history[history.customer_id == idx]['calendar_time'].max()\n",
    "    times.append(time)\n",
    "    \n",
    "# plot L2, and L-inf norms of utility updates\n",
    "L2_errors = [np.linalg.norm(update['theta_hat'] - THETA_TRUE) for update in simulator.theta_updates]\n",
    "Linf_errors = [np.linalg.norm(update['theta_hat'] - THETA_TRUE, ord=np.inf) for update in simulator.theta_updates]\n",
    "\n",
    "plt.figure(figsize=(12, 6))\n",
    "plt.plot(times, L2_errors, label='$L_2$ Norm Error', marker='o')\n",
    "plt.plot(times, Linf_errors, label='$L_\\infty$ Norm Error', marker='x')\n",
    "plt.plot(times, epsilons, label='Exploration Rate (ε)', linestyle='--', color='gray')\n",
    "# plt.yscale('log')\n",
    "plt.xlabel('Number of Customers Processed', fontsize=14)\n",
    "plt.ylabel('Error Norm', fontsize=14)\n",
    "\n",
    "plt.title('Convergence of $\\|\\hat{\\\\theta} - \\\\theta\\|$', fontsize=18)\n",
    "plt.legend(fontsize=12)\n",
    "plt.grid(True)\n",
    "plt.savefig('figures/utility_convergence.pdf')\n",
    "plt.show()"
   ]
  },
  {
   "cell_type": "markdown",
   "id": "1c192729",
   "metadata": {},
   "source": [
    "### Convergence of $\\hat u$"
   ]
  },
  {
   "cell_type": "code",
   "execution_count": null,
   "id": "628dd0f7",
   "metadata": {},
   "outputs": [],
   "source": [
    "simulator.utility_updates\n",
    "\n",
    "# plot L2, and L-inf norms of utility updates\n",
    "L2_errors = [np.linalg.norm(update['u_hat'] - UTILITY_TRUE) for update in simulator.utility_updates]\n",
    "Linf_errors = [np.linalg.norm(update['u_hat'] - UTILITY_TRUE, ord=np.inf) for update in simulator.utility_updates]\n",
    "\n",
    "plt.figure(figsize=(12, 6))\n",
    "plt.plot(L2_errors, label='$L_2$ Norm Error', marker='o')\n",
    "plt.plot(Linf_errors, label='$L_\\infty$ Norm Error', marker='x')\n",
    "# plt.yscale('log')\n",
    "plt.xlabel('Number of Customers Processed', fontsize=14)\n",
    "plt.ylabel('Error Norm', fontsize=14)\n",
    "\n",
    "plt.title('Convergence of $\\|\\hat u - u\\|$', fontsize=18)\n",
    "plt.legend(fontsize=12)\n",
    "plt.grid(True)\n",
    "plt.savefig('figures/utility_convergence.pdf')\n",
    "plt.show()"
   ]
  },
  {
   "cell_type": "markdown",
   "id": "211146ca",
   "metadata": {},
   "source": [
    "### Revenue of Online Learner"
   ]
  },
  {
   "cell_type": "code",
   "execution_count": 8,
   "id": "6288559c",
   "metadata": {},
   "outputs": [
    {
     "data": {
      "image/png": "[encoded data removed]",
      "text/plain": [
       "<Figure size 1000x600 with 1 Axes>"
      ]
     },
     "metadata": {},
     "output_type": "display_data"
    }
   ],
   "source": [
    "degradation_df = pd.DataFrame(simulator.degradation_history)\n",
    "simulation_df = pd.DataFrame(simulator.history)\n",
    "\n",
    "simulation_df['net_profit'] = simulation_df['profit'] + simulation_df['loss']\n",
    "simulation_df['cumulative_net_profit'] = simulation_df['net_profit'].cumsum()\n",
    "\n",
    "ax = plt.figure(figsize=(10,6))\n",
    "\n",
    "# plot cumulative profit and loss over time\n",
    "plt.plot(simulation_df['calendar_time'], simulation_df['cumulative_net_profit'], label='Cumulative Net Profit')\n",
    "plt.xlabel('Calendar Time')\n",
    "plt.ylabel('Cumulative Net Profit')\n",
    "plt.title('Cumulative Net Profit Over Time')\n",
    "plt.legend()\n",
    "plt.grid()\n",
    "plt.savefig('figures/cumulative_net_profit_online.pdf')\n",
    "plt.show()"
   ]
  },
  {
   "cell_type": "markdown",
   "id": "dec0fff9",
   "metadata": {},
   "source": [
    "## Training policy under perfect information"
   ]
  },
  {
   "cell_type": "markdown",
   "id": "de203c94",
   "metadata": {},
   "source": [
    "### Revenue of Optimal Policy"
   ]
  },
  {
   "cell_type": "code",
   "execution_count": 9,
   "id": "a8793230",
   "metadata": {},
   "outputs": [
    {
     "name": "stdout",
     "output_type": "stream",
     "text": [
      "Discretization setup:\n",
      "  - Cumulative Context (cc):    100 steps up to 8.00\n",
      "  - Cust. Degradation (cx):     50 steps up to 1.00\n",
      "  - Cust. Revenue (cu):         100 steps up to 1.00 (99.9th percentile)\n",
      "  - Rental Duration (T):        100 steps up to 76.01 (99.95th percentile)\n",
      "Pre-computing expectations from 100000 customer samples...\n",
      "Starting Numba-accelerated pre-computation of arrival dynamics...\n",
      "Pre-computation complete. ✅\n",
      "Pre-computing expectations from 100000 customer samples...\n",
      "Starting Numba-accelerated pre-computation of arrival dynamics...\n",
      "Pre-computation complete. ✅\n",
      "\n",
      "Starting Value Iteration...\n",
      "Iteration 10/150 | Max Change (Delta): 0.209637\n",
      "Iteration 20/150 | Max Change (Delta): 0.154076\n",
      "Iteration 30/150 | Max Change (Delta): 0.122849\n",
      "Iteration 40/150 | Max Change (Delta): 0.099745\n",
      "Iteration 50/150 | Max Change (Delta): 0.081427\n",
      "Iteration 60/150 | Max Change (Delta): 0.066566\n",
      "Iteration 70/150 | Max Change (Delta): 0.054437\n",
      "Iteration 80/150 | Max Change (Delta): 0.044523\n",
      "Iteration 90/150 | Max Change (Delta): 0.036415\n",
      "Iteration 100/150 | Max Change (Delta): 0.029784\n",
      "Iteration 110/150 | Max Change (Delta): 0.024361\n",
      "Iteration 120/150 | Max Change (Delta): 0.019925\n",
      "Iteration 130/150 | Max Change (Delta): 0.016297\n",
      "Iteration 140/150 | Max Change (Delta): 0.013329\n",
      "Iteration 150/150 | Max Change (Delta): 0.010902\n",
      "\n",
      "Value iteration finished (max iterations reached).\n"
     ]
    }
   ],
   "source": [
    "class PerfectDegradationLearner:\n",
    "    def __init__(self, d, theta_true, hazard_model):\n",
    "        self.d = d\n",
    "        self.theta_true = theta_true\n",
    "        self.hazard_model = hazard_model  # Placeholder, not used\n",
    "        \n",
    "    def get_theta(self):\n",
    "        return self.theta_true\n",
    "    \n",
    "    def cum_baseline(self, t):\n",
    "        return self.hazard_model.Lambda_0(t)\n",
    "    \n",
    "    def inverse_cum_baseline(self, u):\n",
    "        return self.hazard_model.Lambda_0_inverse(u)\n",
    "    \n",
    "perfect_degradation_learner = PerfectDegradationLearner(\n",
    "    d=D, \n",
    "    theta_true=THETA_TRUE,\n",
    "    hazard_model=usage_exp_hazard_model,\n",
    ")\n",
    "\n",
    "# N_perfect = [100, 40, 80, 150]\n",
    "\n",
    "perfect_dpagent = DiscretizedDPAgent(\n",
    "    N=simulator.training_hyperparams['N'], # grid sizes [cum_context, context, duration, active_time]\n",
    "    max_cumulative_context=simulator.training_hyperparams['max_cumulative_context'],\n",
    "    # max_active_time=simulator.training_hyperparams['max_active_time'],\n",
    "    u_hat=UTILITY_TRUE,\n",
    "    degradation_learner=perfect_degradation_learner,\n",
    "    customer_generator=customer_gen,\n",
    "    params=simulator.mdp_params,\n",
    ")\n",
    "# perfect_dpagent.run_value_iteration(simulator.training_hyperparams['num_value_iterations'])\n",
    "\n",
    "# weight = torch.load('weights/perfect_dpagent_q_network.pth', map_location=torch.device('cuda'))\n",
    "# perfect_dpagent.q_network.load_state_dict(weight)\n",
    "# perfect_dpagent.q_network.to(perfect_dpagent.device)\n",
    "# perfect_dpagent.q_network.eval()\n",
    "perfect_dpagent._precompute_dynamics(100000)\n",
    "perfect_dpagent.run_value_iteration(150)\n",
    "perfect_policy = perfect_dpagent.get_policy('greedy')"
   ]
  },
  {
   "cell_type": "code",
   "execution_count": 11,
   "id": "ade6b251",
   "metadata": {},
   "outputs": [
    {
     "name": "stderr",
     "output_type": "stream",
     "text": [
      "INFO:root:Starting simulation for 100000 customers...\n",
      "100%|██████████| 100000/100000 [00:02<00:00, 33407.04it/s]\n",
      "INFO:root:Simulation finished.\n"
     ]
    }
   ],
   "source": [
    "simulation_df = pd.DataFrame(simulator.history)\n",
    "# simulator.degradation_learner = perfect_degradation_learner\n",
    "samples = simulator.run_full_exploit(100000, perfect_policy, {'tau': 0.01})\n",
    "samples = pd.DataFrame(samples)\n",
    "\n",
    "simulation_df['net_profit'] = simulation_df['profit'] + simulation_df['loss']\n",
    "simulation_df['cumulative_net_profit'] = simulation_df['net_profit'].cumsum()\n",
    "samples['net_profit'] = samples['profit'] + samples['loss']\n",
    "samples['cumulative_net_profit'] = samples['net_profit'].cumsum()\n",
    "\n",
    "samples['netprofit_per_time'] = samples['cumulative_net_profit'] / samples['calendar_time']\n",
    "simulation_df['netprofit_per_time'] = simulation_df['cumulative_net_profit'] / simulation_df['calendar_time']"
   ]
  },
  {
   "cell_type": "code",
   "execution_count": 19,
   "id": "674b44a1",
   "metadata": {},
   "outputs": [],
   "source": [
    "def calculate_rolling_rate(df, time_col, value_col, window_size):\n",
    "    \"\"\"\n",
    "    Calculates the rate of a value over a rolling time window on irregular time series data.\n",
    "\n",
    "    Args:\n",
    "        df (pd.DataFrame): The input dataframe.\n",
    "        time_col (str): The name of the column with time data.\n",
    "        value_col (str): The name of the column with values to aggregate (e.g., 'net_profit').\n",
    "        window_size (int): The duration of the rolling time window.\n",
    "\n",
    "    Returns:\n",
    "        pd.Series: A series containing the calculated rolling rate for each row.\n",
    "    \"\"\"\n",
    "    # Ensure the dataframe is sorted by time, which is crucial.\n",
    "    df = df.sort_values(time_col).reset_index(drop=True)\n",
    "    \n",
    "    times = df[time_col].values\n",
    "    values = df[value_col].values\n",
    "    \n",
    "    # For each end time `t_i`, find the start time `t_i - window`.\n",
    "    start_times = times - window_size\n",
    "    \n",
    "    # Use searchsorted to find the index where each start_time would be inserted.\n",
    "    # This gives us the starting index of each time window efficiently.\n",
    "    start_indices = np.searchsorted(times, start_times, side='left')\n",
    "    \n",
    "    # Use a cumulative sum to efficiently calculate the sum over any slice [j, i].\n",
    "    value_cumsum = np.cumsum(values)\n",
    "    \n",
    "    # The sum for a window ending at `i` is cumsum[i] - cumsum[start_index - 1].\n",
    "    # We create a shifted cumulative sum array to handle the `start_index - 1` lookup.\n",
    "    shifted_cumsum = np.concatenate(([0], value_cumsum[:-1]))\n",
    "    \n",
    "    # Calculate the sum of values within each rolling window.\n",
    "    window_sums = value_cumsum - shifted_cumsum[start_indices]\n",
    "    \n",
    "    # The rate is the sum of profit in the window divided by the window's duration.\n",
    "    profit_rate = window_sums / window_size\n",
    "    \n",
    "    return pd.Series(profit_rate, index=df.index)\n",
    "\n",
    "\n",
    "# --- 2. Calculate net profit and the rolling rate for each DataFrame ---\n",
    "\n",
    "window_duration = 20000 # Define the time window for the rolling rate\n",
    "\n",
    "for df in [simulation_df, samples]:\n",
    "# for df in [samples]:\n",
    "    df['net_profit'] = df['profit'] + df['loss']\n",
    "    # Add the new 'profit_rate' column using our helper function\n",
    "    df['profit_rate'] = calculate_rolling_rate(df, 'calendar_time', 'net_profit', window_duration)"
   ]
  },
  {
   "cell_type": "code",
   "execution_count": 20,
   "id": "a3a5d8bd",
   "metadata": {},
   "outputs": [
    {
     "data": {
      "image/png": "[encoded data removed]",
      "text/plain": [
       "<Figure size 1000x600 with 1 Axes>"
      ]
     },
     "metadata": {},
     "output_type": "display_data"
    }
   ],
   "source": [
    "# --- 3. Plot the new rolling profit rate ---\n",
    "\n",
    "max_time = min(simulation_df['calendar_time'].max(), samples['calendar_time'].max())\n",
    "samples_plot = samples[(window_duration <= samples['calendar_time']) & (samples['calendar_time'] <= max_time)]\n",
    "simulations_plot = simulation_df[\n",
    "    (window_duration <= simulation_df['calendar_time']) &\n",
    "    (simulation_df['calendar_time'] <= max_time)]\n",
    "\n",
    "\n",
    "plt.figure(figsize=(10, 6))\n",
    "\n",
    "plt.plot(samples_plot['calendar_time'], samples_plot['profit_rate'], label=f'Optimal Policy (Rolling {window_duration} unit avg)')\n",
    "plt.plot(simulations_plot['calendar_time'], simulations_plot['profit_rate'], label=f'Online Learning (Rolling {window_duration} unit avg)')\n",
    "\n",
    "plt.xlabel('Calendar Time')\n",
    "plt.ylabel('Profit Rate (Profit / Time Unit)')\n",
    "plt.title(f'Rolling Profit Rate Over Time (Window = {window_duration} time units)')\n",
    "plt.legend()\n",
    "plt.grid(True)\n",
    "plt.show()"
   ]
  },
  {
   "cell_type": "code",
   "execution_count": null,
   "id": "a07a5571",
   "metadata": {},
   "outputs": [],
   "source": []
  }
 ],
 "metadata": {
  "kernelspec": {
   "display_name": "res",
   "language": "python",
   "name": "python3"
  },
  "language_info": {
   "codemirror_mode": {
    "name": "ipython",
    "version": 3
   },
   "file_extension": ".py",
   "mimetype": "text/x-python",
   "name": "python",
   "nbconvert_exporter": "python",
   "pygments_lexer": "ipython3",
   "version": "3.9.20"
  }
 },
 "nbformat": 4,
 "nbformat_minor": 5
}
