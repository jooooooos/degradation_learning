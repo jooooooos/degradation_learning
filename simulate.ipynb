{
 "cells": [
  {
   "cell_type": "code",
   "execution_count": 1,
   "id": "f1bf8ff4",
   "metadata": {},
   "outputs": [],
   "source": [
    "import pickle\n",
    "import numpy as np\n",
    "import pandas as pd\n",
    "from scipy.optimize import minimize\n",
    "import torch\n",
    "\n",
    "from policy import DPAgent\n",
    "from new_new_policy import DiscretizedDPAgent\n",
    "from simulation import Simulator, CustomerGenerator\n",
    "from hazard_models import ExponentialHazard\n",
    "from utility_learner import ProjectedVolumeLearner, diam\n",
    "from degradation_learner import DegradationLearner\n",
    "from datetime import datetime\n",
    "from pytz import timezone\n",
    "\n",
    "from utils import unit_ball_rejection_sample, correct_signs\n",
    "import matplotlib.pyplot as plt\n",
    "from scipy.stats import gaussian_kde\n",
    "\n",
    "import logging\n",
    "logging.basicConfig(level=logging.INFO)\n",
    "\n",
    "np.set_printoptions(suppress=True)"
   ]
  },
  {
   "cell_type": "code",
   "execution_count": 2,
   "id": "52e08dea",
   "metadata": {},
   "outputs": [],
   "source": [
    "# --- 2. Define Sampling Functions ---\n",
    "# def context_sampler() -> np.ndarray:\n",
    "#     \"\"\"Samples a customer's context vector from a uniform distribution.\"\"\"\n",
    "#     return np.random.uniform(low=0.0, high=1.0, size=D)\n",
    "\n",
    "def context_sampler() -> np.ndarray:\n",
    "    \"\"\"Samples a customer's context vector uniformly from the unit ball.\"\"\"\n",
    "    return np.abs(unit_ball_rejection_sample(D))\n",
    "\n",
    "def rental_sampler() -> float:\n",
    "    \"\"\"Samples a customer's desired rental duration from an exponential distribution.\"\"\"\n",
    "    return np.random.exponential(scale=10.0)\n",
    "\n",
    "def interarrival_sampler() -> float:\n",
    "    \"\"\"Samples the time until the next customer arrives.\"\"\"\n",
    "    return np.random.exponential(scale=5.0)"
   ]
  },
  {
   "cell_type": "code",
   "execution_count": 3,
   "id": "8cc2c2dd",
   "metadata": {},
   "outputs": [],
   "source": [
    "# --- 1. Simulation Configuration ---\n",
    "D = 4                                  # Dimension of context vectors\n",
    "LAMBDA_VAL = 0.001                     # Baseline hazard constant\n",
    "NUM_CUSTOMERS = 40000                   # Total number of customers to simulate, i.e. T\n",
    "\n",
    "# Set a random seed for reproducibility\n",
    "# np.random.seed(41)\n",
    "\n",
    "# Ground truth vectors\n",
    "THETA_TRUE = np.array([0.5, 0.2, 0.4, 0.3])#$, 0.4])    # For degradation\n",
    "UTILITY_TRUE = np.array([0.372450167, 0.10850869, 0.33930126, 0.71356037])\n",
    "\n",
    "# context_sampler()  # For customer's willingness to pay\n",
    "\n",
    "# --- Machine's Pricing Vector 'r' ---\n",
    "# This is a fallback pricing vector, when we don't feed u_hat to calculate_price\n",
    "PRICING_R = np.zeros(D)"
   ]
  },
  {
   "cell_type": "code",
   "execution_count": 4,
   "id": "8e600551",
   "metadata": {},
   "outputs": [],
   "source": [
    "usage_exp_hazard_model = ExponentialHazard(lambda_val=LAMBDA_VAL)\n",
    "# spontaneous_exp_hazard_model = None # ExponentialHazard(lambda_val=0.01)\n",
    "\n",
    "customer_gen = CustomerGenerator(\n",
    "    d=D,\n",
    "    context_sampler=context_sampler,\n",
    "    rental_sampler=rental_sampler,\n",
    "    interarrival_sampler=interarrival_sampler\n",
    ")\n",
    "\n",
    "centroid_params = {\n",
    "    # 'num_samples': 2000,\n",
    "    # 'thin': None,\n",
    "    # 'burn_in': 500 * D ** 2,\n",
    "    # 'tol': 1e-4,\n",
    "    # 'rho_target': 0.01\n",
    "}\n",
    "\n",
    "termination_rule = lambda diameter: diameter < 0.0005  # Example custom termination rule\n",
    "\n",
    "projected_volume_learner = ProjectedVolumeLearner(\n",
    "    T=NUM_CUSTOMERS, \n",
    "    d=D, \n",
    "    centroid_params=centroid_params,\n",
    "    incentive_constant=1.1,\n",
    "    termination_rule=termination_rule,\n",
    ")\n",
    "\n",
    "mdp_params = {\n",
    "    'duration_lambda': 10.0,\n",
    "    'interarrival_lambda': 5.0,\n",
    "    'replacement_cost': 1.5,   # Cost to replace the machine\n",
    "    'failure_cost': 0.75,      # Additional penalty for in-service failure\n",
    "    'holding_cost_rate': 0.02,   # Cost per unit of idle time\n",
    "    'gamma': 0.99,             # Discount factor\n",
    "    'learning_rate': 1e-3,      # Learning rate for the Adam optimizer\n",
    "    'target_update_freq': 10    # How often to update the target network (in iterations)\n",
    "}\n",
    "\n",
    "training_hyperparams = {\n",
    "    # For FQI\n",
    "    'num_iterations': 1, # Number of training iterations per policy update\n",
    "    'dataset_size': 50000,      # Number of transitions to generate for the offline dataset\n",
    "    'batch_size': 256,           # Batch size for training\n",
    "\n",
    "    # For discrete DP\n",
    "    # 'N': [80, 20, 60, 150], # grid sizes [cum_context, context, duration, active_time\n",
    "    'N': [100, 50, 100, 100], # grid sizes [cum_context, context, revenue, duration]\n",
    "    'max_cumulative_context': 8.0,\n",
    "    # 'max_active_time': 150.0,\n",
    "    'num_value_iterations': 100,\n",
    "    \n",
    "}\n",
    "\n",
    "policy_type = 'decaying_epsilon_greedy'\n",
    "policy_kwargs = {\n",
    "    'current_epsilon': 0.10,\n",
    "    'decay_rate': 0.95,\n",
    "    'step': 0,\n",
    "}\n",
    "\n",
    "# Instantiate the Simulator with the new parameters\n",
    "simulator = Simulator(\n",
    "    d=D,\n",
    "    T=NUM_CUSTOMERS,\n",
    "    \n",
    "    theta_true=THETA_TRUE,\n",
    "    utility_true=UTILITY_TRUE,\n",
    "    pricing_r=PRICING_R,\n",
    "    \n",
    "    usage_hazard_model=usage_exp_hazard_model,\n",
    "    customer_generator=customer_gen,\n",
    "    projected_volume_learner=projected_volume_learner,  # Use default ProjectedVolumeLearner\n",
    "    \n",
    "    mdp_params=mdp_params,\n",
    "    discrete_dp=True,\n",
    "    policy_type=policy_type,\n",
    "    training_hyperparams=training_hyperparams,\n",
    "    policy_kwargs=policy_kwargs,\n",
    "    policy_update_threshold=100,\n",
    "    time_normalize=True,\n",
    ")"
   ]
  },
  {
   "cell_type": "code",
   "execution_count": 5,
   "id": "6ab40bba",
   "metadata": {},
   "outputs": [],
   "source": [
    "# # Lets you skip utility exploration with perfect u starting point\n",
    "# simulator.projected_volume_learner.centroids.append(UTILITY_TRUE)\n",
    "# simulator.projected_volume_learner.is_terminated = True\n",
    "# simulator.seen_breakdowns = 2\n",
    "\n",
    "# degradation_learner = DegradationLearner(d=simulator.d)\n",
    "# degradation_learner.theta = np.ones(D) * 0.1\n",
    "# degradation_learner.cum_baseline = lambda x: LAMBDA_VAL * x\n",
    "# degradation_learner.inverse_cum_baseline = lambda y: y / LAMBDA_VAL\n",
    "# simulator.degradation_learner = degradation_learner\n",
    "\n",
    "# # dp_agent = DPAgent(\n",
    "# #     d=simulator.d,\n",
    "# #     u_hat=UTILITY_TRUE,\n",
    "# #     time_normalize=simulator.time_normalize,\n",
    "# #     degradation_learner=simulator.degradation_learner,\n",
    "# #     customer_generator=simulator.customer_generator,\n",
    "# #     params=simulator.mdp_params\n",
    "# # )\n",
    "# # dp_agent.train(**simulator.training_hyperparams)\n",
    "\n",
    "# dp_agent = DiscretizedDPAgent(\n",
    "#     N=training_hyperparams['N'], # grid sizes [cum_context, context, duration, active_time]\n",
    "#     max_cumulative_context=training_hyperparams['max_cumulative_context'],\n",
    "#     # max_active_time=training_hyperparams['max_active_time'],\n",
    "#     u_hat=UTILITY_TRUE,\n",
    "#     degradation_learner=degradation_learner,\n",
    "#     customer_generator=customer_gen,\n",
    "#     params=mdp_params,\n",
    "# )\n",
    "# # dp_agent._precompute_dynamics(num_samples=50000)\n",
    "# dp_agent.run_value_iteration(100)\n",
    "\n",
    "# simulator.dp_agent = dp_agent\n",
    "# simulator.optimal_policy = dp_agent.get_policy(simulator.policy_type)\n",
    "# simulator.breakdowns_since_last_update = 0 # Reset the counter\n"
   ]
  },
  {
   "cell_type": "code",
   "execution_count": 6,
   "id": "5e90ec1a",
   "metadata": {},
   "outputs": [
    {
     "name": "stderr",
     "output_type": "stream",
     "text": [
      "INFO:root:Starting simulation for 40000 customers...\n",
      "  0%|          | 0/40000 [00:00<?, ?it/s]"
     ]
    },
    {
     "name": "stdout",
     "output_type": "stream",
     "text": [
      "Set parameter Username\n"
     ]
    },
    {
     "name": "stderr",
     "output_type": "stream",
     "text": [
      "INFO:gurobipy:Set parameter Username\n"
     ]
    },
    {
     "name": "stdout",
     "output_type": "stream",
     "text": [
      "Set parameter LicenseID to value 2651514\n"
     ]
    },
    {
     "name": "stderr",
     "output_type": "stream",
     "text": [
      "INFO:gurobipy:Set parameter LicenseID to value 2651514\n"
     ]
    },
    {
     "name": "stdout",
     "output_type": "stream",
     "text": [
      "Academic license - for non-commercial use only - expires 2026-04-14\n"
     ]
    },
    {
     "name": "stderr",
     "output_type": "stream",
     "text": [
      "INFO:gurobipy:Academic license - for non-commercial use only - expires 2026-04-14\n",
      "INFO:root:Customer 1: Diameter: 1.0086\n",
      "  0%|          | 1/40000 [00:03<33:49:56,  3.04s/it]INFO:root:Customer 2: Diameter: 0.7669\n",
      "  0%|          | 2/40000 [00:06<35:39:43,  3.21s/it]INFO:root:Customer 3: Diameter: 0.6187\n",
      "  0%|          | 3/40000 [00:09<37:40:16,  3.39s/it]INFO:root:Customer 4: Diameter: 0.6970\n",
      "  0%|          | 4/40000 [00:14<40:35:34,  3.65s/it]INFO:root:Customer 5: Diameter: 0.7711\n",
      "  0%|          | 5/40000 [00:18<43:51:53,  3.95s/it]INFO:root:Customer 5: Diameter: 0.3543\n",
      "  0%|          | 6/40000 [00:23<47:31:16,  4.28s/it]INFO:root:Customer 6: Diameter: 0.3033\n",
      "  0%|          | 7/40000 [00:28<50:53:39,  4.58s/it]INFO:root:Customer 7: Diameter: 0.3848\n",
      "  0%|          | 8/40000 [00:34<54:21:34,  4.89s/it]INFO:root:Customer 8: Diameter: 0.1788\n",
      "  0%|          | 9/40000 [00:40<57:44:32,  5.20s/it]INFO:root:Customer 8: Diameter: 0.1961\n",
      "  0%|          | 10/40000 [00:46<61:38:10,  5.55s/it]INFO:root:Customer 9: Diameter: 0.2035\n",
      "  0%|          | 11/40000 [00:52<64:57:45,  5.85s/it]INFO:root:Customer 10: Diameter: 0.2063\n",
      "  0%|          | 12/40000 [00:59<68:35:46,  6.18s/it]INFO:root:Customer 10: Diameter: 0.2637\n",
      "  0%|          | 13/40000 [01:07<73:11:54,  6.59s/it]INFO:root:Customer 10: Diameter: 0.1479\n",
      "  0%|          | 14/40000 [01:15<77:04:24,  6.94s/it]INFO:root:Customer 10: Diameter: 0.0790\n",
      "  0%|          | 15/40000 [01:23<80:26:41,  7.24s/it]INFO:root:Customer 10: Diameter: 0.1646\n",
      "  0%|          | 16/40000 [01:31<83:52:06,  7.55s/it]INFO:root:Customer 10: Diameter: 0.1429\n",
      "  0%|          | 17/40000 [01:39<87:24:25,  7.87s/it]INFO:root:Customer 10: Diameter: 0.0798\n",
      "  0%|          | 18/40000 [01:48<91:09:19,  8.21s/it]INFO:root:Customer 11: Diameter: 0.0730\n",
      "  0%|          | 19/40000 [01:58<94:41:30,  8.53s/it]INFO:root:Customer 11: Diameter: 0.0424\n",
      "  0%|          | 20/40000 [02:07<97:54:29,  8.82s/it]INFO:root:Customer 12: Diameter: 0.0263\n",
      "  0%|          | 21/40000 [02:17<101:49:42,  9.17s/it]INFO:root:Customer 12: Diameter: 0.0237\n",
      "  0%|          | 22/40000 [02:28<105:54:31,  9.54s/it]INFO:root:Customer 13: Diameter: 0.0300\n",
      "  0%|          | 23/40000 [02:38<109:49:23,  9.89s/it]INFO:root:Customer 13: Diameter: 0.0220\n",
      "  0%|          | 24/40000 [02:49<113:51:47, 10.25s/it]INFO:root:Customer 13: Diameter: 0.0281\n",
      "  0%|          | 25/40000 [03:01<117:01:02, 10.54s/it]INFO:root:Customer 13: Diameter: 0.0109\n",
      "  0%|          | 26/40000 [03:12<120:21:36, 10.84s/it]INFO:root:Customer 13: Diameter: 0.0104\n",
      "  0%|          | 27/40000 [03:24<124:10:26, 11.18s/it]INFO:root:Customer 14: Diameter: 0.0215\n",
      "  0%|          | 28/40000 [03:37<128:21:01, 11.56s/it]INFO:root:Customer 15: Diameter: 0.0165\n",
      "  0%|          | 29/40000 [03:49<132:07:21, 11.90s/it]INFO:root:Customer 16: Diameter: 0.0063\n",
      "  0%|          | 30/40000 [04:02<135:52:28, 12.24s/it]INFO:root:Customer 16: Diameter: 0.0070\n",
      "  0%|          | 31/40000 [04:15<138:41:04, 12.49s/it]INFO:root:Customer 17: Diameter: 0.0062\n",
      "  0%|          | 32/40000 [04:29<142:26:31, 12.83s/it]INFO:root:Customer 17: Diameter: 0.0061\n",
      "  0%|          | 33/40000 [04:43<146:02:40, 13.15s/it]INFO:root:Customer 17: Diameter: 0.0026\n",
      "  0%|          | 34/40000 [04:57<149:07:21, 13.43s/it]INFO:root:Customer 17: Diameter: 0.0051\n",
      "  0%|          | 35/40000 [05:11<152:02:45, 13.70s/it]INFO:root:Customer 17: Diameter: 0.0041\n",
      "  0%|          | 36/40000 [05:26<154:28:11, 13.91s/it]INFO:root:Customer 18: Diameter: 0.0013\n",
      "  0%|          | 37/40000 [05:41<157:48:44, 14.22s/it]INFO:root:Customer 19: Diameter: 0.0029\n",
      "  0%|          | 38/40000 [05:56<161:10:49, 14.52s/it]INFO:root:Customer 20: Diameter: 0.0011\n",
      "  0%|          | 39/40000 [06:11<164:36:17, 14.83s/it]INFO:root:Customer 21: Diameter: 0.0007\n",
      "  0%|          | 40/40000 [06:27<168:03:39, 15.14s/it]INFO:root:Customer 21: Diameter: 0.0010\n",
      "  0%|          | 41/40000 [06:44<171:39:43, 15.47s/it]INFO:root:Customer 21: Diameter: 0.0010\n",
      "  0%|          | 42/40000 [07:00<175:09:37, 15.78s/it]INFO:root:Customer 21: Diameter: 0.0010\n",
      "  0%|          | 43/40000 [07:17<178:06:55, 16.05s/it]INFO:root:Customer 22: Diameter: 0.0006\n",
      "  0%|          | 44/40000 [07:34<180:55:30, 16.30s/it]INFO:root:Customer 23: Diameter: 0.0006\n",
      "  0%|          | 45/40000 [07:51<183:38:40, 16.55s/it]INFO:root:Customer 24: Diameter: 0.0005\n",
      "  0%|          | 46/40000 [08:08<186:35:40, 16.81s/it]INFO:root:Exploration phase completed at customer 25.\n",
      "INFO:root:Updating optimal policy...\n",
      "INFO:root:Theta updated. New theta_hat: [1. 1. 1. 1.]\n"
     ]
    },
    {
     "name": "stdout",
     "output_type": "stream",
     "text": [
      "RUNNING THE L-BFGS-B CODE\n",
      "\n",
      "           * * *\n",
      "\n",
      "Machine precision = 2.220D-16\n",
      " N =            4     M =           10\n",
      "\n",
      "At X0         4 variables are exactly at the bounds\n",
      "\n",
      "At iterate    0    f=  1.79176D+00    |proj g|=  8.70831D-01\n",
      "\n",
      "At iterate    1    f=  7.96113D-01    |proj g|=  2.77455D-01\n",
      "\n",
      "At iterate    2    f=  6.10771D-01    |proj g|=  1.20123D-01\n",
      "\n",
      "At iterate    3    f=  5.70382D-01    |proj g|=  6.70495D-02\n",
      "\n",
      "At iterate    4    f=  5.55564D-01    |proj g|=  0.00000D+00\n",
      "\n",
      "           * * *\n",
      "\n",
      "Tit   = total number of iterations\n",
      "Tnf   = total number of function evaluations\n",
      "Tnint = total number of segments explored during Cauchy searches\n",
      "Skip  = number of BFGS updates skipped\n",
      "Nact  = number of active bounds at final generalized Cauchy point\n",
      "Projg = norm of the final projected gradient\n",
      "F     = final function value\n",
      "\n",
      "           * * *\n",
      "\n",
      "   N    Tit     Tnf  Tnint  Skip  Nact     Projg        F\n",
      "    4      4      5      8     0     4   0.000D+00   5.556D-01\n",
      "  F =  0.55556381420662682     \n",
      "\n",
      "CONVERGENCE: NORM_OF_PROJECTED_GRADIENT_<=_PGTOL            \n",
      "Discretization setup:\n",
      "  - Cumulative Context (cc):    100 steps up to 8.00\n",
      "  - Cust. Degradation (cx):     50 steps up to 1.00\n",
      "  - Cust. Revenue (cu):         100 steps up to 1.00 (99.9th percentile)\n",
      "  - Rental Duration (T):        100 steps up to 76.01 (99.95th percentile)\n",
      "Pre-computing expectations from 100000 customer samples...\n",
      "Starting Numba-accelerated pre-computation of arrival dynamics...\n"
     ]
    },
    {
     "name": "stderr",
     "output_type": "stream",
     "text": [
      "OMP: Info #276: omp_set_nested routine deprecated, please use omp_set_max_active_levels instead.\n"
     ]
    },
    {
     "name": "stdout",
     "output_type": "stream",
     "text": [
      "Pre-computation complete. ✅\n",
      "\n",
      "Starting Value Iteration...\n",
      "Iteration 10/100 | Max Change (Delta): 0.087598\n",
      "Iteration 20/100 | Max Change (Delta): 0.056308\n",
      "Iteration 30/100 | Max Change (Delta): 0.045206\n",
      "Iteration 40/100 | Max Change (Delta): 0.036944\n",
      "Iteration 50/100 | Max Change (Delta): 0.030217\n",
      "Iteration 60/100 | Max Change (Delta): 0.024714\n",
      "Iteration 70/100 | Max Change (Delta): 0.020214\n",
      "Iteration 80/100 | Max Change (Delta): 0.016533\n",
      "Iteration 90/100 | Max Change (Delta): 0.013523\n"
     ]
    },
    {
     "name": "stderr",
     "output_type": "stream",
     "text": [
      "INFO:root:Policy updated.\n",
      " 16%|█▌        | 6371/40000 [09:24<05:48, 96.37it/s]  "
     ]
    },
    {
     "name": "stdout",
     "output_type": "stream",
     "text": [
      "Iteration 100/100 | Max Change (Delta): 0.011060\n",
      "\n",
      "Value iteration finished (max iterations reached).\n"
     ]
    },
    {
     "name": "stderr",
     "output_type": "stream",
     "text": [
      " 23%|██▎       | 9265/40000 [09:24<03:01, 168.97it/s]INFO:root:Updating optimal policy...\n"
     ]
    },
    {
     "name": "stdout",
     "output_type": "stream",
     "text": [
      "RUNNING THE L-BFGS-B CODE\n",
      "\n",
      "           * * *\n",
      "\n",
      "Machine precision = 2.220D-16\n",
      " N =            4     M =           10\n",
      "\n",
      "At X0         4 variables are exactly at the bounds\n",
      "\n",
      "At iterate    0    f=  6.67453D+02    |proj g|=  1.00000D+00\n",
      "\n",
      "At iterate    1    f=  6.51570D+02    |proj g|=  6.26910D-01\n",
      "\n",
      "At iterate    2    f=  6.51391D+02    |proj g|=  6.00406D-01\n",
      "\n",
      "At iterate    3    f=  6.51214D+02    |proj g|=  1.39737D-01\n"
     ]
    },
    {
     "name": "stderr",
     "output_type": "stream",
     "text": [
      "INFO:root:Theta updated. New theta_hat: [0.479 0.489 0.328 0.235]\n"
     ]
    },
    {
     "name": "stdout",
     "output_type": "stream",
     "text": [
      "\n",
      "At iterate    4    f=  6.51213D+02    |proj g|=  2.39726D-02\n",
      "\n",
      "At iterate    5    f=  6.51213D+02    |proj g|=  3.10497D-04\n",
      "\n",
      "At iterate    6    f=  6.51213D+02    |proj g|=  1.04891D-05\n",
      "\n",
      "           * * *\n",
      "\n",
      "Tit   = total number of iterations\n",
      "Tnf   = total number of function evaluations\n",
      "Tnint = total number of segments explored during Cauchy searches\n",
      "Skip  = number of BFGS updates skipped\n",
      "Nact  = number of active bounds at final generalized Cauchy point\n",
      "Projg = norm of the final projected gradient\n",
      "F     = final function value\n",
      "\n",
      "           * * *\n",
      "\n",
      "   N    Tit     Tnf  Tnint  Skip  Nact     Projg        F\n",
      "    4      6      8      9     0     0   1.049D-05   6.512D+02\n",
      "  F =   651.21281063341075     \n",
      "\n",
      "CONVERGENCE: REL_REDUCTION_OF_F_<=_FACTR*EPSMCH             \n",
      "Discretization setup:\n",
      "  - Cumulative Context (cc):    100 steps up to 8.00\n",
      "  - Cust. Degradation (cx):     50 steps up to 1.00\n",
      "  - Cust. Revenue (cu):         100 steps up to 1.00 (99.9th percentile)\n",
      "  - Rental Duration (T):        100 steps up to 76.01 (99.95th percentile)\n",
      "Pre-computing expectations from 100000 customer samples...\n",
      "Starting Numba-accelerated pre-computation of arrival dynamics...\n",
      "Pre-computation complete. ✅\n",
      "\n",
      "Starting Value Iteration...\n",
      "Iteration 10/100 | Max Change (Delta): 0.192925\n"
     ]
    },
    {
     "name": "stderr",
     "output_type": "stream",
     "text": [
      " 23%|██▎       | 9265/40000 [09:40<03:01, 168.97it/s]"
     ]
    },
    {
     "name": "stdout",
     "output_type": "stream",
     "text": [
      "Iteration 20/100 | Max Change (Delta): 0.142682\n",
      "Iteration 30/100 | Max Change (Delta): 0.113987\n",
      "Iteration 40/100 | Max Change (Delta): 0.092720\n",
      "Iteration 50/100 | Max Change (Delta): 0.075741\n",
      "Iteration 60/100 | Max Change (Delta): 0.061931\n",
      "Iteration 70/100 | Max Change (Delta): 0.050650\n",
      "Iteration 80/100 | Max Change (Delta): 0.041426\n",
      "Iteration 90/100 | Max Change (Delta): 0.033883\n"
     ]
    },
    {
     "name": "stderr",
     "output_type": "stream",
     "text": [
      "INFO:root:Policy updated.\n",
      " 25%|██▌       | 10150/40000 [10:52<10:17, 48.31it/s]INFO:root:Updating optimal policy...\n"
     ]
    },
    {
     "name": "stdout",
     "output_type": "stream",
     "text": [
      "Iteration 100/100 | Max Change (Delta): 0.027713\n",
      "\n",
      "Value iteration finished (max iterations reached).\n",
      "RUNNING THE L-BFGS-B CODE\n",
      "\n",
      "           * * *\n",
      "\n",
      "Machine precision = 2.220D-16\n",
      " N =            4     M =           10\n",
      "\n",
      "At X0         4 variables are exactly at the bounds\n",
      "\n",
      "At iterate    0    f=  1.20591D+03    |proj g|=  1.00000D+00\n",
      "\n",
      "At iterate    1    f=  1.14578D+03    |proj g|=  6.15540D-01\n",
      "\n",
      "At iterate    2    f=  1.14492D+03    |proj g|=  5.91263D-01\n",
      "\n",
      "At iterate    3    f=  1.14396D+03    |proj g|=  4.76312D-01\n",
      "\n",
      "At iterate    4    f=  1.14396D+03    |proj g|=  2.76421D-02\n"
     ]
    },
    {
     "name": "stderr",
     "output_type": "stream",
     "text": [
      "INFO:root:Theta updated. New theta_hat: [0.472 0.157 0.453 0.462]\n"
     ]
    },
    {
     "name": "stdout",
     "output_type": "stream",
     "text": [
      "\n",
      "At iterate    5    f=  1.14396D+03    |proj g|=  1.22136D-02\n",
      "\n",
      "At iterate    6    f=  1.14396D+03    |proj g|=  9.97465D-04\n",
      "\n",
      "           * * *\n",
      "\n",
      "Tit   = total number of iterations\n",
      "Tnf   = total number of function evaluations\n",
      "Tnint = total number of segments explored during Cauchy searches\n",
      "Skip  = number of BFGS updates skipped\n",
      "Nact  = number of active bounds at final generalized Cauchy point\n",
      "Projg = norm of the final projected gradient\n",
      "F     = final function value\n",
      "\n",
      "           * * *\n",
      "\n",
      "   N    Tit     Tnf  Tnint  Skip  Nact     Projg        F\n",
      "    4      6      8      9     0     0   9.975D-04   1.144D+03\n",
      "  F =   1143.9601432560478     \n",
      "\n",
      "CONVERGENCE: REL_REDUCTION_OF_F_<=_FACTR*EPSMCH             \n",
      "Discretization setup:\n",
      "  - Cumulative Context (cc):    100 steps up to 8.00\n",
      "  - Cust. Degradation (cx):     50 steps up to 1.00\n",
      "  - Cust. Revenue (cu):         100 steps up to 1.00 (99.9th percentile)\n",
      "  - Rental Duration (T):        100 steps up to 76.01 (99.95th percentile)\n",
      "Pre-computing expectations from 100000 customer samples...\n",
      "Starting Numba-accelerated pre-computation of arrival dynamics...\n",
      "Pre-computation complete. ✅\n",
      "\n",
      "Starting Value Iteration...\n",
      "Iteration 10/100 | Max Change (Delta): 0.187800\n"
     ]
    },
    {
     "name": "stderr",
     "output_type": "stream",
     "text": [
      " 25%|██▌       | 10150/40000 [11:10<10:17, 48.31it/s]"
     ]
    },
    {
     "name": "stdout",
     "output_type": "stream",
     "text": [
      "Iteration 20/100 | Max Change (Delta): 0.138606\n",
      "Iteration 30/100 | Max Change (Delta): 0.110933\n",
      "Iteration 40/100 | Max Change (Delta): 0.090316\n",
      "Iteration 50/100 | Max Change (Delta): 0.073794\n",
      "Iteration 60/100 | Max Change (Delta): 0.060341\n",
      "Iteration 70/100 | Max Change (Delta): 0.049350\n",
      "Iteration 80/100 | Max Change (Delta): 0.040363\n",
      "Iteration 90/100 | Max Change (Delta): 0.033013\n"
     ]
    },
    {
     "name": "stderr",
     "output_type": "stream",
     "text": [
      "INFO:root:Policy updated.\n",
      " 30%|██▉       | 11848/40000 [12:20<14:08, 33.18it/s]INFO:root:Updating optimal policy...\n"
     ]
    },
    {
     "name": "stdout",
     "output_type": "stream",
     "text": [
      "Iteration 100/100 | Max Change (Delta): 0.027002\n",
      "\n",
      "Value iteration finished (max iterations reached).\n",
      "RUNNING THE L-BFGS-B CODE\n",
      "\n",
      "           * * *\n",
      "\n",
      "Machine precision = 2.220D-16\n",
      " N =            4     M =           10\n",
      "\n",
      "At X0         4 variables are exactly at the bounds\n",
      "\n",
      "At iterate    0    f=  1.82116D+03    |proj g|=  1.00000D+00\n",
      "\n",
      "At iterate    1    f=  1.73611D+03    |proj g|=  6.44016D-01\n",
      "\n",
      "At iterate    2    f=  1.73504D+03    |proj g|=  6.07315D-01\n",
      "\n",
      "At iterate    3    f=  1.73401D+03    |proj g|=  4.57777D-01\n",
      "\n",
      "At iterate    4    f=  1.73401D+03    |proj g|=  2.48229D-02\n"
     ]
    },
    {
     "name": "stderr",
     "output_type": "stream",
     "text": [
      "INFO:root:Theta updated. New theta_hat: [0.455 0.273 0.491 0.256]\n"
     ]
    },
    {
     "name": "stdout",
     "output_type": "stream",
     "text": [
      "\n",
      "At iterate    5    f=  1.73401D+03    |proj g|=  1.57530D-02\n",
      "\n",
      "           * * *\n",
      "\n",
      "Tit   = total number of iterations\n",
      "Tnf   = total number of function evaluations\n",
      "Tnint = total number of segments explored during Cauchy searches\n",
      "Skip  = number of BFGS updates skipped\n",
      "Nact  = number of active bounds at final generalized Cauchy point\n",
      "Projg = norm of the final projected gradient\n",
      "F     = final function value\n",
      "\n",
      "           * * *\n",
      "\n",
      "   N    Tit     Tnf  Tnint  Skip  Nact     Projg        F\n",
      "    4      5      7      8     0     0   1.575D-02   1.734D+03\n",
      "  F =   1734.0111875515183     \n",
      "\n",
      "CONVERGENCE: REL_REDUCTION_OF_F_<=_FACTR*EPSMCH             \n",
      "Discretization setup:\n",
      "  - Cumulative Context (cc):    100 steps up to 8.00\n",
      "  - Cust. Degradation (cx):     50 steps up to 1.00\n",
      "  - Cust. Revenue (cu):         100 steps up to 1.00 (99.9th percentile)\n",
      "  - Rental Duration (T):        100 steps up to 76.01 (99.95th percentile)\n",
      "Pre-computing expectations from 100000 customer samples...\n",
      "Starting Numba-accelerated pre-computation of arrival dynamics...\n",
      "Pre-computation complete. ✅\n",
      "\n",
      "Starting Value Iteration...\n",
      "Iteration 10/100 | Max Change (Delta): 0.198596\n"
     ]
    },
    {
     "name": "stderr",
     "output_type": "stream",
     "text": [
      " 30%|██▉       | 11848/40000 [12:40<14:08, 33.18it/s]"
     ]
    },
    {
     "name": "stdout",
     "output_type": "stream",
     "text": [
      "Iteration 20/100 | Max Change (Delta): 0.146262\n",
      "Iteration 30/100 | Max Change (Delta): 0.116828\n",
      "Iteration 40/100 | Max Change (Delta): 0.094975\n",
      "Iteration 50/100 | Max Change (Delta): 0.077570\n",
      "Iteration 60/100 | Max Change (Delta): 0.063423\n",
      "Iteration 70/100 | Max Change (Delta): 0.051870\n",
      "Iteration 80/100 | Max Change (Delta): 0.042423\n",
      "Iteration 90/100 | Max Change (Delta): 0.034698\n"
     ]
    },
    {
     "name": "stderr",
     "output_type": "stream",
     "text": [
      "INFO:root:Policy updated.\n",
      " 34%|███▎      | 13446/40000 [13:54<17:00, 26.02it/s]INFO:root:Updating optimal policy...\n"
     ]
    },
    {
     "name": "stdout",
     "output_type": "stream",
     "text": [
      "Iteration 100/100 | Max Change (Delta): 0.028380\n",
      "\n",
      "Value iteration finished (max iterations reached).\n",
      "RUNNING THE L-BFGS-B CODE\n",
      "\n",
      "           * * *\n",
      "\n",
      "Machine precision = 2.220D-16\n",
      " N =            4     M =           10\n",
      "\n",
      "At X0         4 variables are exactly at the bounds\n",
      "\n",
      "At iterate    0    f=  2.48092D+03    |proj g|=  1.00000D+00\n",
      "\n",
      "At iterate    1    f=  2.36900D+03    |proj g|=  6.51587D-01\n",
      "\n",
      "At iterate    2    f=  2.36801D+03    |proj g|=  6.22750D-01\n",
      "\n",
      "At iterate    3    f=  2.36702D+03    |proj g|=  4.65921D-01\n",
      "\n",
      "At iterate    4    f=  2.36701D+03    |proj g|=  1.51980D-02\n"
     ]
    },
    {
     "name": "stderr",
     "output_type": "stream",
     "text": [
      "INFO:root:Theta updated. New theta_hat: [0.467 0.277 0.43  0.268]\n"
     ]
    },
    {
     "name": "stdout",
     "output_type": "stream",
     "text": [
      "\n",
      "At iterate    5    f=  2.36701D+03    |proj g|=  9.34772D-03\n",
      "\n",
      "           * * *\n",
      "\n",
      "Tit   = total number of iterations\n",
      "Tnf   = total number of function evaluations\n",
      "Tnint = total number of segments explored during Cauchy searches\n",
      "Skip  = number of BFGS updates skipped\n",
      "Nact  = number of active bounds at final generalized Cauchy point\n",
      "Projg = norm of the final projected gradient\n",
      "F     = final function value\n",
      "\n",
      "           * * *\n",
      "\n",
      "   N    Tit     Tnf  Tnint  Skip  Nact     Projg        F\n",
      "    4      5      7      8     0     0   9.348D-03   2.367D+03\n",
      "  F =   2367.0119830577364     \n",
      "\n",
      "CONVERGENCE: REL_REDUCTION_OF_F_<=_FACTR*EPSMCH             \n",
      "Discretization setup:\n",
      "  - Cumulative Context (cc):    100 steps up to 8.00\n",
      "  - Cust. Degradation (cx):     50 steps up to 1.00\n",
      "  - Cust. Revenue (cu):         100 steps up to 1.00 (99.9th percentile)\n",
      "  - Rental Duration (T):        100 steps up to 76.01 (99.95th percentile)\n",
      "Pre-computing expectations from 100000 customer samples...\n",
      "Starting Numba-accelerated pre-computation of arrival dynamics...\n",
      "Pre-computation complete. ✅\n",
      "\n",
      "Starting Value Iteration...\n",
      "Iteration 10/100 | Max Change (Delta): 0.203367\n"
     ]
    },
    {
     "name": "stderr",
     "output_type": "stream",
     "text": [
      " 34%|███▎      | 13446/40000 [14:10<17:00, 26.02it/s]"
     ]
    },
    {
     "name": "stdout",
     "output_type": "stream",
     "text": [
      "Iteration 20/100 | Max Change (Delta): 0.149587\n",
      "Iteration 30/100 | Max Change (Delta): 0.119316\n",
      "Iteration 40/100 | Max Change (Delta): 0.096931\n",
      "Iteration 50/100 | Max Change (Delta): 0.079148\n",
      "Iteration 60/100 | Max Change (Delta): 0.064708\n",
      "Iteration 70/100 | Max Change (Delta): 0.052919\n",
      "Iteration 80/100 | Max Change (Delta): 0.043282\n",
      "Iteration 90/100 | Max Change (Delta): 0.035400\n"
     ]
    },
    {
     "name": "stderr",
     "output_type": "stream",
     "text": [
      "INFO:root:Policy updated.\n",
      " 38%|███▊      | 15156/40000 [15:23<17:35, 23.53it/s]INFO:root:Updating optimal policy...\n"
     ]
    },
    {
     "name": "stdout",
     "output_type": "stream",
     "text": [
      "Iteration 100/100 | Max Change (Delta): 0.028954\n",
      "\n",
      "Value iteration finished (max iterations reached).\n",
      "RUNNING THE L-BFGS-B CODE\n",
      "\n",
      "           * * *\n",
      "\n",
      "Machine precision = 2.220D-16\n",
      " N =            4     M =           10\n",
      "\n",
      "At X0         4 variables are exactly at the bounds\n",
      "\n",
      "At iterate    0    f=  3.16365D+03    |proj g|=  1.00000D+00\n",
      "\n",
      "At iterate    1    f=  3.02605D+03    |proj g|=  6.58372D-01\n",
      "\n",
      "At iterate    2    f=  3.02406D+03    |proj g|=  6.36389D-01\n",
      "\n",
      "At iterate    3    f=  3.02212D+03    |proj g|=  5.04671D-01\n",
      "\n",
      "At iterate    4    f=  3.02211D+03    |proj g|=  4.53497D-02\n"
     ]
    },
    {
     "name": "stderr",
     "output_type": "stream",
     "text": [
      "INFO:root:Theta updated. New theta_hat: [0.504 0.204 0.393 0.318]\n"
     ]
    },
    {
     "name": "stdout",
     "output_type": "stream",
     "text": [
      "\n",
      "At iterate    5    f=  3.02211D+03    |proj g|=  1.81228D-02\n",
      "\n",
      "           * * *\n",
      "\n",
      "Tit   = total number of iterations\n",
      "Tnf   = total number of function evaluations\n",
      "Tnint = total number of segments explored during Cauchy searches\n",
      "Skip  = number of BFGS updates skipped\n",
      "Nact  = number of active bounds at final generalized Cauchy point\n",
      "Projg = norm of the final projected gradient\n",
      "F     = final function value\n",
      "\n",
      "           * * *\n",
      "\n",
      "   N    Tit     Tnf  Tnint  Skip  Nact     Projg        F\n",
      "    4      5      7      8     0     0   1.812D-02   3.022D+03\n",
      "  F =   3022.1137385238139     \n",
      "\n",
      "CONVERGENCE: REL_REDUCTION_OF_F_<=_FACTR*EPSMCH             \n",
      "Discretization setup:\n",
      "  - Cumulative Context (cc):    100 steps up to 8.00\n",
      "  - Cust. Degradation (cx):     50 steps up to 1.00\n",
      "  - Cust. Revenue (cu):         100 steps up to 1.00 (99.9th percentile)\n",
      "  - Rental Duration (T):        100 steps up to 76.01 (99.95th percentile)\n",
      "Pre-computing expectations from 100000 customer samples...\n",
      "Starting Numba-accelerated pre-computation of arrival dynamics...\n",
      "Pre-computation complete. ✅\n",
      "\n",
      "Starting Value Iteration...\n",
      "Iteration 10/100 | Max Change (Delta): 0.206508\n"
     ]
    },
    {
     "name": "stderr",
     "output_type": "stream",
     "text": [
      " 38%|███▊      | 15156/40000 [15:40<17:35, 23.53it/s]"
     ]
    },
    {
     "name": "stdout",
     "output_type": "stream",
     "text": [
      "Iteration 20/100 | Max Change (Delta): 0.151785\n",
      "Iteration 30/100 | Max Change (Delta): 0.121062\n",
      "Iteration 40/100 | Max Change (Delta): 0.098329\n",
      "Iteration 50/100 | Max Change (Delta): 0.080280\n",
      "Iteration 60/100 | Max Change (Delta): 0.065631\n",
      "Iteration 70/100 | Max Change (Delta): 0.053674\n",
      "Iteration 80/100 | Max Change (Delta): 0.043898\n",
      "Iteration 90/100 | Max Change (Delta): 0.035904\n"
     ]
    },
    {
     "name": "stderr",
     "output_type": "stream",
     "text": [
      "INFO:root:Policy updated.\n",
      " 42%|████▏     | 16617/40000 [16:51<18:28, 21.10it/s]INFO:root:Updating optimal policy...\n"
     ]
    },
    {
     "name": "stdout",
     "output_type": "stream",
     "text": [
      "Iteration 100/100 | Max Change (Delta): 0.029366\n",
      "\n",
      "Value iteration finished (max iterations reached).\n",
      "RUNNING THE L-BFGS-B CODE\n",
      "\n",
      "           * * *\n",
      "\n",
      "Machine precision = 2.220D-16\n",
      " N =            4     M =           10\n",
      "\n",
      "At X0         4 variables are exactly at the bounds\n",
      "\n",
      "At iterate    0    f=  3.86939D+03    |proj g|=  1.00000D+00\n",
      "\n",
      "At iterate    1    f=  3.69534D+03    |proj g|=  6.50308D-01\n",
      "\n",
      "At iterate    2    f=  3.69240D+03    |proj g|=  6.28213D-01\n",
      "\n",
      "At iterate    3    f=  3.68943D+03    |proj g|=  5.23491D-01\n",
      "\n",
      "At iterate    4    f=  3.68942D+03    |proj g|=  9.40678D-02\n",
      "\n",
      "At iterate    5    f=  3.68942D+03    |proj g|=  2.23422D-02\n",
      "\n",
      "At iterate    6    f=  3.68942D+03    |proj g|=  1.03990D-02\n",
      "\n",
      "           * * *\n",
      "\n",
      "Tit   = total number of iterations\n",
      "Tnf   = total number of function evaluations\n",
      "Tnint = total number of segments explored during Cauchy searches\n",
      "Skip  = number of BFGS updates skipped\n",
      "Nact  = number of active bounds at final generalized Cauchy point\n",
      "Projg = norm of the final projected gradient\n",
      "F     = final function value\n",
      "\n",
      "           * * *\n",
      "\n",
      "   N    Tit     Tnf  Tnint  Skip  Nact     Projg        F\n",
      "    4      6      8      9     0     0   1.040D-02   3.689D+03\n",
      "  F =   3689.4208559679614     \n",
      "\n",
      "CONVERGENCE: REL_REDUCTION_OF_F_<=_FACTR*EPSMCH             \n"
     ]
    },
    {
     "name": "stderr",
     "output_type": "stream",
     "text": [
      "INFO:root:Theta updated. New theta_hat: [0.522 0.185 0.403 0.337]\n"
     ]
    },
    {
     "name": "stdout",
     "output_type": "stream",
     "text": [
      "Discretization setup:\n",
      "  - Cumulative Context (cc):    100 steps up to 8.00\n",
      "  - Cust. Degradation (cx):     50 steps up to 1.00\n",
      "  - Cust. Revenue (cu):         100 steps up to 1.00 (99.9th percentile)\n",
      "  - Rental Duration (T):        100 steps up to 76.01 (99.95th percentile)\n",
      "Pre-computing expectations from 100000 customer samples...\n",
      "Starting Numba-accelerated pre-computation of arrival dynamics...\n"
     ]
    },
    {
     "name": "stderr",
     "output_type": "stream",
     "text": [
      " 42%|████▏     | 16617/40000 [17:10<18:28, 21.10it/s]"
     ]
    },
    {
     "name": "stdout",
     "output_type": "stream",
     "text": [
      "Pre-computation complete. ✅\n",
      "\n",
      "Starting Value Iteration...\n",
      "Iteration 10/100 | Max Change (Delta): 0.202023\n",
      "Iteration 20/100 | Max Change (Delta): 0.148714\n",
      "Iteration 30/100 | Max Change (Delta): 0.118714\n",
      "Iteration 40/100 | Max Change (Delta): 0.096490\n",
      "Iteration 50/100 | Max Change (Delta): 0.078798\n",
      "Iteration 60/100 | Max Change (Delta): 0.064424\n",
      "Iteration 70/100 | Max Change (Delta): 0.052687\n",
      "Iteration 80/100 | Max Change (Delta): 0.043092\n",
      "Iteration 90/100 | Max Change (Delta): 0.035245\n"
     ]
    },
    {
     "name": "stderr",
     "output_type": "stream",
     "text": [
      "INFO:root:Policy updated.\n",
      " 45%|████▌     | 18091/40000 [18:33<19:34, 18.66it/s]INFO:root:Updating optimal policy...\n"
     ]
    },
    {
     "name": "stdout",
     "output_type": "stream",
     "text": [
      "Iteration 100/100 | Max Change (Delta): 0.028827\n",
      "\n",
      "Value iteration finished (max iterations reached).\n",
      "RUNNING THE L-BFGS-B CODE\n",
      "\n",
      "           * * *\n",
      "\n",
      "Machine precision = 2.220D-16\n",
      " N =            4     M =           10\n",
      "\n",
      "At X0         4 variables are exactly at the bounds\n",
      "\n",
      "At iterate    0    f=  4.60490D+03    |proj g|=  1.00000D+00\n",
      "\n",
      "At iterate    1    f=  4.41203D+03    |proj g|=  6.64058D-01\n"
     ]
    },
    {
     "name": "stderr",
     "output_type": "stream",
     "text": [
      " 45%|████▌     | 18091/40000 [18:50<19:34, 18.66it/s]"
     ]
    },
    {
     "name": "stdout",
     "output_type": "stream",
     "text": [
      "\n",
      "At iterate    2    f=  4.40850D+03    |proj g|=  6.52052D-01\n",
      "\n",
      "At iterate    3    f=  4.40455D+03    |proj g|=  5.31675D-01\n",
      "\n",
      "At iterate    4    f=  4.40454D+03    |proj g|=  6.35790D-02\n",
      "\n",
      "At iterate    5    f=  4.40454D+03    |proj g|=  8.09708D-03\n",
      "\n",
      "           * * *\n",
      "\n",
      "Tit   = total number of iterations\n",
      "Tnf   = total number of function evaluations\n",
      "Tnint = total number of segments explored during Cauchy searches\n",
      "Skip  = number of BFGS updates skipped\n",
      "Nact  = number of active bounds at final generalized Cauchy point\n",
      "Projg = norm of the final projected gradient\n",
      "F     = final function value\n",
      "\n",
      "           * * *\n",
      "\n",
      "   N    Tit     Tnf  Tnint  Skip  Nact     Projg        F\n",
      "    4      5      7      8     0     0   8.097D-03   4.405D+03\n",
      "  F =   4404.5393403475300     \n",
      "\n",
      "CONVERGENCE: REL_REDUCTION_OF_F_<=_FACTR*EPSMCH             \n"
     ]
    },
    {
     "name": "stderr",
     "output_type": "stream",
     "text": [
      "INFO:root:Theta updated. New theta_hat: [0.53  0.165 0.357 0.338]\n"
     ]
    },
    {
     "name": "stdout",
     "output_type": "stream",
     "text": [
      "Discretization setup:\n",
      "  - Cumulative Context (cc):    100 steps up to 8.00\n",
      "  - Cust. Degradation (cx):     50 steps up to 1.00\n",
      "  - Cust. Revenue (cu):         100 steps up to 1.00 (99.9th percentile)\n",
      "  - Rental Duration (T):        100 steps up to 76.01 (99.95th percentile)\n",
      "Pre-computing expectations from 100000 customer samples...\n",
      "Starting Numba-accelerated pre-computation of arrival dynamics...\n",
      "Pre-computation complete. ✅\n",
      "\n",
      "Starting Value Iteration...\n",
      "Iteration 10/100 | Max Change (Delta): 0.209664\n",
      "Iteration 20/100 | Max Change (Delta): 0.154030\n",
      "Iteration 30/100 | Max Change (Delta): 0.122757\n",
      "Iteration 40/100 | Max Change (Delta): 0.099668\n",
      "Iteration 50/100 | Max Change (Delta): 0.081366\n",
      "Iteration 60/100 | Max Change (Delta): 0.066516\n",
      "Iteration 70/100 | Max Change (Delta): 0.054396\n",
      "Iteration 80/100 | Max Change (Delta): 0.044489\n",
      "Iteration 90/100 | Max Change (Delta): 0.036388\n"
     ]
    },
    {
     "name": "stderr",
     "output_type": "stream",
     "text": [
      "INFO:root:Policy updated.\n",
      " 49%|████▉     | 19639/40000 [20:31<20:26, 16.61it/s]INFO:root:Updating optimal policy...\n"
     ]
    },
    {
     "name": "stdout",
     "output_type": "stream",
     "text": [
      "Iteration 100/100 | Max Change (Delta): 0.029762\n",
      "\n",
      "Value iteration finished (max iterations reached).\n",
      "RUNNING THE L-BFGS-B CODE\n",
      "\n",
      "           * * *\n",
      "\n",
      "Machine precision = 2.220D-16\n",
      " N =            4     M =           10\n",
      "\n",
      "At X0         4 variables are exactly at the bounds\n",
      "\n",
      "At iterate    0    f=  5.33467D+03    |proj g|=  1.00000D+00\n",
      "\n",
      "At iterate    1    f=  5.10979D+03    |proj g|=  6.62881D-01\n"
     ]
    },
    {
     "name": "stderr",
     "output_type": "stream",
     "text": [
      " 49%|████▉     | 19639/40000 [20:50<20:26, 16.61it/s]"
     ]
    },
    {
     "name": "stdout",
     "output_type": "stream",
     "text": [
      "\n",
      "At iterate    2    f=  5.10483D+03    |proj g|=  6.51718D-01\n",
      "\n",
      "At iterate    3    f=  5.09914D+03    |proj g|=  5.53360D-01\n",
      "\n",
      "At iterate    4    f=  5.09914D+03    |proj g|=  7.34703D-02\n",
      "\n",
      "At iterate    5    f=  5.09914D+03    |proj g|=  2.65450D-02\n",
      "\n",
      "           * * *\n",
      "\n",
      "Tit   = total number of iterations\n",
      "Tnf   = total number of function evaluations\n",
      "Tnint = total number of segments explored during Cauchy searches\n",
      "Skip  = number of BFGS updates skipped\n",
      "Nact  = number of active bounds at final generalized Cauchy point\n",
      "Projg = norm of the final projected gradient\n",
      "F     = final function value\n",
      "\n",
      "           * * *\n",
      "\n",
      "   N    Tit     Tnf  Tnint  Skip  Nact     Projg        F\n",
      "    4      5      7      8     0     0   2.654D-02   5.099D+03\n",
      "  F =   5099.1374275170811     \n",
      "\n",
      "CONVERGENCE: REL_REDUCTION_OF_F_<=_FACTR*EPSMCH             \n"
     ]
    },
    {
     "name": "stderr",
     "output_type": "stream",
     "text": [
      "INFO:root:Theta updated. New theta_hat: [0.551 0.144 0.357 0.344]\n"
     ]
    },
    {
     "name": "stdout",
     "output_type": "stream",
     "text": [
      "Discretization setup:\n",
      "  - Cumulative Context (cc):    100 steps up to 8.00\n",
      "  - Cust. Degradation (cx):     50 steps up to 1.00\n",
      "  - Cust. Revenue (cu):         100 steps up to 1.00 (99.9th percentile)\n",
      "  - Rental Duration (T):        100 steps up to 76.01 (99.95th percentile)\n",
      "Pre-computing expectations from 100000 customer samples...\n",
      "Starting Numba-accelerated pre-computation of arrival dynamics...\n",
      "Pre-computation complete. ✅\n",
      "\n",
      "Starting Value Iteration...\n",
      "Iteration 10/100 | Max Change (Delta): 0.209439\n",
      "Iteration 20/100 | Max Change (Delta): 0.153950\n",
      "Iteration 30/100 | Max Change (Delta): 0.122768\n",
      "Iteration 40/100 | Max Change (Delta): 0.099710\n",
      "Iteration 50/100 | Max Change (Delta): 0.081407\n",
      "Iteration 60/100 | Max Change (Delta): 0.066552\n",
      "Iteration 70/100 | Max Change (Delta): 0.054427\n",
      "Iteration 80/100 | Max Change (Delta): 0.044514\n",
      "Iteration 90/100 | Max Change (Delta): 0.036408\n"
     ]
    },
    {
     "name": "stderr",
     "output_type": "stream",
     "text": [
      "INFO:root:Policy updated.\n",
      " 52%|█████▏    | 20977/40000 [22:40<22:11, 14.29it/s]INFO:root:Updating optimal policy...\n"
     ]
    },
    {
     "name": "stdout",
     "output_type": "stream",
     "text": [
      "Iteration 100/100 | Max Change (Delta): 0.029778\n",
      "\n",
      "Value iteration finished (max iterations reached).\n",
      "RUNNING THE L-BFGS-B CODE\n",
      "\n",
      "           * * *\n",
      "\n",
      "Machine precision = 2.220D-16\n",
      " N =            4     M =           10\n",
      "\n",
      "At X0         4 variables are exactly at the bounds\n",
      "\n",
      "At iterate    0    f=  6.07092D+03    |proj g|=  1.00000D+00\n"
     ]
    },
    {
     "name": "stderr",
     "output_type": "stream",
     "text": [
      " 52%|█████▏    | 20977/40000 [22:50<22:11, 14.29it/s]"
     ]
    },
    {
     "name": "stdout",
     "output_type": "stream",
     "text": [
      "\n",
      "At iterate    1    f=  5.80928D+03    |proj g|=  6.59724D-01\n",
      "\n",
      "At iterate    2    f=  5.80147D+03    |proj g|=  6.49064D-01\n",
      "\n",
      "At iterate    3    f=  5.79245D+03    |proj g|=  5.83884D-01\n",
      "\n",
      "At iterate    4    f=  5.79244D+03    |proj g|=  1.16317D-01\n",
      "\n",
      "At iterate    5    f=  5.79244D+03    |proj g|=  3.01697D-02\n",
      "\n",
      "At iterate    6    f=  5.79244D+03    |proj g|=  1.45060D-02\n",
      "\n",
      "           * * *\n",
      "\n",
      "Tit   = total number of iterations\n",
      "Tnf   = total number of function evaluations\n",
      "Tnint = total number of segments explored during Cauchy searches\n",
      "Skip  = number of BFGS updates skipped\n",
      "Nact  = number of active bounds at final generalized Cauchy point\n",
      "Projg = norm of the final projected gradient\n",
      "F     = final function value\n",
      "\n",
      "           * * *\n",
      "\n",
      "   N    Tit     Tnf  Tnint  Skip  Nact     Projg        F\n",
      "    4      6      8      9     0     0   1.451D-02   5.792D+03\n",
      "  F =   5792.4390828897695     \n",
      "\n",
      "CONVERGENCE: REL_REDUCTION_OF_F_<=_FACTR*EPSMCH             \n"
     ]
    },
    {
     "name": "stderr",
     "output_type": "stream",
     "text": [
      "INFO:root:Theta updated. New theta_hat: [0.58  0.105 0.373 0.362]\n"
     ]
    },
    {
     "name": "stdout",
     "output_type": "stream",
     "text": [
      "Discretization setup:\n",
      "  - Cumulative Context (cc):    100 steps up to 8.00\n",
      "  - Cust. Degradation (cx):     50 steps up to 1.00\n",
      "  - Cust. Revenue (cu):         100 steps up to 1.00 (99.9th percentile)\n",
      "  - Rental Duration (T):        100 steps up to 76.01 (99.95th percentile)\n",
      "Pre-computing expectations from 100000 customer samples...\n",
      "Starting Numba-accelerated pre-computation of arrival dynamics...\n",
      "Pre-computation complete. ✅\n",
      "\n",
      "Starting Value Iteration...\n",
      "Iteration 10/100 | Max Change (Delta): 0.205337\n",
      "Iteration 20/100 | Max Change (Delta): 0.151122\n",
      "Iteration 30/100 | Max Change (Delta): 0.120615\n",
      "Iteration 40/100 | Max Change (Delta): 0.098021\n",
      "Iteration 50/100 | Max Change (Delta): 0.080045\n",
      "Iteration 60/100 | Max Change (Delta): 0.065443\n",
      "Iteration 70/100 | Max Change (Delta): 0.053521\n",
      "Iteration 80/100 | Max Change (Delta): 0.043774\n",
      "Iteration 90/100 | Max Change (Delta): 0.035802\n"
     ]
    },
    {
     "name": "stderr",
     "output_type": "stream",
     "text": [
      "INFO:root:Policy updated.\n",
      " 56%|█████▌    | 22357/40000 [24:57<22:59, 12.79it/s]INFO:root:Updating optimal policy...\n"
     ]
    },
    {
     "name": "stdout",
     "output_type": "stream",
     "text": [
      "Iteration 100/100 | Max Change (Delta): 0.029283\n",
      "\n",
      "Value iteration finished (max iterations reached).\n",
      "RUNNING THE L-BFGS-B CODE\n",
      "\n",
      "           * * *\n",
      "\n",
      "Machine precision = 2.220D-16\n",
      " N =            4     M =           10\n",
      "\n",
      "At X0         4 variables are exactly at the bounds\n",
      "\n",
      "At iterate    0    f=  6.82740D+03    |proj g|=  1.00000D+00\n"
     ]
    },
    {
     "name": "stderr",
     "output_type": "stream",
     "text": [
      " 56%|█████▌    | 22357/40000 [25:10<22:59, 12.79it/s]"
     ]
    },
    {
     "name": "stdout",
     "output_type": "stream",
     "text": [
      "\n",
      "At iterate    1    f=  6.54199D+03    |proj g|=  6.63482D-01\n",
      "\n",
      "At iterate    2    f=  6.53270D+03    |proj g|=  6.51309D-01\n",
      "\n",
      "At iterate    3    f=  6.52214D+03    |proj g|=  5.77699D-01\n",
      "\n",
      "At iterate    4    f=  6.52212D+03    |proj g|=  1.55899D-01\n",
      "\n",
      "At iterate    5    f=  6.52212D+03    |proj g|=  4.78934D-02\n",
      "\n",
      "At iterate    6    f=  6.52212D+03    |proj g|=  2.19884D-02\n",
      "\n",
      "           * * *\n",
      "\n",
      "Tit   = total number of iterations\n",
      "Tnf   = total number of function evaluations\n",
      "Tnint = total number of segments explored during Cauchy searches\n",
      "Skip  = number of BFGS updates skipped\n",
      "Nact  = number of active bounds at final generalized Cauchy point\n",
      "Projg = norm of the final projected gradient\n",
      "F     = final function value\n",
      "\n",
      "           * * *\n",
      "\n",
      "   N    Tit     Tnf  Tnint  Skip  Nact     Projg        F\n",
      "    4      6      8      9     0     0   2.199D-02   6.522D+03\n",
      "  F =   6522.1212552703018     \n",
      "\n",
      "CONVERGENCE: REL_REDUCTION_OF_F_<=_FACTR*EPSMCH             \n"
     ]
    },
    {
     "name": "stderr",
     "output_type": "stream",
     "text": [
      "INFO:root:Theta updated. New theta_hat: [0.574 0.09  0.379 0.362]\n"
     ]
    },
    {
     "name": "stdout",
     "output_type": "stream",
     "text": [
      "Discretization setup:\n",
      "  - Cumulative Context (cc):    100 steps up to 8.00\n",
      "  - Cust. Degradation (cx):     50 steps up to 1.00\n",
      "  - Cust. Revenue (cu):         100 steps up to 1.00 (99.9th percentile)\n",
      "  - Rental Duration (T):        100 steps up to 76.01 (99.95th percentile)\n",
      "Pre-computing expectations from 100000 customer samples...\n",
      "Starting Numba-accelerated pre-computation of arrival dynamics...\n",
      "Pre-computation complete. ✅\n",
      "\n",
      "Starting Value Iteration...\n",
      "Iteration 10/100 | Max Change (Delta): 0.207974\n",
      "Iteration 20/100 | Max Change (Delta): 0.152977\n",
      "Iteration 30/100 | Max Change (Delta): 0.122069\n",
      "Iteration 40/100 | Max Change (Delta): 0.099180\n",
      "Iteration 50/100 | Max Change (Delta): 0.080986\n",
      "Iteration 60/100 | Max Change (Delta): 0.066211\n",
      "Iteration 70/100 | Max Change (Delta): 0.054149\n",
      "Iteration 80/100 | Max Change (Delta): 0.044287\n",
      "Iteration 90/100 | Max Change (Delta): 0.036222\n"
     ]
    },
    {
     "name": "stderr",
     "output_type": "stream",
     "text": [
      "INFO:root:Policy updated.\n",
      " 59%|█████▉    | 23648/40000 [27:09<23:09, 11.77it/s]INFO:root:Updating optimal policy...\n"
     ]
    },
    {
     "name": "stdout",
     "output_type": "stream",
     "text": [
      "Iteration 100/100 | Max Change (Delta): 0.029626\n",
      "\n",
      "Value iteration finished (max iterations reached).\n",
      "RUNNING THE L-BFGS-B CODE\n",
      "\n",
      "           * * *\n",
      "\n",
      "Machine precision = 2.220D-16\n",
      " N =            4     M =           10\n",
      "\n",
      "At X0         4 variables are exactly at the bounds\n",
      "\n",
      "At iterate    0    f=  7.58203D+03    |proj g|=  1.00000D+00\n",
      "\n",
      "At iterate    1    f=  7.26351D+03    |proj g|=  6.59924D-01\n",
      "\n",
      "At iterate    2    f=  7.25483D+03    |proj g|=  6.51428D-01\n",
      "\n",
      "At iterate    3    f=  7.24540D+03    |proj g|=  5.40758D-01\n",
      "\n",
      "At iterate    4    f=  7.24539D+03    |proj g|=  1.15217D-01\n",
      "\n",
      "At iterate    5    f=  7.24539D+03    |proj g|=  2.59730D-02\n",
      "\n",
      "At iterate    6    f=  7.24539D+03    |proj g|=  1.38238D-02\n",
      "\n",
      "           * * *\n",
      "\n",
      "Tit   = total number of iterations\n",
      "Tnf   = total number of function evaluations\n",
      "Tnint = total number of segments explored during Cauchy searches\n",
      "Skip  = number of BFGS updates skipped\n",
      "Nact  = number of active bounds at final generalized Cauchy point\n",
      "Projg = norm of the final projected gradient\n",
      "F     = final function value\n",
      "\n",
      "           * * *\n",
      "\n",
      "   N    Tit     Tnf  Tnint  Skip  Nact     Projg        F\n",
      "    4      6      8      9     0     0   1.382D-02   7.245D+03\n",
      "  F =   7245.3932747099871     \n",
      "\n",
      "CONVERGENCE: REL_REDUCTION_OF_F_<=_FACTR*EPSMCH             \n"
     ]
    },
    {
     "name": "stderr",
     "output_type": "stream",
     "text": [
      "INFO:root:Theta updated. New theta_hat: [0.537 0.111 0.415 0.352]\n"
     ]
    },
    {
     "name": "stdout",
     "output_type": "stream",
     "text": [
      "Discretization setup:\n",
      "  - Cumulative Context (cc):    100 steps up to 8.00\n",
      "  - Cust. Degradation (cx):     50 steps up to 1.00\n",
      "  - Cust. Revenue (cu):         100 steps up to 1.00 (99.9th percentile)\n",
      "  - Rental Duration (T):        100 steps up to 76.01 (99.95th percentile)\n",
      "Pre-computing expectations from 100000 customer samples...\n",
      "Starting Numba-accelerated pre-computation of arrival dynamics...\n",
      "Pre-computation complete. ✅\n",
      "\n",
      "Starting Value Iteration...\n",
      "Iteration 10/100 | Max Change (Delta): 0.205958\n",
      "Iteration 20/100 | Max Change (Delta): 0.151555\n",
      "Iteration 30/100 | Max Change (Delta): 0.120947\n",
      "Iteration 40/100 | Max Change (Delta): 0.098272\n",
      "Iteration 50/100 | Max Change (Delta): 0.080245\n",
      "Iteration 60/100 | Max Change (Delta): 0.065606\n",
      "Iteration 70/100 | Max Change (Delta): 0.053654\n",
      "Iteration 80/100 | Max Change (Delta): 0.043882\n",
      "Iteration 90/100 | Max Change (Delta): 0.035891\n"
     ]
    },
    {
     "name": "stderr",
     "output_type": "stream",
     "text": [
      "INFO:root:Policy updated.\n",
      " 62%|██████▏   | 24900/40000 [29:35<23:34, 10.68it/s]INFO:root:Updating optimal policy...\n"
     ]
    },
    {
     "name": "stdout",
     "output_type": "stream",
     "text": [
      "Iteration 100/100 | Max Change (Delta): 0.029356\n",
      "\n",
      "Value iteration finished (max iterations reached).\n",
      "RUNNING THE L-BFGS-B CODE\n",
      "\n",
      "           * * *\n",
      "\n",
      "Machine precision = 2.220D-16\n",
      " N =            4     M =           10\n",
      "\n",
      "At X0         4 variables are exactly at the bounds\n",
      "\n",
      "At iterate    0    f=  8.35307D+03    |proj g|=  1.00000D+00\n",
      "\n",
      "At iterate    1    f=  7.99980D+03    |proj g|=  6.57082D-01\n",
      "\n",
      "At iterate    2    f=  7.99022D+03    |proj g|=  6.46832D-01\n",
      "\n",
      "At iterate    3    f=  7.97977D+03    |proj g|=  5.37337D-01\n",
      "\n",
      "At iterate    4    f=  7.97976D+03    |proj g|=  1.38159D-01\n",
      "\n",
      "At iterate    5    f=  7.97976D+03    |proj g|=  2.16032D-02\n",
      "\n",
      "At iterate    6    f=  7.97976D+03    |proj g|=  1.23050D-02\n",
      "\n",
      "           * * *\n",
      "\n",
      "Tit   = total number of iterations\n",
      "Tnf   = total number of function evaluations\n",
      "Tnint = total number of segments explored during Cauchy searches\n",
      "Skip  = number of BFGS updates skipped\n",
      "Nact  = number of active bounds at final generalized Cauchy point\n",
      "Projg = norm of the final projected gradient\n",
      "F     = final function value\n",
      "\n",
      "           * * *\n",
      "\n",
      "   N    Tit     Tnf  Tnint  Skip  Nact     Projg        F\n",
      "    4      6      8      9     0     0   1.230D-02   7.980D+03\n",
      "  F =   7979.7636798484918     \n",
      "\n",
      "CONVERGENCE: REL_REDUCTION_OF_F_<=_FACTR*EPSMCH             \n"
     ]
    },
    {
     "name": "stderr",
     "output_type": "stream",
     "text": [
      "INFO:root:Theta updated. New theta_hat: [0.534 0.108 0.42  0.362]\n"
     ]
    },
    {
     "name": "stdout",
     "output_type": "stream",
     "text": [
      "Discretization setup:\n",
      "  - Cumulative Context (cc):    100 steps up to 8.00\n",
      "  - Cust. Degradation (cx):     50 steps up to 1.00\n",
      "  - Cust. Revenue (cu):         100 steps up to 1.00 (99.9th percentile)\n",
      "  - Rental Duration (T):        100 steps up to 76.01 (99.95th percentile)\n",
      "Pre-computing expectations from 100000 customer samples...\n",
      "Starting Numba-accelerated pre-computation of arrival dynamics...\n",
      "Pre-computation complete. ✅\n",
      "\n",
      "Starting Value Iteration...\n",
      "Iteration 10/100 | Max Change (Delta): 0.204791\n",
      "Iteration 20/100 | Max Change (Delta): 0.150777\n",
      "Iteration 30/100 | Max Change (Delta): 0.120336\n",
      "Iteration 40/100 | Max Change (Delta): 0.097792\n",
      "Iteration 50/100 | Max Change (Delta): 0.079858\n",
      "Iteration 60/100 | Max Change (Delta): 0.065291\n",
      "Iteration 70/100 | Max Change (Delta): 0.053396\n",
      "Iteration 80/100 | Max Change (Delta): 0.043672\n",
      "Iteration 90/100 | Max Change (Delta): 0.035719\n"
     ]
    },
    {
     "name": "stderr",
     "output_type": "stream",
     "text": [
      "INFO:root:Policy updated.\n",
      " 66%|██████▌   | 26327/40000 [32:01<21:57, 10.37it/s]INFO:root:Updating optimal policy...\n"
     ]
    },
    {
     "name": "stdout",
     "output_type": "stream",
     "text": [
      "Iteration 100/100 | Max Change (Delta): 0.029215\n",
      "\n",
      "Value iteration finished (max iterations reached).\n",
      "RUNNING THE L-BFGS-B CODE\n",
      "\n",
      "           * * *\n",
      "\n",
      "Machine precision = 2.220D-16\n",
      " N =            4     M =           10\n",
      "\n",
      "At X0         4 variables are exactly at the bounds\n",
      "\n",
      "At iterate    0    f=  9.12536D+03    |proj g|=  1.00000D+00\n",
      "\n",
      "At iterate    1    f=  8.74786D+03    |proj g|=  6.60933D-01\n",
      "\n",
      "At iterate    2    f=  8.73772D+03    |proj g|=  6.35662D-01\n",
      "\n",
      "At iterate    3    f=  8.72642D+03    |proj g|=  5.40211D-01\n",
      "\n",
      "At iterate    4    f=  8.72641D+03    |proj g|=  1.72322D-01\n",
      "\n",
      "At iterate    5    f=  8.72641D+03    |proj g|=  4.08208D-02\n",
      "\n",
      "At iterate    6    f=  8.72641D+03    |proj g|=  2.16510D-02\n",
      "\n",
      "           * * *\n",
      "\n",
      "Tit   = total number of iterations\n",
      "Tnf   = total number of function evaluations\n",
      "Tnint = total number of segments explored during Cauchy searches\n",
      "Skip  = number of BFGS updates skipped\n",
      "Nact  = number of active bounds at final generalized Cauchy point\n",
      "Projg = norm of the final projected gradient\n",
      "F     = final function value\n",
      "\n",
      "           * * *\n",
      "\n",
      "   N    Tit     Tnf  Tnint  Skip  Nact     Projg        F\n",
      "    4      6      8      9     0     0   2.165D-02   8.726D+03\n",
      "  F =   8726.4072543003858     \n",
      "\n",
      "CONVERGENCE: REL_REDUCTION_OF_F_<=_FACTR*EPSMCH             \n"
     ]
    },
    {
     "name": "stderr",
     "output_type": "stream",
     "text": [
      "INFO:root:Theta updated. New theta_hat: [0.537 0.113 0.421 0.338]\n"
     ]
    },
    {
     "name": "stdout",
     "output_type": "stream",
     "text": [
      "Discretization setup:\n",
      "  - Cumulative Context (cc):    100 steps up to 8.00\n",
      "  - Cust. Degradation (cx):     50 steps up to 1.00\n",
      "  - Cust. Revenue (cu):         100 steps up to 1.00 (99.9th percentile)\n",
      "  - Rental Duration (T):        100 steps up to 76.01 (99.95th percentile)\n",
      "Pre-computing expectations from 100000 customer samples...\n",
      "Starting Numba-accelerated pre-computation of arrival dynamics...\n",
      "Pre-computation complete. ✅\n",
      "\n",
      "Starting Value Iteration...\n",
      "Iteration 10/100 | Max Change (Delta): 0.207014\n",
      "Iteration 20/100 | Max Change (Delta): 0.152302\n",
      "Iteration 30/100 | Max Change (Delta): 0.121545\n",
      "Iteration 40/100 | Max Change (Delta): 0.098751\n",
      "Iteration 50/100 | Max Change (Delta): 0.080634\n",
      "Iteration 60/100 | Max Change (Delta): 0.065923\n",
      "Iteration 70/100 | Max Change (Delta): 0.053913\n",
      "Iteration 80/100 | Max Change (Delta): 0.044094\n",
      "Iteration 90/100 | Max Change (Delta): 0.036065\n"
     ]
    },
    {
     "name": "stderr",
     "output_type": "stream",
     "text": [
      "INFO:root:Policy updated.\n",
      " 69%|██████▉   | 27625/40000 [34:55<22:05,  9.33it/s]INFO:root:Updating optimal policy...\n"
     ]
    },
    {
     "name": "stdout",
     "output_type": "stream",
     "text": [
      "Iteration 100/100 | Max Change (Delta): 0.029497\n",
      "\n",
      "Value iteration finished (max iterations reached).\n",
      "RUNNING THE L-BFGS-B CODE\n",
      "\n",
      "           * * *\n",
      "\n",
      "Machine precision = 2.220D-16\n",
      " N =            4     M =           10\n",
      "\n",
      "At X0         4 variables are exactly at the bounds\n",
      "\n",
      "At iterate    0    f=  9.92858D+03    |proj g|=  1.00000D+00\n",
      "\n",
      "At iterate    1    f=  9.51702D+03    |proj g|=  6.60340D-01\n",
      "\n",
      "At iterate    2    f=  9.50632D+03    |proj g|=  6.50753D-01\n",
      "\n",
      "At iterate    3    f=  9.49432D+03    |proj g|=  5.29354D-01\n",
      "\n",
      "At iterate    4    f=  9.49431D+03    |proj g|=  1.77108D-01\n",
      "\n",
      "At iterate    5    f=  9.49431D+03    |proj g|=  5.57563D-02\n",
      "\n",
      "At iterate    6    f=  9.49431D+03    |proj g|=  2.60682D-02\n",
      "\n",
      "           * * *\n",
      "\n",
      "Tit   = total number of iterations\n",
      "Tnf   = total number of function evaluations\n",
      "Tnint = total number of segments explored during Cauchy searches\n",
      "Skip  = number of BFGS updates skipped\n",
      "Nact  = number of active bounds at final generalized Cauchy point\n",
      "Projg = norm of the final projected gradient\n",
      "F     = final function value\n",
      "\n",
      "           * * *\n",
      "\n",
      "   N    Tit     Tnf  Tnint  Skip  Nact     Projg        F\n",
      "    4      6      8      9     0     0   2.607D-02   9.494D+03\n",
      "  F =   9494.3067125092584     \n",
      "\n",
      "CONVERGENCE: REL_REDUCTION_OF_F_<=_FACTR*EPSMCH             \n"
     ]
    },
    {
     "name": "stderr",
     "output_type": "stream",
     "text": [
      "INFO:root:Theta updated. New theta_hat: [0.526 0.109 0.423 0.354]\n"
     ]
    },
    {
     "name": "stdout",
     "output_type": "stream",
     "text": [
      "Discretization setup:\n",
      "  - Cumulative Context (cc):    100 steps up to 8.00\n",
      "  - Cust. Degradation (cx):     50 steps up to 1.00\n",
      "  - Cust. Revenue (cu):         100 steps up to 1.00 (99.9th percentile)\n",
      "  - Rental Duration (T):        100 steps up to 76.01 (99.95th percentile)\n",
      "Pre-computing expectations from 100000 customer samples...\n",
      "Starting Numba-accelerated pre-computation of arrival dynamics...\n",
      "Pre-computation complete. ✅\n",
      "\n",
      "Starting Value Iteration...\n",
      "Iteration 10/100 | Max Change (Delta): 0.205927\n",
      "Iteration 20/100 | Max Change (Delta): 0.151442\n",
      "Iteration 30/100 | Max Change (Delta): 0.120848\n",
      "Iteration 40/100 | Max Change (Delta): 0.098182\n",
      "Iteration 50/100 | Max Change (Delta): 0.080170\n",
      "Iteration 60/100 | Max Change (Delta): 0.065543\n",
      "Iteration 70/100 | Max Change (Delta): 0.053602\n",
      "Iteration 80/100 | Max Change (Delta): 0.043840\n",
      "Iteration 90/100 | Max Change (Delta): 0.035857\n"
     ]
    },
    {
     "name": "stderr",
     "output_type": "stream",
     "text": [
      "INFO:root:Policy updated.\n",
      " 72%|███████▏  | 28973/40000 [38:18<22:03,  8.33it/s]INFO:root:Updating optimal policy...\n"
     ]
    },
    {
     "name": "stdout",
     "output_type": "stream",
     "text": [
      "Iteration 100/100 | Max Change (Delta): 0.029328\n",
      "\n",
      "Value iteration finished (max iterations reached).\n",
      "RUNNING THE L-BFGS-B CODE\n",
      "\n",
      "           * * *\n",
      "\n",
      "Machine precision = 2.220D-16\n",
      " N =            4     M =           10\n",
      "\n",
      "At X0         4 variables are exactly at the bounds\n",
      "\n",
      "At iterate    0    f=  1.07188D+04    |proj g|=  1.00000D+00\n",
      "\n",
      "At iterate    1    f=  1.02730D+04    |proj g|=  6.60004D-01\n",
      "\n",
      "At iterate    2    f=  1.02621D+04    |proj g|=  6.48299D-01\n",
      "\n",
      "At iterate    3    f=  1.02498D+04    |proj g|=  5.21317D-01\n",
      "\n",
      "At iterate    4    f=  1.02498D+04    |proj g|=  1.62503D-01\n",
      "\n",
      "At iterate    5    f=  1.02498D+04    |proj g|=  3.89481D-02\n",
      "\n",
      "At iterate    6    f=  1.02498D+04    |proj g|=  2.14124D-02\n",
      "\n",
      "           * * *\n",
      "\n",
      "Tit   = total number of iterations\n",
      "Tnf   = total number of function evaluations\n",
      "Tnint = total number of segments explored during Cauchy searches\n",
      "Skip  = number of BFGS updates skipped\n",
      "Nact  = number of active bounds at final generalized Cauchy point\n",
      "Projg = norm of the final projected gradient\n",
      "F     = final function value\n",
      "\n",
      "           * * *\n",
      "\n",
      "   N    Tit     Tnf  Tnint  Skip  Nact     Projg        F\n",
      "    4      6      8      9     0     0   2.141D-02   1.025D+04\n",
      "  F =   10249.836306444367     \n",
      "\n",
      "CONVERGENCE: REL_REDUCTION_OF_F_<=_FACTR*EPSMCH             \n"
     ]
    },
    {
     "name": "stderr",
     "output_type": "stream",
     "text": [
      "INFO:root:Theta updated. New theta_hat: [0.518 0.113 0.42  0.363]\n"
     ]
    },
    {
     "name": "stdout",
     "output_type": "stream",
     "text": [
      "Discretization setup:\n",
      "  - Cumulative Context (cc):    100 steps up to 8.00\n",
      "  - Cust. Degradation (cx):     50 steps up to 1.00\n",
      "  - Cust. Revenue (cu):         100 steps up to 1.00 (99.9th percentile)\n",
      "  - Rental Duration (T):        100 steps up to 76.01 (99.95th percentile)\n",
      "Pre-computing expectations from 100000 customer samples...\n",
      "Starting Numba-accelerated pre-computation of arrival dynamics...\n",
      "Pre-computation complete. ✅\n",
      "\n",
      "Starting Value Iteration...\n",
      "Iteration 10/100 | Max Change (Delta): 0.205733\n",
      "Iteration 20/100 | Max Change (Delta): 0.151337\n",
      "Iteration 30/100 | Max Change (Delta): 0.120762\n",
      "Iteration 40/100 | Max Change (Delta): 0.098117\n",
      "Iteration 50/100 | Max Change (Delta): 0.080117\n",
      "Iteration 60/100 | Max Change (Delta): 0.065500\n",
      "Iteration 70/100 | Max Change (Delta): 0.053567\n",
      "Iteration 80/100 | Max Change (Delta): 0.043812\n",
      "Iteration 90/100 | Max Change (Delta): 0.035833\n"
     ]
    },
    {
     "name": "stderr",
     "output_type": "stream",
     "text": [
      "INFO:root:Policy updated.\n",
      " 75%|███████▌  | 30179/40000 [42:15<23:05,  7.09it/s]INFO:root:Updating optimal policy...\n"
     ]
    },
    {
     "name": "stdout",
     "output_type": "stream",
     "text": [
      "Iteration 100/100 | Max Change (Delta): 0.029308\n",
      "\n",
      "Value iteration finished (max iterations reached).\n",
      "RUNNING THE L-BFGS-B CODE\n",
      "\n",
      "           * * *\n",
      "\n",
      "Machine precision = 2.220D-16\n",
      " N =            4     M =           10\n",
      "\n",
      "At X0         4 variables are exactly at the bounds\n",
      "\n",
      "At iterate    0    f=  1.15111D+04    |proj g|=  1.00000D+00\n",
      "\n",
      "At iterate    1    f=  1.10412D+04    |proj g|=  6.63793D-01\n",
      "\n",
      "At iterate    2    f=  1.10294D+04    |proj g|=  6.49412D-01\n",
      "\n",
      "At iterate    3    f=  1.10159D+04    |proj g|=  5.08540D-01\n",
      "\n",
      "At iterate    4    f=  1.10159D+04    |proj g|=  1.52915D-01\n",
      "\n",
      "At iterate    5    f=  1.10159D+04    |proj g|=  2.22874D-02\n",
      "\n",
      "At iterate    6    f=  1.10159D+04    |proj g|=  1.36965D-02\n",
      "\n",
      "           * * *\n",
      "\n",
      "Tit   = total number of iterations\n",
      "Tnf   = total number of function evaluations\n",
      "Tnint = total number of segments explored during Cauchy searches\n",
      "Skip  = number of BFGS updates skipped\n",
      "Nact  = number of active bounds at final generalized Cauchy point\n",
      "Projg = norm of the final projected gradient\n",
      "F     = final function value\n",
      "\n",
      "           * * *\n",
      "\n",
      "   N    Tit     Tnf  Tnint  Skip  Nact     Projg        F\n",
      "    4      6      8      9     0     0   1.370D-02   1.102D+04\n",
      "  F =   11015.920870108979     \n",
      "\n",
      "CONVERGENCE: REL_REDUCTION_OF_F_<=_FACTR*EPSMCH             \n"
     ]
    },
    {
     "name": "stderr",
     "output_type": "stream",
     "text": [
      "INFO:root:Theta updated. New theta_hat: [0.506 0.102 0.423 0.37 ]\n"
     ]
    },
    {
     "name": "stdout",
     "output_type": "stream",
     "text": [
      "Discretization setup:\n",
      "  - Cumulative Context (cc):    100 steps up to 8.00\n",
      "  - Cust. Degradation (cx):     50 steps up to 1.00\n",
      "  - Cust. Revenue (cu):         100 steps up to 1.00 (99.9th percentile)\n",
      "  - Rental Duration (T):        100 steps up to 76.01 (99.95th percentile)\n",
      "Pre-computing expectations from 100000 customer samples...\n",
      "Starting Numba-accelerated pre-computation of arrival dynamics...\n",
      "Pre-computation complete. ✅\n",
      "\n",
      "Starting Value Iteration...\n",
      "Iteration 10/100 | Max Change (Delta): 0.208264\n",
      "Iteration 20/100 | Max Change (Delta): 0.153148\n",
      "Iteration 30/100 | Max Change (Delta): 0.122179\n",
      "Iteration 40/100 | Max Change (Delta): 0.099250\n",
      "Iteration 50/100 | Max Change (Delta): 0.081037\n",
      "Iteration 60/100 | Max Change (Delta): 0.066251\n",
      "Iteration 70/100 | Max Change (Delta): 0.054181\n",
      "Iteration 80/100 | Max Change (Delta): 0.044313\n",
      "Iteration 90/100 | Max Change (Delta): 0.036244\n"
     ]
    },
    {
     "name": "stderr",
     "output_type": "stream",
     "text": [
      "INFO:root:Policy updated.\n",
      " 78%|███████▊  | 31283/40000 [46:46<24:31,  5.92it/s]INFO:root:Updating optimal policy...\n"
     ]
    },
    {
     "name": "stdout",
     "output_type": "stream",
     "text": [
      "Iteration 100/100 | Max Change (Delta): 0.029644\n",
      "\n",
      "Value iteration finished (max iterations reached).\n",
      "RUNNING THE L-BFGS-B CODE\n",
      "\n",
      "           * * *\n",
      "\n",
      "Machine precision = 2.220D-16\n",
      " N =            4     M =           10\n",
      "\n",
      "At X0         4 variables are exactly at the bounds\n",
      "\n",
      "At iterate    0    f=  1.23072D+04    |proj g|=  1.00000D+00\n",
      "\n",
      "At iterate    1    f=  1.18060D+04    |proj g|=  6.63066D-01\n",
      "\n",
      "At iterate    2    f=  1.17937D+04    |proj g|=  6.48998D-01\n",
      "\n",
      "At iterate    3    f=  1.17798D+04    |proj g|=  5.12309D-01\n",
      "\n",
      "At iterate    4    f=  1.17798D+04    |proj g|=  1.82758D-01\n",
      "\n",
      "At iterate    5    f=  1.17798D+04    |proj g|=  2.97565D-02\n",
      "\n",
      "At iterate    6    f=  1.17798D+04    |proj g|=  1.89991D-02\n",
      "\n",
      "           * * *\n",
      "\n",
      "Tit   = total number of iterations\n",
      "Tnf   = total number of function evaluations\n",
      "Tnint = total number of segments explored during Cauchy searches\n",
      "Skip  = number of BFGS updates skipped\n",
      "Nact  = number of active bounds at final generalized Cauchy point\n",
      "Projg = norm of the final projected gradient\n",
      "F     = final function value\n",
      "\n",
      "           * * *\n",
      "\n",
      "   N    Tit     Tnf  Tnint  Skip  Nact     Projg        F\n",
      "    4      6      8      9     0     0   1.900D-02   1.178D+04\n",
      "  F =   11779.789791109430     \n",
      "\n",
      "CONVERGENCE: REL_REDUCTION_OF_F_<=_FACTR*EPSMCH             \n"
     ]
    },
    {
     "name": "stderr",
     "output_type": "stream",
     "text": [
      " 81%|████████▏ | 32514/40000 [50:58<11:44, 10.63it/s]\n"
     ]
    },
    {
     "ename": "KeyboardInterrupt",
     "evalue": "",
     "output_type": "error",
     "traceback": [
      "\u001b[0;31m---------------------------------------------------------------------------\u001b[0m",
      "\u001b[0;31mKeyboardInterrupt\u001b[0m                         Traceback (most recent call last)",
      "Cell \u001b[0;32mIn[6], line 5\u001b[0m\n\u001b[1;32m      2\u001b[0m current_time \u001b[38;5;241m=\u001b[39m datetime\u001b[38;5;241m.\u001b[39mnow(pacific_tz)\u001b[38;5;241m.\u001b[39mstrftime(\u001b[38;5;124m\"\u001b[39m\u001b[38;5;124m%\u001b[39m\u001b[38;5;124mY\u001b[39m\u001b[38;5;124m%\u001b[39m\u001b[38;5;124mm\u001b[39m\u001b[38;5;132;01m%d\u001b[39;00m\u001b[38;5;124m_\u001b[39m\u001b[38;5;124m%\u001b[39m\u001b[38;5;124mH\u001b[39m\u001b[38;5;124m%\u001b[39m\u001b[38;5;124mM\u001b[39m\u001b[38;5;124m%\u001b[39m\u001b[38;5;124mS\u001b[39m\u001b[38;5;124m\"\u001b[39m)\n\u001b[1;32m      4\u001b[0m \u001b[38;5;66;03m# simulator.projected_volume_learner.is_terminated = True\u001b[39;00m\n\u001b[0;32m----> 5\u001b[0m simulation_data \u001b[38;5;241m=\u001b[39m \u001b[43msimulator\u001b[49m\u001b[38;5;241;43m.\u001b[39;49m\u001b[43mrun\u001b[49m\u001b[43m(\u001b[49m\u001b[43mnum_customers\u001b[49m\u001b[38;5;241;43m=\u001b[39;49m\u001b[43mNUM_CUSTOMERS\u001b[49m\u001b[43m)\u001b[49m\n\u001b[1;32m      6\u001b[0m degradation_df \u001b[38;5;241m=\u001b[39m pd\u001b[38;5;241m.\u001b[39mDataFrame(simulator\u001b[38;5;241m.\u001b[39mdegradation_history)\n\u001b[1;32m      7\u001b[0m simulation_df \u001b[38;5;241m=\u001b[39m pd\u001b[38;5;241m.\u001b[39mDataFrame(simulator\u001b[38;5;241m.\u001b[39mhistory)\n",
      "File \u001b[0;32m~/Desktop/degradable/simulation.py:353\u001b[0m, in \u001b[0;36mSimulator.run\u001b[0;34m(self, num_customers)\u001b[0m\n\u001b[1;32m    351\u001b[0m     \u001b[38;5;66;03m# --- Check if policy update is needed ---\u001b[39;00m\n\u001b[1;32m    352\u001b[0m     \u001b[38;5;28;01mif\u001b[39;00m is_exploration_done \u001b[38;5;129;01mand\u001b[39;00m \u001b[38;5;28mself\u001b[39m\u001b[38;5;241m.\u001b[39mbreakdowns_since_last_update \u001b[38;5;241m>\u001b[39m\u001b[38;5;241m=\u001b[39m \u001b[38;5;28mself\u001b[39m\u001b[38;5;241m.\u001b[39mpolicy_update_threshold:\n\u001b[0;32m--> 353\u001b[0m         \u001b[38;5;28;43mself\u001b[39;49m\u001b[38;5;241;43m.\u001b[39;49m\u001b[43m_update_policy\u001b[49m\u001b[43m(\u001b[49m\u001b[38;5;28;43mself\u001b[39;49m\u001b[38;5;241;43m.\u001b[39;49m\u001b[43mlast_customer_idx\u001b[49m\u001b[43m \u001b[49m\u001b[38;5;241;43m+\u001b[39;49m\u001b[43m \u001b[49m\u001b[38;5;241;43m1\u001b[39;49m\u001b[43m)\u001b[49m\n\u001b[1;32m    355\u001b[0m     \u001b[38;5;28mself\u001b[39m\u001b[38;5;241m.\u001b[39mlast_customer_idx \u001b[38;5;241m+\u001b[39m\u001b[38;5;241m=\u001b[39m \u001b[38;5;241m1\u001b[39m\n\u001b[1;32m    357\u001b[0m logging\u001b[38;5;241m.\u001b[39minfo(\u001b[38;5;124m\"\u001b[39m\u001b[38;5;124mSimulation finished.\u001b[39m\u001b[38;5;124m\"\u001b[39m)\n",
      "File \u001b[0;32m~/Desktop/degradable/simulation.py:132\u001b[0m, in \u001b[0;36mSimulator._update_policy\u001b[0;34m(self, customer_idx)\u001b[0m\n\u001b[1;32m    130\u001b[0m \u001b[38;5;28mself\u001b[39m\u001b[38;5;241m.\u001b[39mdegradation_learner \u001b[38;5;241m=\u001b[39m DegradationLearner(d\u001b[38;5;241m=\u001b[39m\u001b[38;5;28mself\u001b[39m\u001b[38;5;241m.\u001b[39md)\n\u001b[1;32m    131\u001b[0m df_degradation \u001b[38;5;241m=\u001b[39m pd\u001b[38;5;241m.\u001b[39mDataFrame(\u001b[38;5;28mself\u001b[39m\u001b[38;5;241m.\u001b[39mdegradation_history)\n\u001b[0;32m--> 132\u001b[0m \u001b[38;5;28;43mself\u001b[39;49m\u001b[38;5;241;43m.\u001b[39;49m\u001b[43mdegradation_learner\u001b[49m\u001b[38;5;241;43m.\u001b[39;49m\u001b[43mfit\u001b[49m\u001b[43m(\u001b[49m\u001b[43mdf_degradation\u001b[49m\u001b[43m)\u001b[49m\n\u001b[1;32m    133\u001b[0m logging\u001b[38;5;241m.\u001b[39minfo(\u001b[38;5;124mf\u001b[39m\u001b[38;5;124m\"\u001b[39m\u001b[38;5;124mTheta updated. New theta_hat: \u001b[39m\u001b[38;5;132;01m{\u001b[39;00m\u001b[38;5;28mself\u001b[39m\u001b[38;5;241m.\u001b[39mdegradation_learner\u001b[38;5;241m.\u001b[39mget_theta()\u001b[38;5;241m.\u001b[39mround(\u001b[38;5;241m3\u001b[39m)\u001b[38;5;132;01m}\u001b[39;00m\u001b[38;5;124m\"\u001b[39m)\n\u001b[1;32m    134\u001b[0m \u001b[38;5;28mself\u001b[39m\u001b[38;5;241m.\u001b[39mtheta_updates\u001b[38;5;241m.\u001b[39mappend(\n\u001b[1;32m    135\u001b[0m     {\n\u001b[1;32m    136\u001b[0m         \u001b[38;5;124m\"\u001b[39m\u001b[38;5;124mcustomer_idx\u001b[39m\u001b[38;5;124m\"\u001b[39m: customer_idx,\n\u001b[1;32m    137\u001b[0m         \u001b[38;5;124m\"\u001b[39m\u001b[38;5;124mtheta_hat\u001b[39m\u001b[38;5;124m\"\u001b[39m: \u001b[38;5;28mself\u001b[39m\u001b[38;5;241m.\u001b[39mdegradation_learner\u001b[38;5;241m.\u001b[39mget_theta()\u001b[38;5;241m.\u001b[39mcopy()\n\u001b[1;32m    138\u001b[0m     }\n\u001b[1;32m    139\u001b[0m )\n",
      "File \u001b[0;32m~/Desktop/degradable/degradation_learner.py:113\u001b[0m, in \u001b[0;36mDegradationLearner.fit\u001b[0;34m(self, data)\u001b[0m\n\u001b[1;32m    110\u001b[0m \u001b[38;5;66;03m# data = pd.concat([data[['life_id', 'start', 'stop', 'event']+x_cols]], axis=1)\u001b[39;00m\n\u001b[1;32m    112\u001b[0m \u001b[38;5;28mself\u001b[39m\u001b[38;5;241m.\u001b[39mfit_usage_hazard(data)\n\u001b[0;32m--> 113\u001b[0m \u001b[38;5;28;43mself\u001b[39;49m\u001b[38;5;241;43m.\u001b[39;49m\u001b[43mfit_baseline_hazard\u001b[49m\u001b[43m(\u001b[49m\u001b[43mdata\u001b[49m\u001b[43m)\u001b[49m\n\u001b[1;32m    114\u001b[0m \u001b[38;5;28;01mreturn\u001b[39;00m \u001b[38;5;28;01mNone\u001b[39;00m\n",
      "File \u001b[0;32m~/Desktop/degradable/degradation_learner.py:131\u001b[0m, in \u001b[0;36mDegradationLearner.fit_baseline_hazard\u001b[0;34m(self, data)\u001b[0m\n\u001b[1;32m    130\u001b[0m \u001b[38;5;28;01mdef\u001b[39;00m \u001b[38;5;21mfit_baseline_hazard\u001b[39m(\u001b[38;5;28mself\u001b[39m, data):\n\u001b[0;32m--> 131\u001b[0m     breslow_df \u001b[38;5;241m=\u001b[39m \u001b[43mbreslow_baseline_estimator\u001b[49m\u001b[43m(\u001b[49m\n\u001b[1;32m    132\u001b[0m \u001b[43m        \u001b[49m\u001b[43mdata\u001b[49m\u001b[43m,\u001b[49m\u001b[43m \u001b[49m\n\u001b[1;32m    133\u001b[0m \u001b[43m        \u001b[49m\u001b[38;5;28;43mself\u001b[39;49m\u001b[38;5;241;43m.\u001b[39;49m\u001b[43mget_theta\u001b[49m\u001b[43m(\u001b[49m\u001b[43m)\u001b[49m\n\u001b[1;32m    134\u001b[0m \u001b[43m    \u001b[49m\u001b[43m)\u001b[49m\n\u001b[1;32m    135\u001b[0m     breslow_df \u001b[38;5;241m=\u001b[39m breslow_df[breslow_df[\u001b[38;5;124m'\u001b[39m\u001b[38;5;124mdelta_t\u001b[39m\u001b[38;5;124m'\u001b[39m] \u001b[38;5;241m>\u001b[39m \u001b[38;5;241m0\u001b[39m]\n\u001b[1;32m    136\u001b[0m     times \u001b[38;5;241m=\u001b[39m breslow_df[\u001b[38;5;124m'\u001b[39m\u001b[38;5;124mtime\u001b[39m\u001b[38;5;124m'\u001b[39m]\u001b[38;5;241m.\u001b[39mvalues\n",
      "File \u001b[0;32m~/Desktop/degradable/degradation_learner.py:86\u001b[0m, in \u001b[0;36mbreslow_baseline_estimator\u001b[0;34m(long_df, theta_hat)\u001b[0m\n\u001b[1;32m     84\u001b[0m \u001b[38;5;28;01mif\u001b[39;00m risk_set\u001b[38;5;241m.\u001b[39mempty:\n\u001b[1;32m     85\u001b[0m     \u001b[38;5;28;01mcontinue\u001b[39;00m\n\u001b[0;32m---> 86\u001b[0m exp_terms_risk \u001b[38;5;241m=\u001b[39m np\u001b[38;5;241m.\u001b[39mexp(\u001b[43mnp\u001b[49m\u001b[38;5;241;43m.\u001b[39;49m\u001b[43mdot\u001b[49m\u001b[43m(\u001b[49m\u001b[43mX\u001b[49m\u001b[43m[\u001b[49m\u001b[43mrisk_set\u001b[49m\u001b[38;5;241;43m.\u001b[39;49m\u001b[43mindex\u001b[49m\u001b[43m]\u001b[49m\u001b[43m,\u001b[49m\u001b[43m \u001b[49m\u001b[43mtheta_hat\u001b[49m\u001b[43m)\u001b[49m)\n\u001b[1;32m     87\u001b[0m denom \u001b[38;5;241m=\u001b[39m np\u001b[38;5;241m.\u001b[39msum(exp_terms_risk)\n\u001b[1;32m     88\u001b[0m d_k \u001b[38;5;241m=\u001b[39m \u001b[38;5;28mlen\u001b[39m(events_at_t)\n",
      "\u001b[0;31mKeyboardInterrupt\u001b[0m: "
     ]
    }
   ],
   "source": [
    "pacific_tz = timezone('America/Los_Angeles')\n",
    "current_time = datetime.now(pacific_tz).strftime(\"%Y%m%d_%H%M%S\")\n",
    "\n",
    "# simulator.projected_volume_learner.is_terminated = True\n",
    "simulation_data = simulator.run(num_customers=NUM_CUSTOMERS)\n",
    "degradation_df = pd.DataFrame(simulator.degradation_history)\n",
    "simulation_df = pd.DataFrame(simulator.history)\n",
    "\n",
    "degradation_df.to_csv(f'data/degradation_data_{current_time}.csv', index=False)\n",
    "simulation_df.to_csv(f'data/simulation_data_{current_time}.csv', index=False)\n",
    "simulator.save(f'models/simulator_{current_time}')"
   ]
  },
  {
   "cell_type": "code",
   "execution_count": null,
   "id": "b2839ef2",
   "metadata": {},
   "outputs": [],
   "source": [
    "degradation_df = pd.DataFrame(simulator.degradation_history)\n",
    "simulation_df = pd.DataFrame(simulator.history)\n",
    "\n",
    "degradation_df.to_csv(f'data/degradation_data_{current_time}.csv', index=False)\n",
    "simulation_df.to_csv(f'data/simulation_data_{current_time}.csv', index=False)\n",
    "simulator.save(f'models/simulator_{current_time}')"
   ]
  },
  {
   "cell_type": "markdown",
   "id": "2ffaa1c1",
   "metadata": {},
   "source": [
    "### Convergence of $\\hat\\theta$"
   ]
  },
  {
   "cell_type": "code",
   "execution_count": null,
   "id": "221cf058",
   "metadata": {},
   "outputs": [],
   "source": [
    "# simulator = Simulator.load('models/simulator_0914')\n",
    "\n",
    "history = pd.DataFrame(simulator.history)\n",
    "degradation_history = pd.DataFrame(simulator.degradation_history)\n",
    "\n",
    "epsilons = [0.20 * (0.95 ** i) for i in range(len(simulator.theta_updates))]\n",
    "\n",
    "times = []\n",
    "\n",
    "for d in simulator.theta_updates:\n",
    "    idx, theta_hat = d['customer_idx'], d['theta_hat']\n",
    "    time = history[history.customer_id == idx]['calendar_time'].max()\n",
    "    times.append(time)\n",
    "    \n",
    "# plot L2, and L-inf norms of utility updates\n",
    "L2_errors = [np.linalg.norm(update['theta_hat'] - THETA_TRUE) for update in simulator.theta_updates]\n",
    "Linf_errors = [np.linalg.norm(update['theta_hat'] - THETA_TRUE, ord=np.inf) for update in simulator.theta_updates]\n",
    "\n",
    "plt.figure(figsize=(12, 6))\n",
    "plt.plot(times, L2_errors, label='$L_2$ Norm Error', marker='o')\n",
    "plt.plot(times, Linf_errors, label='$L_\\infty$ Norm Error', marker='x')\n",
    "plt.plot(times, epsilons, label='Exploration Rate (ε)', linestyle='--', color='gray')\n",
    "# plt.yscale('log')\n",
    "plt.xlabel('Number of Customers Processed', fontsize=14)\n",
    "plt.ylabel('Error Norm', fontsize=14)\n",
    "\n",
    "plt.title('Convergence of $\\|\\hat{\\\\theta} - \\\\theta\\|$', fontsize=18)\n",
    "plt.legend(fontsize=12)\n",
    "plt.grid(True)\n",
    "plt.savefig('figures/utility_convergence.pdf')\n",
    "plt.show()"
   ]
  },
  {
   "cell_type": "markdown",
   "id": "1c192729",
   "metadata": {},
   "source": [
    "### Convergence of $\\hat u$"
   ]
  },
  {
   "cell_type": "code",
   "execution_count": null,
   "id": "628dd0f7",
   "metadata": {},
   "outputs": [],
   "source": [
    "simulator.utility_updates\n",
    "\n",
    "# plot L2, and L-inf norms of utility updates\n",
    "L2_errors = [np.linalg.norm(update['u_hat'] - UTILITY_TRUE) for update in simulator.utility_updates]\n",
    "Linf_errors = [np.linalg.norm(update['u_hat'] - UTILITY_TRUE, ord=np.inf) for update in simulator.utility_updates]\n",
    "\n",
    "plt.figure(figsize=(12, 6))\n",
    "plt.plot(L2_errors, label='$L_2$ Norm Error', marker='o')\n",
    "plt.plot(Linf_errors, label='$L_\\infty$ Norm Error', marker='x')\n",
    "# plt.yscale('log')\n",
    "plt.xlabel('Number of Customers Processed', fontsize=14)\n",
    "plt.ylabel('Error Norm', fontsize=14)\n",
    "\n",
    "plt.title('Convergence of $\\|\\hat u - u\\|$', fontsize=18)\n",
    "plt.legend(fontsize=12)\n",
    "plt.grid(True)\n",
    "plt.savefig('figures/utility_convergence.pdf')\n",
    "plt.show()"
   ]
  },
  {
   "cell_type": "markdown",
   "id": "211146ca",
   "metadata": {},
   "source": [
    "### Revenue of Online Learner"
   ]
  },
  {
   "cell_type": "code",
   "execution_count": null,
   "id": "6288559c",
   "metadata": {},
   "outputs": [],
   "source": [
    "degradation_df = pd.DataFrame(simulator.degradation_history)\n",
    "simulation_df = pd.DataFrame(simulator.history)\n",
    "\n",
    "simulation_df['net_profit'] = simulation_df['profit'] + simulation_df['loss']\n",
    "simulation_df['cumulative_net_profit'] = simulation_df['net_profit'].cumsum()\n",
    "\n",
    "ax = plt.figure(figsize=(10,6))\n",
    "\n",
    "# plot cumulative profit and loss over time\n",
    "plt.plot(simulation_df['calendar_time'], simulation_df['cumulative_net_profit'], label='Cumulative Net Profit')\n",
    "plt.xlabel('Calendar Time')\n",
    "plt.ylabel('Cumulative Net Profit')\n",
    "plt.title('Cumulative Net Profit Over Time')\n",
    "plt.legend()\n",
    "plt.grid()\n",
    "plt.savefig('figures/cumulative_net_profit_online.pdf')\n",
    "plt.show()"
   ]
  },
  {
   "cell_type": "markdown",
   "id": "dec0fff9",
   "metadata": {},
   "source": [
    "## Training policy under perfect information"
   ]
  },
  {
   "cell_type": "markdown",
   "id": "de203c94",
   "metadata": {},
   "source": [
    "### Revenue of Optimal Policy"
   ]
  },
  {
   "cell_type": "code",
   "execution_count": null,
   "id": "a8793230",
   "metadata": {},
   "outputs": [],
   "source": [
    "class PerfectDegradationLearner:\n",
    "    def __init__(self, d, theta_true, hazard_model):\n",
    "        self.d = d\n",
    "        self.theta_true = theta_true\n",
    "        self.hazard_model = hazard_model  # Placeholder, not used\n",
    "        \n",
    "    def get_theta(self):\n",
    "        return self.theta_true\n",
    "    \n",
    "    def cum_baseline(self, t):\n",
    "        return self.hazard_model.Lambda_0(t)\n",
    "    \n",
    "    def inverse_cum_baseline(self, u):\n",
    "        return self.hazard_model.Lambda_0_inverse(u)\n",
    "    \n",
    "perfect_degradation_learner = PerfectDegradationLearner(\n",
    "    d=D, \n",
    "    theta_true=THETA_TRUE,\n",
    "    hazard_model=usage_exp_hazard_model,\n",
    ")\n",
    "\n",
    "# N_perfect = [100, 40, 80, 150]\n",
    "\n",
    "perfect_dpagent = DiscretizedDPAgent(\n",
    "    N=simulator.training_hyperparams['N'], # grid sizes [cum_context, context, duration, active_time]\n",
    "    max_cumulative_context=simulator.training_hyperparams['max_cumulative_context'],\n",
    "    # max_active_time=simulator.training_hyperparams['max_active_time'],\n",
    "    u_hat=UTILITY_TRUE,\n",
    "    degradation_learner=perfect_degradation_learner,\n",
    "    customer_generator=customer_gen,\n",
    "    params=simulator.mdp_params,\n",
    ")\n",
    "# perfect_dpagent.run_value_iteration(simulator.training_hyperparams['num_value_iterations'])\n",
    "\n",
    "# weight = torch.load('weights/perfect_dpagent_q_network.pth', map_location=torch.device('cuda'))\n",
    "# perfect_dpagent.q_network.load_state_dict(weight)\n",
    "# perfect_dpagent.q_network.to(perfect_dpagent.device)\n",
    "# perfect_dpagent.q_network.eval()\n",
    "perfect_dpagent._precompute_dynamics(100000)\n",
    "perfect_dpagent.run_value_iteration(150)\n",
    "perfect_policy = perfect_dpagent.get_policy('greedy')"
   ]
  },
  {
   "cell_type": "code",
   "execution_count": null,
   "id": "ade6b251",
   "metadata": {},
   "outputs": [],
   "source": [
    "simulation_df = pd.DataFrame(simulator.history)\n",
    "# simulator.degradation_learner = perfect_degradation_learner\n",
    "samples = simulator.run_full_exploit(100000, perfect_policy, {'tau': 0.01})\n",
    "samples = pd.DataFrame(samples)\n",
    "\n",
    "simulation_df['net_profit'] = simulation_df['profit'] + simulation_df['loss']\n",
    "simulation_df['cumulative_net_profit'] = simulation_df['net_profit'].cumsum()\n",
    "samples['net_profit'] = samples['profit'] + samples['loss']\n",
    "samples['cumulative_net_profit'] = samples['net_profit'].cumsum()\n",
    "\n",
    "samples['netprofit_per_time'] = samples['cumulative_net_profit'] / samples['calendar_time']\n",
    "simulation_df['netprofit_per_time'] = simulation_df['cumulative_net_profit'] / simulation_df['calendar_time']"
   ]
  },
  {
   "cell_type": "code",
   "execution_count": null,
   "id": "674b44a1",
   "metadata": {},
   "outputs": [],
   "source": [
    "def calculate_rolling_rate(df, time_col, value_col, window_size):\n",
    "    \"\"\"\n",
    "    Calculates the rate of a value over a rolling time window on irregular time series data.\n",
    "\n",
    "    Args:\n",
    "        df (pd.DataFrame): The input dataframe.\n",
    "        time_col (str): The name of the column with time data.\n",
    "        value_col (str): The name of the column with values to aggregate (e.g., 'net_profit').\n",
    "        window_size (int): The duration of the rolling time window.\n",
    "\n",
    "    Returns:\n",
    "        pd.Series: A series containing the calculated rolling rate for each row.\n",
    "    \"\"\"\n",
    "    # Ensure the dataframe is sorted by time, which is crucial.\n",
    "    df = df.sort_values(time_col).reset_index(drop=True)\n",
    "    \n",
    "    times = df[time_col].values\n",
    "    values = df[value_col].values\n",
    "    \n",
    "    # For each end time `t_i`, find the start time `t_i - window`.\n",
    "    start_times = times - window_size\n",
    "    \n",
    "    # Use searchsorted to find the index where each start_time would be inserted.\n",
    "    # This gives us the starting index of each time window efficiently.\n",
    "    start_indices = np.searchsorted(times, start_times, side='left')\n",
    "    \n",
    "    # Use a cumulative sum to efficiently calculate the sum over any slice [j, i].\n",
    "    value_cumsum = np.cumsum(values)\n",
    "    \n",
    "    # The sum for a window ending at `i` is cumsum[i] - cumsum[start_index - 1].\n",
    "    # We create a shifted cumulative sum array to handle the `start_index - 1` lookup.\n",
    "    shifted_cumsum = np.concatenate(([0], value_cumsum[:-1]))\n",
    "    \n",
    "    # Calculate the sum of values within each rolling window.\n",
    "    window_sums = value_cumsum - shifted_cumsum[start_indices]\n",
    "    \n",
    "    # The rate is the sum of profit in the window divided by the window's duration.\n",
    "    profit_rate = window_sums / window_size\n",
    "    \n",
    "    return pd.Series(profit_rate, index=df.index)\n",
    "\n",
    "\n",
    "# --- 2. Calculate net profit and the rolling rate for each DataFrame ---\n",
    "\n",
    "window_duration = 20000 # Define the time window for the rolling rate\n",
    "\n",
    "for df in [simulation_df]:\n",
    "# for df in [samples]:\n",
    "    df['net_profit'] = df['profit'] + df['loss']\n",
    "    # Add the new 'profit_rate' column using our helper function\n",
    "    df['profit_rate'] = calculate_rolling_rate(df, 'calendar_time', 'net_profit', window_duration)"
   ]
  },
  {
   "cell_type": "code",
   "execution_count": null,
   "id": "a3a5d8bd",
   "metadata": {},
   "outputs": [],
   "source": [
    "# --- 3. Plot the new rolling profit rate ---\n",
    "\n",
    "# max_time = min(simulation_df['calendar_time'].max(), samples['calendar_time'].max())\n",
    "max_time = simulation_df['calendar_time'].max()\n",
    "# samples_plot = samples[(window_duration <= samples['calendar_time']) & (samples['calendar_time'] <= max_time)]\n",
    "simulations_plot = simulation_df[\n",
    "    (window_duration <= simulation_df['calendar_time']) &\n",
    "    (simulation_df['calendar_time'] <= max_time)]\n",
    "\n",
    "\n",
    "plt.figure(figsize=(10, 6))\n",
    "\n",
    "# plt.plot(samples_plot['calendar_time'], samples_plot['profit_rate'], label=f'Optimal Policy (Rolling {window_duration} unit avg)')\n",
    "plt.plot(simulations_plot['calendar_time'], simulations_plot['profit_rate'], label=f'Online Learning (Rolling {window_duration} unit avg)')\n",
    "\n",
    "plt.xlabel('Calendar Time')\n",
    "plt.ylabel('Profit Rate (Profit / Time Unit)')\n",
    "plt.title(f'Rolling Profit Rate Over Time (Window = {window_duration} time units)')\n",
    "plt.legend()\n",
    "plt.grid(True)\n",
    "plt.show()"
   ]
  },
  {
   "cell_type": "code",
   "execution_count": null,
   "id": "a07a5571",
   "metadata": {},
   "outputs": [],
   "source": []
  }
 ],
 "metadata": {
  "kernelspec": {
   "display_name": "res",
   "language": "python",
   "name": "python3"
  },
  "language_info": {
   "codemirror_mode": {
    "name": "ipython",
    "version": 3
   },
   "file_extension": ".py",
   "mimetype": "text/x-python",
   "name": "python",
   "nbconvert_exporter": "python",
   "pygments_lexer": "ipython3",
   "version": "3.9.20"
  }
 },
 "nbformat": 4,
 "nbformat_minor": 5
}
