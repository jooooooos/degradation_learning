{
 "cells": [
  {
   "cell_type": "code",
   "execution_count": 1,
   "id": "f1bf8ff4",
   "metadata": {},
   "outputs": [],
   "source": [
    "import pickle\n",
    "import numpy as np\n",
    "import pandas as pd\n",
    "from scipy.optimize import minimize\n",
    "\n",
    "from simulation import Simulator, CustomerGenerator\n",
    "from hazard_models import ExponentialHazard\n",
    "from utility_learner import ProjectedVolumeLearner, diam\n",
    "from degradation_learner import DegradationLearner\n",
    "\n",
    "from utils import unit_ball_rejection_sample, correct_signs\n",
    "import matplotlib.pyplot as plt\n",
    "from scipy.stats import gaussian_kde\n",
    "\n",
    "import logging\n",
    "logging.basicConfig(level=logging.INFO)"
   ]
  },
  {
   "cell_type": "code",
   "execution_count": 2,
   "id": "52e08dea",
   "metadata": {},
   "outputs": [],
   "source": [
    "# --- 2. Define Sampling Functions ---\n",
    "# def context_sampler() -> np.ndarray:\n",
    "#     \"\"\"Samples a customer's context vector from a uniform distribution.\"\"\"\n",
    "#     return np.random.uniform(low=0.0, high=1.0, size=D)\n",
    "\n",
    "def context_sampler() -> np.ndarray:\n",
    "    \"\"\"Samples a customer's context vector uniformly from the unit ball.\"\"\"\n",
    "    return np.abs(unit_ball_rejection_sample(D))\n",
    "\n",
    "def rental_sampler() -> float:\n",
    "    \"\"\"Samples a customer's desired rental duration from an exponential distribution.\"\"\"\n",
    "    return np.random.exponential(scale=20.0)\n",
    "\n",
    "def interarrival_sampler() -> float:\n",
    "    \"\"\"Samples the time until the next customer arrives.\"\"\"\n",
    "    return np.random.exponential(scale=5.0)"
   ]
  },
  {
   "cell_type": "code",
   "execution_count": 3,
   "id": "8cc2c2dd",
   "metadata": {},
   "outputs": [],
   "source": [
    "# --- 1. Simulation Configuration ---\n",
    "D = 5                                  # Dimension of context vectors\n",
    "LAMBDA_VAL = 0.001                     # Baseline hazard constant\n",
    "NUM_CUSTOMERS = 2000                   # Total number of customers to simulate, i.e. T\n",
    "\n",
    "# Set a random seed for reproducibility\n",
    "np.random.seed(41)\n",
    "\n",
    "# Ground truth vectors\n",
    "THETA_TRUE = np.array([0.5, 0.2, 0.1, 0.3, 0.4])    # For degradation\n",
    "UTILITY_TRUE = context_sampler()  # For customer's willingness to pay\n",
    "\n",
    "# --- Machine's Pricing Vector 'r' ---\n",
    "# You can change this to test different pricing strategies.\n",
    "# Case 1: A non-zero pricing strategy\n",
    "# PRICING_R = np.array([2.0, 2.0, 2.0, 2.0, 2.0])\n",
    "# Case 2: Zero price (free rentals), guaranteeing 100% acceptance\n",
    "PRICING_R = np.zeros(D)"
   ]
  },
  {
   "cell_type": "code",
   "execution_count": null,
   "id": "8e600551",
   "metadata": {},
   "outputs": [],
   "source": [
    "usage_exp_hazard_model = ExponentialHazard(lambda_val=LAMBDA_VAL)\n",
    "# spontaneous_exp_hazard_model = None # ExponentialHazard(lambda_val=0.01)\n",
    "\n",
    "customer_gen = CustomerGenerator(\n",
    "    d=D,\n",
    "    context_sampler=context_sampler,\n",
    "    rental_sampler=rental_sampler,\n",
    "    interarrival_sampler=interarrival_sampler\n",
    ")\n",
    "\n",
    "centroid_params = {\n",
    "    # 'num_samples': 2000,\n",
    "    # 'thin': None,\n",
    "    # 'burn_in': 500 * D ** 2,\n",
    "    # 'tol': 1e-4,\n",
    "    # 'rho_target': 0.01\n",
    "}\n",
    "\n",
    "termination_rule = lambda diameter: diameter < 0.01  # Example custom termination rule\n",
    "\n",
    "projected_volume_learner = ProjectedVolumeLearner(\n",
    "    T=NUM_CUSTOMERS, \n",
    "    d=D, \n",
    "    centroid_params=centroid_params,\n",
    "    incentive_constant=1.1,\n",
    "    termination_rule=termination_rule,\n",
    ")\n",
    "\n",
    "mdp_params = {\n",
    "    'replacement_cost': 1.5,   # Cost to replace the machine\n",
    "    'failure_cost': 0.75,      # Additional penalty for in-service failure\n",
    "    'holding_cost_rate': 0.02,   # Cost per unit of idle time\n",
    "    'gamma': 0.999,             # Discount factor\n",
    "    'learning_rate': 1e-4,      # Learning rate for the Adam optimizer\n",
    "    'target_update_freq': 10    # How often to update the target network (in iterations)\n",
    "}\n",
    "\n",
    "training_hyperparams = {\n",
    "    'num_iterations': 100, # Number of training iterations per policy update\n",
    "    'dataset_size': 50000,      # Number of transitions to generate for the offline dataset\n",
    "    'batch_size': 256           # Batch size for training\n",
    "}\n",
    "\n",
    "# Instantiate the Simulator with the new parameters\n",
    "simulator = Simulator(\n",
    "    d=D,\n",
    "    T=NUM_CUSTOMERS,\n",
    "    \n",
    "    theta_true=THETA_TRUE,\n",
    "    utility_true=UTILITY_TRUE,\n",
    "    pricing_r=PRICING_R,\n",
    "    \n",
    "    usage_hazard_model=usage_exp_hazard_model,\n",
    "    customer_generator=customer_gen,\n",
    "    projected_volume_learner=projected_volume_learner,  # Use default ProjectedVolumeLearner\n",
    "    \n",
    "    mdp_params=mdp_params,\n",
    "    training_hyperparams=training_hyperparams,\n",
    "    policy_update_threshold=5,\n",
    ")"
   ]
  },
  {
   "cell_type": "code",
   "execution_count": null,
   "id": "05247755",
   "metadata": {},
   "outputs": [],
   "source": []
  },
  {
   "cell_type": "code",
   "execution_count": 18,
   "id": "2eb8b58f",
   "metadata": {},
   "outputs": [
    {
     "data": {
      "text/plain": [
       "array([2.23416165, 0.        , 0.        , 0.16960622, 0.        ])"
      ]
     },
     "execution_count": 18,
     "metadata": {},
     "output_type": "execute_result"
    }
   ],
   "source": [
    "simulator.degradation_learner.get_theta()"
   ]
  },
  {
   "cell_type": "code",
   "execution_count": 16,
   "id": "dc7f36ad",
   "metadata": {},
   "outputs": [
    {
     "name": "stderr",
     "output_type": "stream",
     "text": [
      "INFO:root:Starting simulation for 2000 customers...\n",
      "  0%|          | 0/2000 [00:00<?, ?it/s]INFO:root:Updating optimal policy...\n"
     ]
    },
    {
     "name": "stdout",
     "output_type": "stream",
     "text": [
      "RUNNING THE L-BFGS-B CODE\n",
      "\n",
      "           * * *\n",
      "\n",
      "Machine precision = 2.220D-16\n",
      " N =            5     M =           10\n",
      "\n",
      "At X0         5 variables are exactly at the bounds\n",
      "\n",
      "At iterate    0    f=  2.07944D+00    |proj g|=  5.42796D-01\n",
      "\n",
      "At iterate    1    f=  1.74439D+00    |proj g|=  3.22442D-01\n",
      "\n",
      "At iterate    2    f=  1.35140D+00    |proj g|=  2.63416D-01\n",
      "\n",
      "At iterate    3    f=  9.24682D-01    |proj g|=  2.19443D-01\n",
      "\n",
      "At iterate    4    f=  3.11577D-01    |proj g|=  7.36006D-02\n",
      "\n",
      "At iterate    5    f=  1.56087D-01    |proj g|=  3.57062D-02\n",
      "\n",
      "At iterate    6    f=  7.32264D-02    |proj g|=  1.60069D-02\n",
      "\n",
      "At iterate    7    f=  3.68068D-02    |proj g|=  7.84466D-03\n",
      "\n",
      "At iterate    8    f=  1.83501D-02    |proj g|=  3.85328D-03\n",
      "Using device: mps\n",
      "\n",
      "At iterate    9    f=  9.23877D-03    |proj g|=  1.92177D-03\n",
      "\n",
      "At iterate   10    f=  4.64293D-03    |proj g|=  9.59267D-04\n",
      "\n",
      "At iterate   11    f=  2.33471D-03    |proj g|=  4.79929D-04\n",
      "\n",
      "At iterate   12    f=  1.17269D-03    |proj g|=  2.40343D-04\n",
      "\n",
      "At iterate   13    f=  5.88624D-04    |proj g|=  1.20143D-04\n",
      "\n",
      "At iterate   14    f=  2.95215D-04    |proj g|=  6.03956D-05\n",
      "\n",
      "At iterate   15    f=  1.47967D-04    |proj g|=  2.97875D-05\n",
      "\n",
      "At iterate   16    f=  7.41211D-05    |proj g|=  1.56067D-05\n",
      "\n",
      "At iterate   17    f=  3.71068D-05    |proj g|=  6.58759D-06\n",
      "\n",
      "           * * *\n",
      "\n",
      "Tit   = total number of iterations\n",
      "Tnf   = total number of function evaluations\n",
      "Tnint = total number of segments explored during Cauchy searches\n",
      "Skip  = number of BFGS updates skipped\n",
      "Nact  = number of active bounds at final generalized Cauchy point\n",
      "Projg = norm of the final projected gradient\n",
      "F     = final function value\n",
      "\n",
      "           * * *\n",
      "\n",
      "   N    Tit     Tnf  Tnint  Skip  Nact     Projg        F\n",
      "    5     17     18     17     0     2   6.588D-06   3.711D-05\n",
      "  F =   3.7106796952457444E-005\n",
      "\n",
      "CONVERGENCE: NORM_OF_PROJECTED_GRADIENT_<=_PGTOL            \n",
      "Generating 512 experience samples...\n"
     ]
    },
    {
     "name": "stderr",
     "output_type": "stream",
     "text": [
      "100%|██████████| 512/512 [00:00<00:00, 11652.30it/s]\n"
     ]
    },
    {
     "name": "stdout",
     "output_type": "stream",
     "text": [
      "\n",
      "Starting FQI training loop...\n"
     ]
    },
    {
     "name": "stderr",
     "output_type": "stream",
     "text": [
      "Iter 5/5 | Loss: 2.0673 | Avg Q-Value: 0.28: 100%|██████████| 5/5 [00:00<00:00,  5.47it/s]\n",
      "INFO:root:Policy updated. New theta_hat: [ 0.     7.988 28.807 34.041  0.   ]\n",
      "  0%|          | 1/2000 [00:01<34:51,  1.05s/it]INFO:root:Updating optimal policy...\n"
     ]
    },
    {
     "name": "stdout",
     "output_type": "stream",
     "text": [
      "\n",
      "Training complete.\n",
      "RUNNING THE L-BFGS-B CODE\n",
      "\n",
      "           * * *\n",
      "\n",
      "Machine precision = 2.220D-16\n",
      " N =            5     M =           10\n",
      "\n",
      "At X0         5 variables are exactly at the bounds\n",
      "\n",
      "At iterate    0    f=  1.01628D+01    |proj g|=  8.31880D+00\n",
      "\n",
      "At iterate    1    f=  5.97322D+00    |proj g|=  1.93614D+00\n",
      "\n",
      "At iterate    2    f=  5.09937D+00    |proj g|=  1.44370D+00\n",
      "\n",
      "At iterate    3    f=  4.17034D+00    |proj g|=  6.92179D-01\n",
      "\n",
      "At iterate    4    f=  3.91506D+00    |proj g|=  2.91733D-01\n",
      "\n",
      "At iterate    5    f=  3.86228D+00    |proj g|=  1.26244D-01\n",
      "\n",
      "At iterate    6    f=  3.84518D+00    |proj g|=  6.69278D-02\n",
      "\n",
      "At iterate    7    f=  3.84191D+00    |proj g|=  5.43685D-02\n",
      "\n",
      "At iterate    8    f=  3.84010D+00    |proj g|=  3.17990D-02\n",
      "\n",
      "At iterate    9    f=  3.83932D+00    |proj g|=  1.16486D-02\n",
      "\n",
      "At iterate   10    f=  3.83916D+00    |proj g|=  3.83514D-03\n",
      "\n",
      "At iterate   11    f=  3.83914D+00    |proj g|=  4.54563D-04\n",
      "\n",
      "At iterate   12    f=  3.83914D+00    |proj g|=  2.19510D-05\n",
      "\n",
      "At iterate   13    f=  3.83914D+00    |proj g|=  4.34747D-07\n",
      "\n",
      "           * * *\n",
      "\n",
      "Tit   = total number of iterations\n",
      "Tnf   = total number of function evaluations\n",
      "Tnint = total number of segments explored during Cauchy searches\n",
      "Skip  = number of BFGS updates skipped\n",
      "Nact  = number of active bounds at final generalized Cauchy point\n",
      "Projg = norm of the final projected gradient\n",
      "F     = final function value\n",
      "\n",
      "           * * *\n",
      "\n",
      "   N    Tit     Tnf  Tnint  Skip  Nact     Projg        F\n",
      "    5     13     14     16     0     3   4.347D-07   3.839D+00\n",
      "  F =   3.8391405520564792     \n",
      "\n",
      "CONVERGENCE: NORM_OF_PROJECTED_GRADIENT_<=_PGTOL            \n",
      "Using device: mps\n",
      "Generating 512 experience samples...\n"
     ]
    },
    {
     "name": "stderr",
     "output_type": "stream",
     "text": [
      "100%|██████████| 512/512 [00:00<00:00, 8559.16it/s]\n"
     ]
    },
    {
     "name": "stdout",
     "output_type": "stream",
     "text": [
      "\n",
      "Starting FQI training loop...\n"
     ]
    },
    {
     "name": "stderr",
     "output_type": "stream",
     "text": [
      "Iter 5/5 | Loss: 1.0115 | Avg Q-Value: 0.24: 100%|██████████| 5/5 [00:00<00:00,  5.95it/s]\n",
      "INFO:root:Policy updated. New theta_hat: [2.737 0.    0.    0.175 0.   ]\n",
      "  2%|▏         | 37/2000 [00:02<01:33, 21.05it/s]INFO:root:Updating optimal policy...\n"
     ]
    },
    {
     "name": "stdout",
     "output_type": "stream",
     "text": [
      "\n",
      "Training complete.\n",
      "RUNNING THE L-BFGS-B CODE\n",
      "\n",
      "           * * *\n",
      "\n",
      "Machine precision = 2.220D-16\n",
      " N =            5     M =           10\n",
      "\n",
      "At X0         5 variables are exactly at the bounds\n",
      "\n",
      "At iterate    0    f=  3.15703D+01    |proj g|=  9.22022D+00\n",
      "\n",
      "At iterate    1    f=  2.65293D+01    |proj g|=  2.29690D+00\n",
      "\n",
      "At iterate    2    f=  2.54175D+01    |proj g|=  1.66166D+00\n",
      "\n",
      "At iterate    3    f=  2.45466D+01    |proj g|=  6.68840D-01\n",
      "\n",
      "At iterate    4    f=  2.43862D+01    |proj g|=  2.10580D-01\n",
      "\n",
      "At iterate    5    f=  2.43591D+01    |proj g|=  9.87088D-02\n",
      "\n",
      "At iterate    6    f=  2.43553D+01    |proj g|=  4.63981D-02\n",
      "\n",
      "At iterate    7    f=  2.43544D+01    |proj g|=  1.52687D-02\n",
      "\n",
      "At iterate    8    f=  2.43543D+01    |proj g|=  7.69952D-03\n",
      "\n",
      "At iterate    9    f=  2.43543D+01    |proj g|=  4.58239D-04\n",
      "\n",
      "At iterate   10    f=  2.43543D+01    |proj g|=  4.60765D-05\n",
      "Using device: mps\n",
      "\n",
      "At iterate   11    f=  2.43543D+01    |proj g|=  6.85197D-07\n",
      "\n",
      "           * * *\n",
      "\n",
      "Tit   = total number of iterations\n",
      "Tnf   = total number of function evaluations\n",
      "Tnint = total number of segments explored during Cauchy searches\n",
      "Skip  = number of BFGS updates skipped\n",
      "Nact  = number of active bounds at final generalized Cauchy point\n",
      "Projg = norm of the final projected gradient\n",
      "F     = final function value\n",
      "\n",
      "           * * *\n",
      "\n",
      "   N    Tit     Tnf  Tnint  Skip  Nact     Projg        F\n",
      "    5     11     12     14     0     3   6.852D-07   2.435D+01\n",
      "  F =   24.354282290336950     \n",
      "\n",
      "CONVERGENCE: NORM_OF_PROJECTED_GRADIENT_<=_PGTOL            \n",
      "Generating 512 experience samples...\n"
     ]
    },
    {
     "name": "stderr",
     "output_type": "stream",
     "text": [
      "100%|██████████| 512/512 [00:00<00:00, 5643.05it/s]\n"
     ]
    },
    {
     "name": "stdout",
     "output_type": "stream",
     "text": [
      "\n",
      "Starting FQI training loop...\n"
     ]
    },
    {
     "name": "stderr",
     "output_type": "stream",
     "text": [
      "Iter 5/5 | Loss: 1.4653 | Avg Q-Value: -0.23: 100%|██████████| 5/5 [00:01<00:00,  4.94it/s]\n",
      "INFO:root:Policy updated. New theta_hat: [2.234 0.    0.    0.17  0.   ]\n",
      " 20%|█▉        | 391/2000 [00:03<00:09, 177.36it/s]"
     ]
    },
    {
     "name": "stdout",
     "output_type": "stream",
     "text": [
      "\n",
      "Training complete.\n"
     ]
    },
    {
     "name": "stderr",
     "output_type": "stream",
     "text": [
      "100%|██████████| 2000/2000 [00:04<00:00, 485.59it/s] \n",
      "INFO:root:Simulation finished.\n"
     ]
    }
   ],
   "source": [
    "simulation_data = simulator.run(num_customers=NUM_CUSTOMERS)\n",
    "df = pd.DataFrame(simulation_data)"
   ]
  },
  {
   "cell_type": "code",
   "execution_count": 17,
   "id": "5a53c50c",
   "metadata": {},
   "outputs": [
    {
     "data": {
      "application/vnd.microsoft.datawrangler.viewer.v0+json": {
       "columns": [
        {
         "name": "index",
         "rawType": "int64",
         "type": "integer"
        },
        {
         "name": "event_type",
         "rawType": "object",
         "type": "string"
        },
        {
         "name": "customer_id",
         "rawType": "int64",
         "type": "integer"
        },
        {
         "name": "calendar_time",
         "rawType": "float64",
         "type": "float"
        },
        {
         "name": "observed_duration",
         "rawType": "float64",
         "type": "float"
        },
        {
         "name": "feedback",
         "rawType": "float64",
         "type": "float"
        },
        {
         "name": "profit",
         "rawType": "float64",
         "type": "float"
        }
       ],
       "ref": "11d5b533-9046-41f4-8505-aec4b33fbb80",
       "rows": [
        [
         "0",
         "rental",
         "1",
         "0.7949657371702907",
         "25.70115546788748",
         "0.0",
         "-1.096921853680225"
        ],
        [
         "1",
         "rental",
         "2",
         "33.49937561866409",
         "10.797388107091603",
         "0.0",
         "-0.9214326153583761"
        ],
        [
         "2",
         "rental",
         "3",
         "44.32791007264934",
         "53.085223832880416",
         "0.0",
         "-0.735886304507676"
        ],
        [
         "3",
         "rental",
         "4",
         "109.31733698680573",
         "6.28926928940099",
         "0.0",
         "-0.6013213315327288"
        ],
        [
         "4",
         "rental",
         "5",
         "131.01164647433023",
         "5.6809466284115295",
         "0.0",
         "-0.6326586326485133"
        ],
        [
         "5",
         "price_rejection",
         "6",
         "141.91523906779258",
         null,
         null,
         "-1.6559226132501021"
        ],
        [
         "6",
         "price_rejection",
         "7",
         "150.691904994771",
         null,
         null,
         "-1.5244156775943054"
        ],
        [
         "7",
         "rental",
         "8",
         "151.95199958881315",
         "1.9469700301178605",
         "0.0",
         "-0.5078097070872034"
        ],
        [
         "8",
         "rental",
         "9",
         "156.56015884557834",
         "0.9763524881322094",
         "0.0",
         "-0.6504621420860823"
        ],
        [
         "9",
         "rental",
         "10",
         "157.85430729971566",
         "0.8157324212945632",
         "1.0",
         "-0.5023060447527739"
        ],
        [
         "10",
         "rental",
         "11",
         "162.21127034705464",
         "13.402598946002861",
         "0.0",
         "-0.35980003546129224"
        ],
        [
         "11",
         "rental",
         "12",
         "187.0851758029671",
         "2.385361641003625",
         "0.0",
         "-0.4273585648725382"
        ],
        [
         "12",
         "price_rejection",
         "13",
         "201.86272751260054",
         null,
         null,
         "-1.849453065828861"
        ],
        [
         "13",
         "price_rejection",
         "14",
         "212.19405556990066",
         null,
         null,
         "-1.829745669629009"
        ],
        [
         "14",
         "rental",
         "15",
         "228.33001887169667",
         "9.460106872052851",
         "1.0",
         "-0.4258791199873746"
        ],
        [
         "15",
         "price_rejection",
         "16",
         "241.14537422163406",
         null,
         null,
         "-1.373360423662612"
        ],
        [
         "16",
         "price_rejection",
         "17",
         "254.28723496895086",
         null,
         null,
         "-1.846424197175042"
        ],
        [
         "17",
         "rental",
         "18",
         "272.4747287727853",
         "28.090381711150556",
         "0.0",
         "-0.5242648412374078"
        ],
        [
         "18",
         "price_rejection",
         "19",
         "303.6310555034505",
         null,
         null,
         "-1.9291439867517628"
        ],
        [
         "19",
         "rental",
         "20",
         "312.7811259007117",
         "6.976381443754953",
         "0.0",
         "-0.4474560500427347"
        ],
        [
         "20",
         "rental",
         "21",
         "320.24901244366436",
         "2.75357660433092",
         "0.0",
         "-0.7187068225492963"
        ],
        [
         "21",
         "rental",
         "22",
         "326.10869904526214",
         "7.804802211441936",
         "0.0",
         "-0.42515876282251197"
        ],
        [
         "22",
         "price_rejection",
         "23",
         "344.5964389500548",
         null,
         null,
         "-1.9252357846613686"
        ],
        [
         "23",
         "rental",
         "24",
         "346.41696573242393",
         "25.545872887149965",
         "1.0",
         "-0.31910002980862073"
        ],
        [
         "24",
         "rental",
         "25",
         "374.2420657256464",
         "28.374305404192114",
         "0.0",
         "-0.7634581289212785"
        ],
        [
         "25",
         "rental",
         "26",
         "403.3774705148742",
         "7.651245409803071",
         "0.0",
         "-0.83905436066327"
        ],
        [
         "26",
         "rental",
         "27",
         "421.19661955346623",
         "2.30959944219695",
         "0.0",
         "-0.7525426997666003"
        ],
        [
         "27",
         "rental",
         "28",
         "425.29357736355666",
         "35.153194539015374",
         "0.0",
         "-0.5773876755320771"
        ],
        [
         "28",
         "price_rejection",
         "29",
         "471.31277589527156",
         null,
         null,
         "-1.8452080413445597"
        ],
        [
         "29",
         "rental",
         "30",
         "472.68395823045654",
         "10.085160164803934",
         "0.0",
         "-0.5137919874534974"
        ],
        [
         "30",
         "price_rejection",
         "31",
         "488.6623006087134",
         null,
         null,
         "-1.628182599716515"
        ],
        [
         "31",
         "price_rejection",
         "32",
         "492.6568292531621",
         null,
         null,
         "-1.9357182856309236"
        ],
        [
         "32",
         "rental",
         "33",
         "493.222238005047",
         "7.182061755299806",
         "0.0",
         "-0.6201188290518866"
        ],
        [
         "33",
         "rental",
         "1",
         "510.3947069002998",
         "11.254818778098247",
         "0.0",
         "0.5481732116025868"
        ],
        [
         "34",
         "rental",
         "2",
         "531.7425987941233",
         "1.1394328087002332",
         "1.0",
         "0.3340133865698985"
        ],
        [
         "35",
         "rental",
         "3",
         "536.0438380663551",
         "36.80281647685846",
         "0.0",
         "0.7792784227932158"
        ],
        [
         "36",
         "rental",
         "4",
         "573.927885636395",
         "14.057604178349399",
         "0.0",
         "0.5902939504836208"
        ],
        [
         "37",
         "rental",
         "5",
         "593.7239127800057",
         "3.2066878491523356",
         "0.0",
         "0.7916120048127238"
        ],
        [
         "38",
         "rental",
         "6",
         "598.6047685890011",
         "2.214396780106023",
         "0.0",
         "0.5958187493461091"
        ],
        [
         "39",
         "rental",
         "7",
         "605.5106273583975",
         "11.847418993674284",
         "0.0",
         "0.3899572107777382"
        ],
        [
         "40",
         "rental",
         "8",
         "618.9161744764705",
         "15.572096241548579",
         "0.0",
         "0.7153606233479621"
        ],
        [
         "41",
         "rental",
         "9",
         "636.079135335478",
         "29.33902540416929",
         "1.0",
         "0.5993047752980153"
        ],
        [
         "42",
         "rental",
         "10",
         "668.8493766033522",
         "13.950067441541101",
         "0.0",
         "0.4679977465719558"
        ],
        [
         "43",
         "rental",
         "11",
         "691.1668090823599",
         "14.93294471634995",
         "0.0",
         "0.3160210312252559"
        ],
        [
         "44",
         "rental",
         "12",
         "708.1770712465452",
         "17.070427469362237",
         "0.0",
         "0.5601495134242817"
        ],
        [
         "45",
         "rental",
         "13",
         "728.2914893920087",
         "16.043566874058182",
         "0.0",
         "0.7601784013883492"
        ],
        [
         "46",
         "rental",
         "14",
         "757.0061532432662",
         "8.945362608388788",
         "0.0",
         "0.7798899444194086"
        ],
        [
         "47",
         "rental",
         "15",
         "768.1714971118106",
         "16.019737244224586",
         "0.0",
         "0.32639074996136447"
        ],
        [
         "48",
         "rental",
         "16",
         "784.880000878509",
         "30.017789673379554",
         "0.0",
         "0.3091862637078663"
        ],
        [
         "49",
         "rental",
         "17",
         "844.1095245497331",
         "2.3499288518990684",
         "0.0",
         "0.4898572632713968"
        ]
       ],
       "shape": {
        "columns": 6,
        "rows": 2133
       }
      },
      "text/html": [
       "<div>\n",
       "<style scoped>\n",
       "    .dataframe tbody tr th:only-of-type {\n",
       "        vertical-align: middle;\n",
       "    }\n",
       "\n",
       "    .dataframe tbody tr th {\n",
       "        vertical-align: top;\n",
       "    }\n",
       "\n",
       "    .dataframe thead th {\n",
       "        text-align: right;\n",
       "    }\n",
       "</style>\n",
       "<table border=\"1\" class=\"dataframe\">\n",
       "  <thead>\n",
       "    <tr style=\"text-align: right;\">\n",
       "      <th></th>\n",
       "      <th>event_type</th>\n",
       "      <th>customer_id</th>\n",
       "      <th>calendar_time</th>\n",
       "      <th>observed_duration</th>\n",
       "      <th>feedback</th>\n",
       "      <th>profit</th>\n",
       "    </tr>\n",
       "  </thead>\n",
       "  <tbody>\n",
       "    <tr>\n",
       "      <th>0</th>\n",
       "      <td>rental</td>\n",
       "      <td>1</td>\n",
       "      <td>0.794966</td>\n",
       "      <td>25.701155</td>\n",
       "      <td>0.0</td>\n",
       "      <td>-1.096922</td>\n",
       "    </tr>\n",
       "    <tr>\n",
       "      <th>1</th>\n",
       "      <td>rental</td>\n",
       "      <td>2</td>\n",
       "      <td>33.499376</td>\n",
       "      <td>10.797388</td>\n",
       "      <td>0.0</td>\n",
       "      <td>-0.921433</td>\n",
       "    </tr>\n",
       "    <tr>\n",
       "      <th>2</th>\n",
       "      <td>rental</td>\n",
       "      <td>3</td>\n",
       "      <td>44.327910</td>\n",
       "      <td>53.085224</td>\n",
       "      <td>0.0</td>\n",
       "      <td>-0.735886</td>\n",
       "    </tr>\n",
       "    <tr>\n",
       "      <th>3</th>\n",
       "      <td>rental</td>\n",
       "      <td>4</td>\n",
       "      <td>109.317337</td>\n",
       "      <td>6.289269</td>\n",
       "      <td>0.0</td>\n",
       "      <td>-0.601321</td>\n",
       "    </tr>\n",
       "    <tr>\n",
       "      <th>4</th>\n",
       "      <td>rental</td>\n",
       "      <td>5</td>\n",
       "      <td>131.011646</td>\n",
       "      <td>5.680947</td>\n",
       "      <td>0.0</td>\n",
       "      <td>-0.632659</td>\n",
       "    </tr>\n",
       "    <tr>\n",
       "      <th>...</th>\n",
       "      <td>...</td>\n",
       "      <td>...</td>\n",
       "      <td>...</td>\n",
       "      <td>...</td>\n",
       "      <td>...</td>\n",
       "      <td>...</td>\n",
       "    </tr>\n",
       "    <tr>\n",
       "      <th>2128</th>\n",
       "      <td>price_rejection</td>\n",
       "      <td>1996</td>\n",
       "      <td>14033.500283</td>\n",
       "      <td>NaN</td>\n",
       "      <td>NaN</td>\n",
       "      <td>0.000000</td>\n",
       "    </tr>\n",
       "    <tr>\n",
       "      <th>2129</th>\n",
       "      <td>price_rejection</td>\n",
       "      <td>1997</td>\n",
       "      <td>14035.996758</td>\n",
       "      <td>NaN</td>\n",
       "      <td>NaN</td>\n",
       "      <td>0.000000</td>\n",
       "    </tr>\n",
       "    <tr>\n",
       "      <th>2130</th>\n",
       "      <td>price_rejection</td>\n",
       "      <td>1998</td>\n",
       "      <td>14039.682561</td>\n",
       "      <td>NaN</td>\n",
       "      <td>NaN</td>\n",
       "      <td>0.000000</td>\n",
       "    </tr>\n",
       "    <tr>\n",
       "      <th>2131</th>\n",
       "      <td>price_rejection</td>\n",
       "      <td>1999</td>\n",
       "      <td>14041.112777</td>\n",
       "      <td>NaN</td>\n",
       "      <td>NaN</td>\n",
       "      <td>0.000000</td>\n",
       "    </tr>\n",
       "    <tr>\n",
       "      <th>2132</th>\n",
       "      <td>price_rejection</td>\n",
       "      <td>2000</td>\n",
       "      <td>14048.358981</td>\n",
       "      <td>NaN</td>\n",
       "      <td>NaN</td>\n",
       "      <td>0.000000</td>\n",
       "    </tr>\n",
       "  </tbody>\n",
       "</table>\n",
       "<p>2133 rows × 6 columns</p>\n",
       "</div>"
      ],
      "text/plain": [
       "           event_type  customer_id  calendar_time  observed_duration  \\\n",
       "0              rental            1       0.794966          25.701155   \n",
       "1              rental            2      33.499376          10.797388   \n",
       "2              rental            3      44.327910          53.085224   \n",
       "3              rental            4     109.317337           6.289269   \n",
       "4              rental            5     131.011646           5.680947   \n",
       "...               ...          ...            ...                ...   \n",
       "2128  price_rejection         1996   14033.500283                NaN   \n",
       "2129  price_rejection         1997   14035.996758                NaN   \n",
       "2130  price_rejection         1998   14039.682561                NaN   \n",
       "2131  price_rejection         1999   14041.112777                NaN   \n",
       "2132  price_rejection         2000   14048.358981                NaN   \n",
       "\n",
       "      feedback    profit  \n",
       "0          0.0 -1.096922  \n",
       "1          0.0 -0.921433  \n",
       "2          0.0 -0.735886  \n",
       "3          0.0 -0.601321  \n",
       "4          0.0 -0.632659  \n",
       "...        ...       ...  \n",
       "2128       NaN  0.000000  \n",
       "2129       NaN  0.000000  \n",
       "2130       NaN  0.000000  \n",
       "2131       NaN  0.000000  \n",
       "2132       NaN  0.000000  \n",
       "\n",
       "[2133 rows x 6 columns]"
      ]
     },
     "execution_count": 17,
     "metadata": {},
     "output_type": "execute_result"
    }
   ],
   "source": [
    "df"
   ]
  },
  {
   "cell_type": "code",
   "execution_count": null,
   "id": "3418efa1",
   "metadata": {},
   "outputs": [],
   "source": [
    "df[df.event_type == 'rental'].profit.mean(), df[df.event_type == 'rental'].profit.std()"
   ]
  },
  {
   "cell_type": "code",
   "execution_count": null,
   "id": "126debf0",
   "metadata": {},
   "outputs": [],
   "source": [
    "df.feedback.value_counts()"
   ]
  },
  {
   "cell_type": "markdown",
   "id": "4086d1ae",
   "metadata": {},
   "source": [
    "## Estimating $\\theta$"
   ]
  },
  {
   "cell_type": "code",
   "execution_count": null,
   "id": "475df2ed",
   "metadata": {},
   "outputs": [],
   "source": [
    "degradation_learner = DegradationLearner(d=D, initial_theta=np.zeros(D))\n",
    "\n",
    "degradation_learner.fit(df)\n",
    "degradation_learner.get_theta()"
   ]
  },
  {
   "cell_type": "code",
   "execution_count": null,
   "id": "1f0da177",
   "metadata": {},
   "outputs": [],
   "source": [
    "from policy import DPAgent"
   ]
  },
  {
   "cell_type": "code",
   "execution_count": null,
   "id": "190bfd95",
   "metadata": {},
   "outputs": [],
   "source": [
    "mdp_params = {\n",
    "    'replacement_cost': 1.5,   # Cost to replace the machine\n",
    "    'failure_cost': 0.75,      # Additional penalty for in-service failure\n",
    "    'holding_cost_rate': 0.02,   # Cost per unit of idle time\n",
    "    'gamma': 0.999,             # Discount factor\n",
    "    'learning_rate': 1e-4,      # Learning rate for the Adam optimizer\n",
    "    'target_update_freq': 10    # How often to update the target network (in iterations)\n",
    "}\n",
    "\n",
    "# Training Hyperparameters\n",
    "TRAINING_ITERATIONS = 100\n",
    "DATASET_SIZE = 50000          # Number of transitions to generate for the offline dataset\n",
    "BATCH_SIZE = 256\n",
    "\n",
    "u_hat = simulator.centroids[-1]\n"
   ]
  },
  {
   "cell_type": "code",
   "execution_count": null,
   "id": "22317754",
   "metadata": {},
   "outputs": [],
   "source": [
    "dp_agent = DPAgent(\n",
    "    d=D,\n",
    "    u_hat=u_hat,\n",
    "    degradation_learner=degradation_learner,\n",
    "    customer_generator=customer_gen,\n",
    "    params=mdp_params\n",
    ")"
   ]
  },
  {
   "cell_type": "code",
   "execution_count": null,
   "id": "2264eba3",
   "metadata": {},
   "outputs": [],
   "source": [
    "# Train the agent\n",
    "dp_agent.train(\n",
    "    num_iterations=TRAINING_ITERATIONS,\n",
    "    dataset_size=DATASET_SIZE,\n",
    "    batch_size=BATCH_SIZE\n",
    ")"
   ]
  },
  {
   "cell_type": "code",
   "execution_count": null,
   "id": "0de2fa0d",
   "metadata": {},
   "outputs": [],
   "source": [
    "optimal_policy = dp_agent.get_policy()"
   ]
  },
  {
   "cell_type": "code",
   "execution_count": null,
   "id": "8973055c",
   "metadata": {},
   "outputs": [],
   "source": [
    "i = 50\n",
    "\n",
    "X_i = df.loc[i, 'sum_of_contexts_after']\n",
    "I_i = 3 # df.loc[i, '']\n",
    "x_i = df.loc[i+1, 'customer_context']\n",
    "T_i = df.loc[i+1, 'rental_duration']\n",
    "\n",
    "arrival_state = np.concatenate([\n",
    "    X_i,\n",
    "    x_i,\n",
    "    [T_i, I_i, 0.0]\n",
    "])\n",
    "action_arrival = optimal_policy(arrival_state)\n",
    "action_map = {0: 'Give Max Acceptable Price', 1: 'Shutdown'}\n",
    "print(f\"Sample Arrival State. Optimal Action: {action_map[action_arrival]}\")\n"
   ]
  },
  {
   "cell_type": "code",
   "execution_count": null,
   "id": "881e654f",
   "metadata": {},
   "outputs": [],
   "source": [
    "# Test Case 2: Departure State\n",
    "departure_state = np.concatenate([\n",
    "    X_i+x_i*10, \n",
    "    np.zeros(D), \n",
    "    [0.0, I_i, 1.0]\n",
    "])\n",
    "action_departure = optimal_policy(departure_state)\n",
    "action_map = {2: 'Replace Machine', 3: 'Do Not Replace'}\n",
    "print(f\"Sample Departure State. Optimal Action: {action_map[action_departure]}\")\n"
   ]
  }
 ],
 "metadata": {
  "kernelspec": {
   "display_name": "res",
   "language": "python",
   "name": "python3"
  },
  "language_info": {
   "codemirror_mode": {
    "name": "ipython",
    "version": 3
   },
   "file_extension": ".py",
   "mimetype": "text/x-python",
   "name": "python",
   "nbconvert_exporter": "python",
   "pygments_lexer": "ipython3",
   "version": "3.9.20"
  }
 },
 "nbformat": 4,
 "nbformat_minor": 5
}
