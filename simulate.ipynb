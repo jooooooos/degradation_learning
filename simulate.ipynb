{
 "cells": [
  {
   "cell_type": "code",
   "execution_count": 1,
   "id": "f1bf8ff4",
   "metadata": {},
   "outputs": [],
   "source": [
    "import pickle\n",
    "import numpy as np\n",
    "import pandas as pd\n",
    "from scipy.optimize import minimize\n",
    "import torch\n",
    "\n",
    "from policy import DPAgent\n",
    "from simulation import Simulator, CustomerGenerator\n",
    "from hazard_models import ExponentialHazard\n",
    "from utility_learner import ProjectedVolumeLearner, diam\n",
    "from degradation_learner import DegradationLearner\n",
    "\n",
    "from utils import unit_ball_rejection_sample, correct_signs\n",
    "import matplotlib.pyplot as plt\n",
    "from scipy.stats import gaussian_kde\n",
    "\n",
    "import logging\n",
    "logging.basicConfig(level=logging.INFO)\n",
    "\n",
    "np.set_printoptions(suppress=True)"
   ]
  },
  {
   "cell_type": "code",
   "execution_count": 2,
   "id": "52e08dea",
   "metadata": {},
   "outputs": [],
   "source": [
    "# --- 2. Define Sampling Functions ---\n",
    "# def context_sampler() -> np.ndarray:\n",
    "#     \"\"\"Samples a customer's context vector from a uniform distribution.\"\"\"\n",
    "#     return np.random.uniform(low=0.0, high=1.0, size=D)\n",
    "\n",
    "def context_sampler() -> np.ndarray:\n",
    "    \"\"\"Samples a customer's context vector uniformly from the unit ball.\"\"\"\n",
    "    return np.abs(unit_ball_rejection_sample(D))\n",
    "\n",
    "def rental_sampler() -> float:\n",
    "    \"\"\"Samples a customer's desired rental duration from an exponential distribution.\"\"\"\n",
    "    return np.random.exponential(scale=10.0)\n",
    "\n",
    "def interarrival_sampler() -> float:\n",
    "    \"\"\"Samples the time until the next customer arrives.\"\"\"\n",
    "    return np.random.exponential(scale=5.0)"
   ]
  },
  {
   "cell_type": "code",
   "execution_count": 3,
   "id": "8cc2c2dd",
   "metadata": {},
   "outputs": [],
   "source": [
    "# --- 1. Simulation Configuration ---\n",
    "D = 4                                  # Dimension of context vectors\n",
    "LAMBDA_VAL = 0.001                     # Baseline hazard constant\n",
    "NUM_CUSTOMERS = 20000                   # Total number of customers to simulate, i.e. T\n",
    "\n",
    "# Set a random seed for reproducibility\n",
    "np.random.seed(41)\n",
    "\n",
    "# Ground truth vectors\n",
    "THETA_TRUE = np.array([0.5, 0.2, 0.1, 0.3])#$, 0.4])    # For degradation\n",
    "UTILITY_TRUE = context_sampler()  # For customer's willingness to pay\n",
    "\n",
    "# --- Machine's Pricing Vector 'r' ---\n",
    "# This is a fallback pricing vector, when we don't feed u_hat to calculate_price\n",
    "PRICING_R = np.zeros(D)"
   ]
  },
  {
   "cell_type": "code",
   "execution_count": 7,
   "id": "8e600551",
   "metadata": {},
   "outputs": [],
   "source": [
    "usage_exp_hazard_model = ExponentialHazard(lambda_val=LAMBDA_VAL)\n",
    "# spontaneous_exp_hazard_model = None # ExponentialHazard(lambda_val=0.01)\n",
    "\n",
    "customer_gen = CustomerGenerator(\n",
    "    d=D,\n",
    "    context_sampler=context_sampler,\n",
    "    rental_sampler=rental_sampler,\n",
    "    interarrival_sampler=interarrival_sampler\n",
    ")\n",
    "\n",
    "centroid_params = {\n",
    "    # 'num_samples': 2000,\n",
    "    # 'thin': None,\n",
    "    # 'burn_in': 500 * D ** 2,\n",
    "    # 'tol': 1e-4,\n",
    "    # 'rho_target': 0.01\n",
    "}\n",
    "\n",
    "termination_rule = lambda diameter: diameter < 0.0001  # Example custom termination rule\n",
    "\n",
    "projected_volume_learner = ProjectedVolumeLearner(\n",
    "    T=NUM_CUSTOMERS, \n",
    "    d=D, \n",
    "    centroid_params=centroid_params,\n",
    "    incentive_constant=1.1,\n",
    "    termination_rule=termination_rule,\n",
    ")\n",
    "\n",
    "mdp_params = {\n",
    "    'replacement_cost': 1.5,   # Cost to replace the machine\n",
    "    'failure_cost': 0.75,      # Additional penalty for in-service failure\n",
    "    'holding_cost_rate': 0.02,   # Cost per unit of idle time\n",
    "    'gamma': 0.99,             # Discount factor\n",
    "    'learning_rate': 1e-3,      # Learning rate for the Adam optimizer\n",
    "    'target_update_freq': 10    # How often to update the target network (in iterations)\n",
    "}\n",
    "\n",
    "training_hyperparams = {\n",
    "    'num_iterations': 50, # Number of training iterations per policy update\n",
    "    'dataset_size': 50000,      # Number of transitions to generate for the offline dataset\n",
    "    'batch_size': 2048           # Batch size for training\n",
    "}\n",
    "\n",
    "policy_params = {\n",
    "    'type': 'softmax',\n",
    "    'tau': 1.0,\n",
    "    'epsilon': 0.1,\n",
    "}\n",
    "\n",
    "# Instantiate the Simulator with the new parameters\n",
    "simulator = Simulator(\n",
    "    d=D,\n",
    "    T=NUM_CUSTOMERS,\n",
    "    \n",
    "    theta_true=THETA_TRUE,\n",
    "    utility_true=UTILITY_TRUE,\n",
    "    pricing_r=PRICING_R,\n",
    "    \n",
    "    usage_hazard_model=usage_exp_hazard_model,\n",
    "    customer_generator=customer_gen,\n",
    "    projected_volume_learner=projected_volume_learner,  # Use default ProjectedVolumeLearner\n",
    "    \n",
    "    mdp_params=mdp_params,\n",
    "    training_hyperparams=training_hyperparams,\n",
    "    policy_params=policy_params,\n",
    "    policy_update_threshold=5,\n",
    "    time_normalize=True,\n",
    ")"
   ]
  },
  {
   "cell_type": "code",
   "execution_count": 10,
   "id": "3a87fd40",
   "metadata": {},
   "outputs": [
    {
     "data": {
      "text/plain": [
       "array([0.12450167, 0.10850869, 0.43930126, 0.71356037])"
      ]
     },
     "execution_count": 10,
     "metadata": {},
     "output_type": "execute_result"
    }
   ],
   "source": [
    "UTILITY_TRUE"
   ]
  },
  {
   "cell_type": "code",
   "execution_count": null,
   "id": "83cdc5cd",
   "metadata": {},
   "outputs": [],
   "source": []
  },
  {
   "cell_type": "code",
   "execution_count": 22,
   "id": "628dd0f7",
   "metadata": {},
   "outputs": [
    {
     "data": {
      "image/png": "[encoded data removed]",
      "text/plain": [
       "<Figure size 1200x600 with 1 Axes>"
      ]
     },
     "metadata": {},
     "output_type": "display_data"
    }
   ],
   "source": [
    "simulator.utility_updates\n",
    "\n",
    "# plot L2, and L-inf norms of utility updates\n",
    "L2_errors = [np.linalg.norm(update['u_hat'] - UTILITY_TRUE) for update in simulator.utility_updates]\n",
    "Linf_errors = [np.linalg.norm(update['u_hat'] - UTILITY_TRUE, ord=np.inf) for update in simulator.utility_updates]\n",
    "\n",
    "plt.figure(figsize=(12, 6))\n",
    "plt.plot(L2_errors, label='$L_2$ Norm Error', marker='o')\n",
    "plt.plot(Linf_errors, label='$L_\\infty$ Norm Error', marker='x')\n",
    "# plt.yscale('log')\n",
    "plt.xlabel('Number of Customers Processed', fontsize=14)\n",
    "plt.ylabel('Error Norm', fontsize=14)\n",
    "\n",
    "plt.title('Convergence of $\\|\\hat u - u\\|$', fontsize=18)\n",
    "plt.legend(fontsize=12)\n",
    "plt.grid(True)\n",
    "plt.savefig('figures/utility_convergence.pdf')\n",
    "plt.show()"
   ]
  },
  {
   "cell_type": "code",
   "execution_count": 8,
   "id": "6288559c",
   "metadata": {},
   "outputs": [
    {
     "name": "stderr",
     "output_type": "stream",
     "text": [
      "INFO:root:Starting simulation for 20000 customers...\n",
      "  0%|          | 0/20000 [00:00<?, ?it/s]INFO:root:Customer 1: Diameter: 0.9884\n",
      "  0%|          | 1/20000 [00:06<34:50:53,  6.27s/it]INFO:root:Customer 2: Diameter: 0.7828\n",
      "  0%|          | 2/20000 [00:13<38:06:05,  6.86s/it]INFO:root:Customer 3: Diameter: 0.6376\n",
      "  0%|          | 3/20000 [00:21<41:00:59,  7.38s/it]INFO:root:Customer 4: Diameter: 0.5900\n",
      "  0%|          | 4/20000 [00:30<44:02:43,  7.93s/it]INFO:root:Customer 5: Diameter: 0.5694\n",
      "  0%|          | 5/20000 [00:40<48:18:54,  8.70s/it]INFO:root:Customer 6: Diameter: 0.3406\n",
      "  0%|          | 6/20000 [00:51<52:43:03,  9.49s/it]INFO:root:Customer 7: Diameter: 0.2370\n",
      "  0%|          | 7/20000 [01:03<57:18:27, 10.32s/it]INFO:root:Customer 8: Diameter: 0.4829\n",
      "  0%|          | 8/20000 [01:15<60:57:32, 10.98s/it]INFO:root:Customer 9: Diameter: 0.1942\n",
      "  0%|          | 9/20000 [01:28<63:48:52, 11.49s/it]INFO:root:Customer 10: Diameter: 0.1144\n",
      "  0%|          | 10/20000 [01:41<67:17:17, 12.12s/it]INFO:root:Customer 11: Diameter: 0.1846\n",
      "  0%|          | 11/20000 [01:56<70:39:28, 12.73s/it]INFO:root:Customer 12: Diameter: 0.2440\n",
      "  0%|          | 12/20000 [02:10<73:56:12, 13.32s/it]INFO:root:Customer 13: Diameter: 0.1568\n",
      "  0%|          | 13/20000 [02:26<77:39:07, 13.99s/it]INFO:root:Customer 14: Diameter: 0.1567\n",
      "  0%|          | 14/20000 [02:42<81:35:03, 14.70s/it]INFO:root:Customer 15: Diameter: 0.2055\n",
      "  0%|          | 15/20000 [03:00<86:25:42, 15.57s/it]INFO:root:Customer 16: Diameter: 0.1152\n",
      "  0%|          | 16/20000 [03:18<90:51:25, 16.37s/it]INFO:root:Customer 17: Diameter: 0.1793\n",
      "  0%|          | 17/20000 [03:37<94:58:46, 17.11s/it]INFO:root:Customer 18: Diameter: 0.0493\n",
      "  0%|          | 18/20000 [03:57<100:42:23, 18.14s/it]INFO:root:Customer 19: Diameter: 0.0651\n",
      "  0%|          | 19/20000 [04:20<108:02:03, 19.46s/it]INFO:root:Customer 20: Diameter: 0.0509\n",
      "  0%|          | 20/20000 [04:43<113:36:22, 20.47s/it]INFO:root:Customer 21: Diameter: 0.0355\n",
      "  0%|          | 21/20000 [05:05<116:10:14, 20.93s/it]INFO:root:Customer 22: Diameter: 0.0193\n",
      "  0%|          | 22/20000 [05:27<119:09:50, 21.47s/it]INFO:root:Customer 23: Diameter: 0.0184\n",
      "  0%|          | 23/20000 [05:52<123:52:43, 22.32s/it]INFO:root:Customer 24: Diameter: 0.0219\n",
      "  0%|          | 24/20000 [06:17<128:21:25, 23.13s/it]INFO:root:Customer 25: Diameter: 0.0089\n",
      "  0%|          | 25/20000 [06:43<133:12:58, 24.01s/it]INFO:root:Customer 26: Diameter: 0.0338\n",
      "  0%|          | 26/20000 [07:10<137:46:06, 24.83s/it]INFO:root:Customer 27: Diameter: 0.0200\n",
      "  0%|          | 27/20000 [07:36<139:54:03, 25.22s/it]INFO:root:Customer 28: Diameter: 0.0057\n",
      "  0%|          | 28/20000 [08:02<142:32:57, 25.69s/it]INFO:root:Customer 29: Diameter: 0.0089\n",
      "  0%|          | 29/20000 [08:30<145:15:34, 26.18s/it]INFO:root:Customer 30: Diameter: 0.0179\n",
      "  0%|          | 30/20000 [08:58<148:03:27, 26.69s/it]INFO:root:Customer 31: Diameter: 0.0070\n",
      "  0%|          | 31/20000 [09:28<153:52:50, 27.74s/it]INFO:root:Customer 32: Diameter: 0.0079\n",
      "  0%|          | 32/20000 [10:00<160:27:24, 28.93s/it]INFO:root:Customer 33: Diameter: 0.0030\n",
      "  0%|          | 33/20000 [10:31<164:57:44, 29.74s/it]INFO:root:Customer 34: Diameter: 0.0044\n",
      "  0%|          | 34/20000 [11:02<166:52:34, 30.09s/it]INFO:root:Customer 35: Diameter: 0.0025\n",
      "  0%|          | 35/20000 [11:35<171:32:08, 30.93s/it]INFO:root:Customer 36: Diameter: 0.0036\n",
      "  0%|          | 36/20000 [12:09<177:09:43, 31.95s/it]INFO:root:Customer 37: Diameter: 0.0023\n",
      "  0%|          | 37/20000 [12:45<182:44:55, 32.96s/it]INFO:root:Customer 38: Diameter: 0.0024\n",
      "  0%|          | 38/20000 [13:19<184:53:09, 33.34s/it]INFO:root:Customer 39: Diameter: 0.0019\n",
      "  0%|          | 39/20000 [13:53<186:25:46, 33.62s/it]INFO:root:Customer 40: Diameter: 0.0018\n",
      "  0%|          | 40/20000 [14:27<187:31:38, 33.82s/it]INFO:root:Customer 41: Diameter: 0.0007\n",
      "  0%|          | 41/20000 [15:03<190:22:13, 34.34s/it]INFO:root:Customer 42: Diameter: 0.0014\n",
      "  0%|          | 42/20000 [15:41<196:32:49, 35.45s/it]INFO:root:Customer 43: Diameter: 0.0012\n",
      "  0%|          | 43/20000 [16:18<198:24:26, 35.79s/it]INFO:root:Customer 44: Diameter: 0.0006\n",
      "  0%|          | 44/20000 [16:56<202:22:22, 36.51s/it]INFO:root:Customer 45: Diameter: 0.0004\n",
      "  0%|          | 45/20000 [17:34<205:11:13, 37.02s/it]INFO:root:Customer 46: Diameter: 0.0005\n",
      "  0%|          | 46/20000 [18:14<210:55:14, 38.05s/it]WARNING:root:Degenerate step in hit-and-run; skipping sample.\n",
      "INFO:root:Customer 47: Diameter: 0.0005\n",
      "  0%|          | 47/20000 [18:55<215:41:22, 38.92s/it]INFO:root:Customer 48: Diameter: 0.0002\n",
      "  0%|          | 48/20000 [19:36<218:38:32, 39.45s/it]INFO:root:Customer 49: Diameter: 0.0004\n",
      "  0%|          | 49/20000 [20:16<219:48:10, 39.66s/it]WARNING:root:Degenerate step in hit-and-run; skipping sample.\n",
      "WARNING:root:Degenerate step in hit-and-run; skipping sample.\n",
      "INFO:root:Customer 50: Diameter: 0.0001\n",
      "  0%|          | 50/20000 [20:57<220:56:42, 39.87s/it]INFO:root:Customer 51: Diameter: 0.0003\n",
      "  0%|          | 51/20000 [21:38<223:02:15, 40.25s/it]WARNING:root:Degenerate step in hit-and-run; skipping sample.\n",
      "INFO:root:Customer 52: Diameter: 0.0002\n",
      "  0%|          | 52/20000 [22:20<225:50:51, 40.76s/it]WARNING:root:Degenerate step in hit-and-run; skipping sample.\n",
      "WARNING:root:Degenerate step in hit-and-run; skipping sample.\n",
      "WARNING:root:Degenerate step in hit-and-run; skipping sample.\n",
      "WARNING:root:Degenerate step in hit-and-run; skipping sample.\n",
      "WARNING:root:Degenerate step in hit-and-run; skipping sample.\n",
      "WARNING:root:Degenerate step in hit-and-run; skipping sample.\n",
      "WARNING:root:Degenerate step in hit-and-run; skipping sample.\n",
      "WARNING:root:Degenerate step in hit-and-run; skipping sample.\n",
      "WARNING:root:Degenerate step in hit-and-run; skipping sample.\n",
      "WARNING:root:Degenerate step in hit-and-run; skipping sample.\n",
      "WARNING:root:Degenerate step in hit-and-run; skipping sample.\n",
      "WARNING:root:Degenerate step in hit-and-run; skipping sample.\n",
      "INFO:root:Customer 53: Diameter: 0.0002\n",
      "  0%|          | 53/20000 [23:03<230:37:33, 41.62s/it]WARNING:root:Degenerate step in hit-and-run; skipping sample.\n",
      "WARNING:root:Degenerate step in hit-and-run; skipping sample.\n",
      "WARNING:root:Degenerate step in hit-and-run; skipping sample.\n",
      "WARNING:root:Degenerate step in hit-and-run; skipping sample.\n",
      "WARNING:root:Degenerate step in hit-and-run; skipping sample.\n",
      "WARNING:root:Degenerate step in hit-and-run; skipping sample.\n",
      "WARNING:root:Degenerate step in hit-and-run; skipping sample.\n",
      "WARNING:root:Degenerate step in hit-and-run; skipping sample.\n",
      "WARNING:root:Degenerate step in hit-and-run; skipping sample.\n",
      "INFO:root:Customer 54: Diameter: 0.0002\n",
      "  0%|          | 54/20000 [23:47<234:41:12, 42.36s/it]WARNING:root:Degenerate step in hit-and-run; skipping sample.\n",
      "WARNING:root:Degenerate step in hit-and-run; skipping sample.\n",
      "WARNING:root:Degenerate step in hit-and-run; skipping sample.\n",
      "INFO:root:Customer 55: Diameter: 0.0001\n",
      "  0%|          | 55/20000 [24:32<238:23:41, 43.03s/it]INFO:root:Exploration phase completed at customer 56.\n",
      "INFO:root:Updating optimal policy...\n",
      "INFO:root:Theta updated. New theta_hat: [0.    1.    0.667 1.   ]\n"
     ]
    },
    {
     "name": "stdout",
     "output_type": "stream",
     "text": [
      "RUNNING THE L-BFGS-B CODE\n",
      "\n",
      "           * * *\n",
      "\n",
      "Machine precision = 2.220D-16\n",
      " N =            4     M =           10\n",
      "\n",
      "At X0         4 variables are exactly at the bounds\n",
      "\n",
      "At iterate    0    f=  1.09861D+00    |proj g|=  7.51808D-01\n",
      "\n",
      "At iterate    1    f=  5.26910D-01    |proj g|=  2.67514D-01\n",
      "\n",
      "At iterate    2    f=  3.05592D-01    |proj g|=  4.82350D-02\n",
      "\n",
      "At iterate    3    f=  3.00394D-01    |proj g|=  3.39379D-02\n",
      "\n",
      "At iterate    4    f=  2.94887D-01    |proj g|=  3.42631D-03\n",
      "\n",
      "At iterate    5    f=  2.94825D-01    |proj g|=  2.75754D-04\n",
      "\n",
      "At iterate    6    f=  2.94824D-01    |proj g|=  2.46829D-06\n",
      "\n",
      "           * * *\n",
      "\n",
      "Tit   = total number of iterations\n",
      "Tnf   = total number of function evaluations\n",
      "Tnint = total number of segments explored during Cauchy searches\n",
      "Skip  = number of BFGS updates skipped\n",
      "Nact  = number of active bounds at final generalized Cauchy point\n",
      "Projg = norm of the final projected gradient\n",
      "F     = final function value\n",
      "\n",
      "           * * *\n",
      "\n",
      "   N    Tit     Tnf  Tnint  Skip  Nact     Projg        F\n",
      "    4      6      7      9     0     3   2.468D-06   2.948D-01\n",
      "  F =  0.29482434307336192     \n",
      "\n",
      "CONVERGENCE: NORM_OF_PROJECTED_GRADIENT_<=_PGTOL            \n",
      "Using device: cuda\n",
      "Generating 50000 experience samples...\n"
     ]
    },
    {
     "name": "stderr",
     "output_type": "stream",
     "text": [
      " 46%|████▌     | 23052/50000 [00:07<00:09, 2922.60it/s]\n",
      "  0%|          | 55/20000 [24:41<149:14:27, 26.94s/it]\n"
     ]
    },
    {
     "ename": "KeyboardInterrupt",
     "evalue": "",
     "output_type": "error",
     "traceback": [
      "\u001b[0;31m---------------------------------------------------------------------------\u001b[0m",
      "\u001b[0;31mKeyboardInterrupt\u001b[0m                         Traceback (most recent call last)",
      "Cell \u001b[0;32mIn[8], line 2\u001b[0m\n\u001b[1;32m      1\u001b[0m \u001b[38;5;66;03m# simulator.projected_volume_learner.is_terminated = True\u001b[39;00m\n\u001b[0;32m----> 2\u001b[0m simulation_data \u001b[38;5;241m=\u001b[39m \u001b[43msimulator\u001b[49m\u001b[38;5;241;43m.\u001b[39;49m\u001b[43mrun\u001b[49m\u001b[43m(\u001b[49m\u001b[43mnum_customers\u001b[49m\u001b[38;5;241;43m=\u001b[39;49m\u001b[43mNUM_CUSTOMERS\u001b[49m\u001b[43m)\u001b[49m\n\u001b[1;32m      3\u001b[0m degradation_df \u001b[38;5;241m=\u001b[39m pd\u001b[38;5;241m.\u001b[39mDataFrame(simulator\u001b[38;5;241m.\u001b[39mdegradation_history)\n\u001b[1;32m      4\u001b[0m simulation_df \u001b[38;5;241m=\u001b[39m pd\u001b[38;5;241m.\u001b[39mDataFrame(simulator\u001b[38;5;241m.\u001b[39mhistory)\n",
      "File \u001b[0;32m~/degradation_learning/simulation.py:216\u001b[0m, in \u001b[0;36mSimulator.run\u001b[0;34m(self, num_customers)\u001b[0m\n\u001b[1;32m    214\u001b[0m \u001b[38;5;28;01mif\u001b[39;00m \u001b[38;5;28mself\u001b[39m\u001b[38;5;241m.\u001b[39moptimal_policy \u001b[38;5;129;01mis\u001b[39;00m \u001b[38;5;28;01mNone\u001b[39;00m:\n\u001b[1;32m    215\u001b[0m     logging\u001b[38;5;241m.\u001b[39minfo(\u001b[38;5;124mf\u001b[39m\u001b[38;5;124m\"\u001b[39m\u001b[38;5;124mExploration phase completed at customer \u001b[39m\u001b[38;5;132;01m{\u001b[39;00mi\u001b[38;5;241m+\u001b[39m\u001b[38;5;241m1\u001b[39m\u001b[38;5;132;01m}\u001b[39;00m\u001b[38;5;124m.\u001b[39m\u001b[38;5;124m\"\u001b[39m)\n\u001b[0;32m--> 216\u001b[0m     \u001b[38;5;28;43mself\u001b[39;49m\u001b[38;5;241;43m.\u001b[39;49m\u001b[43m_update_policy\u001b[49m\u001b[43m(\u001b[49m\u001b[43mi\u001b[49m\u001b[38;5;241;43m+\u001b[39;49m\u001b[38;5;241;43m1\u001b[39;49m\u001b[43m)\u001b[49m \u001b[38;5;66;03m# First time policy setup\u001b[39;00m\n\u001b[1;32m    218\u001b[0m arrival_state \u001b[38;5;241m=\u001b[39m np\u001b[38;5;241m.\u001b[39mconcatenate([\n\u001b[1;32m    219\u001b[0m     X_before, \n\u001b[1;32m    220\u001b[0m     customer[\u001b[38;5;124m'\u001b[39m\u001b[38;5;124mcontext\u001b[39m\u001b[38;5;124m'\u001b[39m], \n\u001b[0;32m   (...)\u001b[0m\n\u001b[1;32m    223\u001b[0m     \u001b[38;5;241m0.0\u001b[39m]\n\u001b[1;32m    224\u001b[0m ])\n\u001b[1;32m    225\u001b[0m action \u001b[38;5;241m=\u001b[39m \u001b[38;5;28mself\u001b[39m\u001b[38;5;241m.\u001b[39moptimal_policy(arrival_state)\n",
      "File \u001b[0;32m~/degradation_learning/simulation.py:157\u001b[0m, in \u001b[0;36mSimulator._update_policy\u001b[0;34m(self, customer_idx)\u001b[0m\n\u001b[1;32m    148\u001b[0m u_hat \u001b[38;5;241m=\u001b[39m \u001b[38;5;28mself\u001b[39m\u001b[38;5;241m.\u001b[39mprojected_volume_learner\u001b[38;5;241m.\u001b[39mget_estimate()\n\u001b[1;32m    149\u001b[0m dp_agent \u001b[38;5;241m=\u001b[39m DPAgent(\n\u001b[1;32m    150\u001b[0m     d\u001b[38;5;241m=\u001b[39m\u001b[38;5;28mself\u001b[39m\u001b[38;5;241m.\u001b[39md,\n\u001b[1;32m    151\u001b[0m     u_hat\u001b[38;5;241m=\u001b[39mu_hat,\n\u001b[0;32m   (...)\u001b[0m\n\u001b[1;32m    155\u001b[0m     params\u001b[38;5;241m=\u001b[39m\u001b[38;5;28mself\u001b[39m\u001b[38;5;241m.\u001b[39mmdp_params\n\u001b[1;32m    156\u001b[0m )\n\u001b[0;32m--> 157\u001b[0m \u001b[43mdp_agent\u001b[49m\u001b[38;5;241;43m.\u001b[39;49m\u001b[43mtrain\u001b[49m\u001b[43m(\u001b[49m\u001b[38;5;241;43m*\u001b[39;49m\u001b[38;5;241;43m*\u001b[39;49m\u001b[38;5;28;43mself\u001b[39;49m\u001b[38;5;241;43m.\u001b[39;49m\u001b[43mtraining_hyperparams\u001b[49m\u001b[43m)\u001b[49m\n\u001b[1;32m    159\u001b[0m \u001b[38;5;28mself\u001b[39m\u001b[38;5;241m.\u001b[39mdp_agent \u001b[38;5;241m=\u001b[39m dp_agent\n\u001b[1;32m    160\u001b[0m \u001b[38;5;28mself\u001b[39m\u001b[38;5;241m.\u001b[39moptimal_policy \u001b[38;5;241m=\u001b[39m dp_agent\u001b[38;5;241m.\u001b[39mget_policy(\u001b[38;5;28mself\u001b[39m\u001b[38;5;241m.\u001b[39mpolicy_params)\n",
      "File \u001b[0;32m~/degradation_learning/policy.py:240\u001b[0m, in \u001b[0;36mDPAgent.train\u001b[0;34m(self, num_iterations, dataset_size, batch_size)\u001b[0m\n\u001b[1;32m    238\u001b[0m \u001b[38;5;28;01mdef\u001b[39;00m \u001b[38;5;21mtrain\u001b[39m(\u001b[38;5;28mself\u001b[39m, num_iterations, dataset_size, batch_size):\n\u001b[1;32m    239\u001b[0m \u001b[38;5;250m    \u001b[39m\u001b[38;5;124;03m\"\"\"Main FQI training loop.\"\"\"\u001b[39;00m\n\u001b[0;32m--> 240\u001b[0m     experience \u001b[38;5;241m=\u001b[39m \u001b[38;5;28;43mself\u001b[39;49m\u001b[38;5;241;43m.\u001b[39;49m\u001b[43mexperience_generator\u001b[49m\u001b[38;5;241;43m.\u001b[39;49m\u001b[43mgenerate\u001b[49m\u001b[43m(\u001b[49m\u001b[43mdataset_size\u001b[49m\u001b[43m)\u001b[49m\n\u001b[1;32m    242\u001b[0m     \u001b[38;5;66;03m# Unpack and convert to tensors\u001b[39;00m\n\u001b[1;32m    243\u001b[0m     states \u001b[38;5;241m=\u001b[39m torch\u001b[38;5;241m.\u001b[39mtensor(np\u001b[38;5;241m.\u001b[39marray([t[\u001b[38;5;241m0\u001b[39m] \u001b[38;5;28;01mfor\u001b[39;00m t \u001b[38;5;129;01min\u001b[39;00m experience]), dtype\u001b[38;5;241m=\u001b[39mtorch\u001b[38;5;241m.\u001b[39mfloat32)\u001b[38;5;241m.\u001b[39mto(\u001b[38;5;28mself\u001b[39m\u001b[38;5;241m.\u001b[39mdevice)\n",
      "File \u001b[0;32m~/degradation_learning/policy.py:178\u001b[0m, in \u001b[0;36mExperienceGenerator.generate\u001b[0;34m(self, num_samples)\u001b[0m\n\u001b[1;32m    175\u001b[0m valid_actions \u001b[38;5;241m=\u001b[39m [\u001b[38;5;241m0\u001b[39m, \u001b[38;5;241m1\u001b[39m] \u001b[38;5;28;01mif\u001b[39;00m phase_val \u001b[38;5;241m==\u001b[39m \u001b[38;5;241m0.0\u001b[39m \u001b[38;5;28;01melse\u001b[39;00m [\u001b[38;5;241m2\u001b[39m, \u001b[38;5;241m3\u001b[39m]\n\u001b[1;32m    176\u001b[0m action \u001b[38;5;241m=\u001b[39m random\u001b[38;5;241m.\u001b[39mchoice(valid_actions) \u001b[38;5;66;03m# Explore randomly\u001b[39;00m\n\u001b[0;32m--> 178\u001b[0m reward, next_state \u001b[38;5;241m=\u001b[39m \u001b[38;5;28;43mself\u001b[39;49m\u001b[38;5;241;43m.\u001b[39;49m\u001b[43m_step_environment\u001b[49m\u001b[43m(\u001b[49m\u001b[43mstate\u001b[49m\u001b[43m,\u001b[49m\u001b[43m \u001b[49m\u001b[43maction\u001b[49m\u001b[43m)\u001b[49m\n\u001b[1;32m    179\u001b[0m dataset\u001b[38;5;241m.\u001b[39mappend((state, action, reward, next_state))\n\u001b[1;32m    181\u001b[0m state \u001b[38;5;241m=\u001b[39m next_state\n",
      "File \u001b[0;32m~/degradation_learning/policy.py:117\u001b[0m, in \u001b[0;36mExperienceGenerator._step_environment\u001b[0;34m(self, state, action)\u001b[0m\n\u001b[1;32m    115\u001b[0m target \u001b[38;5;241m=\u001b[39m \u001b[38;5;28mself\u001b[39m\u001b[38;5;241m.\u001b[39mdegradation_learner\u001b[38;5;241m.\u001b[39mcum_baseline(machine_active_time_prev) \u001b[38;5;241m+\u001b[39m delta\n\u001b[1;32m    116\u001b[0m \u001b[38;5;28;01mtry\u001b[39;00m:\n\u001b[0;32m--> 117\u001b[0m     mat_plus_f \u001b[38;5;241m=\u001b[39m \u001b[38;5;28;43mself\u001b[39;49m\u001b[38;5;241;43m.\u001b[39;49m\u001b[43mdegradation_learner\u001b[49m\u001b[38;5;241;43m.\u001b[39;49m\u001b[43minverse_cum_baseline\u001b[49m\u001b[43m(\u001b[49m\u001b[43mtarget\u001b[49m\u001b[43m)\u001b[49m\n\u001b[1;32m    118\u001b[0m     f_i \u001b[38;5;241m=\u001b[39m mat_plus_f \u001b[38;5;241m-\u001b[39m machine_active_time_prev\n\u001b[1;32m    119\u001b[0m     \u001b[38;5;28;01mif\u001b[39;00m f_i \u001b[38;5;241m>\u001b[39m T_curr:\n",
      "File \u001b[0;32m~/degradation_learning/degradation_learner.py:210\u001b[0m, in \u001b[0;36mDegradationLearner.inverse_cum_baseline\u001b[0;34m(self, y)\u001b[0m\n\u001b[1;32m    208\u001b[0m     \u001b[38;5;28;01mreturn\u001b[39;00m \u001b[38;5;241m0.0\u001b[39m\n\u001b[1;32m    209\u001b[0m \u001b[38;5;66;03m# brentq finds root of cum_baseline(t) - y = 0\u001b[39;00m\n\u001b[0;32m--> 210\u001b[0m \u001b[38;5;28;01mreturn\u001b[39;00m \u001b[43mbrentq\u001b[49m\u001b[43m(\u001b[49m\u001b[38;5;28;43;01mlambda\u001b[39;49;00m\u001b[43m \u001b[49m\u001b[43mt\u001b[49m\u001b[43m:\u001b[49m\u001b[43m \u001b[49m\u001b[38;5;28;43mself\u001b[39;49m\u001b[38;5;241;43m.\u001b[39;49m\u001b[43mcum_baseline\u001b[49m\u001b[43m(\u001b[49m\u001b[43mt\u001b[49m\u001b[43m)\u001b[49m\u001b[43m \u001b[49m\u001b[38;5;241;43m-\u001b[39;49m\u001b[43m \u001b[49m\u001b[43my\u001b[49m\u001b[43m,\u001b[49m\u001b[43m \u001b[49m\u001b[38;5;241;43m0\u001b[39;49m\u001b[43m,\u001b[49m\u001b[43m \u001b[49m\u001b[38;5;28;43mself\u001b[39;49m\u001b[38;5;241;43m.\u001b[39;49m\u001b[43mmax_time\u001b[49m\u001b[43m)\u001b[49m\n",
      "File \u001b[0;32m~/anaconda3/envs/res/lib/python3.9/site-packages/scipy/optimize/_zeros_py.py:799\u001b[0m, in \u001b[0;36mbrentq\u001b[0;34m(f, a, b, args, xtol, rtol, maxiter, full_output, disp)\u001b[0m\n\u001b[1;32m    797\u001b[0m     \u001b[38;5;28;01mraise\u001b[39;00m \u001b[38;5;167;01mValueError\u001b[39;00m(\u001b[38;5;124mf\u001b[39m\u001b[38;5;124m\"\u001b[39m\u001b[38;5;124mrtol too small (\u001b[39m\u001b[38;5;132;01m{\u001b[39;00mrtol\u001b[38;5;132;01m:\u001b[39;00m\u001b[38;5;124mg\u001b[39m\u001b[38;5;132;01m}\u001b[39;00m\u001b[38;5;124m < \u001b[39m\u001b[38;5;132;01m{\u001b[39;00m_rtol\u001b[38;5;132;01m:\u001b[39;00m\u001b[38;5;124mg\u001b[39m\u001b[38;5;132;01m}\u001b[39;00m\u001b[38;5;124m)\u001b[39m\u001b[38;5;124m\"\u001b[39m)\n\u001b[1;32m    798\u001b[0m f \u001b[38;5;241m=\u001b[39m _wrap_nan_raise(f)\n\u001b[0;32m--> 799\u001b[0m r \u001b[38;5;241m=\u001b[39m \u001b[43m_zeros\u001b[49m\u001b[38;5;241;43m.\u001b[39;49m\u001b[43m_brentq\u001b[49m\u001b[43m(\u001b[49m\u001b[43mf\u001b[49m\u001b[43m,\u001b[49m\u001b[43m \u001b[49m\u001b[43ma\u001b[49m\u001b[43m,\u001b[49m\u001b[43m \u001b[49m\u001b[43mb\u001b[49m\u001b[43m,\u001b[49m\u001b[43m \u001b[49m\u001b[43mxtol\u001b[49m\u001b[43m,\u001b[49m\u001b[43m \u001b[49m\u001b[43mrtol\u001b[49m\u001b[43m,\u001b[49m\u001b[43m \u001b[49m\u001b[43mmaxiter\u001b[49m\u001b[43m,\u001b[49m\u001b[43m \u001b[49m\u001b[43margs\u001b[49m\u001b[43m,\u001b[49m\u001b[43m \u001b[49m\u001b[43mfull_output\u001b[49m\u001b[43m,\u001b[49m\u001b[43m \u001b[49m\u001b[43mdisp\u001b[49m\u001b[43m)\u001b[49m\n\u001b[1;32m    800\u001b[0m \u001b[38;5;28;01mreturn\u001b[39;00m results_c(full_output, r)\n",
      "File \u001b[0;32m~/anaconda3/envs/res/lib/python3.9/site-packages/scipy/optimize/_zeros_py.py:90\u001b[0m, in \u001b[0;36m_wrap_nan_raise.<locals>.f_raise\u001b[0;34m(x, *args)\u001b[0m\n\u001b[1;32m     89\u001b[0m \u001b[38;5;28;01mdef\u001b[39;00m \u001b[38;5;21mf_raise\u001b[39m(x, \u001b[38;5;241m*\u001b[39margs):\n\u001b[0;32m---> 90\u001b[0m     fx \u001b[38;5;241m=\u001b[39m \u001b[43mf\u001b[49m\u001b[43m(\u001b[49m\u001b[43mx\u001b[49m\u001b[43m,\u001b[49m\u001b[43m \u001b[49m\u001b[38;5;241;43m*\u001b[39;49m\u001b[43margs\u001b[49m\u001b[43m)\u001b[49m\n\u001b[1;32m     91\u001b[0m     f_raise\u001b[38;5;241m.\u001b[39m_function_calls \u001b[38;5;241m+\u001b[39m\u001b[38;5;241m=\u001b[39m \u001b[38;5;241m1\u001b[39m\n\u001b[1;32m     92\u001b[0m     \u001b[38;5;28;01mif\u001b[39;00m np\u001b[38;5;241m.\u001b[39misnan(fx):\n",
      "File \u001b[0;32m~/degradation_learning/degradation_learner.py:210\u001b[0m, in \u001b[0;36mDegradationLearner.inverse_cum_baseline.<locals>.<lambda>\u001b[0;34m(t)\u001b[0m\n\u001b[1;32m    208\u001b[0m     \u001b[38;5;28;01mreturn\u001b[39;00m \u001b[38;5;241m0.0\u001b[39m\n\u001b[1;32m    209\u001b[0m \u001b[38;5;66;03m# brentq finds root of cum_baseline(t) - y = 0\u001b[39;00m\n\u001b[0;32m--> 210\u001b[0m \u001b[38;5;28;01mreturn\u001b[39;00m brentq(\u001b[38;5;28;01mlambda\u001b[39;00m t: \u001b[38;5;28;43mself\u001b[39;49m\u001b[38;5;241;43m.\u001b[39;49m\u001b[43mcum_baseline\u001b[49m\u001b[43m(\u001b[49m\u001b[43mt\u001b[49m\u001b[43m)\u001b[49m \u001b[38;5;241m-\u001b[39m y, \u001b[38;5;241m0\u001b[39m, \u001b[38;5;28mself\u001b[39m\u001b[38;5;241m.\u001b[39mmax_time)\n",
      "File \u001b[0;32m~/degradation_learning/degradation_learner.py:193\u001b[0m, in \u001b[0;36mDegradationLearner.cum_baseline\u001b[0;34m(self, t)\u001b[0m\n\u001b[1;32m    191\u001b[0m \u001b[38;5;28;01mif\u001b[39;00m t \u001b[38;5;241m<\u001b[39m\u001b[38;5;241m=\u001b[39m \u001b[38;5;241m0\u001b[39m:\n\u001b[1;32m    192\u001b[0m     \u001b[38;5;28;01mreturn\u001b[39;00m \u001b[38;5;241m0.0\u001b[39m\n\u001b[0;32m--> 193\u001b[0m integral, _ \u001b[38;5;241m=\u001b[39m \u001b[43mquad\u001b[49m\u001b[43m(\u001b[49m\u001b[38;5;28;43;01mlambda\u001b[39;49;00m\u001b[43m \u001b[49m\u001b[43mu\u001b[49m\u001b[43m:\u001b[49m\u001b[43m \u001b[49m\u001b[38;5;28;43mself\u001b[39;49m\u001b[38;5;241;43m.\u001b[39;49m\u001b[43mkde\u001b[49m\u001b[43m(\u001b[49m\u001b[43mu\u001b[49m\u001b[43m)\u001b[49m\u001b[43m[\u001b[49m\u001b[38;5;241;43m0\u001b[39;49m\u001b[43m]\u001b[49m\u001b[43m,\u001b[49m\u001b[43m \u001b[49m\u001b[38;5;241;43m0\u001b[39;49m\u001b[43m,\u001b[49m\u001b[43m \u001b[49m\u001b[43mt\u001b[49m\u001b[43m,\u001b[49m\u001b[43m \u001b[49m\u001b[43mlimit\u001b[49m\u001b[38;5;241;43m=\u001b[39;49m\u001b[38;5;241;43m100\u001b[39;49m\u001b[43m,\u001b[49m\u001b[43m \u001b[49m\u001b[43mepsabs\u001b[49m\u001b[38;5;241;43m=\u001b[39;49m\u001b[38;5;241;43m1e-8\u001b[39;49m\u001b[43m)\u001b[49m\n\u001b[1;32m    194\u001b[0m \u001b[38;5;28;01mreturn\u001b[39;00m integral\n",
      "File \u001b[0;32m~/anaconda3/envs/res/lib/python3.9/site-packages/scipy/integrate/_quadpack_py.py:465\u001b[0m, in \u001b[0;36mquad\u001b[0;34m(func, a, b, args, full_output, epsabs, epsrel, limit, points, weight, wvar, wopts, maxp1, limlst, complex_func)\u001b[0m\n\u001b[1;32m    462\u001b[0m     \u001b[38;5;28;01mreturn\u001b[39;00m retval\n\u001b[1;32m    464\u001b[0m \u001b[38;5;28;01mif\u001b[39;00m weight \u001b[38;5;129;01mis\u001b[39;00m \u001b[38;5;28;01mNone\u001b[39;00m:\n\u001b[0;32m--> 465\u001b[0m     retval \u001b[38;5;241m=\u001b[39m \u001b[43m_quad\u001b[49m\u001b[43m(\u001b[49m\u001b[43mfunc\u001b[49m\u001b[43m,\u001b[49m\u001b[43m \u001b[49m\u001b[43ma\u001b[49m\u001b[43m,\u001b[49m\u001b[43m \u001b[49m\u001b[43mb\u001b[49m\u001b[43m,\u001b[49m\u001b[43m \u001b[49m\u001b[43margs\u001b[49m\u001b[43m,\u001b[49m\u001b[43m \u001b[49m\u001b[43mfull_output\u001b[49m\u001b[43m,\u001b[49m\u001b[43m \u001b[49m\u001b[43mepsabs\u001b[49m\u001b[43m,\u001b[49m\u001b[43m \u001b[49m\u001b[43mepsrel\u001b[49m\u001b[43m,\u001b[49m\u001b[43m \u001b[49m\u001b[43mlimit\u001b[49m\u001b[43m,\u001b[49m\n\u001b[1;32m    466\u001b[0m \u001b[43m                   \u001b[49m\u001b[43mpoints\u001b[49m\u001b[43m)\u001b[49m\n\u001b[1;32m    467\u001b[0m \u001b[38;5;28;01melse\u001b[39;00m:\n\u001b[1;32m    468\u001b[0m     \u001b[38;5;28;01mif\u001b[39;00m points \u001b[38;5;129;01mis\u001b[39;00m \u001b[38;5;129;01mnot\u001b[39;00m \u001b[38;5;28;01mNone\u001b[39;00m:\n",
      "File \u001b[0;32m~/anaconda3/envs/res/lib/python3.9/site-packages/scipy/integrate/_quadpack_py.py:577\u001b[0m, in \u001b[0;36m_quad\u001b[0;34m(func, a, b, args, full_output, epsabs, epsrel, limit, points)\u001b[0m\n\u001b[1;32m    575\u001b[0m \u001b[38;5;28;01mif\u001b[39;00m points \u001b[38;5;129;01mis\u001b[39;00m \u001b[38;5;28;01mNone\u001b[39;00m:\n\u001b[1;32m    576\u001b[0m     \u001b[38;5;28;01mif\u001b[39;00m infbounds \u001b[38;5;241m==\u001b[39m \u001b[38;5;241m0\u001b[39m:\n\u001b[0;32m--> 577\u001b[0m         \u001b[38;5;28;01mreturn\u001b[39;00m \u001b[43m_quadpack\u001b[49m\u001b[38;5;241;43m.\u001b[39;49m\u001b[43m_qagse\u001b[49m\u001b[43m(\u001b[49m\u001b[43mfunc\u001b[49m\u001b[43m,\u001b[49m\u001b[43ma\u001b[49m\u001b[43m,\u001b[49m\u001b[43mb\u001b[49m\u001b[43m,\u001b[49m\u001b[43margs\u001b[49m\u001b[43m,\u001b[49m\u001b[43mfull_output\u001b[49m\u001b[43m,\u001b[49m\u001b[43mepsabs\u001b[49m\u001b[43m,\u001b[49m\u001b[43mepsrel\u001b[49m\u001b[43m,\u001b[49m\u001b[43mlimit\u001b[49m\u001b[43m)\u001b[49m\n\u001b[1;32m    578\u001b[0m     \u001b[38;5;28;01melse\u001b[39;00m:\n\u001b[1;32m    579\u001b[0m         \u001b[38;5;28;01mreturn\u001b[39;00m _quadpack\u001b[38;5;241m.\u001b[39m_qagie(func,bound,infbounds,args,full_output,epsabs,epsrel,limit)\n",
      "File \u001b[0;32m~/degradation_learning/degradation_learner.py:193\u001b[0m, in \u001b[0;36mDegradationLearner.cum_baseline.<locals>.<lambda>\u001b[0;34m(u)\u001b[0m\n\u001b[1;32m    191\u001b[0m \u001b[38;5;28;01mif\u001b[39;00m t \u001b[38;5;241m<\u001b[39m\u001b[38;5;241m=\u001b[39m \u001b[38;5;241m0\u001b[39m:\n\u001b[1;32m    192\u001b[0m     \u001b[38;5;28;01mreturn\u001b[39;00m \u001b[38;5;241m0.0\u001b[39m\n\u001b[0;32m--> 193\u001b[0m integral, _ \u001b[38;5;241m=\u001b[39m quad(\u001b[38;5;28;01mlambda\u001b[39;00m u: \u001b[38;5;28;43mself\u001b[39;49m\u001b[38;5;241;43m.\u001b[39;49m\u001b[43mkde\u001b[49m\u001b[43m(\u001b[49m\u001b[43mu\u001b[49m\u001b[43m)\u001b[49m[\u001b[38;5;241m0\u001b[39m], \u001b[38;5;241m0\u001b[39m, t, limit\u001b[38;5;241m=\u001b[39m\u001b[38;5;241m100\u001b[39m, epsabs\u001b[38;5;241m=\u001b[39m\u001b[38;5;241m1e-8\u001b[39m)\n\u001b[1;32m    194\u001b[0m \u001b[38;5;28;01mreturn\u001b[39;00m integral\n",
      "File \u001b[0;32m~/anaconda3/envs/res/lib/python3.9/site-packages/scipy/stats/_kde.py:268\u001b[0m, in \u001b[0;36mgaussian_kde.evaluate\u001b[0;34m(self, points)\u001b[0m\n\u001b[1;32m    265\u001b[0m         \u001b[38;5;28;01mraise\u001b[39;00m \u001b[38;5;167;01mValueError\u001b[39;00m(msg)\n\u001b[1;32m    267\u001b[0m output_dtype, spec \u001b[38;5;241m=\u001b[39m _get_output_dtype(\u001b[38;5;28mself\u001b[39m\u001b[38;5;241m.\u001b[39mcovariance, points)\n\u001b[0;32m--> 268\u001b[0m result \u001b[38;5;241m=\u001b[39m \u001b[43mgaussian_kernel_estimate\u001b[49m\u001b[43m[\u001b[49m\u001b[43mspec\u001b[49m\u001b[43m]\u001b[49m\u001b[43m(\u001b[49m\n\u001b[1;32m    269\u001b[0m \u001b[43m    \u001b[49m\u001b[38;5;28;43mself\u001b[39;49m\u001b[38;5;241;43m.\u001b[39;49m\u001b[43mdataset\u001b[49m\u001b[38;5;241;43m.\u001b[39;49m\u001b[43mT\u001b[49m\u001b[43m,\u001b[49m\u001b[43m \u001b[49m\u001b[38;5;28;43mself\u001b[39;49m\u001b[38;5;241;43m.\u001b[39;49m\u001b[43mweights\u001b[49m\u001b[43m[\u001b[49m\u001b[43m:\u001b[49m\u001b[43m,\u001b[49m\u001b[43m \u001b[49m\u001b[38;5;28;43;01mNone\u001b[39;49;00m\u001b[43m]\u001b[49m\u001b[43m,\u001b[49m\n\u001b[1;32m    270\u001b[0m \u001b[43m    \u001b[49m\u001b[43mpoints\u001b[49m\u001b[38;5;241;43m.\u001b[39;49m\u001b[43mT\u001b[49m\u001b[43m,\u001b[49m\u001b[43m \u001b[49m\u001b[38;5;28;43mself\u001b[39;49m\u001b[38;5;241;43m.\u001b[39;49m\u001b[43mcho_cov\u001b[49m\u001b[43m,\u001b[49m\u001b[43m \u001b[49m\u001b[43moutput_dtype\u001b[49m\u001b[43m)\u001b[49m\n\u001b[1;32m    272\u001b[0m \u001b[38;5;28;01mreturn\u001b[39;00m result[:, \u001b[38;5;241m0\u001b[39m]\n",
      "\u001b[0;31mKeyboardInterrupt\u001b[0m: "
     ]
    }
   ],
   "source": [
    "# simulator.projected_volume_learner.is_terminated = True\n",
    "simulation_data = simulator.run(num_customers=NUM_CUSTOMERS)\n",
    "degradation_df = pd.DataFrame(simulator.degradation_history)\n",
    "simulation_df = pd.DataFrame(simulator.history)"
   ]
  },
  {
   "cell_type": "markdown",
   "id": "dec0fff9",
   "metadata": {},
   "source": [
    "## Training policy under perfect information"
   ]
  },
  {
   "cell_type": "code",
   "execution_count": 25,
   "id": "a8793230",
   "metadata": {},
   "outputs": [
    {
     "name": "stdout",
     "output_type": "stream",
     "text": [
      "Using device: cuda\n",
      "Generating 500000 experience samples...\n"
     ]
    },
    {
     "name": "stderr",
     "output_type": "stream",
     "text": [
      "100%|██████████| 500000/500000 [00:08<00:00, 59906.04it/s]\n"
     ]
    },
    {
     "name": "stdout",
     "output_type": "stream",
     "text": [
      "\n",
      "Starting FQI training loop...\n"
     ]
    },
    {
     "name": "stderr",
     "output_type": "stream",
     "text": [
      "  0%|          | 0/50 [00:59<?, ?it/s]\n"
     ]
    },
    {
     "ename": "KeyboardInterrupt",
     "evalue": "",
     "output_type": "error",
     "traceback": [
      "\u001b[0;31m---------------------------------------------------------------------------\u001b[0m",
      "\u001b[0;31mKeyboardInterrupt\u001b[0m                         Traceback (most recent call last)",
      "Cell \u001b[0;32mIn[25], line 35\u001b[0m\n\u001b[1;32m     22\u001b[0m perfect_dpagent \u001b[38;5;241m=\u001b[39m DPAgent(\n\u001b[1;32m     23\u001b[0m     d\u001b[38;5;241m=\u001b[39mD,\n\u001b[1;32m     24\u001b[0m     u_hat\u001b[38;5;241m=\u001b[39mUTILITY_TRUE,\n\u001b[0;32m   (...)\u001b[0m\n\u001b[1;32m     28\u001b[0m     params\u001b[38;5;241m=\u001b[39mmdp_params,\n\u001b[1;32m     29\u001b[0m )\n\u001b[1;32m     31\u001b[0m \u001b[38;5;66;03m# weight = torch.load('weights/perfect_dpagent_q_network.pth', map_location=torch.device('cuda'))\u001b[39;00m\n\u001b[1;32m     32\u001b[0m \u001b[38;5;66;03m# perfect_dpagent.q_network.load_state_dict(weight)\u001b[39;00m\n\u001b[1;32m     33\u001b[0m \u001b[38;5;66;03m# perfect_dpagent.q_network.to(perfect_dpagent.device)\u001b[39;00m\n\u001b[1;32m     34\u001b[0m \u001b[38;5;66;03m# perfect_dpagent.q_network.eval()\u001b[39;00m\n\u001b[0;32m---> 35\u001b[0m \u001b[43mperfect_dpagent\u001b[49m\u001b[38;5;241;43m.\u001b[39;49m\u001b[43mtrain\u001b[49m\u001b[43m(\u001b[49m\n\u001b[1;32m     36\u001b[0m \u001b[43m    \u001b[49m\u001b[43mnum_iterations\u001b[49m\u001b[38;5;241;43m=\u001b[39;49m\u001b[38;5;241;43m50\u001b[39;49m\u001b[43m,\u001b[49m\n\u001b[1;32m     37\u001b[0m \u001b[43m    \u001b[49m\u001b[43mdataset_size\u001b[49m\u001b[38;5;241;43m=\u001b[39;49m\u001b[38;5;241;43m500000\u001b[39;49m\u001b[43m,\u001b[49m\n\u001b[1;32m     38\u001b[0m \u001b[43m    \u001b[49m\u001b[43mbatch_size\u001b[49m\u001b[38;5;241;43m=\u001b[39;49m\u001b[38;5;241;43m1024\u001b[39;49m\n\u001b[1;32m     39\u001b[0m \u001b[43m)\u001b[49m\n\u001b[1;32m     41\u001b[0m perfect_policy \u001b[38;5;241m=\u001b[39m perfect_dpagent\u001b[38;5;241m.\u001b[39mget_policy(\n\u001b[1;32m     42\u001b[0m     {\u001b[38;5;124m'\u001b[39m\u001b[38;5;124mtype\u001b[39m\u001b[38;5;124m'\u001b[39m: \u001b[38;5;124m'\u001b[39m\u001b[38;5;124mgreedy\u001b[39m\u001b[38;5;124m'\u001b[39m, \u001b[38;5;124m'\u001b[39m\u001b[38;5;124mepsilon\u001b[39m\u001b[38;5;124m'\u001b[39m: \u001b[38;5;241m0.1\u001b[39m, \u001b[38;5;124m'\u001b[39m\u001b[38;5;124mtau\u001b[39m\u001b[38;5;124m'\u001b[39m: \u001b[38;5;241m1.0\u001b[39m}\n\u001b[1;32m     43\u001b[0m )\n",
      "File \u001b[0;32m~/degradation_learning/policy.py:267\u001b[0m, in \u001b[0;36mDPAgent.train\u001b[0;34m(self, num_iterations, dataset_size, batch_size)\u001b[0m\n\u001b[1;32m    265\u001b[0m \u001b[38;5;28;01mwith\u001b[39;00m torch\u001b[38;5;241m.\u001b[39mno_grad():\n\u001b[1;32m    266\u001b[0m     q_next_values \u001b[38;5;241m=\u001b[39m \u001b[38;5;28mself\u001b[39m\u001b[38;5;241m.\u001b[39mtarget_network(ns_batch)\n\u001b[0;32m--> 267\u001b[0m     max_q_next \u001b[38;5;241m=\u001b[39m \u001b[38;5;28;43mself\u001b[39;49m\u001b[38;5;241;43m.\u001b[39;49m\u001b[43m_get_max_q_for_valid_actions\u001b[49m\u001b[43m(\u001b[49m\u001b[43mns_batch\u001b[49m\u001b[43m,\u001b[49m\u001b[43m \u001b[49m\u001b[43mq_next_values\u001b[49m\u001b[43m)\u001b[49m\n\u001b[1;32m    268\u001b[0m     target_q \u001b[38;5;241m=\u001b[39m r_batch \u001b[38;5;241m+\u001b[39m \u001b[38;5;28mself\u001b[39m\u001b[38;5;241m.\u001b[39mgamma \u001b[38;5;241m*\u001b[39m max_q_next\n\u001b[1;32m    270\u001b[0m \u001b[38;5;66;03m# --- Update the Q-Network ---\u001b[39;00m\n",
      "File \u001b[0;32m~/degradation_learning/policy.py:227\u001b[0m, in \u001b[0;36mDPAgent._get_max_q_for_valid_actions\u001b[0;34m(self, states_tensor, q_values_tensor)\u001b[0m\n\u001b[1;32m    225\u001b[0m     \u001b[38;5;28;01melse\u001b[39;00m:  \u001b[38;5;66;03m# Departure\u001b[39;00m\n\u001b[1;32m    226\u001b[0m         valid_actions_q \u001b[38;5;241m=\u001b[39m q_values_tensor[i, \u001b[38;5;241m2\u001b[39m:]\n\u001b[0;32m--> 227\u001b[0m     max_q_values[i] \u001b[38;5;241m=\u001b[39m \u001b[43mtorch\u001b[49m\u001b[38;5;241;43m.\u001b[39;49m\u001b[43mmax\u001b[49m\u001b[43m(\u001b[49m\u001b[43mvalid_actions_q\u001b[49m\u001b[43m)\u001b[49m\n\u001b[1;32m    229\u001b[0m \u001b[38;5;28;01mreturn\u001b[39;00m max_q_values\n",
      "\u001b[0;31mKeyboardInterrupt\u001b[0m: "
     ]
    }
   ],
   "source": [
    "class PerfectDegradationLearner:\n",
    "    def __init__(self, d, theta_true, hazard_model):\n",
    "        self.d = d\n",
    "        self.theta_true = theta_true\n",
    "        self.hazard_model = hazard_model  # Placeholder, not used\n",
    "        \n",
    "    def get_theta(self):\n",
    "        return self.theta_true\n",
    "    \n",
    "    def cum_baseline(self, t):\n",
    "        return self.hazard_model.Lambda_0(t)\n",
    "    \n",
    "    def inverse_cum_baseline(self, u):\n",
    "        return self.hazard_model.Lambda_0_inverse(u)\n",
    "    \n",
    "perfect_degradation_learner = PerfectDegradationLearner(\n",
    "    d=D, \n",
    "    theta_true=THETA_TRUE,\n",
    "    hazard_model=usage_exp_hazard_model,\n",
    ")\n",
    "\n",
    "perfect_dpagent = DPAgent(\n",
    "    d=D,\n",
    "    u_hat=UTILITY_TRUE,\n",
    "    time_normalize=True,\n",
    "    degradation_learner=perfect_degradation_learner,\n",
    "    customer_generator=customer_gen,\n",
    "    params=mdp_params,\n",
    ")\n",
    "\n",
    "# weight = torch.load('weights/perfect_dpagent_q_network.pth', map_location=torch.device('cuda'))\n",
    "# perfect_dpagent.q_network.load_state_dict(weight)\n",
    "# perfect_dpagent.q_network.to(perfect_dpagent.device)\n",
    "# perfect_dpagent.q_network.eval()\n",
    "perfect_dpagent.train(\n",
    "    num_iterations=50,\n",
    "    dataset_size=500000,\n",
    "    batch_size=1024\n",
    ")\n",
    "\n",
    "perfect_policy = perfect_dpagent.get_policy(\n",
    "    {'type': 'greedy', 'epsilon': 0.1, 'tau': 1.0}\n",
    ")"
   ]
  },
  {
   "cell_type": "code",
   "execution_count": null,
   "id": "ade6b251",
   "metadata": {},
   "outputs": [],
   "source": [
    "num_repeat = 10\n",
    "histories = []\n",
    "\n",
    "for _ in range(num_repeat):\n",
    "    history = simulator.run_full_exploit(10000, policy)\n",
    "    history = pd.DataFrame(history)\n",
    "    \n",
    "    history['net_profit'] = history['profit'] + history['loss']\n",
    "    # calculate cumulative profit and loss\n",
    "    history['cumulative_net_profit'] = history['net_profit'].cumsum()\n",
    "    histories.append(history)\n"
   ]
  },
  {
   "cell_type": "code",
   "execution_count": null,
   "id": "be16ad86",
   "metadata": {},
   "outputs": [],
   "source": [
    "ax = plt.figure(figsize=(10,6))\n",
    "\n",
    "# plot cumulative profit and loss over time\n",
    "plt.plot(history['calendar_time'], history['cumulative_net_profit'], label='Cumulative Net Profit')\n",
    "plt.xlabel('Calendar Time')\n",
    "plt.ylabel('Cumulative Net Profit')\n",
    "plt.title('Cumulative Net Profit Over Time')\n",
    "plt.legend()\n",
    "plt.grid()\n",
    "plt.show()"
   ]
  },
  {
   "cell_type": "markdown",
   "id": "f0e64b25",
   "metadata": {},
   "source": [
    "### Debugging: Look at experience dataset"
   ]
  },
  {
   "cell_type": "code",
   "execution_count": null,
   "id": "a657f16b",
   "metadata": {},
   "outputs": [],
   "source": [
    "from policy import DPAgent\n",
    "\n",
    "print(simulator.projected_volume_learner.get_estimate())\n",
    "print(UTILITY_TRUE)\n",
    "\n",
    "dp_agent = DPAgent(\n",
    "    d=simulator.d,\n",
    "    u_hat=simulator.projected_volume_learner.get_estimate(),\n",
    "    time_normalize=simulator.time_normalize,\n",
    "    degradation_learner=simulator.degradation_learner,\n",
    "    customer_generator=simulator.customer_generator,\n",
    "    params=simulator.mdp_params\n",
    ")\n",
    "\n",
    "dataset = dp_agent.experience_generator.generate(500)\n",
    "\n",
    "for data in dataset:\n",
    "    state, action, reward, next_state = data\n",
    "    print(\"State:\", state.round(3))\n",
    "    print(\"Action:\", dp_agent.experience_generator.ACTION_MAP[action])\n",
    "    print(\"Reward:\", reward)\n",
    "    print(\"Next State:\", next_state.round(3))\n",
    "    print(\"-----\")\n",
    "    print()"
   ]
  },
  {
   "cell_type": "code",
   "execution_count": null,
   "id": "9a07cf09",
   "metadata": {},
   "outputs": [],
   "source": [
    "degradation_learner = DegradationLearner(d=D, initial_theta=np.zeros(D))\n",
    "degradation_df = pd.DataFrame(simulator.degradation_history)\n",
    "degradation_learner.fit(degradation_df)\n",
    "degradation_learner.get_theta()"
   ]
  },
  {
   "cell_type": "markdown",
   "id": "73f90ec4",
   "metadata": {},
   "source": [
    "Testing Policy"
   ]
  },
  {
   "cell_type": "code",
   "execution_count": null,
   "id": "8973055c",
   "metadata": {},
   "outputs": [],
   "source": [
    "i = 50\n",
    "\n",
    "X_i = df.loc[i, 'sum_of_contexts_after']\n",
    "I_i = 3 # df.loc[i, '']\n",
    "x_i = df.loc[i+1, 'customer_context']\n",
    "T_i = df.loc[i+1, 'rental_duration']\n",
    "\n",
    "arrival_state = np.concatenate([\n",
    "    X_i,\n",
    "    x_i,\n",
    "    [T_i, I_i, 0.0]\n",
    "])\n",
    "action_arrival = optimal_policy(arrival_state)\n",
    "action_map = {0: 'Give Max Acceptable Price', 1: 'Shutdown'}\n",
    "print(f\"Sample Arrival State. Optimal Action: {action_map[action_arrival]}\")\n"
   ]
  },
  {
   "cell_type": "code",
   "execution_count": null,
   "id": "881e654f",
   "metadata": {},
   "outputs": [],
   "source": [
    "# Test Case 2: Departure State\n",
    "departure_state = np.concatenate([\n",
    "    X_i+x_i*10, \n",
    "    np.zeros(D), \n",
    "    [0.0, I_i, 1.0]\n",
    "])\n",
    "action_departure = optimal_policy(departure_state)\n",
    "action_map = {2: 'Replace Machine', 3: 'Do Not Replace'}\n",
    "print(f\"Sample Departure State. Optimal Action: {action_map[action_departure]}\")\n"
   ]
  }
 ],
 "metadata": {
  "kernelspec": {
   "display_name": "res",
   "language": "python",
   "name": "python3"
  },
  "language_info": {
   "codemirror_mode": {
    "name": "ipython",
    "version": 3
   },
   "file_extension": ".py",
   "mimetype": "text/x-python",
   "name": "python",
   "nbconvert_exporter": "python",
   "pygments_lexer": "ipython3",
   "version": "3.9.20"
  }
 },
 "nbformat": 4,
 "nbformat_minor": 5
}
