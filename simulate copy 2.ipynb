{
 "cells": [
  {
   "cell_type": "code",
   "execution_count": 1,
   "id": "f1bf8ff4",
   "metadata": {},
   "outputs": [],
   "source": [
    "import pickle\n",
    "import numpy as np\n",
    "import pandas as pd\n",
    "from scipy.optimize import minimize\n",
    "import torch\n",
    "\n",
    "from policy import DPAgent\n",
    "from new_new_policy import DiscretizedDPAgent\n",
    "from simulation import Simulator, CustomerGenerator\n",
    "from hazard_models import ExponentialHazard\n",
    "from utility_learner import ProjectedVolumeLearner, diam\n",
    "from degradation_learner import DegradationLearner\n",
    "from datetime import datetime\n",
    "from pytz import timezone\n",
    "\n",
    "from utils import unit_ball_rejection_sample, correct_signs\n",
    "import matplotlib.pyplot as plt\n",
    "from scipy.stats import gaussian_kde\n",
    "\n",
    "import logging\n",
    "logging.basicConfig(level=logging.INFO)\n",
    "\n",
    "np.set_printoptions(suppress=True)"
   ]
  },
  {
   "cell_type": "code",
   "execution_count": 2,
   "id": "52e08dea",
   "metadata": {},
   "outputs": [],
   "source": [
    "# --- 2. Define Sampling Functions ---\n",
    "# def context_sampler() -> np.ndarray:\n",
    "#     \"\"\"Samples a customer's context vector from a uniform distribution.\"\"\"\n",
    "#     return np.random.uniform(low=0.0, high=1.0, size=D)\n",
    "\n",
    "def context_sampler() -> np.ndarray:\n",
    "    \"\"\"Samples a customer's context vector uniformly from the unit ball.\"\"\"\n",
    "    return np.abs(unit_ball_rejection_sample(D))\n",
    "\n",
    "def rental_sampler() -> float:\n",
    "    \"\"\"Samples a customer's desired rental duration from an exponential distribution.\"\"\"\n",
    "    return np.random.exponential(scale=10.0)\n",
    "\n",
    "def interarrival_sampler() -> float:\n",
    "    \"\"\"Samples the time until the next customer arrives.\"\"\"\n",
    "    return np.random.exponential(scale=5.0)"
   ]
  },
  {
   "cell_type": "code",
   "execution_count": 3,
   "id": "8cc2c2dd",
   "metadata": {},
   "outputs": [],
   "source": [
    "# --- 1. Simulation Configuration ---\n",
    "D = 4                                  # Dimension of context vectors\n",
    "LAMBDA_VAL = 0.001                     # Baseline hazard constant\n",
    "NUM_CUSTOMERS = 40000                   # Total number of customers to simulate, i.e. T\n",
    "\n",
    "# Set a random seed for reproducibility\n",
    "# np.random.seed(41)\n",
    "\n",
    "# Ground truth vectors\n",
    "THETA_TRUE = np.array([0.5, 0.2, 0.4, 0.3])#$, 0.4])    # For degradation\n",
    "UTILITY_TRUE = np.array([0.372450167, 0.10850869, 0.33930126, 0.71356037])\n",
    "\n",
    "# context_sampler()  # For customer's willingness to pay\n",
    "\n",
    "# --- Machine's Pricing Vector 'r' ---\n",
    "# This is a fallback pricing vector, when we don't feed u_hat to calculate_price\n",
    "PRICING_R = np.zeros(D)"
   ]
  },
  {
   "cell_type": "code",
   "execution_count": 4,
   "id": "8e600551",
   "metadata": {},
   "outputs": [],
   "source": [
    "usage_exp_hazard_model = ExponentialHazard(lambda_val=LAMBDA_VAL)\n",
    "# spontaneous_exp_hazard_model = None # ExponentialHazard(lambda_val=0.01)\n",
    "\n",
    "customer_gen = CustomerGenerator(\n",
    "    d=D,\n",
    "    context_sampler=context_sampler,\n",
    "    rental_sampler=rental_sampler,\n",
    "    interarrival_sampler=interarrival_sampler\n",
    ")\n",
    "\n",
    "centroid_params = {\n",
    "    # 'num_samples': 2000,\n",
    "    # 'thin': None,\n",
    "    # 'burn_in': 500 * D ** 2,\n",
    "    # 'tol': 1e-4,\n",
    "    # 'rho_target': 0.01\n",
    "}\n",
    "\n",
    "termination_rule = lambda diameter: diameter < 0.0005  # Example custom termination rule\n",
    "\n",
    "projected_volume_learner = ProjectedVolumeLearner(\n",
    "    T=NUM_CUSTOMERS, \n",
    "    d=D, \n",
    "    centroid_params=centroid_params,\n",
    "    incentive_constant=1.1,\n",
    "    termination_rule=termination_rule,\n",
    ")\n",
    "\n",
    "mdp_params = {\n",
    "    'duration_lambda': 10.0,\n",
    "    'interarrival_lambda': 5.0,\n",
    "    'replacement_cost': 1.5,   # Cost to replace the machine\n",
    "    'failure_cost': 0.75,      # Additional penalty for in-service failure\n",
    "    'holding_cost_rate': 0.02,   # Cost per unit of idle time\n",
    "    'gamma': 0.99,             # Discount factor\n",
    "    'learning_rate': 1e-3,      # Learning rate for the Adam optimizer\n",
    "    'target_update_freq': 10    # How often to update the target network (in iterations)\n",
    "}\n",
    "\n",
    "training_hyperparams = {\n",
    "    # For FQI\n",
    "    'num_iterations': 1, # Number of training iterations per policy update\n",
    "    'dataset_size': 50000,      # Number of transitions to generate for the offline dataset\n",
    "    'batch_size': 256,           # Batch size for training\n",
    "\n",
    "    # For discrete DP\n",
    "    # 'N': [80, 20, 60, 150], # grid sizes [cum_context, context, duration, active_time\n",
    "    'N': [100, 50, 100, 100], # grid sizes [cum_context, context, revenue, duration]\n",
    "    'max_cumulative_context': 8.0,\n",
    "    # 'max_active_time': 150.0,\n",
    "    'num_value_iterations': 100,\n",
    "    \n",
    "}\n",
    "\n",
    "policy_type = 'decaying_epsilon_greedy'\n",
    "policy_kwargs = {\n",
    "    'current_epsilon': 0.10,\n",
    "    'decay_rate': 0.95,\n",
    "    'step': 0,\n",
    "}\n",
    "\n",
    "# Instantiate the Simulator with the new parameters\n",
    "simulator = Simulator(\n",
    "    d=D,\n",
    "    T=NUM_CUSTOMERS,\n",
    "    \n",
    "    theta_true=THETA_TRUE,\n",
    "    utility_true=UTILITY_TRUE,\n",
    "    pricing_r=PRICING_R,\n",
    "    \n",
    "    usage_hazard_model=usage_exp_hazard_model,\n",
    "    customer_generator=customer_gen,\n",
    "    projected_volume_learner=projected_volume_learner,  # Use default ProjectedVolumeLearner\n",
    "    \n",
    "    mdp_params=mdp_params,\n",
    "    discrete_dp=True,\n",
    "    policy_type=policy_type,\n",
    "    training_hyperparams=training_hyperparams,\n",
    "    policy_kwargs=policy_kwargs,\n",
    "    policy_update_threshold=100,\n",
    "    time_normalize=True,\n",
    ")"
   ]
  },
  {
   "cell_type": "code",
   "execution_count": 5,
   "id": "6ab40bba",
   "metadata": {},
   "outputs": [],
   "source": [
    "# # Lets you skip utility exploration with perfect u starting point\n",
    "# simulator.projected_volume_learner.centroids.append(UTILITY_TRUE)\n",
    "# simulator.projected_volume_learner.is_terminated = True\n",
    "# simulator.seen_breakdowns = 2\n",
    "\n",
    "# degradation_learner = DegradationLearner(d=simulator.d)\n",
    "# degradation_learner.theta = np.ones(D) * 0.1\n",
    "# degradation_learner.cum_baseline = lambda x: LAMBDA_VAL * x\n",
    "# degradation_learner.inverse_cum_baseline = lambda y: y / LAMBDA_VAL\n",
    "# simulator.degradation_learner = degradation_learner\n",
    "\n",
    "# # dp_agent = DPAgent(\n",
    "# #     d=simulator.d,\n",
    "# #     u_hat=UTILITY_TRUE,\n",
    "# #     time_normalize=simulator.time_normalize,\n",
    "# #     degradation_learner=simulator.degradation_learner,\n",
    "# #     customer_generator=simulator.customer_generator,\n",
    "# #     params=simulator.mdp_params\n",
    "# # )\n",
    "# # dp_agent.train(**simulator.training_hyperparams)\n",
    "\n",
    "# dp_agent = DiscretizedDPAgent(\n",
    "#     N=training_hyperparams['N'], # grid sizes [cum_context, context, duration, active_time]\n",
    "#     max_cumulative_context=training_hyperparams['max_cumulative_context'],\n",
    "#     # max_active_time=training_hyperparams['max_active_time'],\n",
    "#     u_hat=UTILITY_TRUE,\n",
    "#     degradation_learner=degradation_learner,\n",
    "#     customer_generator=customer_gen,\n",
    "#     params=mdp_params,\n",
    "# )\n",
    "# # dp_agent._precompute_dynamics(num_samples=50000)\n",
    "# dp_agent.run_value_iteration(100)\n",
    "\n",
    "# simulator.dp_agent = dp_agent\n",
    "# simulator.optimal_policy = dp_agent.get_policy(simulator.policy_type)\n",
    "# simulator.breakdowns_since_last_update = 0 # Reset the counter\n"
   ]
  },
  {
   "cell_type": "code",
   "execution_count": 6,
   "id": "5e90ec1a",
   "metadata": {},
   "outputs": [
    {
     "name": "stderr",
     "output_type": "stream",
     "text": [
      "INFO:root:Starting simulation for 40000 customers...\n",
      "  0%|          | 0/40000 [00:00<?, ?it/s]"
     ]
    },
    {
     "name": "stdout",
     "output_type": "stream",
     "text": [
      "Set parameter Username\n"
     ]
    },
    {
     "name": "stderr",
     "output_type": "stream",
     "text": [
      "INFO:gurobipy:Set parameter Username\n"
     ]
    },
    {
     "name": "stdout",
     "output_type": "stream",
     "text": [
      "Set parameter LicenseID to value 2651514\n"
     ]
    },
    {
     "name": "stderr",
     "output_type": "stream",
     "text": [
      "INFO:gurobipy:Set parameter LicenseID to value 2651514\n"
     ]
    },
    {
     "name": "stdout",
     "output_type": "stream",
     "text": [
      "Academic license - for non-commercial use only - expires 2026-04-14\n"
     ]
    },
    {
     "name": "stderr",
     "output_type": "stream",
     "text": [
      "INFO:gurobipy:Academic license - for non-commercial use only - expires 2026-04-14\n",
      "INFO:root:Customer 1: Diameter: 0.9998\n",
      "  0%|          | 1/40000 [00:03<33:42:08,  3.03s/it]INFO:root:Customer 2: Diameter: 0.7090\n",
      "  0%|          | 2/40000 [00:06<36:51:02,  3.32s/it]INFO:root:Customer 3: Diameter: 0.6879\n",
      "  0%|          | 3/40000 [00:10<39:22:00,  3.54s/it]INFO:root:Customer 4: Diameter: 0.5048\n",
      "  0%|          | 4/40000 [00:14<41:50:18,  3.77s/it]INFO:root:Customer 5: Diameter: 0.3429\n",
      "  0%|          | 5/40000 [00:18<44:49:22,  4.03s/it]INFO:root:Customer 6: Diameter: 0.5139\n",
      "  0%|          | 6/40000 [00:23<47:28:36,  4.27s/it]INFO:root:Customer 6: Diameter: 0.4965\n",
      "  0%|          | 7/40000 [00:28<50:44:21,  4.57s/it]INFO:root:Customer 6: Diameter: 0.5335\n",
      "  0%|          | 8/40000 [00:34<53:59:42,  4.86s/it]INFO:root:Customer 7: Diameter: 0.3964\n",
      "  0%|          | 9/40000 [00:40<57:31:26,  5.18s/it]INFO:root:Customer 8: Diameter: 0.2517\n",
      "  0%|          | 10/40000 [00:46<60:58:11,  5.49s/it]INFO:root:Customer 9: Diameter: 0.1072\n",
      "  0%|          | 11/40000 [00:52<64:29:33,  5.81s/it]INFO:root:Customer 9: Diameter: 0.3133\n",
      "  0%|          | 12/40000 [00:59<68:27:55,  6.16s/it]INFO:root:Customer 9: Diameter: 0.0900\n",
      "  0%|          | 13/40000 [01:07<72:47:29,  6.55s/it]INFO:root:Customer 10: Diameter: 0.1714\n",
      "  0%|          | 14/40000 [01:15<76:51:35,  6.92s/it]INFO:root:Customer 11: Diameter: 0.0818\n",
      "  0%|          | 15/40000 [01:23<80:55:12,  7.29s/it]INFO:root:Customer 12: Diameter: 0.0713\n",
      "  0%|          | 16/40000 [01:31<84:42:02,  7.63s/it]INFO:root:Customer 13: Diameter: 0.0790\n",
      "  0%|          | 17/40000 [01:40<88:05:27,  7.93s/it]INFO:root:Customer 13: Diameter: 0.0437\n",
      "  0%|          | 18/40000 [01:49<92:02:00,  8.29s/it]INFO:root:Customer 13: Diameter: 0.0381\n",
      "  0%|          | 19/40000 [01:58<95:41:33,  8.62s/it]INFO:root:Customer 14: Diameter: 0.0836\n",
      "  0%|          | 20/40000 [02:08<99:44:05,  8.98s/it]INFO:root:Customer 15: Diameter: 0.0287\n",
      "  0%|          | 21/40000 [02:18<103:32:44,  9.32s/it]INFO:root:Customer 16: Diameter: 0.0202\n",
      "  0%|          | 22/40000 [02:29<107:17:28,  9.66s/it]INFO:root:Customer 16: Diameter: 0.0334\n",
      "  0%|          | 23/40000 [02:40<110:54:22,  9.99s/it]INFO:root:Customer 16: Diameter: 0.0121\n",
      "  0%|          | 24/40000 [02:51<114:35:49, 10.32s/it]INFO:root:Customer 16: Diameter: 0.0163\n",
      "  0%|          | 25/40000 [03:02<118:08:58, 10.64s/it]INFO:root:Customer 16: Diameter: 0.0121\n",
      "  0%|          | 26/40000 [03:14<121:51:12, 10.97s/it]INFO:root:Customer 17: Diameter: 0.0142\n",
      "  0%|          | 27/40000 [03:26<125:00:49, 11.26s/it]INFO:root:Customer 17: Diameter: 0.0099\n",
      "  0%|          | 28/40000 [03:38<128:26:45, 11.57s/it]INFO:root:Customer 17: Diameter: 0.0066\n",
      "  0%|          | 29/40000 [03:51<131:43:35, 11.86s/it]INFO:root:Customer 17: Diameter: 0.0084\n",
      "  0%|          | 30/40000 [04:03<134:57:59, 12.16s/it]INFO:root:Customer 18: Diameter: 0.0137\n",
      "  0%|          | 31/40000 [04:17<138:20:25, 12.46s/it]INFO:root:Customer 18: Diameter: 0.0034\n",
      "  0%|          | 32/40000 [04:30<142:14:55, 12.81s/it]INFO:root:Customer 19: Diameter: 0.0040\n",
      "  0%|          | 33/40000 [04:44<146:01:12, 13.15s/it]INFO:root:Customer 20: Diameter: 0.0047\n",
      "  0%|          | 34/40000 [04:58<149:09:54, 13.44s/it]INFO:root:Customer 21: Diameter: 0.0029\n",
      "  0%|          | 35/40000 [05:13<152:31:04, 13.74s/it]INFO:root:Customer 21: Diameter: 0.0018\n",
      "  0%|          | 36/40000 [05:27<155:46:36, 14.03s/it]INFO:root:Customer 22: Diameter: 0.0022\n",
      "  0%|          | 37/40000 [05:42<159:12:56, 14.34s/it]WARNING:root:Degenerate step in hit-and-run; skipping sample.\n",
      "INFO:root:Customer 22: Diameter: 0.0016\n",
      "  0%|          | 38/40000 [05:58<162:17:13, 14.62s/it]INFO:root:Customer 22: Diameter: 0.0012\n",
      "  0%|          | 39/40000 [06:13<165:23:30, 14.90s/it]INFO:root:Customer 22: Diameter: 0.0012\n",
      "  0%|          | 40/40000 [06:29<168:32:52, 15.18s/it]INFO:root:Customer 23: Diameter: 0.0009\n",
      "  0%|          | 41/40000 [06:45<171:52:49, 15.49s/it]INFO:root:Customer 23: Diameter: 0.0012\n",
      "  0%|          | 42/40000 [07:02<175:11:47, 15.78s/it]INFO:root:Customer 23: Diameter: 0.0011\n",
      "  0%|          | 43/40000 [07:18<177:42:45, 16.01s/it]INFO:root:Customer 23: Diameter: 0.0009\n",
      "  0%|          | 44/40000 [07:35<180:14:06, 16.24s/it]INFO:root:Customer 24: Diameter: 0.0007\n",
      "  0%|          | 45/40000 [07:53<184:24:19, 16.62s/it]WARNING:root:Degenerate step in hit-and-run; skipping sample.\n",
      "WARNING:root:Degenerate step in hit-and-run; skipping sample.\n",
      "INFO:root:Customer 24: Diameter: 0.0005\n",
      "  0%|          | 46/40000 [08:11<189:09:56, 17.04s/it]INFO:root:Customer 25: Diameter: 0.0008\n",
      "  0%|          | 47/40000 [08:29<192:34:29, 17.35s/it]WARNING:root:Degenerate step in hit-and-run; skipping sample.\n",
      "INFO:root:Customer 25: Diameter: 0.0005\n",
      "  0%|          | 48/40000 [08:47<194:42:10, 17.54s/it]INFO:root:Customer 25: Diameter: 0.0005\n",
      "  0%|          | 49/40000 [09:06<199:47:51, 18.00s/it]INFO:root:Exploration phase completed at customer 26.\n",
      "INFO:root:Updating optimal policy...\n",
      "INFO:root:Theta updated. New theta_hat: [1. 0. 1. 1.]\n"
     ]
    },
    {
     "name": "stdout",
     "output_type": "stream",
     "text": [
      "RUNNING THE L-BFGS-B CODE\n",
      "\n",
      "           * * *\n",
      "\n",
      "Machine precision = 2.220D-16\n",
      " N =            4     M =           10\n",
      "\n",
      "At X0         4 variables are exactly at the bounds\n",
      "\n",
      "At iterate    0    f=  1.79176D+00    |proj g|=  1.00000D+00\n",
      "\n",
      "At iterate    1    f=  1.36639D-01    |proj g|=  0.00000D+00\n",
      "\n",
      "           * * *\n",
      "\n",
      "Tit   = total number of iterations\n",
      "Tnf   = total number of function evaluations\n",
      "Tnint = total number of segments explored during Cauchy searches\n",
      "Skip  = number of BFGS updates skipped\n",
      "Nact  = number of active bounds at final generalized Cauchy point\n",
      "Projg = norm of the final projected gradient\n",
      "F     = final function value\n",
      "\n",
      "           * * *\n",
      "\n",
      "   N    Tit     Tnf  Tnint  Skip  Nact     Projg        F\n",
      "    4      1      2      4     0     4   0.000D+00   1.366D-01\n",
      "  F =  0.13663854428759059     \n",
      "\n",
      "CONVERGENCE: NORM_OF_PROJECTED_GRADIENT_<=_PGTOL            \n",
      "Discretization setup:\n",
      "  - Cumulative Context (cc):    100 steps up to 8.00\n",
      "  - Cust. Degradation (cx):     50 steps up to 1.00\n",
      "  - Cust. Revenue (cu):         100 steps up to 1.00 (99.9th percentile)\n",
      "  - Rental Duration (T):        100 steps up to 76.01 (99.95th percentile)\n",
      "Pre-computing expectations from 100000 customer samples...\n",
      "Starting Numba-accelerated pre-computation of arrival dynamics...\n"
     ]
    },
    {
     "name": "stderr",
     "output_type": "stream",
     "text": [
      "OMP: Info #276: omp_set_nested routine deprecated, please use omp_set_max_active_levels instead.\n"
     ]
    },
    {
     "name": "stdout",
     "output_type": "stream",
     "text": [
      "Pre-computation complete. ✅\n",
      "\n",
      "Starting Value Iteration...\n",
      "Iteration 10/100 | Max Change (Delta): 0.092451\n",
      "Iteration 20/100 | Max Change (Delta): 0.063444\n",
      "Iteration 30/100 | Max Change (Delta): 0.051349\n",
      "Iteration 40/100 | Max Change (Delta): 0.041974\n",
      "Iteration 50/100 | Max Change (Delta): 0.034329\n",
      "Iteration 60/100 | Max Change (Delta): 0.028078\n",
      "Iteration 70/100 | Max Change (Delta): 0.022965\n",
      "Iteration 80/100 | Max Change (Delta): 0.018784\n",
      "Iteration 90/100 | Max Change (Delta): 0.015363\n"
     ]
    },
    {
     "name": "stderr",
     "output_type": "stream",
     "text": [
      "INFO:root:Policy updated.\n",
      "  8%|▊         | 3345/40000 [10:28<16:07, 37.90it/s]  "
     ]
    },
    {
     "name": "stdout",
     "output_type": "stream",
     "text": [
      "Iteration 100/100 | Max Change (Delta): 0.012566\n",
      "\n",
      "Value iteration finished (max iterations reached).\n"
     ]
    },
    {
     "name": "stderr",
     "output_type": "stream",
     "text": [
      " 17%|█▋        | 6746/40000 [10:28<05:55, 93.60it/s]INFO:root:Updating optimal policy...\n"
     ]
    },
    {
     "name": "stdout",
     "output_type": "stream",
     "text": [
      "RUNNING THE L-BFGS-B CODE\n",
      "\n",
      "           * * *\n",
      "\n",
      "Machine precision = 2.220D-16\n",
      " N =            4     M =           10\n",
      "\n",
      "At X0         4 variables are exactly at the bounds\n",
      "\n",
      "At iterate    0    f=  6.11127D+02    |proj g|=  1.00000D+00\n",
      "\n",
      "At iterate    1    f=  5.93596D+02    |proj g|=  6.42302D-01\n",
      "\n",
      "At iterate    2    f=  5.93420D+02    |proj g|=  6.21785D-01\n",
      "\n",
      "At iterate    3    f=  5.93259D+02    |proj g|=  5.92914D-02\n"
     ]
    },
    {
     "name": "stderr",
     "output_type": "stream",
     "text": [
      "INFO:root:Theta updated. New theta_hat: [0.467 0.24  0.316 0.427]\n"
     ]
    },
    {
     "name": "stdout",
     "output_type": "stream",
     "text": [
      "\n",
      "At iterate    4    f=  5.93259D+02    |proj g|=  3.27114D-03\n",
      "\n",
      "At iterate    5    f=  5.93259D+02    |proj g|=  1.45545D-03\n",
      "\n",
      "           * * *\n",
      "\n",
      "Tit   = total number of iterations\n",
      "Tnf   = total number of function evaluations\n",
      "Tnint = total number of segments explored during Cauchy searches\n",
      "Skip  = number of BFGS updates skipped\n",
      "Nact  = number of active bounds at final generalized Cauchy point\n",
      "Projg = norm of the final projected gradient\n",
      "F     = final function value\n",
      "\n",
      "           * * *\n",
      "\n",
      "   N    Tit     Tnf  Tnint  Skip  Nact     Projg        F\n",
      "    4      5      7      8     0     0   1.455D-03   5.933D+02\n",
      "  F =   593.25918184620377     \n",
      "\n",
      "CONVERGENCE: REL_REDUCTION_OF_F_<=_FACTR*EPSMCH             \n",
      "Discretization setup:\n",
      "  - Cumulative Context (cc):    100 steps up to 8.00\n",
      "  - Cust. Degradation (cx):     50 steps up to 1.00\n",
      "  - Cust. Revenue (cu):         100 steps up to 1.00 (99.9th percentile)\n",
      "  - Rental Duration (T):        100 steps up to 76.01 (99.95th percentile)\n",
      "Pre-computing expectations from 100000 customer samples...\n",
      "Starting Numba-accelerated pre-computation of arrival dynamics...\n",
      "Pre-computation complete. ✅\n",
      "\n",
      "Starting Value Iteration...\n"
     ]
    },
    {
     "name": "stderr",
     "output_type": "stream",
     "text": [
      " 17%|█▋        | 6746/40000 [10:40<05:55, 93.60it/s]"
     ]
    },
    {
     "name": "stdout",
     "output_type": "stream",
     "text": [
      "Iteration 10/100 | Max Change (Delta): 0.201361\n",
      "Iteration 20/100 | Max Change (Delta): 0.148161\n",
      "Iteration 30/100 | Max Change (Delta): 0.118183\n",
      "Iteration 40/100 | Max Change (Delta): 0.096060\n",
      "Iteration 50/100 | Max Change (Delta): 0.078445\n",
      "Iteration 60/100 | Max Change (Delta): 0.064134\n",
      "Iteration 70/100 | Max Change (Delta): 0.052450\n",
      "Iteration 80/100 | Max Change (Delta): 0.042898\n",
      "Iteration 90/100 | Max Change (Delta): 0.035086\n"
     ]
    },
    {
     "name": "stderr",
     "output_type": "stream",
     "text": [
      "INFO:root:Policy updated.\n",
      " 19%|█▊        | 7411/40000 [11:47<14:12, 38.24it/s]INFO:root:Updating optimal policy...\n"
     ]
    },
    {
     "name": "stdout",
     "output_type": "stream",
     "text": [
      "Iteration 100/100 | Max Change (Delta): 0.028697\n",
      "\n",
      "Value iteration finished (max iterations reached).\n",
      "RUNNING THE L-BFGS-B CODE\n",
      "\n",
      "           * * *\n",
      "\n",
      "Machine precision = 2.220D-16\n",
      " N =            4     M =           10\n",
      "\n",
      "At X0         4 variables are exactly at the bounds\n",
      "\n",
      "At iterate    0    f=  1.15125D+03    |proj g|=  1.00000D+00\n",
      "\n",
      "At iterate    1    f=  1.09960D+03    |proj g|=  6.47105D-01\n",
      "\n",
      "At iterate    2    f=  1.09893D+03    |proj g|=  6.20503D-01\n",
      "\n",
      "At iterate    3    f=  1.09816D+03    |proj g|=  3.12972D-01\n"
     ]
    },
    {
     "name": "stderr",
     "output_type": "stream",
     "text": [
      "INFO:root:Theta updated. New theta_hat: [0.374 0.176 0.445 0.461]\n"
     ]
    },
    {
     "name": "stdout",
     "output_type": "stream",
     "text": [
      "\n",
      "At iterate    4    f=  1.09816D+03    |proj g|=  1.13041D-02\n",
      "\n",
      "At iterate    5    f=  1.09816D+03    |proj g|=  3.49919D-03\n",
      "\n",
      "           * * *\n",
      "\n",
      "Tit   = total number of iterations\n",
      "Tnf   = total number of function evaluations\n",
      "Tnint = total number of segments explored during Cauchy searches\n",
      "Skip  = number of BFGS updates skipped\n",
      "Nact  = number of active bounds at final generalized Cauchy point\n",
      "Projg = norm of the final projected gradient\n",
      "F     = final function value\n",
      "\n",
      "           * * *\n",
      "\n",
      "   N    Tit     Tnf  Tnint  Skip  Nact     Projg        F\n",
      "    4      5      7      8     0     0   3.499D-03   1.098D+03\n",
      "  F =   1098.1589465468173     \n",
      "\n",
      "CONVERGENCE: REL_REDUCTION_OF_F_<=_FACTR*EPSMCH             \n",
      "Discretization setup:\n",
      "  - Cumulative Context (cc):    100 steps up to 8.00\n",
      "  - Cust. Degradation (cx):     50 steps up to 1.00\n",
      "  - Cust. Revenue (cu):         100 steps up to 1.00 (99.9th percentile)\n",
      "  - Rental Duration (T):        100 steps up to 76.01 (99.95th percentile)\n",
      "Pre-computing expectations from 100000 customer samples...\n",
      "Starting Numba-accelerated pre-computation of arrival dynamics...\n",
      "Pre-computation complete. ✅\n",
      "\n",
      "Starting Value Iteration...\n",
      "Iteration 10/100 | Max Change (Delta): 0.200511\n",
      "Iteration 20/100 | Max Change (Delta): 0.147644\n",
      "Iteration 30/100 | Max Change (Delta): 0.117804\n",
      "Iteration 40/100 | Max Change (Delta): 0.095777\n",
      "Iteration 50/100 | Max Change (Delta): 0.078222\n",
      "Iteration 60/100 | Max Change (Delta): 0.063953\n",
      "Iteration 70/100 | Max Change (Delta): 0.052302\n",
      "Iteration 80/100 | Max Change (Delta): 0.042777\n",
      "Iteration 90/100 | Max Change (Delta): 0.034987\n"
     ]
    },
    {
     "name": "stderr",
     "output_type": "stream",
     "text": [
      "INFO:root:Policy updated.\n",
      " 22%|██▏       | 8792/40000 [13:06<18:24, 28.25it/s]INFO:root:Updating optimal policy...\n"
     ]
    },
    {
     "name": "stdout",
     "output_type": "stream",
     "text": [
      "Iteration 100/100 | Max Change (Delta): 0.028616\n",
      "\n",
      "Value iteration finished (max iterations reached).\n",
      "RUNNING THE L-BFGS-B CODE\n",
      "\n",
      "           * * *\n",
      "\n",
      "Machine precision = 2.220D-16\n",
      " N =            4     M =           10\n",
      "\n",
      "At X0         4 variables are exactly at the bounds\n",
      "\n",
      "At iterate    0    f=  1.76539D+03    |proj g|=  1.00000D+00\n",
      "\n",
      "At iterate    1    f=  1.68201D+03    |proj g|=  6.51175D-01\n",
      "\n",
      "At iterate    2    f=  1.67955D+03    |proj g|=  6.31164D-01\n",
      "\n",
      "At iterate    3    f=  1.67662D+03    |proj g|=  4.87289D-01\n",
      "\n",
      "At iterate    4    f=  1.67662D+03    |proj g|=  8.41722D-02\n",
      "\n",
      "At iterate    5    f=  1.67662D+03    |proj g|=  4.14975D-02\n",
      "\n",
      "At iterate    6    f=  1.67662D+03    |proj g|=  1.04309D-02\n"
     ]
    },
    {
     "name": "stderr",
     "output_type": "stream",
     "text": [
      "INFO:root:Theta updated. New theta_hat: [0.484 0.064 0.43  0.475]\n"
     ]
    },
    {
     "name": "stdout",
     "output_type": "stream",
     "text": [
      "\n",
      "At iterate    7    f=  1.67662D+03    |proj g|=  2.89253D-03\n",
      "\n",
      "           * * *\n",
      "\n",
      "Tit   = total number of iterations\n",
      "Tnf   = total number of function evaluations\n",
      "Tnint = total number of segments explored during Cauchy searches\n",
      "Skip  = number of BFGS updates skipped\n",
      "Nact  = number of active bounds at final generalized Cauchy point\n",
      "Projg = norm of the final projected gradient\n",
      "F     = final function value\n",
      "\n",
      "           * * *\n",
      "\n",
      "   N    Tit     Tnf  Tnint  Skip  Nact     Projg        F\n",
      "    4      7      9     10     0     0   2.893D-03   1.677D+03\n",
      "  F =   1676.6168378640043     \n",
      "\n",
      "CONVERGENCE: REL_REDUCTION_OF_F_<=_FACTR*EPSMCH             \n",
      "Discretization setup:\n",
      "  - Cumulative Context (cc):    100 steps up to 8.00\n",
      "  - Cust. Degradation (cx):     50 steps up to 1.00\n",
      "  - Cust. Revenue (cu):         100 steps up to 1.00 (99.9th percentile)\n",
      "  - Rental Duration (T):        100 steps up to 76.01 (99.95th percentile)\n",
      "Pre-computing expectations from 100000 customer samples...\n",
      "Starting Numba-accelerated pre-computation of arrival dynamics...\n",
      "Pre-computation complete. ✅\n",
      "\n",
      "Starting Value Iteration...\n",
      "Iteration 10/100 | Max Change (Delta): 0.199661\n"
     ]
    },
    {
     "name": "stderr",
     "output_type": "stream",
     "text": [
      " 22%|██▏       | 8792/40000 [13:20<18:24, 28.25it/s]"
     ]
    },
    {
     "name": "stdout",
     "output_type": "stream",
     "text": [
      "Iteration 20/100 | Max Change (Delta): 0.147200\n",
      "Iteration 30/100 | Max Change (Delta): 0.117564\n",
      "Iteration 40/100 | Max Change (Delta): 0.095618\n",
      "Iteration 50/100 | Max Change (Delta): 0.078102\n",
      "Iteration 60/100 | Max Change (Delta): 0.063859\n",
      "Iteration 70/100 | Max Change (Delta): 0.052226\n",
      "Iteration 80/100 | Max Change (Delta): 0.042715\n",
      "Iteration 90/100 | Max Change (Delta): 0.034936\n"
     ]
    },
    {
     "name": "stderr",
     "output_type": "stream",
     "text": [
      "INFO:root:Policy updated.\n",
      " 26%|██▌       | 10292/40000 [14:26<20:17, 24.40it/s]INFO:root:Updating optimal policy...\n"
     ]
    },
    {
     "name": "stdout",
     "output_type": "stream",
     "text": [
      "Iteration 100/100 | Max Change (Delta): 0.028575\n",
      "\n",
      "Value iteration finished (max iterations reached).\n",
      "RUNNING THE L-BFGS-B CODE\n",
      "\n",
      "           * * *\n",
      "\n",
      "Machine precision = 2.220D-16\n",
      " N =            4     M =           10\n",
      "\n",
      "At X0         4 variables are exactly at the bounds\n",
      "\n",
      "At iterate    0    f=  2.41746D+03    |proj g|=  1.00000D+00\n",
      "\n",
      "At iterate    1    f=  2.31374D+03    |proj g|=  6.65370D-01\n",
      "\n",
      "At iterate    2    f=  2.31059D+03    |proj g|=  6.49553D-01\n",
      "\n",
      "At iterate    3    f=  2.30695D+03    |proj g|=  5.39246D-01\n",
      "\n",
      "At iterate    4    f=  2.30694D+03    |proj g|=  8.23225D-02\n",
      "\n",
      "At iterate    5    f=  2.30694D+03    |proj g|=  3.09407D-02\n",
      "\n",
      "At iterate    6    f=  2.30694D+03    |proj g|=  1.29250D-02\n",
      "\n",
      "           * * *\n",
      "\n",
      "Tit   = total number of iterations\n",
      "Tnf   = total number of function evaluations\n",
      "Tnint = total number of segments explored during Cauchy searches\n",
      "Skip  = number of BFGS updates skipped\n",
      "Nact  = number of active bounds at final generalized Cauchy point\n",
      "Projg = norm of the final projected gradient\n",
      "F     = final function value\n",
      "\n",
      "           * * *\n",
      "\n",
      "   N    Tit     Tnf  Tnint  Skip  Nact     Projg        F\n",
      "    4      6      8      9     0     0   1.292D-02   2.307D+03\n",
      "  F =   2306.9423151170358     \n",
      "\n",
      "CONVERGENCE: REL_REDUCTION_OF_F_<=_FACTR*EPSMCH             \n"
     ]
    },
    {
     "name": "stderr",
     "output_type": "stream",
     "text": [
      "INFO:root:Theta updated. New theta_hat: [0.538 0.082 0.381 0.397]\n"
     ]
    },
    {
     "name": "stdout",
     "output_type": "stream",
     "text": [
      "Discretization setup:\n",
      "  - Cumulative Context (cc):    100 steps up to 8.00\n",
      "  - Cust. Degradation (cx):     50 steps up to 1.00\n",
      "  - Cust. Revenue (cu):         100 steps up to 1.00 (99.9th percentile)\n",
      "  - Rental Duration (T):        100 steps up to 76.01 (99.95th percentile)\n",
      "Pre-computing expectations from 100000 customer samples...\n",
      "Starting Numba-accelerated pre-computation of arrival dynamics...\n",
      "Pre-computation complete. ✅\n",
      "\n",
      "Starting Value Iteration...\n",
      "Iteration 10/100 | Max Change (Delta): 0.207881\n"
     ]
    },
    {
     "name": "stderr",
     "output_type": "stream",
     "text": [
      " 26%|██▌       | 10292/40000 [14:40<20:17, 24.40it/s]"
     ]
    },
    {
     "name": "stdout",
     "output_type": "stream",
     "text": [
      "Iteration 20/100 | Max Change (Delta): 0.152811\n",
      "Iteration 30/100 | Max Change (Delta): 0.121898\n",
      "Iteration 40/100 | Max Change (Delta): 0.099029\n",
      "Iteration 50/100 | Max Change (Delta): 0.080859\n",
      "Iteration 60/100 | Max Change (Delta): 0.066107\n",
      "Iteration 70/100 | Max Change (Delta): 0.054063\n",
      "Iteration 80/100 | Max Change (Delta): 0.044217\n",
      "Iteration 90/100 | Max Change (Delta): 0.036165\n"
     ]
    },
    {
     "name": "stderr",
     "output_type": "stream",
     "text": [
      "INFO:root:Policy updated.\n",
      " 29%|██▉       | 11750/40000 [15:46<21:18, 22.10it/s]INFO:root:Updating optimal policy...\n"
     ]
    },
    {
     "name": "stdout",
     "output_type": "stream",
     "text": [
      "Iteration 100/100 | Max Change (Delta): 0.029580\n",
      "\n",
      "Value iteration finished (max iterations reached).\n",
      "RUNNING THE L-BFGS-B CODE\n",
      "\n",
      "           * * *\n",
      "\n",
      "Machine precision = 2.220D-16\n",
      " N =            4     M =           10\n",
      "\n",
      "At X0         4 variables are exactly at the bounds\n",
      "\n",
      "At iterate    0    f=  3.08723D+03    |proj g|=  1.00000D+00\n",
      "\n",
      "At iterate    1    f=  2.95874D+03    |proj g|=  6.72801D-01\n",
      "\n",
      "At iterate    2    f=  2.95629D+03    |proj g|=  6.42200D-01\n",
      "\n",
      "At iterate    3    f=  2.95344D+03    |proj g|=  4.28396D-01\n",
      "\n",
      "At iterate    4    f=  2.95343D+03    |proj g|=  6.08122D-02\n",
      "\n",
      "At iterate    5    f=  2.95343D+03    |proj g|=  9.05055D-03\n"
     ]
    },
    {
     "name": "stderr",
     "output_type": "stream",
     "text": [
      "INFO:root:Theta updated. New theta_hat: [0.461 0.128 0.427 0.339]\n"
     ]
    },
    {
     "name": "stdout",
     "output_type": "stream",
     "text": [
      "\n",
      "At iterate    6    f=  2.95343D+03    |proj g|=  5.07267D-03\n",
      "\n",
      "           * * *\n",
      "\n",
      "Tit   = total number of iterations\n",
      "Tnf   = total number of function evaluations\n",
      "Tnint = total number of segments explored during Cauchy searches\n",
      "Skip  = number of BFGS updates skipped\n",
      "Nact  = number of active bounds at final generalized Cauchy point\n",
      "Projg = norm of the final projected gradient\n",
      "F     = final function value\n",
      "\n",
      "           * * *\n",
      "\n",
      "   N    Tit     Tnf  Tnint  Skip  Nact     Projg        F\n",
      "    4      6      8      9     0     0   5.073D-03   2.953D+03\n",
      "  F =   2953.4339763402259     \n",
      "\n",
      "CONVERGENCE: REL_REDUCTION_OF_F_<=_FACTR*EPSMCH             \n",
      "Discretization setup:\n",
      "  - Cumulative Context (cc):    100 steps up to 8.00\n",
      "  - Cust. Degradation (cx):     50 steps up to 1.00\n",
      "  - Cust. Revenue (cu):         100 steps up to 1.00 (99.9th percentile)\n",
      "  - Rental Duration (T):        100 steps up to 76.01 (99.95th percentile)\n",
      "Pre-computing expectations from 100000 customer samples...\n",
      "Starting Numba-accelerated pre-computation of arrival dynamics...\n",
      "Pre-computation complete. ✅\n",
      "\n",
      "Starting Value Iteration...\n",
      "Iteration 10/100 | Max Change (Delta): 0.215623\n"
     ]
    },
    {
     "name": "stderr",
     "output_type": "stream",
     "text": [
      " 29%|██▉       | 11750/40000 [16:00<21:18, 22.10it/s]"
     ]
    },
    {
     "name": "stdout",
     "output_type": "stream",
     "text": [
      "Iteration 20/100 | Max Change (Delta): 0.158270\n",
      "Iteration 30/100 | Max Change (Delta): 0.125899\n",
      "Iteration 40/100 | Max Change (Delta): 0.102161\n",
      "Iteration 50/100 | Max Change (Delta): 0.083375\n",
      "Iteration 60/100 | Max Change (Delta): 0.068152\n",
      "Iteration 70/100 | Max Change (Delta): 0.055732\n",
      "Iteration 80/100 | Max Change (Delta): 0.045582\n",
      "Iteration 90/100 | Max Change (Delta): 0.037281\n"
     ]
    },
    {
     "name": "stderr",
     "output_type": "stream",
     "text": [
      "INFO:root:Policy updated.\n",
      " 33%|███▎      | 13256/40000 [17:07<21:17, 20.93it/s]INFO:root:Updating optimal policy...\n"
     ]
    },
    {
     "name": "stdout",
     "output_type": "stream",
     "text": [
      "Iteration 100/100 | Max Change (Delta): 0.030492\n",
      "\n",
      "Value iteration finished (max iterations reached).\n",
      "RUNNING THE L-BFGS-B CODE\n",
      "\n",
      "           * * *\n",
      "\n",
      "Machine precision = 2.220D-16\n",
      " N =            4     M =           10\n",
      "\n",
      "At X0         4 variables are exactly at the bounds\n",
      "\n",
      "At iterate    0    f=  3.76515D+03    |proj g|=  1.00000D+00\n",
      "\n",
      "At iterate    1    f=  3.61195D+03    |proj g|=  6.73871D-01\n",
      "\n",
      "At iterate    2    f=  3.60734D+03    |proj g|=  6.47987D-01\n",
      "\n",
      "At iterate    3    f=  3.60223D+03    |proj g|=  5.48437D-01\n",
      "\n",
      "At iterate    4    f=  3.60222D+03    |proj g|=  1.02333D-01\n",
      "\n",
      "At iterate    5    f=  3.60222D+03    |proj g|=  2.84976D-02\n"
     ]
    },
    {
     "name": "stderr",
     "output_type": "stream",
     "text": [
      "INFO:root:Theta updated. New theta_hat: [0.548 0.113 0.395 0.302]\n"
     ]
    },
    {
     "name": "stdout",
     "output_type": "stream",
     "text": [
      "\n",
      "At iterate    6    f=  3.60222D+03    |proj g|=  1.19458D-02\n",
      "\n",
      "           * * *\n",
      "\n",
      "Tit   = total number of iterations\n",
      "Tnf   = total number of function evaluations\n",
      "Tnint = total number of segments explored during Cauchy searches\n",
      "Skip  = number of BFGS updates skipped\n",
      "Nact  = number of active bounds at final generalized Cauchy point\n",
      "Projg = norm of the final projected gradient\n",
      "F     = final function value\n",
      "\n",
      "           * * *\n",
      "\n",
      "   N    Tit     Tnf  Tnint  Skip  Nact     Projg        F\n",
      "    4      6      8      9     0     0   1.195D-02   3.602D+03\n",
      "  F =   3602.2205503000878     \n",
      "\n",
      "CONVERGENCE: REL_REDUCTION_OF_F_<=_FACTR*EPSMCH             \n",
      "Discretization setup:\n",
      "  - Cumulative Context (cc):    100 steps up to 8.00\n",
      "  - Cust. Degradation (cx):     50 steps up to 1.00\n",
      "  - Cust. Revenue (cu):         100 steps up to 1.00 (99.9th percentile)\n",
      "  - Rental Duration (T):        100 steps up to 76.01 (99.95th percentile)\n",
      "Pre-computing expectations from 100000 customer samples...\n",
      "Starting Numba-accelerated pre-computation of arrival dynamics...\n",
      "Pre-computation complete. ✅\n",
      "\n",
      "Starting Value Iteration...\n"
     ]
    },
    {
     "name": "stderr",
     "output_type": "stream",
     "text": [
      " 33%|███▎      | 13256/40000 [17:20<21:17, 20.93it/s]"
     ]
    },
    {
     "name": "stdout",
     "output_type": "stream",
     "text": [
      "Iteration 10/100 | Max Change (Delta): 0.213771\n",
      "Iteration 20/100 | Max Change (Delta): 0.157206\n",
      "Iteration 30/100 | Max Change (Delta): 0.125090\n",
      "Iteration 40/100 | Max Change (Delta): 0.101554\n",
      "Iteration 50/100 | Max Change (Delta): 0.082893\n",
      "Iteration 60/100 | Max Change (Delta): 0.067762\n",
      "Iteration 70/100 | Max Change (Delta): 0.055415\n",
      "Iteration 80/100 | Max Change (Delta): 0.045322\n",
      "Iteration 90/100 | Max Change (Delta): 0.037069\n"
     ]
    },
    {
     "name": "stderr",
     "output_type": "stream",
     "text": [
      "INFO:root:Policy updated.\n",
      " 36%|███▌      | 14370/40000 [18:29<23:11, 18.41it/s]INFO:root:Updating optimal policy...\n"
     ]
    },
    {
     "name": "stdout",
     "output_type": "stream",
     "text": [
      "Iteration 100/100 | Max Change (Delta): 0.030319\n",
      "\n",
      "Value iteration finished (max iterations reached).\n",
      "RUNNING THE L-BFGS-B CODE\n",
      "\n",
      "           * * *\n",
      "\n",
      "Machine precision = 2.220D-16\n",
      " N =            4     M =           10\n",
      "\n",
      "At X0         4 variables are exactly at the bounds\n",
      "\n",
      "At iterate    0    f=  4.45891D+03    |proj g|=  1.00000D+00\n",
      "\n",
      "At iterate    1    f=  4.27551D+03    |proj g|=  6.75154D-01\n",
      "\n",
      "At iterate    2    f=  4.27072D+03    |proj g|=  6.51881D-01\n",
      "\n",
      "At iterate    3    f=  4.26520D+03    |proj g|=  5.31506D-01\n",
      "\n",
      "At iterate    4    f=  4.26519D+03    |proj g|=  1.19851D-01\n",
      "\n",
      "At iterate    5    f=  4.26519D+03    |proj g|=  2.98160D-02\n"
     ]
    },
    {
     "name": "stderr",
     "output_type": "stream",
     "text": [
      "INFO:root:Theta updated. New theta_hat: [0.53  0.12  0.396 0.309]\n"
     ]
    },
    {
     "name": "stdout",
     "output_type": "stream",
     "text": [
      "\n",
      "At iterate    6    f=  4.26519D+03    |proj g|=  1.38893D-02\n",
      "\n",
      "           * * *\n",
      "\n",
      "Tit   = total number of iterations\n",
      "Tnf   = total number of function evaluations\n",
      "Tnint = total number of segments explored during Cauchy searches\n",
      "Skip  = number of BFGS updates skipped\n",
      "Nact  = number of active bounds at final generalized Cauchy point\n",
      "Projg = norm of the final projected gradient\n",
      "F     = final function value\n",
      "\n",
      "           * * *\n",
      "\n",
      "   N    Tit     Tnf  Tnint  Skip  Nact     Projg        F\n",
      "    4      6      8      9     0     0   1.389D-02   4.265D+03\n",
      "  F =   4265.1945805700079     \n",
      "\n",
      "CONVERGENCE: REL_REDUCTION_OF_F_<=_FACTR*EPSMCH             \n",
      "Discretization setup:\n",
      "  - Cumulative Context (cc):    100 steps up to 8.00\n",
      "  - Cust. Degradation (cx):     50 steps up to 1.00\n",
      "  - Cust. Revenue (cu):         100 steps up to 1.00 (99.9th percentile)\n",
      "  - Rental Duration (T):        100 steps up to 76.01 (99.95th percentile)\n",
      "Pre-computing expectations from 100000 customer samples...\n",
      "Starting Numba-accelerated pre-computation of arrival dynamics...\n",
      "Pre-computation complete. ✅\n",
      "\n",
      "Starting Value Iteration...\n"
     ]
    },
    {
     "name": "stderr",
     "output_type": "stream",
     "text": [
      " 36%|███▌      | 14370/40000 [18:40<23:11, 18.41it/s]"
     ]
    },
    {
     "name": "stdout",
     "output_type": "stream",
     "text": [
      "Iteration 10/100 | Max Change (Delta): 0.215069\n",
      "Iteration 20/100 | Max Change (Delta): 0.158063\n",
      "Iteration 30/100 | Max Change (Delta): 0.125748\n",
      "Iteration 40/100 | Max Change (Delta): 0.102070\n",
      "Iteration 50/100 | Max Change (Delta): 0.083309\n",
      "Iteration 60/100 | Max Change (Delta): 0.068100\n",
      "Iteration 70/100 | Max Change (Delta): 0.055691\n",
      "Iteration 80/100 | Max Change (Delta): 0.045548\n",
      "Iteration 90/100 | Max Change (Delta): 0.037253\n"
     ]
    },
    {
     "name": "stderr",
     "output_type": "stream",
     "text": [
      "INFO:root:Policy updated.\n",
      " 39%|███▉      | 15544/40000 [19:53<24:02, 16.95it/s]INFO:root:Updating optimal policy...\n"
     ]
    },
    {
     "name": "stdout",
     "output_type": "stream",
     "text": [
      "Iteration 100/100 | Max Change (Delta): 0.030470\n",
      "\n",
      "Value iteration finished (max iterations reached).\n",
      "RUNNING THE L-BFGS-B CODE\n",
      "\n",
      "           * * *\n",
      "\n",
      "Machine precision = 2.220D-16\n",
      " N =            4     M =           10\n",
      "\n",
      "At X0         4 variables are exactly at the bounds\n",
      "\n",
      "At iterate    0    f=  5.17740D+03    |proj g|=  1.00000D+00\n",
      "\n",
      "At iterate    1    f=  4.97363D+03    |proj g|=  6.80313D-01\n",
      "\n",
      "At iterate    2    f=  4.96788D+03    |proj g|=  6.53680D-01\n",
      "\n",
      "At iterate    3    f=  4.96088D+03    |proj g|=  5.21377D-01\n",
      "\n",
      "At iterate    4    f=  4.96088D+03    |proj g|=  1.59637D-01\n",
      "\n",
      "At iterate    5    f=  4.96088D+03    |proj g|=  6.33375D-02\n",
      "\n",
      "At iterate    6    f=  4.96088D+03    |proj g|=  1.72175D-02\n",
      "\n",
      "           * * *\n",
      "\n",
      "Tit   = total number of iterations\n",
      "Tnf   = total number of function evaluations\n",
      "Tnint = total number of segments explored during Cauchy searches\n",
      "Skip  = number of BFGS updates skipped\n",
      "Nact  = number of active bounds at final generalized Cauchy point\n",
      "Projg = norm of the final projected gradient\n",
      "F     = final function value\n",
      "\n",
      "           * * *\n",
      "\n",
      "   N    Tit     Tnf  Tnint  Skip  Nact     Projg        F\n",
      "    4      6      8      9     0     0   1.722D-02   4.961D+03\n",
      "  F =   4960.8755109893900     \n",
      "\n",
      "CONVERGENCE: REL_REDUCTION_OF_F_<=_FACTR*EPSMCH             \n"
     ]
    },
    {
     "name": "stderr",
     "output_type": "stream",
     "text": [
      "INFO:root:Theta updated. New theta_hat: [0.52  0.09  0.404 0.323]\n"
     ]
    },
    {
     "name": "stdout",
     "output_type": "stream",
     "text": [
      "Discretization setup:\n",
      "  - Cumulative Context (cc):    100 steps up to 8.00\n",
      "  - Cust. Degradation (cx):     50 steps up to 1.00\n",
      "  - Cust. Revenue (cu):         100 steps up to 1.00 (99.9th percentile)\n",
      "  - Rental Duration (T):        100 steps up to 76.01 (99.95th percentile)\n",
      "Pre-computing expectations from 100000 customer samples...\n",
      "Starting Numba-accelerated pre-computation of arrival dynamics...\n",
      "Pre-computation complete. ✅\n",
      "\n",
      "Starting Value Iteration...\n",
      "Iteration 10/100 | Max Change (Delta): 0.217210\n"
     ]
    },
    {
     "name": "stderr",
     "output_type": "stream",
     "text": [
      " 39%|███▉      | 15544/40000 [20:10<24:02, 16.95it/s]"
     ]
    },
    {
     "name": "stdout",
     "output_type": "stream",
     "text": [
      "Iteration 20/100 | Max Change (Delta): 0.159577\n",
      "Iteration 30/100 | Max Change (Delta): 0.126898\n",
      "Iteration 40/100 | Max Change (Delta): 0.102978\n",
      "Iteration 50/100 | Max Change (Delta): 0.084041\n",
      "Iteration 60/100 | Max Change (Delta): 0.068695\n",
      "Iteration 70/100 | Max Change (Delta): 0.056177\n",
      "Iteration 80/100 | Max Change (Delta): 0.045945\n",
      "Iteration 90/100 | Max Change (Delta): 0.037578\n"
     ]
    },
    {
     "name": "stderr",
     "output_type": "stream",
     "text": [
      "INFO:root:Policy updated.\n",
      " 42%|████▏     | 16827/40000 [21:14<23:15, 16.60it/s]INFO:root:Updating optimal policy...\n"
     ]
    },
    {
     "name": "stdout",
     "output_type": "stream",
     "text": [
      "Iteration 100/100 | Max Change (Delta): 0.030735\n",
      "\n",
      "Value iteration finished (max iterations reached).\n",
      "RUNNING THE L-BFGS-B CODE\n",
      "\n",
      "           * * *\n",
      "\n",
      "Machine precision = 2.220D-16\n",
      " N =            4     M =           10\n",
      "\n",
      "At X0         4 variables are exactly at the bounds\n",
      "\n",
      "At iterate    0    f=  5.90905D+03    |proj g|=  1.00000D+00\n",
      "\n",
      "At iterate    1    f=  5.66890D+03    |proj g|=  6.72228D-01\n",
      "\n",
      "At iterate    2    f=  5.66323D+03    |proj g|=  6.62461D-01\n",
      "\n",
      "At iterate    3    f=  5.65659D+03    |proj g|=  5.22768D-01\n",
      "\n",
      "At iterate    4    f=  5.65659D+03    |proj g|=  1.20515D-01\n",
      "\n",
      "At iterate    5    f=  5.65659D+03    |proj g|=  4.05486D-02\n",
      "\n",
      "At iterate    6    f=  5.65659D+03    |proj g|=  1.84628D-02\n",
      "\n",
      "           * * *\n",
      "\n",
      "Tit   = total number of iterations\n",
      "Tnf   = total number of function evaluations\n",
      "Tnint = total number of segments explored during Cauchy searches\n",
      "Skip  = number of BFGS updates skipped\n",
      "Nact  = number of active bounds at final generalized Cauchy point\n",
      "Projg = norm of the final projected gradient\n",
      "F     = final function value\n",
      "\n",
      "           * * *\n",
      "\n",
      "   N    Tit     Tnf  Tnint  Skip  Nact     Projg        F\n",
      "    4      6      8      9     0     0   1.846D-02   5.657D+03\n",
      "  F =   5656.5871004456621     \n",
      "\n",
      "CONVERGENCE: REL_REDUCTION_OF_F_<=_FACTR*EPSMCH             \n"
     ]
    },
    {
     "name": "stderr",
     "output_type": "stream",
     "text": [
      "INFO:root:Theta updated. New theta_hat: [0.522 0.117 0.365 0.36 ]\n"
     ]
    },
    {
     "name": "stdout",
     "output_type": "stream",
     "text": [
      "Discretization setup:\n",
      "  - Cumulative Context (cc):    100 steps up to 8.00\n",
      "  - Cust. Degradation (cx):     50 steps up to 1.00\n",
      "  - Cust. Revenue (cu):         100 steps up to 1.00 (99.9th percentile)\n",
      "  - Rental Duration (T):        100 steps up to 76.01 (99.95th percentile)\n",
      "Pre-computing expectations from 100000 customer samples...\n",
      "Starting Numba-accelerated pre-computation of arrival dynamics...\n",
      "Pre-computation complete. ✅\n",
      "\n",
      "Starting Value Iteration...\n"
     ]
    },
    {
     "name": "stderr",
     "output_type": "stream",
     "text": [
      " 42%|████▏     | 16827/40000 [21:30<23:15, 16.60it/s]"
     ]
    },
    {
     "name": "stdout",
     "output_type": "stream",
     "text": [
      "Iteration 10/100 | Max Change (Delta): 0.213527\n",
      "Iteration 20/100 | Max Change (Delta): 0.156847\n",
      "Iteration 30/100 | Max Change (Delta): 0.124901\n",
      "Iteration 40/100 | Max Change (Delta): 0.101387\n",
      "Iteration 50/100 | Max Change (Delta): 0.082761\n",
      "Iteration 60/100 | Max Change (Delta): 0.067654\n",
      "Iteration 70/100 | Max Change (Delta): 0.055327\n",
      "Iteration 80/100 | Max Change (Delta): 0.045250\n",
      "Iteration 90/100 | Max Change (Delta): 0.037010\n"
     ]
    },
    {
     "name": "stderr",
     "output_type": "stream",
     "text": [
      "INFO:root:Policy updated.\n",
      " 45%|████▌     | 18153/40000 [22:42<22:34, 16.13it/s]INFO:root:Updating optimal policy...\n"
     ]
    },
    {
     "name": "stdout",
     "output_type": "stream",
     "text": [
      "Iteration 100/100 | Max Change (Delta): 0.030271\n",
      "\n",
      "Value iteration finished (max iterations reached).\n",
      "RUNNING THE L-BFGS-B CODE\n",
      "\n",
      "           * * *\n",
      "\n",
      "Machine precision = 2.220D-16\n",
      " N =            4     M =           10\n",
      "\n",
      "At X0         4 variables are exactly at the bounds\n",
      "\n",
      "At iterate    0    f=  6.63948D+03    |proj g|=  1.00000D+00\n",
      "\n",
      "At iterate    1    f=  6.35601D+03    |proj g|=  6.62759D-01\n",
      "\n",
      "At iterate    2    f=  6.34997D+03    |proj g|=  6.36147D-01\n",
      "\n",
      "At iterate    3    f=  6.34297D+03    |proj g|=  5.05468D-01\n",
      "\n",
      "At iterate    4    f=  6.34297D+03    |proj g|=  1.53195D-01\n",
      "\n",
      "At iterate    5    f=  6.34297D+03    |proj g|=  5.30017D-02\n",
      "\n",
      "At iterate    6    f=  6.34297D+03    |proj g|=  1.61868D-02\n",
      "\n",
      "           * * *\n",
      "\n",
      "Tit   = total number of iterations\n",
      "Tnf   = total number of function evaluations\n",
      "Tnint = total number of segments explored during Cauchy searches\n",
      "Skip  = number of BFGS updates skipped\n",
      "Nact  = number of active bounds at final generalized Cauchy point\n",
      "Projg = norm of the final projected gradient\n",
      "F     = final function value\n",
      "\n",
      "           * * *\n",
      "\n",
      "   N    Tit     Tnf  Tnint  Skip  Nact     Projg        F\n",
      "    4      6      8      9     0     0   1.619D-02   6.343D+03\n",
      "  F =   6342.9661390729207     \n",
      "\n",
      "CONVERGENCE: REL_REDUCTION_OF_F_<=_FACTR*EPSMCH             \n"
     ]
    },
    {
     "name": "stderr",
     "output_type": "stream",
     "text": [
      "INFO:root:Theta updated. New theta_hat: [0.505 0.127 0.421 0.347]\n"
     ]
    },
    {
     "name": "stdout",
     "output_type": "stream",
     "text": [
      "Discretization setup:\n",
      "  - Cumulative Context (cc):    100 steps up to 8.00\n",
      "  - Cust. Degradation (cx):     50 steps up to 1.00\n",
      "  - Cust. Revenue (cu):         100 steps up to 1.00 (99.9th percentile)\n",
      "  - Rental Duration (T):        100 steps up to 76.01 (99.95th percentile)\n",
      "Pre-computing expectations from 100000 customer samples...\n",
      "Starting Numba-accelerated pre-computation of arrival dynamics...\n",
      "Pre-computation complete. ✅\n",
      "\n",
      "Starting Value Iteration...\n"
     ]
    },
    {
     "name": "stderr",
     "output_type": "stream",
     "text": [
      " 45%|████▌     | 18153/40000 [23:00<22:34, 16.13it/s]"
     ]
    },
    {
     "name": "stdout",
     "output_type": "stream",
     "text": [
      "Iteration 10/100 | Max Change (Delta): 0.208671\n",
      "Iteration 20/100 | Max Change (Delta): 0.153355\n",
      "Iteration 30/100 | Max Change (Delta): 0.122301\n",
      "Iteration 40/100 | Max Change (Delta): 0.099328\n",
      "Iteration 50/100 | Max Change (Delta): 0.081095\n",
      "Iteration 60/100 | Max Change (Delta): 0.066297\n",
      "Iteration 70/100 | Max Change (Delta): 0.054218\n",
      "Iteration 80/100 | Max Change (Delta): 0.044344\n",
      "Iteration 90/100 | Max Change (Delta): 0.036268\n"
     ]
    },
    {
     "name": "stderr",
     "output_type": "stream",
     "text": [
      "INFO:root:Policy updated.\n",
      " 49%|████▊     | 19406/40000 [24:13<22:19, 15.38it/s]INFO:root:Updating optimal policy...\n"
     ]
    },
    {
     "name": "stdout",
     "output_type": "stream",
     "text": [
      "Iteration 100/100 | Max Change (Delta): 0.029664\n",
      "\n",
      "Value iteration finished (max iterations reached).\n",
      "RUNNING THE L-BFGS-B CODE\n",
      "\n",
      "           * * *\n",
      "\n",
      "Machine precision = 2.220D-16\n",
      " N =            4     M =           10\n",
      "\n",
      "At X0         4 variables are exactly at the bounds\n",
      "\n",
      "At iterate    0    f=  7.39325D+03    |proj g|=  1.00000D+00\n"
     ]
    },
    {
     "name": "stderr",
     "output_type": "stream",
     "text": [
      " 49%|████▊     | 19406/40000 [24:30<22:19, 15.38it/s]"
     ]
    },
    {
     "name": "stdout",
     "output_type": "stream",
     "text": [
      "\n",
      "At iterate    1    f=  7.06736D+03    |proj g|=  6.55482D-01\n",
      "\n",
      "At iterate    2    f=  7.06091D+03    |proj g|=  6.32621D-01\n",
      "\n",
      "At iterate    3    f=  7.05366D+03    |proj g|=  5.23118D-01\n",
      "\n",
      "At iterate    4    f=  7.05366D+03    |proj g|=  1.37018D-01\n",
      "\n",
      "At iterate    5    f=  7.05366D+03    |proj g|=  5.19120D-02\n",
      "\n",
      "At iterate    6    f=  7.05366D+03    |proj g|=  9.10268D-03\n",
      "\n",
      "           * * *\n",
      "\n",
      "Tit   = total number of iterations\n",
      "Tnf   = total number of function evaluations\n",
      "Tnint = total number of segments explored during Cauchy searches\n",
      "Skip  = number of BFGS updates skipped\n",
      "Nact  = number of active bounds at final generalized Cauchy point\n",
      "Projg = norm of the final projected gradient\n",
      "F     = final function value\n",
      "\n",
      "           * * *\n",
      "\n",
      "   N    Tit     Tnf  Tnint  Skip  Nact     Projg        F\n",
      "    4      6      8      9     0     0   9.103D-03   7.054D+03\n",
      "  F =   7053.6569552668252     \n",
      "\n",
      "CONVERGENCE: REL_REDUCTION_OF_F_<=_FACTR*EPSMCH             \n"
     ]
    },
    {
     "name": "stderr",
     "output_type": "stream",
     "text": [
      "INFO:root:Theta updated. New theta_hat: [0.522 0.148 0.411 0.349]\n"
     ]
    },
    {
     "name": "stdout",
     "output_type": "stream",
     "text": [
      "Discretization setup:\n",
      "  - Cumulative Context (cc):    100 steps up to 8.00\n",
      "  - Cust. Degradation (cx):     50 steps up to 1.00\n",
      "  - Cust. Revenue (cu):         100 steps up to 1.00 (99.9th percentile)\n",
      "  - Rental Duration (T):        100 steps up to 76.01 (99.95th percentile)\n",
      "Pre-computing expectations from 100000 customer samples...\n",
      "Starting Numba-accelerated pre-computation of arrival dynamics...\n",
      "Pre-computation complete. ✅\n",
      "\n",
      "Starting Value Iteration...\n",
      "Iteration 10/100 | Max Change (Delta): 0.203830\n",
      "Iteration 20/100 | Max Change (Delta): 0.150054\n",
      "Iteration 30/100 | Max Change (Delta): 0.119753\n",
      "Iteration 40/100 | Max Change (Delta): 0.097315\n",
      "Iteration 50/100 | Max Change (Delta): 0.079467\n",
      "Iteration 60/100 | Max Change (Delta): 0.064970\n",
      "Iteration 70/100 | Max Change (Delta): 0.053134\n",
      "Iteration 80/100 | Max Change (Delta): 0.043457\n",
      "Iteration 90/100 | Max Change (Delta): 0.035544\n"
     ]
    },
    {
     "name": "stderr",
     "output_type": "stream",
     "text": [
      "INFO:root:Policy updated.\n",
      " 52%|█████▏    | 20694/40000 [26:29<24:53, 12.92it/s]INFO:root:Updating optimal policy...\n"
     ]
    },
    {
     "name": "stdout",
     "output_type": "stream",
     "text": [
      "Iteration 100/100 | Max Change (Delta): 0.029071\n",
      "\n",
      "Value iteration finished (max iterations reached).\n",
      "RUNNING THE L-BFGS-B CODE\n",
      "\n",
      "           * * *\n",
      "\n",
      "Machine precision = 2.220D-16\n",
      " N =            4     M =           10\n",
      "\n",
      "At X0         4 variables are exactly at the bounds\n",
      "\n",
      "At iterate    0    f=  8.16518D+03    |proj g|=  1.00000D+00\n",
      "\n",
      "At iterate    1    f=  7.81721D+03    |proj g|=  6.57945D-01\n",
      "\n",
      "At iterate    2    f=  7.80887D+03    |proj g|=  6.36787D-01\n",
      "\n",
      "At iterate    3    f=  7.79946D+03    |proj g|=  5.41853D-01\n",
      "\n",
      "At iterate    4    f=  7.79945D+03    |proj g|=  2.04654D-01\n",
      "\n",
      "At iterate    5    f=  7.79945D+03    |proj g|=  7.22415D-02\n",
      "\n",
      "At iterate    6    f=  7.79945D+03    |proj g|=  3.05400D-03\n",
      "\n",
      "           * * *\n",
      "\n",
      "Tit   = total number of iterations\n",
      "Tnf   = total number of function evaluations\n",
      "Tnint = total number of segments explored during Cauchy searches\n",
      "Skip  = number of BFGS updates skipped\n",
      "Nact  = number of active bounds at final generalized Cauchy point\n",
      "Projg = norm of the final projected gradient\n",
      "F     = final function value\n",
      "\n",
      "           * * *\n",
      "\n",
      "   N    Tit     Tnf  Tnint  Skip  Nact     Projg        F\n",
      "    4      6      8      9     0     0   3.054D-03   7.799D+03\n",
      "  F =   7799.4481721874754     \n",
      "\n",
      "CONVERGENCE: REL_REDUCTION_OF_F_<=_FACTR*EPSMCH             \n"
     ]
    },
    {
     "name": "stderr",
     "output_type": "stream",
     "text": [
      "INFO:root:Theta updated. New theta_hat: [0.54  0.128 0.404 0.346]\n"
     ]
    },
    {
     "name": "stdout",
     "output_type": "stream",
     "text": [
      "Discretization setup:\n",
      "  - Cumulative Context (cc):    100 steps up to 8.00\n",
      "  - Cust. Degradation (cx):     50 steps up to 1.00\n",
      "  - Cust. Revenue (cu):         100 steps up to 1.00 (99.9th percentile)\n",
      "  - Rental Duration (T):        100 steps up to 76.01 (99.95th percentile)\n",
      "Pre-computing expectations from 100000 customer samples...\n",
      "Starting Numba-accelerated pre-computation of arrival dynamics...\n",
      "Pre-computation complete. ✅\n",
      "\n",
      "Starting Value Iteration...\n",
      "Iteration 10/100 | Max Change (Delta): 0.206435\n",
      "Iteration 20/100 | Max Change (Delta): 0.151903\n",
      "Iteration 30/100 | Max Change (Delta): 0.121186\n",
      "Iteration 40/100 | Max Change (Delta): 0.098457\n",
      "Iteration 50/100 | Max Change (Delta): 0.080394\n",
      "Iteration 60/100 | Max Change (Delta): 0.065727\n",
      "Iteration 70/100 | Max Change (Delta): 0.053752\n",
      "Iteration 80/100 | Max Change (Delta): 0.043963\n",
      "Iteration 90/100 | Max Change (Delta): 0.035957\n"
     ]
    },
    {
     "name": "stderr",
     "output_type": "stream",
     "text": [
      "INFO:root:Policy updated.\n",
      " 55%|█████▌    | 22046/40000 [29:25<28:02, 10.67it/s]INFO:root:Updating optimal policy...\n"
     ]
    },
    {
     "name": "stdout",
     "output_type": "stream",
     "text": [
      "Iteration 100/100 | Max Change (Delta): 0.029409\n",
      "\n",
      "Value iteration finished (max iterations reached).\n",
      "RUNNING THE L-BFGS-B CODE\n",
      "\n",
      "           * * *\n",
      "\n",
      "Machine precision = 2.220D-16\n",
      " N =            4     M =           10\n",
      "\n",
      "At X0         4 variables are exactly at the bounds\n",
      "\n",
      "At iterate    0    f=  8.93680D+03    |proj g|=  1.00000D+00\n",
      "\n",
      "At iterate    1    f=  8.55738D+03    |proj g|=  6.56533D-01\n",
      "\n",
      "At iterate    2    f=  8.54990D+03    |proj g|=  6.39792D-01\n",
      "\n",
      "At iterate    3    f=  8.54149D+03    |proj g|=  5.32309D-01\n",
      "\n",
      "At iterate    4    f=  8.54148D+03    |proj g|=  1.85073D-01\n",
      "\n",
      "At iterate    5    f=  8.54148D+03    |proj g|=  6.76324D-02\n",
      "\n",
      "At iterate    6    f=  8.54148D+03    |proj g|=  3.00477D-03\n",
      "\n",
      "           * * *\n",
      "\n",
      "Tit   = total number of iterations\n",
      "Tnf   = total number of function evaluations\n",
      "Tnint = total number of segments explored during Cauchy searches\n",
      "Skip  = number of BFGS updates skipped\n",
      "Nact  = number of active bounds at final generalized Cauchy point\n",
      "Projg = norm of the final projected gradient\n",
      "F     = final function value\n",
      "\n",
      "           * * *\n",
      "\n",
      "   N    Tit     Tnf  Tnint  Skip  Nact     Projg        F\n",
      "    4      6      8      9     0     0   3.005D-03   8.541D+03\n",
      "  F =   8541.4822850549426     \n",
      "\n",
      "CONVERGENCE: REL_REDUCTION_OF_F_<=_FACTR*EPSMCH             \n"
     ]
    },
    {
     "name": "stderr",
     "output_type": "stream",
     "text": [
      "INFO:root:Theta updated. New theta_hat: [0.53  0.154 0.39  0.342]\n"
     ]
    },
    {
     "name": "stdout",
     "output_type": "stream",
     "text": [
      "Discretization setup:\n",
      "  - Cumulative Context (cc):    100 steps up to 8.00\n",
      "  - Cust. Degradation (cx):     50 steps up to 1.00\n",
      "  - Cust. Revenue (cu):         100 steps up to 1.00 (99.9th percentile)\n",
      "  - Rental Duration (T):        100 steps up to 76.01 (99.95th percentile)\n",
      "Pre-computing expectations from 100000 customer samples...\n",
      "Starting Numba-accelerated pre-computation of arrival dynamics...\n",
      "Pre-computation complete. ✅\n",
      "\n",
      "Starting Value Iteration...\n",
      "Iteration 10/100 | Max Change (Delta): 0.206319\n",
      "Iteration 20/100 | Max Change (Delta): 0.151816\n",
      "Iteration 30/100 | Max Change (Delta): 0.121122\n",
      "Iteration 40/100 | Max Change (Delta): 0.098401\n",
      "Iteration 50/100 | Max Change (Delta): 0.080346\n",
      "Iteration 60/100 | Max Change (Delta): 0.065687\n",
      "Iteration 70/100 | Max Change (Delta): 0.053720\n",
      "Iteration 80/100 | Max Change (Delta): 0.043936\n",
      "Iteration 90/100 | Max Change (Delta): 0.035935\n"
     ]
    },
    {
     "name": "stderr",
     "output_type": "stream",
     "text": [
      "INFO:root:Policy updated.\n",
      " 58%|█████▊    | 23265/40000 [32:38<31:17,  8.91it/s]INFO:root:Updating optimal policy...\n"
     ]
    },
    {
     "name": "stdout",
     "output_type": "stream",
     "text": [
      "Iteration 100/100 | Max Change (Delta): 0.029392\n",
      "\n",
      "Value iteration finished (max iterations reached).\n",
      "RUNNING THE L-BFGS-B CODE\n",
      "\n",
      "           * * *\n",
      "\n",
      "Machine precision = 2.220D-16\n",
      " N =            4     M =           10\n",
      "\n",
      "At X0         4 variables are exactly at the bounds\n",
      "\n",
      "At iterate    0    f=  9.72969D+03    |proj g|=  1.00000D+00\n",
      "\n",
      "At iterate    1    f=  9.31691D+03    |proj g|=  6.55916D-01\n",
      "\n",
      "At iterate    2    f=  9.30855D+03    |proj g|=  6.41145D-01\n",
      "\n",
      "At iterate    3    f=  9.29895D+03    |proj g|=  5.47149D-01\n",
      "\n",
      "At iterate    4    f=  9.29895D+03    |proj g|=  2.05954D-01\n",
      "\n",
      "At iterate    5    f=  9.29895D+03    |proj g|=  7.18507D-02\n",
      "\n",
      "At iterate    6    f=  9.29895D+03    |proj g|=  2.58666D-03\n",
      "\n",
      "           * * *\n",
      "\n",
      "Tit   = total number of iterations\n",
      "Tnf   = total number of function evaluations\n",
      "Tnint = total number of segments explored during Cauchy searches\n",
      "Skip  = number of BFGS updates skipped\n",
      "Nact  = number of active bounds at final generalized Cauchy point\n",
      "Projg = norm of the final projected gradient\n",
      "F     = final function value\n",
      "\n",
      "           * * *\n",
      "\n",
      "   N    Tit     Tnf  Tnint  Skip  Nact     Projg        F\n",
      "    4      6      8      9     0     0   2.587D-03   9.299D+03\n",
      "  F =   9298.9472956776717     \n",
      "\n",
      "CONVERGENCE: REL_REDUCTION_OF_F_<=_FACTR*EPSMCH             \n"
     ]
    },
    {
     "name": "stderr",
     "output_type": "stream",
     "text": [
      "INFO:root:Theta updated. New theta_hat: [0.544 0.158 0.387 0.334]\n"
     ]
    },
    {
     "name": "stdout",
     "output_type": "stream",
     "text": [
      "Discretization setup:\n",
      "  - Cumulative Context (cc):    100 steps up to 8.00\n",
      "  - Cust. Degradation (cx):     50 steps up to 1.00\n",
      "  - Cust. Revenue (cu):         100 steps up to 1.00 (99.9th percentile)\n",
      "  - Rental Duration (T):        100 steps up to 76.01 (99.95th percentile)\n",
      "Pre-computing expectations from 100000 customer samples...\n",
      "Starting Numba-accelerated pre-computation of arrival dynamics...\n",
      "Pre-computation complete. ✅\n",
      "\n",
      "Starting Value Iteration...\n",
      "Iteration 10/100 | Max Change (Delta): 0.204681\n",
      "Iteration 20/100 | Max Change (Delta): 0.150651\n",
      "Iteration 30/100 | Max Change (Delta): 0.120243\n",
      "Iteration 40/100 | Max Change (Delta): 0.097702\n",
      "Iteration 50/100 | Max Change (Delta): 0.079781\n",
      "Iteration 60/100 | Max Change (Delta): 0.065226\n",
      "Iteration 70/100 | Max Change (Delta): 0.053343\n",
      "Iteration 80/100 | Max Change (Delta): 0.043628\n",
      "Iteration 90/100 | Max Change (Delta): 0.035684\n"
     ]
    },
    {
     "name": "stderr",
     "output_type": "stream",
     "text": [
      "INFO:root:Policy updated.\n",
      " 62%|██████▏   | 24656/40000 [36:14<32:11,  7.94it/s]INFO:root:Updating optimal policy...\n"
     ]
    },
    {
     "name": "stdout",
     "output_type": "stream",
     "text": [
      "Iteration 100/100 | Max Change (Delta): 0.029186\n",
      "\n",
      "Value iteration finished (max iterations reached).\n",
      "RUNNING THE L-BFGS-B CODE\n",
      "\n",
      "           * * *\n",
      "\n",
      "Machine precision = 2.220D-16\n",
      " N =            4     M =           10\n",
      "\n",
      "At X0         4 variables are exactly at the bounds\n",
      "\n",
      "At iterate    0    f=  1.05198D+04    |proj g|=  1.00000D+00\n",
      "\n",
      "At iterate    1    f=  1.00764D+04    |proj g|=  6.56984D-01\n",
      "\n",
      "At iterate    2    f=  1.00672D+04    |proj g|=  6.42594D-01\n",
      "\n",
      "At iterate    3    f=  1.00566D+04    |proj g|=  5.44851D-01\n",
      "\n",
      "At iterate    4    f=  1.00566D+04    |proj g|=  2.14848D-01\n",
      "\n",
      "At iterate    5    f=  1.00566D+04    |proj g|=  7.24045D-02\n",
      "\n",
      "At iterate    6    f=  1.00566D+04    |proj g|=  5.82004D-03\n",
      "\n",
      "           * * *\n",
      "\n",
      "Tit   = total number of iterations\n",
      "Tnf   = total number of function evaluations\n",
      "Tnint = total number of segments explored during Cauchy searches\n",
      "Skip  = number of BFGS updates skipped\n",
      "Nact  = number of active bounds at final generalized Cauchy point\n",
      "Projg = norm of the final projected gradient\n",
      "F     = final function value\n",
      "\n",
      "           * * *\n",
      "\n",
      "   N    Tit     Tnf  Tnint  Skip  Nact     Projg        F\n",
      "    4      6      8      9     0     0   5.820D-03   1.006D+04\n",
      "  F =   10056.578406997509     \n",
      "\n",
      "CONVERGENCE: REL_REDUCTION_OF_F_<=_FACTR*EPSMCH             \n"
     ]
    },
    {
     "name": "stderr",
     "output_type": "stream",
     "text": [
      "INFO:root:Theta updated. New theta_hat: [0.542 0.15  0.385 0.34 ]\n"
     ]
    },
    {
     "name": "stdout",
     "output_type": "stream",
     "text": [
      "Discretization setup:\n",
      "  - Cumulative Context (cc):    100 steps up to 8.00\n",
      "  - Cust. Degradation (cx):     50 steps up to 1.00\n",
      "  - Cust. Revenue (cu):         100 steps up to 1.00 (99.9th percentile)\n",
      "  - Rental Duration (T):        100 steps up to 76.01 (99.95th percentile)\n",
      "Pre-computing expectations from 100000 customer samples...\n",
      "Starting Numba-accelerated pre-computation of arrival dynamics...\n",
      "Pre-computation complete. ✅\n",
      "\n",
      "Starting Value Iteration...\n",
      "Iteration 10/100 | Max Change (Delta): 0.206228\n",
      "Iteration 20/100 | Max Change (Delta): 0.151764\n",
      "Iteration 30/100 | Max Change (Delta): 0.121099\n",
      "Iteration 40/100 | Max Change (Delta): 0.098387\n",
      "Iteration 50/100 | Max Change (Delta): 0.080337\n",
      "Iteration 60/100 | Max Change (Delta): 0.065680\n",
      "Iteration 70/100 | Max Change (Delta): 0.053714\n",
      "Iteration 80/100 | Max Change (Delta): 0.043931\n",
      "Iteration 90/100 | Max Change (Delta): 0.035931\n"
     ]
    },
    {
     "name": "stderr",
     "output_type": "stream",
     "text": [
      "INFO:root:Policy updated.\n",
      " 65%|██████▍   | 25834/40000 [40:08<34:26,  6.86it/s]INFO:root:Updating optimal policy...\n"
     ]
    },
    {
     "name": "stdout",
     "output_type": "stream",
     "text": [
      "Iteration 100/100 | Max Change (Delta): 0.029388\n",
      "\n",
      "Value iteration finished (max iterations reached).\n",
      "RUNNING THE L-BFGS-B CODE\n",
      "\n",
      "           * * *\n",
      "\n",
      "Machine precision = 2.220D-16\n",
      " N =            4     M =           10\n",
      "\n",
      "At X0         4 variables are exactly at the bounds\n",
      "\n",
      "At iterate    0    f=  1.13265D+04    |proj g|=  1.00000D+00\n",
      "\n",
      "At iterate    1    f=  1.08593D+04    |proj g|=  6.59071D-01\n",
      "\n",
      "At iterate    2    f=  1.08503D+04    |proj g|=  6.44410D-01\n",
      "\n",
      "At iterate    3    f=  1.08402D+04    |proj g|=  5.30219D-01\n",
      "\n",
      "At iterate    4    f=  1.08402D+04    |proj g|=  1.69911D-01\n",
      "\n",
      "At iterate    5    f=  1.08402D+04    |proj g|=  5.37000D-02\n",
      "\n",
      "           * * *\n",
      "\n",
      "Tit   = total number of iterations\n",
      "Tnf   = total number of function evaluations\n",
      "Tnint = total number of segments explored during Cauchy searches\n",
      "Skip  = number of BFGS updates skipped\n",
      "Nact  = number of active bounds at final generalized Cauchy point\n",
      "Projg = norm of the final projected gradient\n",
      "F     = final function value\n",
      "\n",
      "           * * *\n",
      "\n",
      "   N    Tit     Tnf  Tnint  Skip  Nact     Projg        F\n",
      "    4      5      7      8     0     0   5.370D-02   1.084D+04\n",
      "  F =   10840.237999462785     \n",
      "\n",
      "CONVERGENCE: REL_REDUCTION_OF_F_<=_FACTR*EPSMCH             \n"
     ]
    },
    {
     "name": "stderr",
     "output_type": "stream",
     "text": [
      "INFO:root:Theta updated. New theta_hat: [0.528 0.159 0.383 0.336]\n"
     ]
    },
    {
     "name": "stdout",
     "output_type": "stream",
     "text": [
      "Discretization setup:\n",
      "  - Cumulative Context (cc):    100 steps up to 8.00\n",
      "  - Cust. Degradation (cx):     50 steps up to 1.00\n",
      "  - Cust. Revenue (cu):         100 steps up to 1.00 (99.9th percentile)\n",
      "  - Rental Duration (T):        100 steps up to 76.01 (99.95th percentile)\n",
      "Pre-computing expectations from 100000 customer samples...\n",
      "Starting Numba-accelerated pre-computation of arrival dynamics...\n",
      "Pre-computation complete. ✅\n",
      "\n",
      "Starting Value Iteration...\n",
      "Iteration 10/100 | Max Change (Delta): 0.207129\n",
      "Iteration 20/100 | Max Change (Delta): 0.152329\n",
      "Iteration 30/100 | Max Change (Delta): 0.121530\n",
      "Iteration 40/100 | Max Change (Delta): 0.098715\n",
      "Iteration 50/100 | Max Change (Delta): 0.080599\n",
      "Iteration 60/100 | Max Change (Delta): 0.065893\n",
      "Iteration 70/100 | Max Change (Delta): 0.053888\n",
      "Iteration 80/100 | Max Change (Delta): 0.044074\n",
      "Iteration 90/100 | Max Change (Delta): 0.036048\n"
     ]
    },
    {
     "name": "stderr",
     "output_type": "stream",
     "text": [
      "INFO:root:Policy updated.\n",
      " 68%|██████▊   | 27033/40000 [42:01<28:21,  7.62it/s]INFO:root:Updating optimal policy...\n"
     ]
    },
    {
     "name": "stdout",
     "output_type": "stream",
     "text": [
      "Iteration 100/100 | Max Change (Delta): 0.029484\n",
      "\n",
      "Value iteration finished (max iterations reached).\n"
     ]
    },
    {
     "name": "stderr",
     "output_type": "stream",
     "text": [
      " 68%|██████▊   | 27033/40000 [42:21<28:21,  7.62it/s]"
     ]
    },
    {
     "name": "stdout",
     "output_type": "stream",
     "text": [
      "RUNNING THE L-BFGS-B CODE\n",
      "\n",
      "           * * *\n",
      "\n",
      "Machine precision = 2.220D-16\n",
      " N =            4     M =           10\n",
      "\n",
      "At X0         4 variables are exactly at the bounds\n",
      "\n",
      "At iterate    0    f=  1.21396D+04    |proj g|=  1.00000D+00\n",
      "\n",
      "At iterate    1    f=  1.16498D+04    |proj g|=  6.61386D-01\n",
      "\n",
      "At iterate    2    f=  1.16398D+04    |proj g|=  6.48307D-01\n",
      "\n",
      "At iterate    3    f=  1.16284D+04    |proj g|=  5.31280D-01\n",
      "\n",
      "At iterate    4    f=  1.16284D+04    |proj g|=  2.03529D-01\n",
      "\n",
      "At iterate    5    f=  1.16284D+04    |proj g|=  6.06168D-02\n",
      "\n",
      "At iterate    6    f=  1.16284D+04    |proj g|=  6.56928D-03\n",
      "\n",
      "           * * *\n",
      "\n",
      "Tit   = total number of iterations\n",
      "Tnf   = total number of function evaluations\n",
      "Tnint = total number of segments explored during Cauchy searches\n",
      "Skip  = number of BFGS updates skipped\n",
      "Nact  = number of active bounds at final generalized Cauchy point\n",
      "Projg = norm of the final projected gradient\n",
      "F     = final function value\n",
      "\n",
      "           * * *\n",
      "\n",
      "   N    Tit     Tnf  Tnint  Skip  Nact     Projg        F\n",
      "    4      6      8      9     0     0   6.569D-03   1.163D+04\n",
      "  F =   11628.395504586557     \n",
      "\n",
      "CONVERGENCE: REL_REDUCTION_OF_F_<=_FACTR*EPSMCH             \n"
     ]
    },
    {
     "name": "stderr",
     "output_type": "stream",
     "text": [
      "INFO:root:Theta updated. New theta_hat: [0.529 0.149 0.379 0.338]\n"
     ]
    },
    {
     "name": "stdout",
     "output_type": "stream",
     "text": [
      "Discretization setup:\n",
      "  - Cumulative Context (cc):    100 steps up to 8.00\n",
      "  - Cust. Degradation (cx):     50 steps up to 1.00\n",
      "  - Cust. Revenue (cu):         100 steps up to 1.00 (99.9th percentile)\n",
      "  - Rental Duration (T):        100 steps up to 76.01 (99.95th percentile)\n",
      "Pre-computing expectations from 100000 customer samples...\n",
      "Starting Numba-accelerated pre-computation of arrival dynamics...\n",
      "Pre-computation complete. ✅\n",
      "\n",
      "Starting Value Iteration...\n",
      "Iteration 10/100 | Max Change (Delta): 0.208828\n",
      "Iteration 20/100 | Max Change (Delta): 0.153480\n",
      "Iteration 30/100 | Max Change (Delta): 0.122364\n",
      "Iteration 40/100 | Max Change (Delta): 0.099370\n",
      "Iteration 50/100 | Max Change (Delta): 0.081128\n",
      "Iteration 60/100 | Max Change (Delta): 0.066323\n",
      "Iteration 70/100 | Max Change (Delta): 0.054239\n",
      "Iteration 80/100 | Max Change (Delta): 0.044361\n",
      "Iteration 90/100 | Max Change (Delta): 0.036283\n"
     ]
    },
    {
     "name": "stderr",
     "output_type": "stream",
     "text": [
      "INFO:root:Policy updated.\n",
      " 71%|███████▏  | 28506/40000 [47:32<31:08,  6.15it/s]INFO:root:Updating optimal policy...\n"
     ]
    },
    {
     "name": "stdout",
     "output_type": "stream",
     "text": [
      "Iteration 100/100 | Max Change (Delta): 0.029676\n",
      "\n",
      "Value iteration finished (max iterations reached).\n",
      "RUNNING THE L-BFGS-B CODE\n",
      "\n",
      "           * * *\n",
      "\n",
      "Machine precision = 2.220D-16\n",
      " N =            4     M =           10\n",
      "\n",
      "At X0         4 variables are exactly at the bounds\n",
      "\n",
      "At iterate    0    f=  1.29513D+04    |proj g|=  1.00000D+00\n",
      "\n",
      "At iterate    1    f=  1.24215D+04    |proj g|=  6.59177D-01\n",
      "\n",
      "At iterate    2    f=  1.24111D+04    |proj g|=  6.45806D-01\n",
      "\n",
      "At iterate    3    f=  1.23990D+04    |proj g|=  5.34709D-01\n",
      "\n",
      "At iterate    4    f=  1.23990D+04    |proj g|=  2.40465D-01\n",
      "\n",
      "At iterate    5    f=  1.23990D+04    |proj g|=  7.47484D-02\n",
      "\n",
      "At iterate    6    f=  1.23990D+04    |proj g|=  6.19268D-03\n",
      "\n",
      "           * * *\n",
      "\n",
      "Tit   = total number of iterations\n",
      "Tnf   = total number of function evaluations\n",
      "Tnint = total number of segments explored during Cauchy searches\n",
      "Skip  = number of BFGS updates skipped\n",
      "Nact  = number of active bounds at final generalized Cauchy point\n",
      "Projg = norm of the final projected gradient\n",
      "F     = final function value\n",
      "\n",
      "           * * *\n",
      "\n",
      "   N    Tit     Tnf  Tnint  Skip  Nact     Projg        F\n",
      "    4      6      8      9     0     0   6.193D-03   1.240D+04\n",
      "  F =   12398.995069930410     \n",
      "\n",
      "CONVERGENCE: REL_REDUCTION_OF_F_<=_FACTR*EPSMCH             \n"
     ]
    },
    {
     "name": "stderr",
     "output_type": "stream",
     "text": [
      "INFO:root:Theta updated. New theta_hat: [0.532 0.153 0.381 0.338]\n"
     ]
    },
    {
     "name": "stdout",
     "output_type": "stream",
     "text": [
      "Discretization setup:\n",
      "  - Cumulative Context (cc):    100 steps up to 8.00\n",
      "  - Cust. Degradation (cx):     50 steps up to 1.00\n",
      "  - Cust. Revenue (cu):         100 steps up to 1.00 (99.9th percentile)\n",
      "  - Rental Duration (T):        100 steps up to 76.01 (99.95th percentile)\n",
      "Pre-computing expectations from 100000 customer samples...\n",
      "Starting Numba-accelerated pre-computation of arrival dynamics...\n",
      "Pre-computation complete. ✅\n",
      "\n",
      "Starting Value Iteration...\n",
      "Iteration 10/100 | Max Change (Delta): 0.207918\n",
      "Iteration 20/100 | Max Change (Delta): 0.152818\n",
      "Iteration 30/100 | Max Change (Delta): 0.121883\n",
      "Iteration 40/100 | Max Change (Delta): 0.098995\n",
      "Iteration 50/100 | Max Change (Delta): 0.080824\n",
      "Iteration 60/100 | Max Change (Delta): 0.066076\n",
      "Iteration 70/100 | Max Change (Delta): 0.054037\n",
      "Iteration 80/100 | Max Change (Delta): 0.044196\n",
      "Iteration 90/100 | Max Change (Delta): 0.036148\n"
     ]
    },
    {
     "name": "stderr",
     "output_type": "stream",
     "text": [
      "INFO:root:Policy updated.\n",
      " 75%|███████▍  | 29874/40000 [54:24<34:36,  4.88it/s]INFO:root:Updating optimal policy...\n"
     ]
    },
    {
     "name": "stdout",
     "output_type": "stream",
     "text": [
      "Iteration 100/100 | Max Change (Delta): 0.029565\n",
      "\n",
      "Value iteration finished (max iterations reached).\n",
      "RUNNING THE L-BFGS-B CODE\n",
      "\n",
      "           * * *\n",
      "\n",
      "Machine precision = 2.220D-16\n",
      " N =            4     M =           10\n",
      "\n",
      "At X0         4 variables are exactly at the bounds\n",
      "\n",
      "At iterate    0    f=  1.37812D+04    |proj g|=  1.00000D+00\n",
      "\n",
      "At iterate    1    f=  1.32062D+04    |proj g|=  6.54183D-01\n",
      "\n",
      "At iterate    2    f=  1.31954D+04    |proj g|=  6.39695D-01\n",
      "\n",
      "At iterate    3    f=  1.31833D+04    |proj g|=  5.31616D-01\n",
      "\n",
      "At iterate    4    f=  1.31833D+04    |proj g|=  2.18531D-01\n",
      "\n",
      "At iterate    5    f=  1.31833D+04    |proj g|=  6.31995D-02\n",
      "\n",
      "At iterate    6    f=  1.31833D+04    |proj g|=  6.58594D-03\n",
      "\n",
      "           * * *\n",
      "\n",
      "Tit   = total number of iterations\n",
      "Tnf   = total number of function evaluations\n",
      "Tnint = total number of segments explored during Cauchy searches\n",
      "Skip  = number of BFGS updates skipped\n",
      "Nact  = number of active bounds at final generalized Cauchy point\n",
      "Projg = norm of the final projected gradient\n",
      "F     = final function value\n",
      "\n",
      "           * * *\n",
      "\n",
      "   N    Tit     Tnf  Tnint  Skip  Nact     Projg        F\n",
      "    4      6      8      9     0     0   6.586D-03   1.318D+04\n",
      "  F =   13183.307600641781     \n",
      "\n",
      "CONVERGENCE: REL_REDUCTION_OF_F_<=_FACTR*EPSMCH             \n"
     ]
    },
    {
     "name": "stderr",
     "output_type": "stream",
     "text": [
      "INFO:root:Theta updated. New theta_hat: [0.529 0.16  0.387 0.347]\n"
     ]
    },
    {
     "name": "stdout",
     "output_type": "stream",
     "text": [
      "Discretization setup:\n",
      "  - Cumulative Context (cc):    100 steps up to 8.00\n",
      "  - Cust. Degradation (cx):     50 steps up to 1.00\n",
      "  - Cust. Revenue (cu):         100 steps up to 1.00 (99.9th percentile)\n",
      "  - Rental Duration (T):        100 steps up to 76.01 (99.95th percentile)\n",
      "Pre-computing expectations from 100000 customer samples...\n",
      "Starting Numba-accelerated pre-computation of arrival dynamics...\n",
      "Pre-computation complete. ✅\n",
      "\n",
      "Starting Value Iteration...\n",
      "Iteration 10/100 | Max Change (Delta): 0.206026\n",
      "Iteration 20/100 | Max Change (Delta): 0.151642\n",
      "Iteration 30/100 | Max Change (Delta): 0.120942\n",
      "Iteration 40/100 | Max Change (Delta): 0.098264\n",
      "Iteration 50/100 | Max Change (Delta): 0.080235\n",
      "Iteration 60/100 | Max Change (Delta): 0.065596\n",
      "Iteration 70/100 | Max Change (Delta): 0.053645\n",
      "Iteration 80/100 | Max Change (Delta): 0.043875\n",
      "Iteration 90/100 | Max Change (Delta): 0.035885\n"
     ]
    },
    {
     "name": "stderr",
     "output_type": "stream",
     "text": [
      "INFO:root:Policy updated.\n",
      " 79%|███████▊  | 31432/40000 [4:40:10<7:13:56,  3.04s/it]INFO:root:Updating optimal policy...\n"
     ]
    },
    {
     "name": "stdout",
     "output_type": "stream",
     "text": [
      "Iteration 100/100 | Max Change (Delta): 0.029351\n",
      "\n",
      "Value iteration finished (max iterations reached).\n",
      "RUNNING THE L-BFGS-B CODE\n",
      "\n",
      "           * * *\n",
      "\n",
      "Machine precision = 2.220D-16\n",
      " N =            4     M =           10\n",
      "\n",
      "At X0         4 variables are exactly at the bounds\n",
      "\n",
      "At iterate    0    f=  1.46030D+04    |proj g|=  1.00000D+00\n",
      "\n",
      "At iterate    1    f=  1.40045D+04    |proj g|=  6.56265D-01\n",
      "\n",
      "At iterate    2    f=  1.39923D+04    |proj g|=  6.51637D-01\n",
      "\n",
      "At iterate    3    f=  1.39786D+04    |proj g|=  5.29809D-01\n",
      "\n",
      "At iterate    4    f=  1.39786D+04    |proj g|=  2.40429D-01\n",
      "\n",
      "At iterate    5    f=  1.39786D+04    |proj g|=  7.51575D-02\n",
      "\n",
      "At iterate    6    f=  1.39786D+04    |proj g|=  6.00094D-03\n",
      "\n",
      "           * * *\n",
      "\n",
      "Tit   = total number of iterations\n",
      "Tnf   = total number of function evaluations\n",
      "Tnint = total number of segments explored during Cauchy searches\n",
      "Skip  = number of BFGS updates skipped\n",
      "Nact  = number of active bounds at final generalized Cauchy point\n",
      "Projg = norm of the final projected gradient\n",
      "F     = final function value\n",
      "\n",
      "           * * *\n",
      "\n",
      "   N    Tit     Tnf  Tnint  Skip  Nact     Projg        F\n",
      "    4      6      8      9     0     0   6.001D-03   1.398D+04\n",
      "  F =   13978.641065420436     \n",
      "\n",
      "CONVERGENCE: REL_REDUCTION_OF_F_<=_FACTR*EPSMCH             \n"
     ]
    },
    {
     "name": "stderr",
     "output_type": "stream",
     "text": [
      "INFO:root:Theta updated. New theta_hat: [0.527 0.146 0.385 0.358]\n"
     ]
    },
    {
     "name": "stdout",
     "output_type": "stream",
     "text": [
      "Discretization setup:\n",
      "  - Cumulative Context (cc):    100 steps up to 8.00\n",
      "  - Cust. Degradation (cx):     50 steps up to 1.00\n",
      "  - Cust. Revenue (cu):         100 steps up to 1.00 (99.9th percentile)\n",
      "  - Rental Duration (T):        100 steps up to 76.01 (99.95th percentile)\n",
      "Pre-computing expectations from 100000 customer samples...\n",
      "Starting Numba-accelerated pre-computation of arrival dynamics...\n",
      "Pre-computation complete. ✅\n",
      "\n",
      "Starting Value Iteration...\n",
      "Iteration 10/100 | Max Change (Delta): 0.206016\n",
      "Iteration 20/100 | Max Change (Delta): 0.151548\n",
      "Iteration 30/100 | Max Change (Delta): 0.120897\n",
      "Iteration 40/100 | Max Change (Delta): 0.098213\n",
      "Iteration 50/100 | Max Change (Delta): 0.080191\n",
      "Iteration 60/100 | Max Change (Delta): 0.065560\n",
      "Iteration 70/100 | Max Change (Delta): 0.053616\n",
      "Iteration 80/100 | Max Change (Delta): 0.043851\n",
      "Iteration 90/100 | Max Change (Delta): 0.035866\n"
     ]
    },
    {
     "name": "stderr",
     "output_type": "stream",
     "text": [
      "INFO:root:Policy updated.\n",
      " 82%|████████▏ | 32787/40000 [8:39:32<10:31:45,  5.26s/it]INFO:root:Updating optimal policy...\n"
     ]
    },
    {
     "name": "stdout",
     "output_type": "stream",
     "text": [
      "Iteration 100/100 | Max Change (Delta): 0.029335\n",
      "\n",
      "Value iteration finished (max iterations reached).\n",
      "RUNNING THE L-BFGS-B CODE\n",
      "\n",
      "           * * *\n",
      "\n",
      "Machine precision = 2.220D-16\n",
      " N =            4     M =           10\n",
      "\n",
      "At X0         4 variables are exactly at the bounds\n",
      "\n",
      "At iterate    0    f=  1.54288D+04    |proj g|=  1.00000D+00\n",
      "\n",
      "At iterate    1    f=  1.47971D+04    |proj g|=  6.56021D-01\n",
      "\n",
      "At iterate    2    f=  1.47843D+04    |proj g|=  6.38074D-01\n",
      "\n",
      "At iterate    3    f=  1.47702D+04    |proj g|=  5.25371D-01\n",
      "\n",
      "At iterate    4    f=  1.47701D+04    |proj g|=  2.79649D-01\n",
      "\n",
      "At iterate    5    f=  1.47701D+04    |proj g|=  8.91302D-02\n",
      "\n",
      "At iterate    6    f=  1.47701D+04    |proj g|=  5.74086D-03\n",
      "\n",
      "           * * *\n",
      "\n",
      "Tit   = total number of iterations\n",
      "Tnf   = total number of function evaluations\n",
      "Tnint = total number of segments explored during Cauchy searches\n",
      "Skip  = number of BFGS updates skipped\n",
      "Nact  = number of active bounds at final generalized Cauchy point\n",
      "Projg = norm of the final projected gradient\n",
      "F     = final function value\n",
      "\n",
      "           * * *\n",
      "\n",
      "   N    Tit     Tnf  Tnint  Skip  Nact     Projg        F\n",
      "    4      6      8      9     0     0   5.741D-03   1.477D+04\n",
      "  F =   14770.148657850015     \n",
      "\n",
      "CONVERGENCE: REL_REDUCTION_OF_F_<=_FACTR*EPSMCH             \n"
     ]
    },
    {
     "name": "stderr",
     "output_type": "stream",
     "text": [
      "INFO:root:Theta updated. New theta_hat: [0.523 0.147 0.396 0.351]\n"
     ]
    },
    {
     "name": "stdout",
     "output_type": "stream",
     "text": [
      "Discretization setup:\n",
      "  - Cumulative Context (cc):    100 steps up to 8.00\n",
      "  - Cust. Degradation (cx):     50 steps up to 1.00\n",
      "  - Cust. Revenue (cu):         100 steps up to 1.00 (99.9th percentile)\n",
      "  - Rental Duration (T):        100 steps up to 76.01 (99.95th percentile)\n",
      "Pre-computing expectations from 100000 customer samples...\n",
      "Starting Numba-accelerated pre-computation of arrival dynamics...\n",
      "Pre-computation complete. ✅\n",
      "\n",
      "Starting Value Iteration...\n",
      "Iteration 10/100 | Max Change (Delta): 0.205758\n",
      "Iteration 20/100 | Max Change (Delta): 0.151427\n",
      "Iteration 30/100 | Max Change (Delta): 0.120826\n",
      "Iteration 40/100 | Max Change (Delta): 0.098170\n",
      "Iteration 50/100 | Max Change (Delta): 0.080160\n",
      "Iteration 60/100 | Max Change (Delta): 0.065535\n",
      "Iteration 70/100 | Max Change (Delta): 0.053596\n",
      "Iteration 80/100 | Max Change (Delta): 0.043835\n",
      "Iteration 90/100 | Max Change (Delta): 0.035852\n"
     ]
    },
    {
     "name": "stderr",
     "output_type": "stream",
     "text": [
      "INFO:root:Policy updated.\n",
      " 88%|████████▊ | 35301/40000 [11:08:07<5:25:51,  4.16s/it]INFO:root:Updating optimal policy...\n"
     ]
    },
    {
     "name": "stdout",
     "output_type": "stream",
     "text": [
      "Iteration 100/100 | Max Change (Delta): 0.029324\n",
      "\n",
      "Value iteration finished (max iterations reached).\n"
     ]
    },
    {
     "name": "stderr",
     "output_type": "stream",
     "text": [
      " 88%|████████▊ | 35301/40000 [11:08:25<5:25:51,  4.16s/it]"
     ]
    },
    {
     "name": "stdout",
     "output_type": "stream",
     "text": [
      "RUNNING THE L-BFGS-B CODE\n",
      "\n",
      "           * * *\n",
      "\n",
      "Machine precision = 2.220D-16\n",
      " N =            4     M =           10\n",
      "\n",
      "At X0         4 variables are exactly at the bounds\n",
      "\n",
      "At iterate    0    f=  1.62510D+04    |proj g|=  1.00000D+00\n",
      "\n",
      "At iterate    1    f=  1.55929D+04    |proj g|=  6.57885D-01\n",
      "\n",
      "At iterate    2    f=  1.55804D+04    |proj g|=  6.40938D-01\n",
      "\n",
      "At iterate    3    f=  1.55662D+04    |proj g|=  5.21860D-01\n",
      "\n",
      "At iterate    4    f=  1.55662D+04    |proj g|=  2.78874D-01\n",
      "\n",
      "At iterate    5    f=  1.55662D+04    |proj g|=  9.51832D-02\n",
      "\n",
      "At iterate    6    f=  1.55662D+04    |proj g|=  6.01130D-03\n",
      "\n",
      "           * * *\n",
      "\n",
      "Tit   = total number of iterations\n",
      "Tnf   = total number of function evaluations\n",
      "Tnint = total number of segments explored during Cauchy searches\n",
      "Skip  = number of BFGS updates skipped\n",
      "Nact  = number of active bounds at final generalized Cauchy point\n",
      "Projg = norm of the final projected gradient\n",
      "F     = final function value\n",
      "\n",
      "           * * *\n",
      "\n",
      "   N    Tit     Tnf  Tnint  Skip  Nact     Projg        F\n",
      "    4      6      8      9     0     0   6.011D-03   1.557D+04\n",
      "  F =   15566.193705509349     \n",
      "\n",
      "CONVERGENCE: REL_REDUCTION_OF_F_<=_FACTR*EPSMCH             \n"
     ]
    },
    {
     "name": "stderr",
     "output_type": "stream",
     "text": [
      "INFO:root:Theta updated. New theta_hat: [0.519 0.151 0.391 0.349]\n"
     ]
    },
    {
     "name": "stdout",
     "output_type": "stream",
     "text": [
      "Discretization setup:\n",
      "  - Cumulative Context (cc):    100 steps up to 8.00\n",
      "  - Cust. Degradation (cx):     50 steps up to 1.00\n",
      "  - Cust. Revenue (cu):         100 steps up to 1.00 (99.9th percentile)\n",
      "  - Rental Duration (T):        100 steps up to 76.01 (99.95th percentile)\n",
      "Pre-computing expectations from 100000 customer samples...\n",
      "Starting Numba-accelerated pre-computation of arrival dynamics...\n",
      "Pre-computation complete. ✅\n",
      "\n",
      "Starting Value Iteration...\n",
      "Iteration 10/100 | Max Change (Delta): 0.206248\n",
      "Iteration 20/100 | Max Change (Delta): 0.151680\n",
      "Iteration 30/100 | Max Change (Delta): 0.121027\n",
      "Iteration 40/100 | Max Change (Delta): 0.098315\n",
      "Iteration 50/100 | Max Change (Delta): 0.080273\n",
      "Iteration 60/100 | Max Change (Delta): 0.065627\n",
      "Iteration 70/100 | Max Change (Delta): 0.053670\n",
      "Iteration 80/100 | Max Change (Delta): 0.043896\n",
      "Iteration 90/100 | Max Change (Delta): 0.035902\n"
     ]
    },
    {
     "name": "stderr",
     "output_type": "stream",
     "text": [
      "INFO:root:Policy updated.\n",
      " 88%|████████▊ | 35321/40000 [11:46:26<6:20:42,  4.88s/it]INFO:root:Updating optimal policy...\n"
     ]
    },
    {
     "name": "stdout",
     "output_type": "stream",
     "text": [
      "Iteration 100/100 | Max Change (Delta): 0.029365\n",
      "\n",
      "Value iteration finished (max iterations reached).\n",
      "RUNNING THE L-BFGS-B CODE\n",
      "\n",
      "           * * *\n",
      "\n",
      "Machine precision = 2.220D-16\n",
      " N =            4     M =           10\n",
      "\n",
      "At X0         4 variables are exactly at the bounds\n",
      "\n",
      "At iterate    0    f=  1.70684D+04    |proj g|=  1.00000D+00\n",
      "\n",
      "At iterate    1    f=  1.63911D+04    |proj g|=  6.60332D-01\n",
      "\n",
      "At iterate    2    f=  1.63778D+04    |proj g|=  6.42027D-01\n",
      "\n",
      "At iterate    3    f=  1.63631D+04    |proj g|=  5.17119D-01\n",
      "\n",
      "At iterate    4    f=  1.63631D+04    |proj g|=  2.78475D-01\n",
      "\n",
      "At iterate    5    f=  1.63631D+04    |proj g|=  9.43090D-02\n",
      "\n",
      "At iterate    6    f=  1.63631D+04    |proj g|=  8.32719D-03\n",
      "\n",
      "           * * *\n",
      "\n",
      "Tit   = total number of iterations\n",
      "Tnf   = total number of function evaluations\n",
      "Tnint = total number of segments explored during Cauchy searches\n",
      "Skip  = number of BFGS updates skipped\n",
      "Nact  = number of active bounds at final generalized Cauchy point\n",
      "Projg = norm of the final projected gradient\n",
      "F     = final function value\n",
      "\n",
      "           * * *\n",
      "\n",
      "   N    Tit     Tnf  Tnint  Skip  Nact     Projg        F\n",
      "    4      6      8      9     0     0   8.327D-03   1.636D+04\n",
      "  F =   16363.083855939991     \n",
      "\n",
      "CONVERGENCE: REL_REDUCTION_OF_F_<=_FACTR*EPSMCH             \n"
     ]
    },
    {
     "name": "stderr",
     "output_type": "stream",
     "text": [
      "INFO:root:Theta updated. New theta_hat: [0.515 0.149 0.393 0.345]\n"
     ]
    },
    {
     "name": "stdout",
     "output_type": "stream",
     "text": [
      "Discretization setup:\n",
      "  - Cumulative Context (cc):    100 steps up to 8.00\n",
      "  - Cust. Degradation (cx):     50 steps up to 1.00\n",
      "  - Cust. Revenue (cu):         100 steps up to 1.00 (99.9th percentile)\n",
      "  - Rental Duration (T):        100 steps up to 76.01 (99.95th percentile)\n",
      "Pre-computing expectations from 100000 customer samples...\n",
      "Starting Numba-accelerated pre-computation of arrival dynamics...\n",
      "Pre-computation complete. ✅\n",
      "\n",
      "Starting Value Iteration...\n",
      "Iteration 10/100 | Max Change (Delta): 0.207998\n",
      "Iteration 20/100 | Max Change (Delta): 0.152944\n",
      "Iteration 30/100 | Max Change (Delta): 0.121987\n",
      "Iteration 40/100 | Max Change (Delta): 0.099093\n",
      "Iteration 50/100 | Max Change (Delta): 0.080906\n",
      "Iteration 60/100 | Max Change (Delta): 0.066144\n",
      "Iteration 70/100 | Max Change (Delta): 0.054093\n",
      "Iteration 80/100 | Max Change (Delta): 0.044242\n",
      "Iteration 90/100 | Max Change (Delta): 0.036185\n"
     ]
    },
    {
     "name": "stderr",
     "output_type": "stream",
     "text": [
      "INFO:root:Policy updated.\n",
      " 91%|█████████ | 36441/40000 [11:52:46<3:17:18,  3.33s/it]INFO:root:Updating optimal policy...\n"
     ]
    },
    {
     "name": "stdout",
     "output_type": "stream",
     "text": [
      "Iteration 100/100 | Max Change (Delta): 0.029596\n",
      "\n",
      "Value iteration finished (max iterations reached).\n",
      "RUNNING THE L-BFGS-B CODE\n",
      "\n",
      "           * * *\n",
      "\n",
      "Machine precision = 2.220D-16\n",
      " N =            4     M =           10\n",
      "\n",
      "At X0         4 variables are exactly at the bounds\n",
      "\n",
      "At iterate    0    f=  1.78882D+04    |proj g|=  1.00000D+00\n",
      "\n",
      "At iterate    1    f=  1.71745D+04    |proj g|=  6.58666D-01\n",
      "\n",
      "At iterate    2    f=  1.71611D+04    |proj g|=  6.42582D-01\n",
      "\n",
      "At iterate    3    f=  1.71466D+04    |proj g|=  5.16311D-01\n",
      "\n",
      "At iterate    4    f=  1.71466D+04    |proj g|=  2.66022D-01\n",
      "\n",
      "At iterate    5    f=  1.71466D+04    |proj g|=  8.18624D-02\n",
      "\n",
      "           * * *\n",
      "\n",
      "Tit   = total number of iterations\n",
      "Tnf   = total number of function evaluations\n",
      "Tnint = total number of segments explored during Cauchy searches\n",
      "Skip  = number of BFGS updates skipped\n",
      "Nact  = number of active bounds at final generalized Cauchy point\n",
      "Projg = norm of the final projected gradient\n",
      "F     = final function value\n",
      "\n",
      "           * * *\n",
      "\n",
      "   N    Tit     Tnf  Tnint  Skip  Nact     Projg        F\n",
      "    4      5      7      8     0     0   8.186D-02   1.715D+04\n",
      "  F =   17146.582078698273     \n",
      "\n",
      "CONVERGENCE: REL_REDUCTION_OF_F_<=_FACTR*EPSMCH             \n"
     ]
    },
    {
     "name": "stderr",
     "output_type": "stream",
     "text": [
      "INFO:root:Theta updated. New theta_hat: [0.514 0.157 0.388 0.349]\n"
     ]
    },
    {
     "name": "stdout",
     "output_type": "stream",
     "text": [
      "Discretization setup:\n",
      "  - Cumulative Context (cc):    100 steps up to 8.00\n",
      "  - Cust. Degradation (cx):     50 steps up to 1.00\n",
      "  - Cust. Revenue (cu):         100 steps up to 1.00 (99.9th percentile)\n",
      "  - Rental Duration (T):        100 steps up to 76.01 (99.95th percentile)\n",
      "Pre-computing expectations from 100000 customer samples...\n",
      "Starting Numba-accelerated pre-computation of arrival dynamics...\n",
      "Pre-computation complete. ✅\n",
      "\n",
      "Starting Value Iteration...\n",
      "Iteration 10/100 | Max Change (Delta): 0.206940\n",
      "Iteration 20/100 | Max Change (Delta): 0.152118\n",
      "Iteration 30/100 | Max Change (Delta): 0.121357\n",
      "Iteration 40/100 | Max Change (Delta): 0.098569\n",
      "Iteration 50/100 | Max Change (Delta): 0.080478\n",
      "Iteration 60/100 | Max Change (Delta): 0.065794\n",
      "Iteration 70/100 | Max Change (Delta): 0.053807\n",
      "Iteration 80/100 | Max Change (Delta): 0.044007\n",
      "Iteration 90/100 | Max Change (Delta): 0.035993\n"
     ]
    },
    {
     "name": "stderr",
     "output_type": "stream",
     "text": [
      "INFO:root:Policy updated.\n",
      " 94%|█████████▍| 37589/40000 [11:58:59<1:33:23,  2.32s/it]INFO:root:Updating optimal policy...\n"
     ]
    },
    {
     "name": "stdout",
     "output_type": "stream",
     "text": [
      "Iteration 100/100 | Max Change (Delta): 0.029439\n",
      "\n",
      "Value iteration finished (max iterations reached).\n",
      "RUNNING THE L-BFGS-B CODE\n",
      "\n",
      "           * * *\n",
      "\n",
      "Machine precision = 2.220D-16\n",
      " N =            4     M =           10\n",
      "\n",
      "At X0         4 variables are exactly at the bounds\n",
      "\n",
      "At iterate    0    f=  1.87212D+04    |proj g|=  1.00000D+00\n",
      "\n",
      "At iterate    1    f=  1.79682D+04    |proj g|=  6.55931D-01\n",
      "\n",
      "At iterate    2    f=  1.79539D+04    |proj g|=  6.40373D-01\n",
      "\n",
      "At iterate    3    f=  1.79384D+04    |proj g|=  5.23029D-01\n",
      "\n",
      "At iterate    4    f=  1.79384D+04    |proj g|=  2.89521D-01\n",
      "\n",
      "At iterate    5    f=  1.79384D+04    |proj g|=  8.84559D-02\n",
      "\n",
      "At iterate    6    f=  1.79384D+04    |proj g|=  5.59787D-03\n",
      "\n",
      "           * * *\n",
      "\n",
      "Tit   = total number of iterations\n",
      "Tnf   = total number of function evaluations\n",
      "Tnint = total number of segments explored during Cauchy searches\n",
      "Skip  = number of BFGS updates skipped\n",
      "Nact  = number of active bounds at final generalized Cauchy point\n",
      "Projg = norm of the final projected gradient\n",
      "F     = final function value\n",
      "\n",
      "           * * *\n",
      "\n",
      "   N    Tit     Tnf  Tnint  Skip  Nact     Projg        F\n",
      "    4      6      8      9     0     0   5.598D-03   1.794D+04\n",
      "  F =   17938.363645806610     \n",
      "\n",
      "CONVERGENCE: REL_REDUCTION_OF_F_<=_FACTR*EPSMCH             \n"
     ]
    },
    {
     "name": "stderr",
     "output_type": "stream",
     "text": [
      "INFO:root:Theta updated. New theta_hat: [0.52  0.158 0.388 0.353]\n"
     ]
    },
    {
     "name": "stdout",
     "output_type": "stream",
     "text": [
      "Discretization setup:\n",
      "  - Cumulative Context (cc):    100 steps up to 8.00\n",
      "  - Cust. Degradation (cx):     50 steps up to 1.00\n",
      "  - Cust. Revenue (cu):         100 steps up to 1.00 (99.9th percentile)\n",
      "  - Rental Duration (T):        100 steps up to 76.01 (99.95th percentile)\n",
      "Pre-computing expectations from 100000 customer samples...\n",
      "Starting Numba-accelerated pre-computation of arrival dynamics...\n",
      "Pre-computation complete. ✅\n",
      "\n",
      "Starting Value Iteration...\n",
      "Iteration 10/100 | Max Change (Delta): 0.204966\n",
      "Iteration 20/100 | Max Change (Delta): 0.150819\n",
      "Iteration 30/100 | Max Change (Delta): 0.120365\n",
      "Iteration 40/100 | Max Change (Delta): 0.097797\n",
      "Iteration 50/100 | Max Change (Delta): 0.079856\n",
      "Iteration 60/100 | Max Change (Delta): 0.065287\n",
      "Iteration 70/100 | Max Change (Delta): 0.053393\n",
      "Iteration 80/100 | Max Change (Delta): 0.043669\n",
      "Iteration 90/100 | Max Change (Delta): 0.035717\n"
     ]
    },
    {
     "name": "stderr",
     "output_type": "stream",
     "text": [
      "INFO:root:Policy updated.\n",
      " 97%|█████████▋| 38756/40000 [12:05:26<34:41,  1.67s/it]  INFO:root:Updating optimal policy...\n"
     ]
    },
    {
     "name": "stdout",
     "output_type": "stream",
     "text": [
      "Iteration 100/100 | Max Change (Delta): 0.029213\n",
      "\n",
      "Value iteration finished (max iterations reached).\n",
      "RUNNING THE L-BFGS-B CODE\n",
      "\n",
      "           * * *\n",
      "\n",
      "Machine precision = 2.220D-16\n",
      " N =            4     M =           10\n",
      "\n",
      "At X0         4 variables are exactly at the bounds\n",
      "\n",
      "At iterate    0    f=  1.95525D+04    |proj g|=  1.00000D+00\n",
      "\n",
      "At iterate    1    f=  1.87618D+04    |proj g|=  6.54588D-01\n",
      "\n",
      "At iterate    2    f=  1.87470D+04    |proj g|=  6.50130D-01\n",
      "\n",
      "At iterate    3    f=  1.87309D+04    |proj g|=  5.20574D-01\n",
      "\n",
      "At iterate    4    f=  1.87309D+04    |proj g|=  3.06262D-01\n",
      "\n",
      "At iterate    5    f=  1.87309D+04    |proj g|=  9.24603D-02\n",
      "\n",
      "At iterate    6    f=  1.87309D+04    |proj g|=  7.04357D-03\n",
      "\n",
      "           * * *\n",
      "\n",
      "Tit   = total number of iterations\n",
      "Tnf   = total number of function evaluations\n",
      "Tnint = total number of segments explored during Cauchy searches\n",
      "Skip  = number of BFGS updates skipped\n",
      "Nact  = number of active bounds at final generalized Cauchy point\n",
      "Projg = norm of the final projected gradient\n",
      "F     = final function value\n",
      "\n",
      "           * * *\n",
      "\n",
      "   N    Tit     Tnf  Tnint  Skip  Nact     Projg        F\n",
      "    4      6      8      9     0     0   7.044D-03   1.873D+04\n",
      "  F =   18730.927183018182     \n",
      "\n",
      "CONVERGENCE: REL_REDUCTION_OF_F_<=_FACTR*EPSMCH             \n"
     ]
    },
    {
     "name": "stderr",
     "output_type": "stream",
     "text": [
      "INFO:root:Theta updated. New theta_hat: [0.518 0.157 0.389 0.358]\n"
     ]
    },
    {
     "name": "stdout",
     "output_type": "stream",
     "text": [
      "Discretization setup:\n",
      "  - Cumulative Context (cc):    100 steps up to 8.00\n",
      "  - Cust. Degradation (cx):     50 steps up to 1.00\n",
      "  - Cust. Revenue (cu):         100 steps up to 1.00 (99.9th percentile)\n",
      "  - Rental Duration (T):        100 steps up to 76.01 (99.95th percentile)\n",
      "Pre-computing expectations from 100000 customer samples...\n",
      "Starting Numba-accelerated pre-computation of arrival dynamics...\n",
      "Pre-computation complete. ✅\n",
      "\n",
      "Starting Value Iteration...\n",
      "Iteration 10/100 | Max Change (Delta): 0.205200\n",
      "Iteration 20/100 | Max Change (Delta): 0.151027\n",
      "Iteration 30/100 | Max Change (Delta): 0.120486\n",
      "Iteration 40/100 | Max Change (Delta): 0.097900\n",
      "Iteration 50/100 | Max Change (Delta): 0.079940\n",
      "Iteration 60/100 | Max Change (Delta): 0.065356\n",
      "Iteration 70/100 | Max Change (Delta): 0.053449\n",
      "Iteration 80/100 | Max Change (Delta): 0.043715\n",
      "Iteration 90/100 | Max Change (Delta): 0.035754\n"
     ]
    },
    {
     "name": "stderr",
     "output_type": "stream",
     "text": [
      "INFO:root:Policy updated.\n",
      "100%|██████████| 40000/40000 [12:06:48<00:00,  1.09s/it]\n",
      "INFO:root:Simulation finished.\n"
     ]
    },
    {
     "name": "stdout",
     "output_type": "stream",
     "text": [
      "Iteration 100/100 | Max Change (Delta): 0.029243\n",
      "\n",
      "Value iteration finished (max iterations reached).\n"
     ]
    },
    {
     "name": "stderr",
     "output_type": "stream",
     "text": [
      "INFO:root:Simulation state saved to models/simulator_20250915_214357.\n"
     ]
    },
    {
     "name": "stdout",
     "output_type": "stream",
     "text": [
      "Policy saved to models/simulator_20250915_214357.discrete_policy.pkl\n"
     ]
    }
   ],
   "source": [
    "pacific_tz = timezone('America/Los_Angeles')\n",
    "current_time = datetime.now(pacific_tz).strftime(\"%Y%m%d_%H%M%S\")\n",
    "\n",
    "# simulator.projected_volume_learner.is_terminated = True\n",
    "simulation_data = simulator.run(num_customers=NUM_CUSTOMERS)\n",
    "degradation_df = pd.DataFrame(simulator.degradation_history)\n",
    "simulation_df = pd.DataFrame(simulator.history)\n",
    "\n",
    "degradation_df.to_csv(f'data/degradation_data_{current_time}.csv', index=False)\n",
    "simulation_df.to_csv(f'data/simulation_data_{current_time}.csv', index=False)\n",
    "simulator.save(f'models/simulator_{current_time}')"
   ]
  },
  {
   "cell_type": "code",
   "execution_count": null,
   "id": "b2839ef2",
   "metadata": {},
   "outputs": [],
   "source": [
    "degradation_df = pd.DataFrame(simulator.degradation_history)\n",
    "simulation_df = pd.DataFrame(simulator.history)\n",
    "\n",
    "degradation_df.to_csv(f'data/degradation_data_{current_time}.csv', index=False)\n",
    "simulation_df.to_csv(f'data/simulation_data_{current_time}.csv', index=False)\n",
    "simulator.save(f'models/simulator_{current_time}')"
   ]
  },
  {
   "cell_type": "markdown",
   "id": "2ffaa1c1",
   "metadata": {},
   "source": [
    "### Convergence of $\\hat\\theta$"
   ]
  },
  {
   "cell_type": "code",
   "execution_count": null,
   "id": "221cf058",
   "metadata": {},
   "outputs": [],
   "source": [
    "# simulator = Simulator.load('models/simulator_0914')\n",
    "\n",
    "history = pd.DataFrame(simulator.history)\n",
    "degradation_history = pd.DataFrame(simulator.degradation_history)\n",
    "\n",
    "epsilons = [0.20 * (0.95 ** i) for i in range(len(simulator.theta_updates))]\n",
    "\n",
    "times = []\n",
    "\n",
    "for d in simulator.theta_updates:\n",
    "    idx, theta_hat = d['customer_idx'], d['theta_hat']\n",
    "    time = history[history.customer_id == idx]['calendar_time'].max()\n",
    "    times.append(time)\n",
    "    \n",
    "# plot L2, and L-inf norms of utility updates\n",
    "L2_errors = [np.linalg.norm(update['theta_hat'] - THETA_TRUE) for update in simulator.theta_updates]\n",
    "Linf_errors = [np.linalg.norm(update['theta_hat'] - THETA_TRUE, ord=np.inf) for update in simulator.theta_updates]\n",
    "\n",
    "plt.figure(figsize=(12, 6))\n",
    "plt.plot(times, L2_errors, label='$L_2$ Norm Error', marker='o')\n",
    "plt.plot(times, Linf_errors, label='$L_\\infty$ Norm Error', marker='x')\n",
    "plt.plot(times, epsilons, label='Exploration Rate (ε)', linestyle='--', color='gray')\n",
    "# plt.yscale('log')\n",
    "plt.xlabel('Number of Customers Processed', fontsize=14)\n",
    "plt.ylabel('Error Norm', fontsize=14)\n",
    "\n",
    "plt.title('Convergence of $\\|\\hat{\\\\theta} - \\\\theta\\|$', fontsize=18)\n",
    "plt.legend(fontsize=12)\n",
    "plt.grid(True)\n",
    "plt.savefig('figures/utility_convergence.pdf')\n",
    "plt.show()"
   ]
  },
  {
   "cell_type": "markdown",
   "id": "1c192729",
   "metadata": {},
   "source": [
    "### Convergence of $\\hat u$"
   ]
  },
  {
   "cell_type": "code",
   "execution_count": null,
   "id": "628dd0f7",
   "metadata": {},
   "outputs": [],
   "source": [
    "simulator.utility_updates\n",
    "\n",
    "# plot L2, and L-inf norms of utility updates\n",
    "L2_errors = [np.linalg.norm(update['u_hat'] - UTILITY_TRUE) for update in simulator.utility_updates]\n",
    "Linf_errors = [np.linalg.norm(update['u_hat'] - UTILITY_TRUE, ord=np.inf) for update in simulator.utility_updates]\n",
    "\n",
    "plt.figure(figsize=(12, 6))\n",
    "plt.plot(L2_errors, label='$L_2$ Norm Error', marker='o')\n",
    "plt.plot(Linf_errors, label='$L_\\infty$ Norm Error', marker='x')\n",
    "# plt.yscale('log')\n",
    "plt.xlabel('Number of Customers Processed', fontsize=14)\n",
    "plt.ylabel('Error Norm', fontsize=14)\n",
    "\n",
    "plt.title('Convergence of $\\|\\hat u - u\\|$', fontsize=18)\n",
    "plt.legend(fontsize=12)\n",
    "plt.grid(True)\n",
    "plt.savefig('figures/utility_convergence.pdf')\n",
    "plt.show()"
   ]
  },
  {
   "cell_type": "markdown",
   "id": "211146ca",
   "metadata": {},
   "source": [
    "### Revenue of Online Learner"
   ]
  },
  {
   "cell_type": "code",
   "execution_count": null,
   "id": "6288559c",
   "metadata": {},
   "outputs": [],
   "source": [
    "degradation_df = pd.DataFrame(simulator.degradation_history)\n",
    "simulation_df = pd.DataFrame(simulator.history)\n",
    "\n",
    "simulation_df['net_profit'] = simulation_df['profit'] + simulation_df['loss']\n",
    "simulation_df['cumulative_net_profit'] = simulation_df['net_profit'].cumsum()\n",
    "\n",
    "ax = plt.figure(figsize=(10,6))\n",
    "\n",
    "# plot cumulative profit and loss over time\n",
    "plt.plot(simulation_df['calendar_time'], simulation_df['cumulative_net_profit'], label='Cumulative Net Profit')\n",
    "plt.xlabel('Calendar Time')\n",
    "plt.ylabel('Cumulative Net Profit')\n",
    "plt.title('Cumulative Net Profit Over Time')\n",
    "plt.legend()\n",
    "plt.grid()\n",
    "plt.savefig('figures/cumulative_net_profit_online.pdf')\n",
    "plt.show()"
   ]
  },
  {
   "cell_type": "markdown",
   "id": "dec0fff9",
   "metadata": {},
   "source": [
    "## Training policy under perfect information"
   ]
  },
  {
   "cell_type": "markdown",
   "id": "de203c94",
   "metadata": {},
   "source": [
    "### Revenue of Optimal Policy"
   ]
  },
  {
   "cell_type": "code",
   "execution_count": null,
   "id": "a8793230",
   "metadata": {},
   "outputs": [],
   "source": [
    "class PerfectDegradationLearner:\n",
    "    def __init__(self, d, theta_true, hazard_model):\n",
    "        self.d = d\n",
    "        self.theta_true = theta_true\n",
    "        self.hazard_model = hazard_model  # Placeholder, not used\n",
    "        \n",
    "    def get_theta(self):\n",
    "        return self.theta_true\n",
    "    \n",
    "    def cum_baseline(self, t):\n",
    "        return self.hazard_model.Lambda_0(t)\n",
    "    \n",
    "    def inverse_cum_baseline(self, u):\n",
    "        return self.hazard_model.Lambda_0_inverse(u)\n",
    "    \n",
    "perfect_degradation_learner = PerfectDegradationLearner(\n",
    "    d=D, \n",
    "    theta_true=THETA_TRUE,\n",
    "    hazard_model=usage_exp_hazard_model,\n",
    ")\n",
    "\n",
    "# N_perfect = [100, 40, 80, 150]\n",
    "\n",
    "perfect_dpagent = DiscretizedDPAgent(\n",
    "    N=simulator.training_hyperparams['N'], # grid sizes [cum_context, context, duration, active_time]\n",
    "    max_cumulative_context=simulator.training_hyperparams['max_cumulative_context'],\n",
    "    # max_active_time=simulator.training_hyperparams['max_active_time'],\n",
    "    u_hat=UTILITY_TRUE,\n",
    "    degradation_learner=perfect_degradation_learner,\n",
    "    customer_generator=customer_gen,\n",
    "    params=simulator.mdp_params,\n",
    ")\n",
    "# perfect_dpagent.run_value_iteration(simulator.training_hyperparams['num_value_iterations'])\n",
    "\n",
    "# weight = torch.load('weights/perfect_dpagent_q_network.pth', map_location=torch.device('cuda'))\n",
    "# perfect_dpagent.q_network.load_state_dict(weight)\n",
    "# perfect_dpagent.q_network.to(perfect_dpagent.device)\n",
    "# perfect_dpagent.q_network.eval()\n",
    "perfect_dpagent._precompute_dynamics(100000)\n",
    "perfect_dpagent.run_value_iteration(150)\n",
    "perfect_policy = perfect_dpagent.get_policy('greedy')"
   ]
  },
  {
   "cell_type": "code",
   "execution_count": null,
   "id": "ade6b251",
   "metadata": {},
   "outputs": [],
   "source": [
    "simulation_df = pd.DataFrame(simulator.history)\n",
    "# simulator.degradation_learner = perfect_degradation_learner\n",
    "samples = simulator.run_full_exploit(100000, perfect_policy, {'tau': 0.01})\n",
    "samples = pd.DataFrame(samples)\n",
    "\n",
    "simulation_df['net_profit'] = simulation_df['profit'] + simulation_df['loss']\n",
    "simulation_df['cumulative_net_profit'] = simulation_df['net_profit'].cumsum()\n",
    "samples['net_profit'] = samples['profit'] + samples['loss']\n",
    "samples['cumulative_net_profit'] = samples['net_profit'].cumsum()\n",
    "\n",
    "samples['netprofit_per_time'] = samples['cumulative_net_profit'] / samples['calendar_time']\n",
    "simulation_df['netprofit_per_time'] = simulation_df['cumulative_net_profit'] / simulation_df['calendar_time']"
   ]
  },
  {
   "cell_type": "code",
   "execution_count": null,
   "id": "674b44a1",
   "metadata": {},
   "outputs": [],
   "source": [
    "def calculate_rolling_rate(df, time_col, value_col, window_size):\n",
    "    \"\"\"\n",
    "    Calculates the rate of a value over a rolling time window on irregular time series data.\n",
    "\n",
    "    Args:\n",
    "        df (pd.DataFrame): The input dataframe.\n",
    "        time_col (str): The name of the column with time data.\n",
    "        value_col (str): The name of the column with values to aggregate (e.g., 'net_profit').\n",
    "        window_size (int): The duration of the rolling time window.\n",
    "\n",
    "    Returns:\n",
    "        pd.Series: A series containing the calculated rolling rate for each row.\n",
    "    \"\"\"\n",
    "    # Ensure the dataframe is sorted by time, which is crucial.\n",
    "    df = df.sort_values(time_col).reset_index(drop=True)\n",
    "    \n",
    "    times = df[time_col].values\n",
    "    values = df[value_col].values\n",
    "    \n",
    "    # For each end time `t_i`, find the start time `t_i - window`.\n",
    "    start_times = times - window_size\n",
    "    \n",
    "    # Use searchsorted to find the index where each start_time would be inserted.\n",
    "    # This gives us the starting index of each time window efficiently.\n",
    "    start_indices = np.searchsorted(times, start_times, side='left')\n",
    "    \n",
    "    # Use a cumulative sum to efficiently calculate the sum over any slice [j, i].\n",
    "    value_cumsum = np.cumsum(values)\n",
    "    \n",
    "    # The sum for a window ending at `i` is cumsum[i] - cumsum[start_index - 1].\n",
    "    # We create a shifted cumulative sum array to handle the `start_index - 1` lookup.\n",
    "    shifted_cumsum = np.concatenate(([0], value_cumsum[:-1]))\n",
    "    \n",
    "    # Calculate the sum of values within each rolling window.\n",
    "    window_sums = value_cumsum - shifted_cumsum[start_indices]\n",
    "    \n",
    "    # The rate is the sum of profit in the window divided by the window's duration.\n",
    "    profit_rate = window_sums / window_size\n",
    "    \n",
    "    return pd.Series(profit_rate, index=df.index)\n",
    "\n",
    "\n",
    "# --- 2. Calculate net profit and the rolling rate for each DataFrame ---\n",
    "\n",
    "window_duration = 20000 # Define the time window for the rolling rate\n",
    "\n",
    "for df in [simulation_df]:\n",
    "# for df in [samples]:\n",
    "    df['net_profit'] = df['profit'] + df['loss']\n",
    "    # Add the new 'profit_rate' column using our helper function\n",
    "    df['profit_rate'] = calculate_rolling_rate(df, 'calendar_time', 'net_profit', window_duration)"
   ]
  },
  {
   "cell_type": "code",
   "execution_count": null,
   "id": "a3a5d8bd",
   "metadata": {},
   "outputs": [],
   "source": [
    "# --- 3. Plot the new rolling profit rate ---\n",
    "\n",
    "# max_time = min(simulation_df['calendar_time'].max(), samples['calendar_time'].max())\n",
    "max_time = simulation_df['calendar_time'].max()\n",
    "# samples_plot = samples[(window_duration <= samples['calendar_time']) & (samples['calendar_time'] <= max_time)]\n",
    "simulations_plot = simulation_df[\n",
    "    (window_duration <= simulation_df['calendar_time']) &\n",
    "    (simulation_df['calendar_time'] <= max_time)]\n",
    "\n",
    "\n",
    "plt.figure(figsize=(10, 6))\n",
    "\n",
    "# plt.plot(samples_plot['calendar_time'], samples_plot['profit_rate'], label=f'Optimal Policy (Rolling {window_duration} unit avg)')\n",
    "plt.plot(simulations_plot['calendar_time'], simulations_plot['profit_rate'], label=f'Online Learning (Rolling {window_duration} unit avg)')\n",
    "\n",
    "plt.xlabel('Calendar Time')\n",
    "plt.ylabel('Profit Rate (Profit / Time Unit)')\n",
    "plt.title(f'Rolling Profit Rate Over Time (Window = {window_duration} time units)')\n",
    "plt.legend()\n",
    "plt.grid(True)\n",
    "plt.show()"
   ]
  },
  {
   "cell_type": "code",
   "execution_count": null,
   "id": "a07a5571",
   "metadata": {},
   "outputs": [],
   "source": []
  }
 ],
 "metadata": {
  "kernelspec": {
   "display_name": "res",
   "language": "python",
   "name": "python3"
  },
  "language_info": {
   "codemirror_mode": {
    "name": "ipython",
    "version": 3
   },
   "file_extension": ".py",
   "mimetype": "text/x-python",
   "name": "python",
   "nbconvert_exporter": "python",
   "pygments_lexer": "ipython3",
   "version": "3.9.20"
  }
 },
 "nbformat": 4,
 "nbformat_minor": 5
}
