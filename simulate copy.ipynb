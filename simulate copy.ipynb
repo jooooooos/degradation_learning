{
 "cells": [
  {
   "cell_type": "code",
   "execution_count": 1,
   "id": "f1bf8ff4",
   "metadata": {},
   "outputs": [],
   "source": [
    "import pickle\n",
    "import numpy as np\n",
    "import pandas as pd\n",
    "from scipy.optimize import minimize\n",
    "import torch\n",
    "\n",
    "from policy import DPAgent\n",
    "from new_new_policy import DiscretizedDPAgent\n",
    "from simulation import Simulator, CustomerGenerator\n",
    "from hazard_models import ExponentialHazard\n",
    "from utility_learner import ProjectedVolumeLearner, diam\n",
    "from degradation_learner import DegradationLearner\n",
    "from datetime import datetime\n",
    "from pytz import timezone\n",
    "\n",
    "from utils import unit_ball_rejection_sample, correct_signs\n",
    "import matplotlib.pyplot as plt\n",
    "from scipy.stats import gaussian_kde\n",
    "\n",
    "import logging\n",
    "logging.basicConfig(level=logging.INFO)\n",
    "\n",
    "np.set_printoptions(suppress=True)"
   ]
  },
  {
   "cell_type": "code",
   "execution_count": 2,
   "id": "52e08dea",
   "metadata": {},
   "outputs": [],
   "source": [
    "# --- 2. Define Sampling Functions ---\n",
    "# def context_sampler() -> np.ndarray:\n",
    "#     \"\"\"Samples a customer's context vector from a uniform distribution.\"\"\"\n",
    "#     return np.random.uniform(low=0.0, high=1.0, size=D)\n",
    "\n",
    "def context_sampler() -> np.ndarray:\n",
    "    \"\"\"Samples a customer's context vector uniformly from the unit ball.\"\"\"\n",
    "    return np.abs(unit_ball_rejection_sample(D))\n",
    "\n",
    "def rental_sampler() -> float:\n",
    "    \"\"\"Samples a customer's desired rental duration from an exponential distribution.\"\"\"\n",
    "    return np.random.exponential(scale=10.0)\n",
    "\n",
    "def interarrival_sampler() -> float:\n",
    "    \"\"\"Samples the time until the next customer arrives.\"\"\"\n",
    "    return np.random.exponential(scale=5.0)"
   ]
  },
  {
   "cell_type": "code",
   "execution_count": 3,
   "id": "8cc2c2dd",
   "metadata": {},
   "outputs": [],
   "source": [
    "# --- 1. Simulation Configuration ---\n",
    "D = 4                                  # Dimension of context vectors\n",
    "LAMBDA_VAL = 0.001                     # Baseline hazard constant\n",
    "NUM_CUSTOMERS = 40000                   # Total number of customers to simulate, i.e. T\n",
    "\n",
    "# Set a random seed for reproducibility\n",
    "# np.random.seed(41)\n",
    "\n",
    "# Ground truth vectors\n",
    "THETA_TRUE = np.array([0.5, 0.2, 0.4, 0.3])#$, 0.4])    # For degradation\n",
    "UTILITY_TRUE = np.array([0.372450167, 0.10850869, 0.33930126, 0.71356037])\n",
    "\n",
    "# context_sampler()  # For customer's willingness to pay\n",
    "\n",
    "# --- Machine's Pricing Vector 'r' ---\n",
    "# This is a fallback pricing vector, when we don't feed u_hat to calculate_price\n",
    "PRICING_R = np.zeros(D)"
   ]
  },
  {
   "cell_type": "code",
   "execution_count": 4,
   "id": "8e600551",
   "metadata": {},
   "outputs": [],
   "source": [
    "usage_exp_hazard_model = ExponentialHazard(lambda_val=LAMBDA_VAL)\n",
    "# spontaneous_exp_hazard_model = None # ExponentialHazard(lambda_val=0.01)\n",
    "\n",
    "customer_gen = CustomerGenerator(\n",
    "    d=D,\n",
    "    context_sampler=context_sampler,\n",
    "    rental_sampler=rental_sampler,\n",
    "    interarrival_sampler=interarrival_sampler\n",
    ")\n",
    "\n",
    "centroid_params = {\n",
    "    # 'num_samples': 2000,\n",
    "    # 'thin': None,\n",
    "    # 'burn_in': 500 * D ** 2,\n",
    "    # 'tol': 1e-4,\n",
    "    # 'rho_target': 0.01\n",
    "}\n",
    "\n",
    "termination_rule = lambda diameter: diameter < 0.0005  # Example custom termination rule\n",
    "\n",
    "projected_volume_learner = ProjectedVolumeLearner(\n",
    "    T=NUM_CUSTOMERS, \n",
    "    d=D, \n",
    "    centroid_params=centroid_params,\n",
    "    incentive_constant=1.1,\n",
    "    termination_rule=termination_rule,\n",
    ")\n",
    "\n",
    "mdp_params = {\n",
    "    'duration_lambda': 10.0,\n",
    "    'interarrival_lambda': 5.0,\n",
    "    'replacement_cost': 1.5,   # Cost to replace the machine\n",
    "    'failure_cost': 0.75,      # Additional penalty for in-service failure\n",
    "    'holding_cost_rate': 0.02,   # Cost per unit of idle time\n",
    "    'gamma': 0.99,             # Discount factor\n",
    "    'learning_rate': 1e-3,      # Learning rate for the Adam optimizer\n",
    "    'target_update_freq': 10    # How often to update the target network (in iterations)\n",
    "}\n",
    "\n",
    "training_hyperparams = {\n",
    "    # For FQI\n",
    "    'num_iterations': 1, # Number of training iterations per policy update\n",
    "    'dataset_size': 50000,      # Number of transitions to generate for the offline dataset\n",
    "    'batch_size': 256,           # Batch size for training\n",
    "\n",
    "    # For discrete DP\n",
    "    # 'N': [80, 20, 60, 150], # grid sizes [cum_context, context, duration, active_time\n",
    "    'N': [100, 50, 100, 100], # grid sizes [cum_context, context, revenue, duration]\n",
    "    'max_cumulative_context': 8.0,\n",
    "    # 'max_active_time': 150.0,\n",
    "    'num_value_iterations': 100,\n",
    "    \n",
    "}\n",
    "\n",
    "policy_type = 'decaying_epsilon_greedy'\n",
    "policy_kwargs = {\n",
    "    'current_epsilon': 0.10,\n",
    "    'decay_rate': 0.95,\n",
    "    'step': 0,\n",
    "}\n",
    "\n",
    "# Instantiate the Simulator with the new parameters\n",
    "simulator = Simulator(\n",
    "    d=D,\n",
    "    T=NUM_CUSTOMERS,\n",
    "    \n",
    "    theta_true=THETA_TRUE,\n",
    "    utility_true=UTILITY_TRUE,\n",
    "    pricing_r=PRICING_R,\n",
    "    \n",
    "    usage_hazard_model=usage_exp_hazard_model,\n",
    "    customer_generator=customer_gen,\n",
    "    projected_volume_learner=projected_volume_learner,  # Use default ProjectedVolumeLearner\n",
    "    \n",
    "    mdp_params=mdp_params,\n",
    "    discrete_dp=True,\n",
    "    policy_type=policy_type,\n",
    "    training_hyperparams=training_hyperparams,\n",
    "    policy_kwargs=policy_kwargs,\n",
    "    policy_update_threshold=100,\n",
    "    time_normalize=True,\n",
    ")"
   ]
  },
  {
   "cell_type": "code",
   "execution_count": 5,
   "id": "6ab40bba",
   "metadata": {},
   "outputs": [],
   "source": [
    "# # Lets you skip utility exploration with perfect u starting point\n",
    "# simulator.projected_volume_learner.centroids.append(UTILITY_TRUE)\n",
    "# simulator.projected_volume_learner.is_terminated = True\n",
    "# simulator.seen_breakdowns = 2\n",
    "\n",
    "# degradation_learner = DegradationLearner(d=simulator.d)\n",
    "# degradation_learner.theta = np.ones(D) * 0.1\n",
    "# degradation_learner.cum_baseline = lambda x: LAMBDA_VAL * x\n",
    "# degradation_learner.inverse_cum_baseline = lambda y: y / LAMBDA_VAL\n",
    "# simulator.degradation_learner = degradation_learner\n",
    "\n",
    "# # dp_agent = DPAgent(\n",
    "# #     d=simulator.d,\n",
    "# #     u_hat=UTILITY_TRUE,\n",
    "# #     time_normalize=simulator.time_normalize,\n",
    "# #     degradation_learner=simulator.degradation_learner,\n",
    "# #     customer_generator=simulator.customer_generator,\n",
    "# #     params=simulator.mdp_params\n",
    "# # )\n",
    "# # dp_agent.train(**simulator.training_hyperparams)\n",
    "\n",
    "# dp_agent = DiscretizedDPAgent(\n",
    "#     N=training_hyperparams['N'], # grid sizes [cum_context, context, duration, active_time]\n",
    "#     max_cumulative_context=training_hyperparams['max_cumulative_context'],\n",
    "#     # max_active_time=training_hyperparams['max_active_time'],\n",
    "#     u_hat=UTILITY_TRUE,\n",
    "#     degradation_learner=degradation_learner,\n",
    "#     customer_generator=customer_gen,\n",
    "#     params=mdp_params,\n",
    "# )\n",
    "# # dp_agent._precompute_dynamics(num_samples=50000)\n",
    "# dp_agent.run_value_iteration(100)\n",
    "\n",
    "# simulator.dp_agent = dp_agent\n",
    "# simulator.optimal_policy = dp_agent.get_policy(simulator.policy_type)\n",
    "# simulator.breakdowns_since_last_update = 0 # Reset the counter\n"
   ]
  },
  {
   "cell_type": "code",
   "execution_count": 6,
   "id": "5e90ec1a",
   "metadata": {},
   "outputs": [
    {
     "name": "stderr",
     "output_type": "stream",
     "text": [
      "INFO:root:Starting simulation for 40000 customers...\n",
      "  0%|          | 0/40000 [00:00<?, ?it/s]"
     ]
    },
    {
     "name": "stdout",
     "output_type": "stream",
     "text": [
      "Set parameter Username\n"
     ]
    },
    {
     "name": "stderr",
     "output_type": "stream",
     "text": [
      "INFO:gurobipy:Set parameter Username\n"
     ]
    },
    {
     "name": "stdout",
     "output_type": "stream",
     "text": [
      "Set parameter LicenseID to value 2651514\n"
     ]
    },
    {
     "name": "stderr",
     "output_type": "stream",
     "text": [
      "INFO:gurobipy:Set parameter LicenseID to value 2651514\n"
     ]
    },
    {
     "name": "stdout",
     "output_type": "stream",
     "text": [
      "Academic license - for non-commercial use only - expires 2026-04-14\n"
     ]
    },
    {
     "name": "stderr",
     "output_type": "stream",
     "text": [
      "INFO:gurobipy:Academic license - for non-commercial use only - expires 2026-04-14\n",
      "INFO:root:Customer 1: Diameter: 0.9884\n",
      "  0%|          | 1/40000 [00:03<39:58:35,  3.60s/it]INFO:root:Customer 2: Diameter: 0.7264\n",
      "  0%|          | 2/40000 [00:07<42:39:17,  3.84s/it]INFO:root:Customer 3: Diameter: 0.5623\n",
      "  0%|          | 3/40000 [00:11<44:58:54,  4.05s/it]INFO:root:Customer 4: Diameter: 0.4410\n",
      "  0%|          | 4/40000 [00:15<44:59:58,  4.05s/it]INFO:root:Customer 5: Diameter: 0.2949\n",
      "  0%|          | 5/40000 [00:20<45:37:11,  4.11s/it]INFO:root:Customer 6: Diameter: 0.5421\n",
      "  0%|          | 6/40000 [00:24<47:20:08,  4.26s/it]INFO:root:Customer 7: Diameter: 0.5359\n",
      "  0%|          | 7/40000 [00:29<49:41:11,  4.47s/it]INFO:root:Customer 7: Diameter: 0.1833\n",
      "  0%|          | 8/40000 [00:34<52:19:53,  4.71s/it]INFO:root:Customer 8: Diameter: 0.3026\n",
      "  0%|          | 9/40000 [00:40<55:06:05,  4.96s/it]INFO:root:Customer 9: Diameter: 0.1540\n",
      "  0%|          | 10/40000 [00:46<58:14:48,  5.24s/it]INFO:root:Customer 10: Diameter: 0.5152\n",
      "  0%|          | 11/40000 [00:52<61:55:59,  5.58s/it]INFO:root:Customer 10: Diameter: 0.1830\n",
      "  0%|          | 12/40000 [00:59<65:50:42,  5.93s/it]INFO:root:Customer 11: Diameter: 0.0859\n",
      "  0%|          | 13/40000 [01:06<69:30:23,  6.26s/it]INFO:root:Customer 11: Diameter: 0.0873\n",
      "  0%|          | 14/40000 [01:13<73:21:04,  6.60s/it]INFO:root:Customer 11: Diameter: 0.1718\n",
      "  0%|          | 15/40000 [01:21<76:48:26,  6.92s/it]INFO:root:Customer 11: Diameter: 0.0236\n",
      "  0%|          | 16/40000 [01:29<80:38:16,  7.26s/it]INFO:root:Customer 11: Diameter: 0.0877\n",
      "  0%|          | 17/40000 [01:37<84:37:16,  7.62s/it]INFO:root:Customer 12: Diameter: 0.0325\n",
      "  0%|          | 18/40000 [01:46<88:16:19,  7.95s/it]INFO:root:Customer 13: Diameter: 0.0686\n",
      "  0%|          | 19/40000 [01:55<91:57:12,  8.28s/it]INFO:root:Customer 13: Diameter: 0.0427\n",
      "  0%|          | 20/40000 [02:04<95:22:05,  8.59s/it]INFO:root:Customer 13: Diameter: 0.0696\n",
      "  0%|          | 21/40000 [02:14<97:55:00,  8.82s/it]INFO:root:Customer 14: Diameter: 0.0447\n",
      "  0%|          | 22/40000 [02:23<100:43:18,  9.07s/it]INFO:root:Customer 14: Diameter: 0.0231\n",
      "  0%|          | 23/40000 [02:33<103:41:19,  9.34s/it]INFO:root:Customer 15: Diameter: 0.0123\n",
      "  0%|          | 24/40000 [02:44<107:06:54,  9.65s/it]INFO:root:Customer 16: Diameter: 0.0272\n",
      "  0%|          | 25/40000 [02:54<110:08:26,  9.92s/it]INFO:root:Customer 17: Diameter: 0.0273\n",
      "  0%|          | 26/40000 [03:05<112:58:29, 10.17s/it]INFO:root:Customer 18: Diameter: 0.0123\n",
      "  0%|          | 27/40000 [03:16<115:56:30, 10.44s/it]INFO:root:Customer 18: Diameter: 0.0078\n",
      "  0%|          | 28/40000 [03:28<119:18:39, 10.75s/it]INFO:root:Customer 18: Diameter: 0.0067\n",
      "  0%|          | 29/40000 [03:39<122:48:44, 11.06s/it]INFO:root:Customer 19: Diameter: 0.0041\n",
      "  0%|          | 30/40000 [03:52<126:46:57, 11.42s/it]INFO:root:Customer 19: Diameter: 0.0127\n",
      "  0%|          | 31/40000 [04:05<131:37:23, 11.86s/it]INFO:root:Customer 20: Diameter: 0.0134\n",
      "  0%|          | 32/40000 [04:17<135:08:18, 12.17s/it]INFO:root:Customer 21: Diameter: 0.0070\n",
      "  0%|          | 33/40000 [04:30<137:56:37, 12.43s/it]INFO:root:Customer 22: Diameter: 0.0070\n",
      "  0%|          | 34/40000 [04:44<140:36:12, 12.67s/it]INFO:root:Customer 22: Diameter: 0.0043\n",
      "  0%|          | 35/40000 [04:57<143:40:07, 12.94s/it]INFO:root:Customer 22: Diameter: 0.0023\n",
      "  0%|          | 36/40000 [05:12<148:18:09, 13.36s/it]INFO:root:Customer 22: Diameter: 0.0027\n",
      "  0%|          | 37/40000 [05:26<153:00:00, 13.78s/it]INFO:root:Customer 23: Diameter: 0.0028\n",
      "  0%|          | 38/40000 [05:41<155:37:04, 14.02s/it]INFO:root:Customer 23: Diameter: 0.0028\n",
      "  0%|          | 39/40000 [05:56<158:19:27, 14.26s/it]INFO:root:Customer 24: Diameter: 0.0031\n",
      "  0%|          | 40/40000 [06:11<160:43:48, 14.48s/it]INFO:root:Customer 25: Diameter: 0.0019\n",
      "  0%|          | 41/40000 [06:26<164:02:23, 14.78s/it]INFO:root:Customer 26: Diameter: 0.0013\n",
      "  0%|          | 42/40000 [06:42<166:35:39, 15.01s/it]INFO:root:Customer 26: Diameter: 0.0007\n",
      "  0%|          | 43/40000 [06:57<168:43:13, 15.20s/it]INFO:root:Customer 27: Diameter: 0.0010\n",
      "  0%|          | 44/40000 [07:13<171:22:06, 15.44s/it]WARNING:root:Degenerate step in hit-and-run; skipping sample.\n",
      "WARNING:root:Degenerate step in hit-and-run; skipping sample.\n",
      "INFO:root:Customer 28: Diameter: 0.0004\n",
      "  0%|          | 45/40000 [07:30<173:50:49, 15.66s/it]INFO:root:Exploration phase completed at customer 28.\n",
      "INFO:root:Updating optimal policy...\n",
      "INFO:root:Theta updated. New theta_hat: [1.    0.    0.193 1.   ]\n"
     ]
    },
    {
     "name": "stdout",
     "output_type": "stream",
     "text": [
      "RUNNING THE L-BFGS-B CODE\n",
      "\n",
      "           * * *\n",
      "\n",
      "Machine precision = 2.220D-16\n",
      " N =            4     M =           10\n",
      "\n",
      "At X0         4 variables are exactly at the bounds\n",
      "\n",
      "At iterate    0    f=  1.79176D+00    |proj g|=  1.00000D+00\n",
      "\n",
      "At iterate    1    f=  4.87954D-01    |proj g|=  2.24639D-01\n",
      "\n",
      "At iterate    2    f=  4.28651D-01    |proj g|=  7.23188D-02\n",
      "\n",
      "At iterate    3    f=  4.20600D-01    |proj g|=  4.55658D-02\n",
      "\n",
      "At iterate    4    f=  4.17852D-01    |proj g|=  1.87538D-03\n",
      "\n",
      "At iterate    5    f=  4.17847D-01    |proj g|=  5.89068D-05\n",
      "\n",
      "At iterate    6    f=  4.17847D-01    |proj g|=  7.53869D-08\n",
      "\n",
      "           * * *\n",
      "\n",
      "Tit   = total number of iterations\n",
      "Tnf   = total number of function evaluations\n",
      "Tnint = total number of segments explored during Cauchy searches\n",
      "Skip  = number of BFGS updates skipped\n",
      "Nact  = number of active bounds at final generalized Cauchy point\n",
      "Projg = norm of the final projected gradient\n",
      "F     = final function value\n",
      "\n",
      "           * * *\n",
      "\n",
      "   N    Tit     Tnf  Tnint  Skip  Nact     Projg        F\n",
      "    4      6      7      8     0     3   7.539D-08   4.178D-01\n",
      "  F =  0.41784739167514751     \n",
      "\n",
      "CONVERGENCE: NORM_OF_PROJECTED_GRADIENT_<=_PGTOL            \n",
      "Discretization setup:\n",
      "  - Cumulative Context (cc):    100 steps up to 8.00\n",
      "  - Cust. Degradation (cx):     50 steps up to 1.00\n",
      "  - Cust. Revenue (cu):         100 steps up to 1.00 (99.9th percentile)\n",
      "  - Rental Duration (T):        100 steps up to 76.01 (99.95th percentile)\n",
      "Pre-computing expectations from 100000 customer samples...\n",
      "Starting Numba-accelerated pre-computation of arrival dynamics...\n"
     ]
    },
    {
     "name": "stderr",
     "output_type": "stream",
     "text": [
      "OMP: Info #276: omp_set_nested routine deprecated, please use omp_set_max_active_levels instead.\n"
     ]
    },
    {
     "name": "stdout",
     "output_type": "stream",
     "text": [
      "Pre-computation complete. ✅\n",
      "\n",
      "Starting Value Iteration...\n",
      "Iteration 10/100 | Max Change (Delta): 0.124811\n",
      "Iteration 20/100 | Max Change (Delta): 0.091322\n",
      "Iteration 30/100 | Max Change (Delta): 0.074003\n",
      "Iteration 40/100 | Max Change (Delta): 0.060483\n",
      "Iteration 50/100 | Max Change (Delta): 0.049466\n",
      "Iteration 60/100 | Max Change (Delta): 0.040458\n",
      "Iteration 70/100 | Max Change (Delta): 0.033091\n",
      "Iteration 80/100 | Max Change (Delta): 0.027065\n",
      "Iteration 90/100 | Max Change (Delta): 0.022137\n"
     ]
    },
    {
     "name": "stderr",
     "output_type": "stream",
     "text": [
      "INFO:root:Policy updated.\n",
      "  8%|▊         | 3059/40000 [08:37<14:49, 41.55it/s]  INFO:root:Updating optimal policy...\n"
     ]
    },
    {
     "name": "stdout",
     "output_type": "stream",
     "text": [
      "Iteration 100/100 | Max Change (Delta): 0.018106\n",
      "\n",
      "Value iteration finished (max iterations reached).\n",
      "RUNNING THE L-BFGS-B CODE\n",
      "\n",
      "           * * *\n",
      "\n",
      "Machine precision = 2.220D-16\n",
      " N =            4     M =           10\n",
      "\n",
      "At X0         4 variables are exactly at the bounds\n",
      "\n",
      "At iterate    0    f=  5.25403D+02    |proj g|=  1.00000D+00\n",
      "\n",
      "At iterate    1    f=  4.99364D+02    |proj g|=  6.51226D-01\n",
      "\n",
      "At iterate    2    f=  4.97066D+02    |proj g|=  5.94982D-01\n",
      "\n",
      "At iterate    3    f=  4.94664D+02    |proj g|=  6.91517D-01\n",
      "\n",
      "At iterate    4    f=  4.94656D+02    |proj g|=  2.10880D-02\n",
      "\n",
      "At iterate    5    f=  4.94656D+02    |proj g|=  1.34970D-02\n"
     ]
    },
    {
     "name": "stderr",
     "output_type": "stream",
     "text": [
      "INFO:root:Theta updated. New theta_hat: [0.594 0.003 0.679 0.186]\n"
     ]
    },
    {
     "name": "stdout",
     "output_type": "stream",
     "text": [
      "\n",
      "At iterate    6    f=  4.94656D+02    |proj g|=  2.51589D-03\n",
      "\n",
      "At iterate    7    f=  4.94656D+02    |proj g|=  1.17061D-04\n",
      "\n",
      "           * * *\n",
      "\n",
      "Tit   = total number of iterations\n",
      "Tnf   = total number of function evaluations\n",
      "Tnint = total number of segments explored during Cauchy searches\n",
      "Skip  = number of BFGS updates skipped\n",
      "Nact  = number of active bounds at final generalized Cauchy point\n",
      "Projg = norm of the final projected gradient\n",
      "F     = final function value\n",
      "\n",
      "           * * *\n",
      "\n",
      "   N    Tit     Tnf  Tnint  Skip  Nact     Projg        F\n",
      "    4      7      9     10     0     0   1.171D-04   4.947D+02\n",
      "  F =   494.65604724625774     \n",
      "\n",
      "CONVERGENCE: REL_REDUCTION_OF_F_<=_FACTR*EPSMCH             \n",
      "Discretization setup:\n",
      "  - Cumulative Context (cc):    100 steps up to 8.00\n",
      "  - Cust. Degradation (cx):     50 steps up to 1.00\n",
      "  - Cust. Revenue (cu):         100 steps up to 1.00 (99.9th percentile)\n",
      "  - Rental Duration (T):        100 steps up to 76.01 (99.95th percentile)\n",
      "Pre-computing expectations from 100000 customer samples...\n",
      "Starting Numba-accelerated pre-computation of arrival dynamics...\n",
      "Pre-computation complete. ✅\n",
      "\n",
      "Starting Value Iteration...\n",
      "Iteration 10/100 | Max Change (Delta): 0.198730\n"
     ]
    },
    {
     "name": "stderr",
     "output_type": "stream",
     "text": [
      "  8%|▊         | 3059/40000 [08:50<14:49, 41.55it/s]"
     ]
    },
    {
     "name": "stdout",
     "output_type": "stream",
     "text": [
      "Iteration 20/100 | Max Change (Delta): 0.147295\n",
      "Iteration 30/100 | Max Change (Delta): 0.117762\n",
      "Iteration 40/100 | Max Change (Delta): 0.095843\n",
      "Iteration 50/100 | Max Change (Delta): 0.078303\n",
      "Iteration 60/100 | Max Change (Delta): 0.064029\n",
      "Iteration 70/100 | Max Change (Delta): 0.052367\n",
      "Iteration 80/100 | Max Change (Delta): 0.042831\n",
      "Iteration 90/100 | Max Change (Delta): 0.035032\n"
     ]
    },
    {
     "name": "stderr",
     "output_type": "stream",
     "text": [
      "INFO:root:Policy updated.\n",
      "  9%|▊         | 3470/40000 [09:47<29:12, 20.85it/s]INFO:root:Updating optimal policy...\n"
     ]
    },
    {
     "name": "stdout",
     "output_type": "stream",
     "text": [
      "Iteration 100/100 | Max Change (Delta): 0.028653\n",
      "\n",
      "Value iteration finished (max iterations reached).\n",
      "RUNNING THE L-BFGS-B CODE\n",
      "\n",
      "           * * *\n",
      "\n",
      "Machine precision = 2.220D-16\n",
      " N =            4     M =           10\n",
      "\n",
      "At X0         4 variables are exactly at the bounds\n",
      "\n",
      "At iterate    0    f=  1.08147D+03    |proj g|=  1.00000D+00\n",
      "\n",
      "At iterate    1    f=  1.01976D+03    |proj g|=  6.68852D-01\n",
      "\n",
      "At iterate    2    f=  1.01714D+03    |proj g|=  6.21329D-01\n",
      "\n",
      "At iterate    3    f=  1.01475D+03    |proj g|=  3.42478D-01\n",
      "\n",
      "At iterate    4    f=  1.01475D+03    |proj g|=  4.43742D-02\n",
      "\n",
      "At iterate    5    f=  1.01475D+03    |proj g|=  2.26721D-02\n",
      "\n",
      "At iterate    6    f=  1.01475D+03    |proj g|=  9.59665D-03\n"
     ]
    },
    {
     "name": "stderr",
     "output_type": "stream",
     "text": [
      "INFO:root:Theta updated. New theta_hat: [0.477 0.087 0.545 0.339]\n"
     ]
    },
    {
     "name": "stdout",
     "output_type": "stream",
     "text": [
      "\n",
      "At iterate    7    f=  1.01475D+03    |proj g|=  1.11681D-04\n",
      "\n",
      "           * * *\n",
      "\n",
      "Tit   = total number of iterations\n",
      "Tnf   = total number of function evaluations\n",
      "Tnint = total number of segments explored during Cauchy searches\n",
      "Skip  = number of BFGS updates skipped\n",
      "Nact  = number of active bounds at final generalized Cauchy point\n",
      "Projg = norm of the final projected gradient\n",
      "F     = final function value\n",
      "\n",
      "           * * *\n",
      "\n",
      "   N    Tit     Tnf  Tnint  Skip  Nact     Projg        F\n",
      "    4      7      9     10     0     0   1.117D-04   1.015D+03\n",
      "  F =   1014.7490165259341     \n",
      "\n",
      "CONVERGENCE: REL_REDUCTION_OF_F_<=_FACTR*EPSMCH             \n",
      "Discretization setup:\n",
      "  - Cumulative Context (cc):    100 steps up to 8.00\n",
      "  - Cust. Degradation (cx):     50 steps up to 1.00\n",
      "  - Cust. Revenue (cu):         100 steps up to 1.00 (99.9th percentile)\n",
      "  - Rental Duration (T):        100 steps up to 76.01 (99.95th percentile)\n",
      "Pre-computing expectations from 100000 customer samples...\n",
      "Starting Numba-accelerated pre-computation of arrival dynamics...\n",
      "Pre-computation complete. ✅\n",
      "\n",
      "Starting Value Iteration...\n",
      "Iteration 10/100 | Max Change (Delta): 0.201088\n",
      "Iteration 20/100 | Max Change (Delta): 0.148291\n",
      "Iteration 30/100 | Max Change (Delta): 0.118475\n",
      "Iteration 40/100 | Max Change (Delta): 0.096334\n",
      "Iteration 50/100 | Max Change (Delta): 0.078683\n",
      "Iteration 60/100 | Max Change (Delta): 0.064333\n",
      "Iteration 70/100 | Max Change (Delta): 0.052614\n",
      "Iteration 80/100 | Max Change (Delta): 0.043032\n",
      "Iteration 90/100 | Max Change (Delta): 0.035196\n"
     ]
    },
    {
     "name": "stderr",
     "output_type": "stream",
     "text": [
      "INFO:root:Policy updated.\n",
      " 12%|█▏        | 4934/40000 [11:02<28:55, 20.20it/s]INFO:root:Updating optimal policy...\n"
     ]
    },
    {
     "name": "stdout",
     "output_type": "stream",
     "text": [
      "Iteration 100/100 | Max Change (Delta): 0.028787\n",
      "\n",
      "Value iteration finished (max iterations reached).\n",
      "RUNNING THE L-BFGS-B CODE\n",
      "\n",
      "           * * *\n",
      "\n",
      "Machine precision = 2.220D-16\n",
      " N =            4     M =           10\n",
      "\n",
      "At X0         4 variables are exactly at the bounds\n",
      "\n",
      "At iterate    0    f=  1.71059D+03    |proj g|=  1.00000D+00\n",
      "\n",
      "At iterate    1    f=  1.61842D+03    |proj g|=  6.61870D-01\n",
      "\n",
      "At iterate    2    f=  1.61472D+03    |proj g|=  6.16032D-01\n",
      "\n",
      "At iterate    3    f=  1.61096D+03    |proj g|=  4.87128D-01\n",
      "\n",
      "At iterate    4    f=  1.61095D+03    |proj g|=  1.00587D-01\n"
     ]
    },
    {
     "name": "stderr",
     "output_type": "stream",
     "text": [
      "INFO:root:Theta updated. New theta_hat: [0.488 0.113 0.583 0.275]\n"
     ]
    },
    {
     "name": "stdout",
     "output_type": "stream",
     "text": [
      "\n",
      "At iterate    5    f=  1.61095D+03    |proj g|=  4.81623D-03\n",
      "\n",
      "At iterate    6    f=  1.61095D+03    |proj g|=  3.21619D-03\n",
      "\n",
      "           * * *\n",
      "\n",
      "Tit   = total number of iterations\n",
      "Tnf   = total number of function evaluations\n",
      "Tnint = total number of segments explored during Cauchy searches\n",
      "Skip  = number of BFGS updates skipped\n",
      "Nact  = number of active bounds at final generalized Cauchy point\n",
      "Projg = norm of the final projected gradient\n",
      "F     = final function value\n",
      "\n",
      "           * * *\n",
      "\n",
      "   N    Tit     Tnf  Tnint  Skip  Nact     Projg        F\n",
      "    4      6      8      9     0     0   3.216D-03   1.611D+03\n",
      "  F =   1610.9513729314449     \n",
      "\n",
      "CONVERGENCE: REL_REDUCTION_OF_F_<=_FACTR*EPSMCH             \n",
      "Discretization setup:\n",
      "  - Cumulative Context (cc):    100 steps up to 8.00\n",
      "  - Cust. Degradation (cx):     50 steps up to 1.00\n",
      "  - Cust. Revenue (cu):         100 steps up to 1.00 (99.9th percentile)\n",
      "  - Rental Duration (T):        100 steps up to 76.01 (99.95th percentile)\n",
      "Pre-computing expectations from 100000 customer samples...\n",
      "Starting Numba-accelerated pre-computation of arrival dynamics...\n",
      "Pre-computation complete. ✅\n",
      "\n",
      "Starting Value Iteration...\n",
      "Iteration 10/100 | Max Change (Delta): 0.200576\n"
     ]
    },
    {
     "name": "stderr",
     "output_type": "stream",
     "text": [
      " 12%|█▏        | 4934/40000 [11:20<28:55, 20.20it/s]"
     ]
    },
    {
     "name": "stdout",
     "output_type": "stream",
     "text": [
      "Iteration 20/100 | Max Change (Delta): 0.148009\n",
      "Iteration 30/100 | Max Change (Delta): 0.118274\n",
      "Iteration 40/100 | Max Change (Delta): 0.096180\n",
      "Iteration 50/100 | Max Change (Delta): 0.078560\n",
      "Iteration 60/100 | Max Change (Delta): 0.064233\n",
      "Iteration 70/100 | Max Change (Delta): 0.052533\n",
      "Iteration 80/100 | Max Change (Delta): 0.042966\n",
      "Iteration 90/100 | Max Change (Delta): 0.035142\n"
     ]
    },
    {
     "name": "stderr",
     "output_type": "stream",
     "text": [
      "INFO:root:Policy updated.\n",
      " 16%|█▌        | 6300/40000 [12:16<28:46, 19.52it/s]INFO:root:Updating optimal policy...\n"
     ]
    },
    {
     "name": "stdout",
     "output_type": "stream",
     "text": [
      "Iteration 100/100 | Max Change (Delta): 0.028743\n",
      "\n",
      "Value iteration finished (max iterations reached).\n",
      "RUNNING THE L-BFGS-B CODE\n",
      "\n",
      "           * * *\n",
      "\n",
      "Machine precision = 2.220D-16\n",
      " N =            4     M =           10\n",
      "\n",
      "At X0         4 variables are exactly at the bounds\n",
      "\n",
      "At iterate    0    f=  2.37945D+03    |proj g|=  1.00000D+00\n",
      "\n",
      "At iterate    1    f=  2.26073D+03    |proj g|=  6.58640D-01\n",
      "\n",
      "At iterate    2    f=  2.25829D+03    |proj g|=  6.18172D-01\n",
      "\n",
      "At iterate    3    f=  2.25590D+03    |proj g|=  4.66831D-01\n",
      "\n",
      "At iterate    4    f=  2.25589D+03    |proj g|=  7.00145D-02\n",
      "\n",
      "At iterate    5    f=  2.25589D+03    |proj g|=  8.35303D-03\n",
      "\n",
      "At iterate    6    f=  2.25589D+03    |proj g|=  6.03989D-03\n",
      "\n",
      "           * * *\n",
      "\n",
      "Tit   = total number of iterations\n",
      "Tnf   = total number of function evaluations\n",
      "Tnint = total number of segments explored during Cauchy searches\n",
      "Skip  = number of BFGS updates skipped\n",
      "Nact  = number of active bounds at final generalized Cauchy point\n",
      "Projg = norm of the final projected gradient\n",
      "F     = final function value\n",
      "\n",
      "           * * *\n",
      "\n",
      "   N    Tit     Tnf  Tnint  Skip  Nact     Projg        F\n",
      "    4      6      8      9     0     0   6.040D-03   2.256D+03\n",
      "  F =   2255.8927734390450     \n",
      "\n",
      "CONVERGENCE: REL_REDUCTION_OF_F_<=_FACTR*EPSMCH             \n"
     ]
    },
    {
     "name": "stderr",
     "output_type": "stream",
     "text": [
      "INFO:root:Theta updated. New theta_hat: [0.487 0.177 0.469 0.293]\n"
     ]
    },
    {
     "name": "stdout",
     "output_type": "stream",
     "text": [
      "Discretization setup:\n",
      "  - Cumulative Context (cc):    100 steps up to 8.00\n",
      "  - Cust. Degradation (cx):     50 steps up to 1.00\n",
      "  - Cust. Revenue (cu):         100 steps up to 1.00 (99.9th percentile)\n",
      "  - Rental Duration (T):        100 steps up to 76.01 (99.95th percentile)\n",
      "Pre-computing expectations from 100000 customer samples...\n",
      "Starting Numba-accelerated pre-computation of arrival dynamics...\n",
      "Pre-computation complete. ✅\n",
      "\n",
      "Starting Value Iteration...\n",
      "Iteration 10/100 | Max Change (Delta): 0.204396\n"
     ]
    },
    {
     "name": "stderr",
     "output_type": "stream",
     "text": [
      " 16%|█▌        | 6300/40000 [12:30<28:46, 19.52it/s]"
     ]
    },
    {
     "name": "stdout",
     "output_type": "stream",
     "text": [
      "Iteration 20/100 | Max Change (Delta): 0.150351\n",
      "Iteration 30/100 | Max Change (Delta): 0.119978\n",
      "Iteration 40/100 | Max Change (Delta): 0.097476\n",
      "Iteration 50/100 | Max Change (Delta): 0.079593\n",
      "Iteration 60/100 | Max Change (Delta): 0.065072\n",
      "Iteration 70/100 | Max Change (Delta): 0.053216\n",
      "Iteration 80/100 | Max Change (Delta): 0.043525\n",
      "Iteration 90/100 | Max Change (Delta): 0.035599\n"
     ]
    },
    {
     "name": "stderr",
     "output_type": "stream",
     "text": [
      "INFO:root:Policy updated.\n",
      " 19%|█▉        | 7694/40000 [13:27<27:35, 19.52it/s]INFO:root:Updating optimal policy...\n"
     ]
    },
    {
     "name": "stdout",
     "output_type": "stream",
     "text": [
      "Iteration 100/100 | Max Change (Delta): 0.029116\n",
      "\n",
      "Value iteration finished (max iterations reached).\n",
      "RUNNING THE L-BFGS-B CODE\n",
      "\n",
      "           * * *\n",
      "\n",
      "Machine precision = 2.220D-16\n",
      " N =            4     M =           10\n",
      "\n",
      "At X0         4 variables are exactly at the bounds\n",
      "\n",
      "At iterate    0    f=  3.06729D+03    |proj g|=  1.00000D+00\n",
      "\n",
      "At iterate    1    f=  2.91017D+03    |proj g|=  6.50908D-01\n",
      "\n",
      "At iterate    2    f=  2.90793D+03    |proj g|=  6.18497D-01\n",
      "\n",
      "At iterate    3    f=  2.90558D+03    |proj g|=  4.27837D-01\n",
      "\n",
      "At iterate    4    f=  2.90557D+03    |proj g|=  6.69728D-02\n",
      "\n",
      "At iterate    5    f=  2.90557D+03    |proj g|=  9.34105D-03\n"
     ]
    },
    {
     "name": "stderr",
     "output_type": "stream",
     "text": [
      "INFO:root:Theta updated. New theta_hat: [0.466 0.221 0.478 0.28 ]\n"
     ]
    },
    {
     "name": "stdout",
     "output_type": "stream",
     "text": [
      "\n",
      "At iterate    6    f=  2.90557D+03    |proj g|=  6.94324D-03\n",
      "\n",
      "           * * *\n",
      "\n",
      "Tit   = total number of iterations\n",
      "Tnf   = total number of function evaluations\n",
      "Tnint = total number of segments explored during Cauchy searches\n",
      "Skip  = number of BFGS updates skipped\n",
      "Nact  = number of active bounds at final generalized Cauchy point\n",
      "Projg = norm of the final projected gradient\n",
      "F     = final function value\n",
      "\n",
      "           * * *\n",
      "\n",
      "   N    Tit     Tnf  Tnint  Skip  Nact     Projg        F\n",
      "    4      6      8      9     0     0   6.943D-03   2.906D+03\n",
      "  F =   2905.5749385698755     \n",
      "\n",
      "CONVERGENCE: REL_REDUCTION_OF_F_<=_FACTR*EPSMCH             \n",
      "Discretization setup:\n",
      "  - Cumulative Context (cc):    100 steps up to 8.00\n",
      "  - Cust. Degradation (cx):     50 steps up to 1.00\n",
      "  - Cust. Revenue (cu):         100 steps up to 1.00 (99.9th percentile)\n",
      "  - Rental Duration (T):        100 steps up to 76.01 (99.95th percentile)\n",
      "Pre-computing expectations from 100000 customer samples...\n",
      "Starting Numba-accelerated pre-computation of arrival dynamics...\n",
      "Pre-computation complete. ✅\n",
      "\n",
      "Starting Value Iteration...\n"
     ]
    },
    {
     "name": "stderr",
     "output_type": "stream",
     "text": [
      " 19%|█▉        | 7694/40000 [13:40<27:35, 19.52it/s]"
     ]
    },
    {
     "name": "stdout",
     "output_type": "stream",
     "text": [
      "Iteration 10/100 | Max Change (Delta): 0.202313\n",
      "Iteration 20/100 | Max Change (Delta): 0.148859\n",
      "Iteration 30/100 | Max Change (Delta): 0.118836\n",
      "Iteration 40/100 | Max Change (Delta): 0.096569\n",
      "Iteration 50/100 | Max Change (Delta): 0.078859\n",
      "Iteration 60/100 | Max Change (Delta): 0.064474\n",
      "Iteration 70/100 | Max Change (Delta): 0.052728\n",
      "Iteration 80/100 | Max Change (Delta): 0.043125\n",
      "Iteration 90/100 | Max Change (Delta): 0.035272\n"
     ]
    },
    {
     "name": "stderr",
     "output_type": "stream",
     "text": [
      "INFO:root:Policy updated.\n",
      " 23%|██▎       | 9298/40000 [14:41<25:10, 20.33it/s]INFO:root:Updating optimal policy...\n"
     ]
    },
    {
     "name": "stdout",
     "output_type": "stream",
     "text": [
      "Iteration 100/100 | Max Change (Delta): 0.028849\n",
      "\n",
      "Value iteration finished (max iterations reached).\n",
      "RUNNING THE L-BFGS-B CODE\n",
      "\n",
      "           * * *\n",
      "\n",
      "Machine precision = 2.220D-16\n",
      " N =            4     M =           10\n",
      "\n",
      "At X0         4 variables are exactly at the bounds\n",
      "\n",
      "At iterate    0    f=  3.77268D+03    |proj g|=  1.00000D+00\n",
      "\n",
      "At iterate    1    f=  3.57956D+03    |proj g|=  6.48360D-01\n",
      "\n",
      "At iterate    2    f=  3.57760D+03    |proj g|=  6.18926D-01\n",
      "\n",
      "At iterate    3    f=  3.57545D+03    |proj g|=  4.57224D-01\n",
      "\n",
      "At iterate    4    f=  3.57545D+03    |proj g|=  6.25708D-02\n"
     ]
    },
    {
     "name": "stderr",
     "output_type": "stream",
     "text": [
      "INFO:root:Theta updated. New theta_hat: [0.457 0.239 0.46  0.291]\n"
     ]
    },
    {
     "name": "stdout",
     "output_type": "stream",
     "text": [
      "\n",
      "At iterate    5    f=  3.57545D+03    |proj g|=  7.67532D-03\n",
      "\n",
      "           * * *\n",
      "\n",
      "Tit   = total number of iterations\n",
      "Tnf   = total number of function evaluations\n",
      "Tnint = total number of segments explored during Cauchy searches\n",
      "Skip  = number of BFGS updates skipped\n",
      "Nact  = number of active bounds at final generalized Cauchy point\n",
      "Projg = norm of the final projected gradient\n",
      "F     = final function value\n",
      "\n",
      "           * * *\n",
      "\n",
      "   N    Tit     Tnf  Tnint  Skip  Nact     Projg        F\n",
      "    4      5      7      8     0     0   7.675D-03   3.575D+03\n",
      "  F =   3575.4465352579673     \n",
      "\n",
      "CONVERGENCE: REL_REDUCTION_OF_F_<=_FACTR*EPSMCH             \n",
      "Discretization setup:\n",
      "  - Cumulative Context (cc):    100 steps up to 8.00\n",
      "  - Cust. Degradation (cx):     50 steps up to 1.00\n",
      "  - Cust. Revenue (cu):         100 steps up to 1.00 (99.9th percentile)\n",
      "  - Rental Duration (T):        100 steps up to 76.01 (99.95th percentile)\n",
      "Pre-computing expectations from 100000 customer samples...\n",
      "Starting Numba-accelerated pre-computation of arrival dynamics...\n",
      "Pre-computation complete. ✅\n",
      "\n",
      "Starting Value Iteration...\n",
      "Iteration 10/100 | Max Change (Delta): 0.202081\n",
      "Iteration 20/100 | Max Change (Delta): 0.148640\n"
     ]
    },
    {
     "name": "stderr",
     "output_type": "stream",
     "text": [
      " 23%|██▎       | 9298/40000 [15:00<25:10, 20.33it/s]"
     ]
    },
    {
     "name": "stdout",
     "output_type": "stream",
     "text": [
      "Iteration 30/100 | Max Change (Delta): 0.118666\n",
      "Iteration 40/100 | Max Change (Delta): 0.096431\n",
      "Iteration 50/100 | Max Change (Delta): 0.078746\n",
      "Iteration 60/100 | Max Change (Delta): 0.064381\n",
      "Iteration 70/100 | Max Change (Delta): 0.052652\n",
      "Iteration 80/100 | Max Change (Delta): 0.043063\n",
      "Iteration 90/100 | Max Change (Delta): 0.035221\n"
     ]
    },
    {
     "name": "stderr",
     "output_type": "stream",
     "text": [
      "INFO:root:Policy updated.\n",
      " 26%|██▋       | 10600/40000 [15:50<24:42, 19.84it/s]INFO:root:Updating optimal policy...\n"
     ]
    },
    {
     "name": "stdout",
     "output_type": "stream",
     "text": [
      "Iteration 100/100 | Max Change (Delta): 0.028808\n",
      "\n",
      "Value iteration finished (max iterations reached).\n",
      "RUNNING THE L-BFGS-B CODE\n",
      "\n",
      "           * * *\n",
      "\n",
      "Machine precision = 2.220D-16\n",
      " N =            4     M =           10\n",
      "\n",
      "At X0         4 variables are exactly at the bounds\n",
      "\n",
      "At iterate    0    f=  4.49199D+03    |proj g|=  1.00000D+00\n",
      "\n",
      "At iterate    1    f=  4.27648D+03    |proj g|=  6.55631D-01\n",
      "\n",
      "At iterate    2    f=  4.27396D+03    |proj g|=  6.22757D-01\n",
      "\n",
      "At iterate    3    f=  4.27122D+03    |proj g|=  4.61622D-01\n",
      "\n",
      "At iterate    4    f=  4.27122D+03    |proj g|=  9.46453D-02\n",
      "\n",
      "At iterate    5    f=  4.27122D+03    |proj g|=  1.60444D-02\n"
     ]
    },
    {
     "name": "stderr",
     "output_type": "stream",
     "text": [
      "INFO:root:Theta updated. New theta_hat: [0.461 0.246 0.451 0.257]\n"
     ]
    },
    {
     "name": "stdout",
     "output_type": "stream",
     "text": [
      "\n",
      "At iterate    6    f=  4.27122D+03    |proj g|=  1.18641D-02\n",
      "\n",
      "           * * *\n",
      "\n",
      "Tit   = total number of iterations\n",
      "Tnf   = total number of function evaluations\n",
      "Tnint = total number of segments explored during Cauchy searches\n",
      "Skip  = number of BFGS updates skipped\n",
      "Nact  = number of active bounds at final generalized Cauchy point\n",
      "Projg = norm of the final projected gradient\n",
      "F     = final function value\n",
      "\n",
      "           * * *\n",
      "\n",
      "   N    Tit     Tnf  Tnint  Skip  Nact     Projg        F\n",
      "    4      6      8      9     0     0   1.186D-02   4.271D+03\n",
      "  F =   4271.2221603780918     \n",
      "\n",
      "CONVERGENCE: REL_REDUCTION_OF_F_<=_FACTR*EPSMCH             \n",
      "Discretization setup:\n",
      "  - Cumulative Context (cc):    100 steps up to 8.00\n",
      "  - Cust. Degradation (cx):     50 steps up to 1.00\n",
      "  - Cust. Revenue (cu):         100 steps up to 1.00 (99.9th percentile)\n",
      "  - Rental Duration (T):        100 steps up to 76.01 (99.95th percentile)\n",
      "Pre-computing expectations from 100000 customer samples...\n",
      "Starting Numba-accelerated pre-computation of arrival dynamics...\n",
      "Pre-computation complete. ✅\n",
      "\n",
      "Starting Value Iteration...\n",
      "Iteration 10/100 | Max Change (Delta): 0.207016\n",
      "Iteration 20/100 | Max Change (Delta): 0.152246\n"
     ]
    },
    {
     "name": "stderr",
     "output_type": "stream",
     "text": [
      " 26%|██▋       | 10600/40000 [16:10<24:42, 19.84it/s]"
     ]
    },
    {
     "name": "stdout",
     "output_type": "stream",
     "text": [
      "Iteration 30/100 | Max Change (Delta): 0.121390\n",
      "Iteration 40/100 | Max Change (Delta): 0.098581\n",
      "Iteration 50/100 | Max Change (Delta): 0.080486\n",
      "Iteration 60/100 | Max Change (Delta): 0.065798\n",
      "Iteration 70/100 | Max Change (Delta): 0.053810\n",
      "Iteration 80/100 | Max Change (Delta): 0.044010\n",
      "Iteration 90/100 | Max Change (Delta): 0.035996\n"
     ]
    },
    {
     "name": "stderr",
     "output_type": "stream",
     "text": [
      "INFO:root:Policy updated.\n",
      " 30%|██▉       | 11905/40000 [17:00<24:01, 19.49it/s]INFO:root:Updating optimal policy...\n"
     ]
    },
    {
     "name": "stdout",
     "output_type": "stream",
     "text": [
      "Iteration 100/100 | Max Change (Delta): 0.029441\n",
      "\n",
      "Value iteration finished (max iterations reached).\n",
      "RUNNING THE L-BFGS-B CODE\n",
      "\n",
      "           * * *\n",
      "\n",
      "Machine precision = 2.220D-16\n",
      " N =            4     M =           10\n",
      "\n",
      "At X0         4 variables are exactly at the bounds\n",
      "\n",
      "At iterate    0    f=  5.21342D+03    |proj g|=  1.00000D+00\n",
      "\n",
      "At iterate    1    f=  4.96253D+03    |proj g|=  6.52070D-01\n",
      "\n",
      "At iterate    2    f=  4.95862D+03    |proj g|=  6.18127D-01\n",
      "\n",
      "At iterate    3    f=  4.95453D+03    |proj g|=  4.83571D-01\n",
      "\n",
      "At iterate    4    f=  4.95453D+03    |proj g|=  1.11629D-01\n",
      "\n",
      "At iterate    5    f=  4.95453D+03    |proj g|=  1.04194D-02\n"
     ]
    },
    {
     "name": "stderr",
     "output_type": "stream",
     "text": [
      "INFO:root:Theta updated. New theta_hat: [0.482 0.218 0.461 0.266]\n"
     ]
    },
    {
     "name": "stdout",
     "output_type": "stream",
     "text": [
      "\n",
      "At iterate    6    f=  4.95453D+03    |proj g|=  8.21802D-03\n",
      "\n",
      "           * * *\n",
      "\n",
      "Tit   = total number of iterations\n",
      "Tnf   = total number of function evaluations\n",
      "Tnint = total number of segments explored during Cauchy searches\n",
      "Skip  = number of BFGS updates skipped\n",
      "Nact  = number of active bounds at final generalized Cauchy point\n",
      "Projg = norm of the final projected gradient\n",
      "F     = final function value\n",
      "\n",
      "           * * *\n",
      "\n",
      "   N    Tit     Tnf  Tnint  Skip  Nact     Projg        F\n",
      "    4      6      8      9     0     0   8.218D-03   4.955D+03\n",
      "  F =   4954.5263789552337     \n",
      "\n",
      "CONVERGENCE: REL_REDUCTION_OF_F_<=_FACTR*EPSMCH             \n",
      "Discretization setup:\n",
      "  - Cumulative Context (cc):    100 steps up to 8.00\n",
      "  - Cust. Degradation (cx):     50 steps up to 1.00\n",
      "  - Cust. Revenue (cu):         100 steps up to 1.00 (99.9th percentile)\n",
      "  - Rental Duration (T):        100 steps up to 76.01 (99.95th percentile)\n",
      "Pre-computing expectations from 100000 customer samples...\n",
      "Starting Numba-accelerated pre-computation of arrival dynamics...\n",
      "Pre-computation complete. ✅\n",
      "\n",
      "Starting Value Iteration...\n"
     ]
    },
    {
     "name": "stderr",
     "output_type": "stream",
     "text": [
      " 30%|██▉       | 11905/40000 [17:10<24:01, 19.49it/s]"
     ]
    },
    {
     "name": "stdout",
     "output_type": "stream",
     "text": [
      "Iteration 10/100 | Max Change (Delta): 0.204540\n",
      "Iteration 20/100 | Max Change (Delta): 0.150501\n",
      "Iteration 30/100 | Max Change (Delta): 0.120050\n",
      "Iteration 40/100 | Max Change (Delta): 0.097525\n",
      "Iteration 50/100 | Max Change (Delta): 0.079633\n",
      "Iteration 60/100 | Max Change (Delta): 0.065104\n",
      "Iteration 70/100 | Max Change (Delta): 0.053243\n",
      "Iteration 80/100 | Max Change (Delta): 0.043546\n",
      "Iteration 90/100 | Max Change (Delta): 0.035616\n"
     ]
    },
    {
     "name": "stderr",
     "output_type": "stream",
     "text": [
      "INFO:root:Policy updated.\n",
      " 33%|███▎      | 13211/40000 [18:09<23:11, 19.25it/s]INFO:root:Updating optimal policy...\n"
     ]
    },
    {
     "name": "stdout",
     "output_type": "stream",
     "text": [
      "Iteration 100/100 | Max Change (Delta): 0.029131\n",
      "\n",
      "Value iteration finished (max iterations reached).\n",
      "RUNNING THE L-BFGS-B CODE\n",
      "\n",
      "           * * *\n",
      "\n",
      "Machine precision = 2.220D-16\n",
      " N =            4     M =           10\n",
      "\n",
      "At X0         4 variables are exactly at the bounds\n",
      "\n",
      "At iterate    0    f=  5.95782D+03    |proj g|=  1.00000D+00\n",
      "\n",
      "At iterate    1    f=  5.67294D+03    |proj g|=  6.51664D-01\n",
      "\n",
      "At iterate    2    f=  5.66893D+03    |proj g|=  6.22780D-01\n",
      "\n",
      "At iterate    3    f=  5.66475D+03    |proj g|=  4.85943D-01\n",
      "\n",
      "At iterate    4    f=  5.66475D+03    |proj g|=  9.94106D-02\n",
      "\n",
      "At iterate    5    f=  5.66475D+03    |proj g|=  1.17609D-02\n",
      "\n",
      "At iterate    6    f=  5.66475D+03    |proj g|=  7.17510D-03\n",
      "\n",
      "           * * *\n",
      "\n",
      "Tit   = total number of iterations\n",
      "Tnf   = total number of function evaluations\n",
      "Tnint = total number of segments explored during Cauchy searches\n",
      "Skip  = number of BFGS updates skipped\n",
      "Nact  = number of active bounds at final generalized Cauchy point\n",
      "Projg = norm of the final projected gradient\n",
      "F     = final function value\n",
      "\n",
      "           * * *\n",
      "\n",
      "   N    Tit     Tnf  Tnint  Skip  Nact     Projg        F\n",
      "    4      6      8      9     0     0   7.175D-03   5.665D+03\n",
      "  F =   5664.7510485708999     \n",
      "\n",
      "CONVERGENCE: REL_REDUCTION_OF_F_<=_FACTR*EPSMCH             \n"
     ]
    },
    {
     "name": "stderr",
     "output_type": "stream",
     "text": [
      "INFO:root:Theta updated. New theta_hat: [0.485 0.209 0.441 0.297]\n"
     ]
    },
    {
     "name": "stdout",
     "output_type": "stream",
     "text": [
      "Discretization setup:\n",
      "  - Cumulative Context (cc):    100 steps up to 8.00\n",
      "  - Cust. Degradation (cx):     50 steps up to 1.00\n",
      "  - Cust. Revenue (cu):         100 steps up to 1.00 (99.9th percentile)\n",
      "  - Rental Duration (T):        100 steps up to 76.01 (99.95th percentile)\n",
      "Pre-computing expectations from 100000 customer samples...\n",
      "Starting Numba-accelerated pre-computation of arrival dynamics...\n",
      "Pre-computation complete. ✅\n",
      "\n",
      "Starting Value Iteration...\n"
     ]
    },
    {
     "name": "stderr",
     "output_type": "stream",
     "text": [
      " 33%|███▎      | 13211/40000 [18:20<23:11, 19.25it/s]"
     ]
    },
    {
     "name": "stdout",
     "output_type": "stream",
     "text": [
      "Iteration 10/100 | Max Change (Delta): 0.204757\n",
      "Iteration 20/100 | Max Change (Delta): 0.150558\n",
      "Iteration 30/100 | Max Change (Delta): 0.120122\n",
      "Iteration 40/100 | Max Change (Delta): 0.097586\n",
      "Iteration 50/100 | Max Change (Delta): 0.079681\n",
      "Iteration 60/100 | Max Change (Delta): 0.065143\n",
      "Iteration 70/100 | Max Change (Delta): 0.053275\n",
      "Iteration 80/100 | Max Change (Delta): 0.043572\n",
      "Iteration 90/100 | Max Change (Delta): 0.035638\n"
     ]
    },
    {
     "name": "stderr",
     "output_type": "stream",
     "text": [
      "INFO:root:Policy updated.\n",
      " 36%|███▋      | 14594/40000 [19:21<21:55, 19.32it/s]INFO:root:Updating optimal policy...\n"
     ]
    },
    {
     "name": "stdout",
     "output_type": "stream",
     "text": [
      "Iteration 100/100 | Max Change (Delta): 0.029148\n",
      "\n",
      "Value iteration finished (max iterations reached).\n",
      "RUNNING THE L-BFGS-B CODE\n",
      "\n",
      "           * * *\n",
      "\n",
      "Machine precision = 2.220D-16\n",
      " N =            4     M =           10\n",
      "\n",
      "At X0         4 variables are exactly at the bounds\n",
      "\n",
      "At iterate    0    f=  6.72583D+03    |proj g|=  1.00000D+00\n",
      "\n",
      "At iterate    1    f=  6.40562D+03    |proj g|=  6.49831D-01\n",
      "\n",
      "At iterate    2    f=  6.40141D+03    |proj g|=  6.21067D-01\n",
      "\n",
      "At iterate    3    f=  6.39697D+03    |proj g|=  4.85434D-01\n",
      "\n",
      "At iterate    4    f=  6.39696D+03    |proj g|=  1.11014D-01\n",
      "\n",
      "At iterate    5    f=  6.39696D+03    |proj g|=  1.04431D-02\n",
      "\n",
      "At iterate    6    f=  6.39696D+03    |proj g|=  7.48479D-03\n",
      "\n",
      "           * * *\n",
      "\n",
      "Tit   = total number of iterations\n",
      "Tnf   = total number of function evaluations\n",
      "Tnint = total number of segments explored during Cauchy searches\n",
      "Skip  = number of BFGS updates skipped\n",
      "Nact  = number of active bounds at final generalized Cauchy point\n",
      "Projg = norm of the final projected gradient\n",
      "F     = final function value\n",
      "\n",
      "           * * *\n",
      "\n",
      "   N    Tit     Tnf  Tnint  Skip  Nact     Projg        F\n",
      "    4      6      8      9     0     0   7.485D-03   6.397D+03\n",
      "  F =   6396.9620572579552     \n",
      "\n",
      "CONVERGENCE: REL_REDUCTION_OF_F_<=_FACTR*EPSMCH             \n"
     ]
    },
    {
     "name": "stderr",
     "output_type": "stream",
     "text": [
      "INFO:root:Theta updated. New theta_hat: [0.484 0.219 0.444 0.292]\n"
     ]
    },
    {
     "name": "stdout",
     "output_type": "stream",
     "text": [
      "Discretization setup:\n",
      "  - Cumulative Context (cc):    100 steps up to 8.00\n",
      "  - Cust. Degradation (cx):     50 steps up to 1.00\n",
      "  - Cust. Revenue (cu):         100 steps up to 1.00 (99.9th percentile)\n",
      "  - Rental Duration (T):        100 steps up to 76.01 (99.95th percentile)\n",
      "Pre-computing expectations from 100000 customer samples...\n",
      "Starting Numba-accelerated pre-computation of arrival dynamics...\n",
      "Pre-computation complete. ✅\n",
      "\n",
      "Starting Value Iteration...\n",
      "Iteration 10/100 | Max Change (Delta): 0.203153\n"
     ]
    },
    {
     "name": "stderr",
     "output_type": "stream",
     "text": [
      " 36%|███▋      | 14594/40000 [19:40<21:55, 19.32it/s]"
     ]
    },
    {
     "name": "stdout",
     "output_type": "stream",
     "text": [
      "Iteration 20/100 | Max Change (Delta): 0.149463\n",
      "Iteration 30/100 | Max Change (Delta): 0.119278\n",
      "Iteration 40/100 | Max Change (Delta): 0.096914\n",
      "Iteration 50/100 | Max Change (Delta): 0.079136\n",
      "Iteration 60/100 | Max Change (Delta): 0.064699\n",
      "Iteration 70/100 | Max Change (Delta): 0.052912\n",
      "Iteration 80/100 | Max Change (Delta): 0.043275\n",
      "Iteration 90/100 | Max Change (Delta): 0.035395\n"
     ]
    },
    {
     "name": "stderr",
     "output_type": "stream",
     "text": [
      "INFO:root:Policy updated.\n",
      " 40%|████      | 16101/40000 [20:33<20:07, 19.80it/s]INFO:root:Updating optimal policy...\n"
     ]
    },
    {
     "name": "stdout",
     "output_type": "stream",
     "text": [
      "Iteration 100/100 | Max Change (Delta): 0.028950\n",
      "\n",
      "Value iteration finished (max iterations reached).\n",
      "RUNNING THE L-BFGS-B CODE\n",
      "\n",
      "           * * *\n",
      "\n",
      "Machine precision = 2.220D-16\n",
      " N =            4     M =           10\n",
      "\n",
      "At X0         4 variables are exactly at the bounds\n",
      "\n",
      "At iterate    0    f=  7.49085D+03    |proj g|=  1.00000D+00\n",
      "\n",
      "At iterate    1    f=  7.14725D+03    |proj g|=  6.52381D-01\n",
      "\n",
      "At iterate    2    f=  7.14218D+03    |proj g|=  6.21825D-01\n",
      "\n",
      "At iterate    3    f=  7.13681D+03    |proj g|=  4.86136D-01\n",
      "\n",
      "At iterate    4    f=  7.13680D+03    |proj g|=  1.29091D-01\n",
      "\n",
      "At iterate    5    f=  7.13680D+03    |proj g|=  1.87744D-02\n",
      "\n",
      "At iterate    6    f=  7.13680D+03    |proj g|=  1.09555D-02\n",
      "\n",
      "           * * *\n",
      "\n",
      "Tit   = total number of iterations\n",
      "Tnf   = total number of function evaluations\n",
      "Tnint = total number of segments explored during Cauchy searches\n",
      "Skip  = number of BFGS updates skipped\n",
      "Nact  = number of active bounds at final generalized Cauchy point\n",
      "Projg = norm of the final projected gradient\n",
      "F     = final function value\n",
      "\n",
      "           * * *\n",
      "\n",
      "   N    Tit     Tnf  Tnint  Skip  Nact     Projg        F\n",
      "    4      6      8      9     0     0   1.096D-02   7.137D+03\n",
      "  F =   7136.8039447757274     \n",
      "\n",
      "CONVERGENCE: REL_REDUCTION_OF_F_<=_FACTR*EPSMCH             \n"
     ]
    },
    {
     "name": "stderr",
     "output_type": "stream",
     "text": [
      "INFO:root:Theta updated. New theta_hat: [0.485 0.202 0.449 0.297]\n"
     ]
    },
    {
     "name": "stdout",
     "output_type": "stream",
     "text": [
      "Discretization setup:\n",
      "  - Cumulative Context (cc):    100 steps up to 8.00\n",
      "  - Cust. Degradation (cx):     50 steps up to 1.00\n",
      "  - Cust. Revenue (cu):         100 steps up to 1.00 (99.9th percentile)\n",
      "  - Rental Duration (T):        100 steps up to 76.01 (99.95th percentile)\n",
      "Pre-computing expectations from 100000 customer samples...\n",
      "Starting Numba-accelerated pre-computation of arrival dynamics...\n",
      "Pre-computation complete. ✅\n",
      "\n",
      "Starting Value Iteration...\n",
      "Iteration 10/100 | Max Change (Delta): 0.203784\n"
     ]
    },
    {
     "name": "stderr",
     "output_type": "stream",
     "text": [
      " 40%|████      | 16101/40000 [20:50<20:07, 19.80it/s]"
     ]
    },
    {
     "name": "stdout",
     "output_type": "stream",
     "text": [
      "Iteration 20/100 | Max Change (Delta): 0.149921\n",
      "Iteration 30/100 | Max Change (Delta): 0.119645\n",
      "Iteration 40/100 | Max Change (Delta): 0.097209\n",
      "Iteration 50/100 | Max Change (Delta): 0.079376\n",
      "Iteration 60/100 | Max Change (Delta): 0.064895\n",
      "Iteration 70/100 | Max Change (Delta): 0.053072\n",
      "Iteration 80/100 | Max Change (Delta): 0.043407\n",
      "Iteration 90/100 | Max Change (Delta): 0.035502\n"
     ]
    },
    {
     "name": "stderr",
     "output_type": "stream",
     "text": [
      "INFO:root:Policy updated.\n",
      " 44%|████▍     | 17513/40000 [21:47<19:09, 19.55it/s]INFO:root:Updating optimal policy...\n"
     ]
    },
    {
     "name": "stdout",
     "output_type": "stream",
     "text": [
      "Iteration 100/100 | Max Change (Delta): 0.029037\n",
      "\n",
      "Value iteration finished (max iterations reached).\n",
      "RUNNING THE L-BFGS-B CODE\n",
      "\n",
      "           * * *\n",
      "\n",
      "Machine precision = 2.220D-16\n",
      " N =            4     M =           10\n",
      "\n",
      "At X0         4 variables are exactly at the bounds\n",
      "\n",
      "At iterate    0    f=  8.27774D+03    |proj g|=  1.00000D+00\n",
      "\n",
      "At iterate    1    f=  7.90870D+03    |proj g|=  6.54569D-01\n",
      "\n",
      "At iterate    2    f=  7.90344D+03    |proj g|=  6.25642D-01\n",
      "\n",
      "At iterate    3    f=  7.89788D+03    |proj g|=  4.80894D-01\n",
      "\n",
      "At iterate    4    f=  7.89788D+03    |proj g|=  1.27873D-01\n",
      "\n",
      "At iterate    5    f=  7.89788D+03    |proj g|=  1.88374D-02\n",
      "\n",
      "At iterate    6    f=  7.89788D+03    |proj g|=  1.12225D-02\n",
      "\n",
      "           * * *\n",
      "\n",
      "Tit   = total number of iterations\n",
      "Tnf   = total number of function evaluations\n",
      "Tnint = total number of segments explored during Cauchy searches\n",
      "Skip  = number of BFGS updates skipped\n",
      "Nact  = number of active bounds at final generalized Cauchy point\n",
      "Projg = norm of the final projected gradient\n",
      "F     = final function value\n",
      "\n",
      "           * * *\n",
      "\n",
      "   N    Tit     Tnf  Tnint  Skip  Nact     Projg        F\n",
      "    4      6      8      9     0     0   1.122D-02   7.898D+03\n",
      "  F =   7897.8777174791767     \n",
      "\n",
      "CONVERGENCE: REL_REDUCTION_OF_F_<=_FACTR*EPSMCH             \n"
     ]
    },
    {
     "name": "stderr",
     "output_type": "stream",
     "text": [
      "INFO:root:Theta updated. New theta_hat: [0.48  0.205 0.442 0.294]\n"
     ]
    },
    {
     "name": "stdout",
     "output_type": "stream",
     "text": [
      "Discretization setup:\n",
      "  - Cumulative Context (cc):    100 steps up to 8.00\n",
      "  - Cust. Degradation (cx):     50 steps up to 1.00\n",
      "  - Cust. Revenue (cu):         100 steps up to 1.00 (99.9th percentile)\n",
      "  - Rental Duration (T):        100 steps up to 76.01 (99.95th percentile)\n",
      "Pre-computing expectations from 100000 customer samples...\n",
      "Starting Numba-accelerated pre-computation of arrival dynamics...\n",
      "Pre-computation complete. ✅\n",
      "\n",
      "Starting Value Iteration...\n"
     ]
    },
    {
     "name": "stderr",
     "output_type": "stream",
     "text": [
      " 44%|████▍     | 17513/40000 [22:00<19:09, 19.55it/s]"
     ]
    },
    {
     "name": "stdout",
     "output_type": "stream",
     "text": [
      "Iteration 10/100 | Max Change (Delta): 0.205708\n",
      "Iteration 20/100 | Max Change (Delta): 0.151277\n",
      "Iteration 30/100 | Max Change (Delta): 0.120664\n",
      "Iteration 40/100 | Max Change (Delta): 0.098006\n",
      "Iteration 50/100 | Max Change (Delta): 0.080020\n",
      "Iteration 60/100 | Max Change (Delta): 0.065419\n",
      "Iteration 70/100 | Max Change (Delta): 0.053500\n",
      "Iteration 80/100 | Max Change (Delta): 0.043757\n",
      "Iteration 90/100 | Max Change (Delta): 0.035789\n"
     ]
    },
    {
     "name": "stderr",
     "output_type": "stream",
     "text": [
      "INFO:root:Policy updated.\n",
      " 47%|████▋     | 18947/40000 [23:00<17:55, 19.58it/s]INFO:root:Updating optimal policy...\n"
     ]
    },
    {
     "name": "stdout",
     "output_type": "stream",
     "text": [
      "Iteration 100/100 | Max Change (Delta): 0.029272\n",
      "\n",
      "Value iteration finished (max iterations reached).\n",
      "RUNNING THE L-BFGS-B CODE\n",
      "\n",
      "           * * *\n",
      "\n",
      "Machine precision = 2.220D-16\n",
      " N =            4     M =           10\n",
      "\n",
      "At X0         4 variables are exactly at the bounds\n",
      "\n",
      "At iterate    0    f=  9.04899D+03    |proj g|=  1.00000D+00\n",
      "\n",
      "At iterate    1    f=  8.66170D+03    |proj g|=  6.59668D-01\n",
      "\n",
      "At iterate    2    f=  8.65433D+03    |proj g|=  6.27328D-01\n",
      "\n",
      "At iterate    3    f=  8.64667D+03    |proj g|=  4.92681D-01\n",
      "\n",
      "At iterate    4    f=  8.64666D+03    |proj g|=  1.84226D-01\n",
      "\n",
      "At iterate    5    f=  8.64666D+03    |proj g|=  2.80739D-02\n",
      "\n",
      "At iterate    6    f=  8.64666D+03    |proj g|=  1.59856D-02\n",
      "\n",
      "           * * *\n",
      "\n",
      "Tit   = total number of iterations\n",
      "Tnf   = total number of function evaluations\n",
      "Tnint = total number of segments explored during Cauchy searches\n",
      "Skip  = number of BFGS updates skipped\n",
      "Nact  = number of active bounds at final generalized Cauchy point\n",
      "Projg = norm of the final projected gradient\n",
      "F     = final function value\n",
      "\n",
      "           * * *\n",
      "\n",
      "   N    Tit     Tnf  Tnint  Skip  Nact     Projg        F\n",
      "    4      6      8      9     0     0   1.599D-02   8.647D+03\n",
      "  F =   8646.6635071840210     \n",
      "\n",
      "CONVERGENCE: REL_REDUCTION_OF_F_<=_FACTR*EPSMCH             \n"
     ]
    },
    {
     "name": "stderr",
     "output_type": "stream",
     "text": [
      "INFO:root:Theta updated. New theta_hat: [0.491 0.184 0.452 0.277]\n"
     ]
    },
    {
     "name": "stdout",
     "output_type": "stream",
     "text": [
      "Discretization setup:\n",
      "  - Cumulative Context (cc):    100 steps up to 8.00\n",
      "  - Cust. Degradation (cx):     50 steps up to 1.00\n",
      "  - Cust. Revenue (cu):         100 steps up to 1.00 (99.9th percentile)\n",
      "  - Rental Duration (T):        100 steps up to 76.01 (99.95th percentile)\n",
      "Pre-computing expectations from 100000 customer samples...\n"
     ]
    },
    {
     "name": "stderr",
     "output_type": "stream",
     "text": [
      " 47%|████▋     | 18947/40000 [23:10<17:55, 19.58it/s]"
     ]
    },
    {
     "name": "stdout",
     "output_type": "stream",
     "text": [
      "Starting Numba-accelerated pre-computation of arrival dynamics...\n",
      "Pre-computation complete. ✅\n",
      "\n",
      "Starting Value Iteration...\n",
      "Iteration 10/100 | Max Change (Delta): 0.208646\n",
      "Iteration 20/100 | Max Change (Delta): 0.153458\n",
      "Iteration 30/100 | Max Change (Delta): 0.122329\n",
      "Iteration 40/100 | Max Change (Delta): 0.099336\n",
      "Iteration 50/100 | Max Change (Delta): 0.081099\n",
      "Iteration 60/100 | Max Change (Delta): 0.066298\n",
      "Iteration 70/100 | Max Change (Delta): 0.054219\n",
      "Iteration 80/100 | Max Change (Delta): 0.044344\n",
      "Iteration 90/100 | Max Change (Delta): 0.036269\n"
     ]
    },
    {
     "name": "stderr",
     "output_type": "stream",
     "text": [
      "INFO:root:Policy updated.\n",
      " 51%|█████     | 20220/40000 [24:16<17:40, 18.66it/s]INFO:root:Updating optimal policy...\n"
     ]
    },
    {
     "name": "stdout",
     "output_type": "stream",
     "text": [
      "Iteration 100/100 | Max Change (Delta): 0.029665\n",
      "\n",
      "Value iteration finished (max iterations reached).\n",
      "RUNNING THE L-BFGS-B CODE\n",
      "\n",
      "           * * *\n",
      "\n",
      "Machine precision = 2.220D-16\n",
      " N =            4     M =           10\n",
      "\n",
      "At X0         4 variables are exactly at the bounds\n",
      "\n",
      "At iterate    0    f=  9.84647D+03    |proj g|=  1.00000D+00\n",
      "\n",
      "At iterate    1    f=  9.43365D+03    |proj g|=  6.61871D-01\n",
      "\n",
      "At iterate    2    f=  9.42644D+03    |proj g|=  6.30539D-01\n",
      "\n",
      "At iterate    3    f=  9.41865D+03    |proj g|=  4.72016D-01\n",
      "\n",
      "At iterate    4    f=  9.41865D+03    |proj g|=  1.73684D-01\n",
      "\n",
      "At iterate    5    f=  9.41865D+03    |proj g|=  2.43577D-02\n",
      "\n",
      "At iterate    6    f=  9.41865D+03    |proj g|=  1.40231D-02\n",
      "\n",
      "           * * *\n",
      "\n",
      "Tit   = total number of iterations\n",
      "Tnf   = total number of function evaluations\n",
      "Tnint = total number of segments explored during Cauchy searches\n",
      "Skip  = number of BFGS updates skipped\n",
      "Nact  = number of active bounds at final generalized Cauchy point\n",
      "Projg = norm of the final projected gradient\n",
      "F     = final function value\n",
      "\n",
      "           * * *\n",
      "\n",
      "   N    Tit     Tnf  Tnint  Skip  Nact     Projg        F\n",
      "    4      6      8      9     0     0   1.402D-02   9.419D+03\n",
      "  F =   9418.6471988572830     \n",
      "\n",
      "CONVERGENCE: REL_REDUCTION_OF_F_<=_FACTR*EPSMCH             \n"
     ]
    },
    {
     "name": "stderr",
     "output_type": "stream",
     "text": [
      "INFO:root:Theta updated. New theta_hat: [0.47  0.17  0.452 0.302]\n"
     ]
    },
    {
     "name": "stdout",
     "output_type": "stream",
     "text": [
      "Discretization setup:\n",
      "  - Cumulative Context (cc):    100 steps up to 8.00\n",
      "  - Cust. Degradation (cx):     50 steps up to 1.00\n",
      "  - Cust. Revenue (cu):         100 steps up to 1.00 (99.9th percentile)\n",
      "  - Rental Duration (T):        100 steps up to 76.01 (99.95th percentile)\n",
      "Pre-computing expectations from 100000 customer samples...\n",
      "Starting Numba-accelerated pre-computation of arrival dynamics...\n",
      "Pre-computation complete. ✅\n",
      "\n",
      "Starting Value Iteration...\n"
     ]
    },
    {
     "name": "stderr",
     "output_type": "stream",
     "text": [
      " 51%|█████     | 20220/40000 [24:30<17:40, 18.66it/s]"
     ]
    },
    {
     "name": "stdout",
     "output_type": "stream",
     "text": [
      "Iteration 10/100 | Max Change (Delta): 0.209559\n",
      "Iteration 20/100 | Max Change (Delta): 0.154050\n",
      "Iteration 30/100 | Max Change (Delta): 0.122853\n",
      "Iteration 40/100 | Max Change (Delta): 0.099766\n",
      "Iteration 50/100 | Max Change (Delta): 0.081451\n",
      "Iteration 60/100 | Max Change (Delta): 0.066587\n",
      "Iteration 70/100 | Max Change (Delta): 0.054455\n",
      "Iteration 80/100 | Max Change (Delta): 0.044537\n",
      "Iteration 90/100 | Max Change (Delta): 0.036427\n"
     ]
    },
    {
     "name": "stderr",
     "output_type": "stream",
     "text": [
      "INFO:root:Policy updated.\n",
      " 54%|█████▍    | 21604/40000 [25:34<16:38, 18.42it/s]INFO:root:Updating optimal policy...\n"
     ]
    },
    {
     "name": "stdout",
     "output_type": "stream",
     "text": [
      "Iteration 100/100 | Max Change (Delta): 0.029794\n",
      "\n",
      "Value iteration finished (max iterations reached).\n",
      "RUNNING THE L-BFGS-B CODE\n",
      "\n",
      "           * * *\n",
      "\n",
      "Machine precision = 2.220D-16\n",
      " N =            4     M =           10\n",
      "\n",
      "At X0         4 variables are exactly at the bounds\n",
      "\n",
      "At iterate    0    f=  1.06371D+04    |proj g|=  1.00000D+00\n",
      "\n",
      "At iterate    1    f=  1.01941D+04    |proj g|=  6.61744D-01\n",
      "\n",
      "At iterate    2    f=  1.01865D+04    |proj g|=  6.31408D-01\n",
      "\n",
      "At iterate    3    f=  1.01782D+04    |proj g|=  4.79900D-01\n",
      "\n",
      "At iterate    4    f=  1.01782D+04    |proj g|=  1.77686D-01\n",
      "\n",
      "At iterate    5    f=  1.01782D+04    |proj g|=  2.64243D-02\n",
      "\n",
      "At iterate    6    f=  1.01782D+04    |proj g|=  1.46998D-02\n",
      "\n",
      "           * * *\n",
      "\n",
      "Tit   = total number of iterations\n",
      "Tnf   = total number of function evaluations\n",
      "Tnint = total number of segments explored during Cauchy searches\n",
      "Skip  = number of BFGS updates skipped\n",
      "Nact  = number of active bounds at final generalized Cauchy point\n",
      "Projg = norm of the final projected gradient\n",
      "F     = final function value\n",
      "\n",
      "           * * *\n",
      "\n",
      "   N    Tit     Tnf  Tnint  Skip  Nact     Projg        F\n",
      "    4      6      8      9     0     0   1.470D-02   1.018D+04\n",
      "  F =   10178.206313196359     \n",
      "\n",
      "CONVERGENCE: REL_REDUCTION_OF_F_<=_FACTR*EPSMCH             \n"
     ]
    },
    {
     "name": "stderr",
     "output_type": "stream",
     "text": [
      "INFO:root:Theta updated. New theta_hat: [0.478 0.178 0.449 0.292]\n"
     ]
    },
    {
     "name": "stdout",
     "output_type": "stream",
     "text": [
      "Discretization setup:\n",
      "  - Cumulative Context (cc):    100 steps up to 8.00\n",
      "  - Cust. Degradation (cx):     50 steps up to 1.00\n",
      "  - Cust. Revenue (cu):         100 steps up to 1.00 (99.9th percentile)\n",
      "  - Rental Duration (T):        100 steps up to 76.01 (99.95th percentile)\n",
      "Pre-computing expectations from 100000 customer samples...\n",
      "Starting Numba-accelerated pre-computation of arrival dynamics...\n",
      "Pre-computation complete. ✅\n",
      "\n",
      "Starting Value Iteration...\n"
     ]
    },
    {
     "name": "stderr",
     "output_type": "stream",
     "text": [
      " 54%|█████▍    | 21604/40000 [25:50<16:38, 18.42it/s]"
     ]
    },
    {
     "name": "stdout",
     "output_type": "stream",
     "text": [
      "Iteration 10/100 | Max Change (Delta): 0.209190\n",
      "Iteration 20/100 | Max Change (Delta): 0.153806\n",
      "Iteration 30/100 | Max Change (Delta): 0.122587\n",
      "Iteration 40/100 | Max Change (Delta): 0.099533\n",
      "Iteration 50/100 | Max Change (Delta): 0.081256\n",
      "Iteration 60/100 | Max Change (Delta): 0.066426\n",
      "Iteration 70/100 | Max Change (Delta): 0.054323\n",
      "Iteration 80/100 | Max Change (Delta): 0.044430\n",
      "Iteration 90/100 | Max Change (Delta): 0.036339\n"
     ]
    },
    {
     "name": "stderr",
     "output_type": "stream",
     "text": [
      "INFO:root:Policy updated.\n",
      " 57%|█████▋    | 22774/40000 [26:51<16:28, 17.43it/s]INFO:root:Updating optimal policy...\n"
     ]
    },
    {
     "name": "stdout",
     "output_type": "stream",
     "text": [
      "Iteration 100/100 | Max Change (Delta): 0.029722\n",
      "\n",
      "Value iteration finished (max iterations reached).\n",
      "RUNNING THE L-BFGS-B CODE\n",
      "\n",
      "           * * *\n",
      "\n",
      "Machine precision = 2.220D-16\n",
      " N =            4     M =           10\n",
      "\n",
      "At X0         4 variables are exactly at the bounds\n",
      "\n",
      "At iterate    0    f=  1.14302D+04    |proj g|=  1.00000D+00\n",
      "\n",
      "At iterate    1    f=  1.09466D+04    |proj g|=  6.57738D-01\n",
      "\n",
      "At iterate    2    f=  1.09379D+04    |proj g|=  6.25849D-01\n",
      "\n",
      "At iterate    3    f=  1.09285D+04    |proj g|=  4.86807D-01\n",
      "\n",
      "At iterate    4    f=  1.09285D+04    |proj g|=  2.07747D-01\n",
      "\n",
      "At iterate    5    f=  1.09285D+04    |proj g|=  3.57772D-02\n",
      "\n",
      "At iterate    6    f=  1.09285D+04    |proj g|=  1.86728D-02\n",
      "\n",
      "           * * *\n",
      "\n",
      "Tit   = total number of iterations\n",
      "Tnf   = total number of function evaluations\n",
      "Tnint = total number of segments explored during Cauchy searches\n",
      "Skip  = number of BFGS updates skipped\n",
      "Nact  = number of active bounds at final generalized Cauchy point\n",
      "Projg = norm of the final projected gradient\n",
      "F     = final function value\n",
      "\n",
      "           * * *\n",
      "\n",
      "   N    Tit     Tnf  Tnint  Skip  Nact     Projg        F\n",
      "    4      6      8      9     0     0   1.867D-02   1.093D+04\n",
      "  F =   10928.465333602895     \n",
      "\n",
      "CONVERGENCE: REL_REDUCTION_OF_F_<=_FACTR*EPSMCH             \n"
     ]
    },
    {
     "name": "stderr",
     "output_type": "stream",
     "text": [
      "INFO:root:Theta updated. New theta_hat: [0.485 0.179 0.459 0.289]\n"
     ]
    },
    {
     "name": "stdout",
     "output_type": "stream",
     "text": [
      "Discretization setup:\n",
      "  - Cumulative Context (cc):    100 steps up to 8.00\n",
      "  - Cust. Degradation (cx):     50 steps up to 1.00\n",
      "  - Cust. Revenue (cu):         100 steps up to 1.00 (99.9th percentile)\n",
      "  - Rental Duration (T):        100 steps up to 76.01 (99.95th percentile)\n",
      "Pre-computing expectations from 100000 customer samples...\n",
      "Starting Numba-accelerated pre-computation of arrival dynamics...\n",
      "Pre-computation complete. ✅\n",
      "\n",
      "Starting Value Iteration...\n"
     ]
    },
    {
     "name": "stderr",
     "output_type": "stream",
     "text": [
      " 57%|█████▋    | 22774/40000 [27:10<16:28, 17.43it/s]"
     ]
    },
    {
     "name": "stdout",
     "output_type": "stream",
     "text": [
      "Iteration 10/100 | Max Change (Delta): 0.207380\n",
      "Iteration 20/100 | Max Change (Delta): 0.152526\n",
      "Iteration 30/100 | Max Change (Delta): 0.121678\n",
      "Iteration 40/100 | Max Change (Delta): 0.098829\n",
      "Iteration 50/100 | Max Change (Delta): 0.080691\n",
      "Iteration 60/100 | Max Change (Delta): 0.065967\n",
      "Iteration 70/100 | Max Change (Delta): 0.053948\n",
      "Iteration 80/100 | Max Change (Delta): 0.044123\n",
      "Iteration 90/100 | Max Change (Delta): 0.036088\n"
     ]
    },
    {
     "name": "stderr",
     "output_type": "stream",
     "text": [
      "INFO:root:Policy updated.\n",
      " 60%|██████    | 24058/40000 [28:10<15:35, 17.04it/s]INFO:root:Updating optimal policy...\n"
     ]
    },
    {
     "name": "stdout",
     "output_type": "stream",
     "text": [
      "Iteration 100/100 | Max Change (Delta): 0.029517\n",
      "\n",
      "Value iteration finished (max iterations reached).\n",
      "RUNNING THE L-BFGS-B CODE\n",
      "\n",
      "           * * *\n",
      "\n",
      "Machine precision = 2.220D-16\n",
      " N =            4     M =           10\n",
      "\n",
      "At X0         4 variables are exactly at the bounds\n",
      "\n",
      "At iterate    0    f=  1.22426D+04    |proj g|=  1.00000D+00\n",
      "\n",
      "At iterate    1    f=  1.17341D+04    |proj g|=  6.58283D-01\n",
      "\n",
      "At iterate    2    f=  1.17257D+04    |proj g|=  6.27019D-01\n",
      "\n",
      "At iterate    3    f=  1.17167D+04    |proj g|=  4.79152D-01\n",
      "\n",
      "At iterate    4    f=  1.17167D+04    |proj g|=  1.89588D-01\n",
      "\n",
      "At iterate    5    f=  1.17167D+04    |proj g|=  2.36598D-02\n",
      "\n",
      "At iterate    6    f=  1.17167D+04    |proj g|=  1.32352D-02\n",
      "\n",
      "           * * *\n",
      "\n",
      "Tit   = total number of iterations\n",
      "Tnf   = total number of function evaluations\n",
      "Tnint = total number of segments explored during Cauchy searches\n",
      "Skip  = number of BFGS updates skipped\n",
      "Nact  = number of active bounds at final generalized Cauchy point\n",
      "Projg = norm of the final projected gradient\n",
      "F     = final function value\n",
      "\n",
      "           * * *\n",
      "\n",
      "   N    Tit     Tnf  Tnint  Skip  Nact     Projg        F\n",
      "    4      6      8      9     0     0   1.324D-02   1.172D+04\n",
      "  F =   11716.665564101811     \n",
      "\n",
      "CONVERGENCE: REL_REDUCTION_OF_F_<=_FACTR*EPSMCH             \n"
     ]
    },
    {
     "name": "stderr",
     "output_type": "stream",
     "text": [
      "INFO:root:Theta updated. New theta_hat: [0.478 0.189 0.454 0.287]\n"
     ]
    },
    {
     "name": "stdout",
     "output_type": "stream",
     "text": [
      "Discretization setup:\n",
      "  - Cumulative Context (cc):    100 steps up to 8.00\n",
      "  - Cust. Degradation (cx):     50 steps up to 1.00\n",
      "  - Cust. Revenue (cu):         100 steps up to 1.00 (99.9th percentile)\n",
      "  - Rental Duration (T):        100 steps up to 76.01 (99.95th percentile)\n",
      "Pre-computing expectations from 100000 customer samples...\n"
     ]
    },
    {
     "name": "stderr",
     "output_type": "stream",
     "text": [
      " 60%|██████    | 24058/40000 [28:20<15:35, 17.04it/s]"
     ]
    },
    {
     "name": "stdout",
     "output_type": "stream",
     "text": [
      "Starting Numba-accelerated pre-computation of arrival dynamics...\n",
      "Pre-computation complete. ✅\n",
      "\n",
      "Starting Value Iteration...\n",
      "Iteration 10/100 | Max Change (Delta): 0.207500\n",
      "Iteration 20/100 | Max Change (Delta): 0.152558\n",
      "Iteration 30/100 | Max Change (Delta): 0.121607\n",
      "Iteration 40/100 | Max Change (Delta): 0.098750\n",
      "Iteration 50/100 | Max Change (Delta): 0.080620\n",
      "Iteration 60/100 | Max Change (Delta): 0.065908\n",
      "Iteration 70/100 | Max Change (Delta): 0.053899\n",
      "Iteration 80/100 | Max Change (Delta): 0.044083\n",
      "Iteration 90/100 | Max Change (Delta): 0.036055\n"
     ]
    },
    {
     "name": "stderr",
     "output_type": "stream",
     "text": [
      "INFO:root:Policy updated.\n",
      " 63%|██████▎   | 25355/40000 [29:27<14:22, 16.98it/s]INFO:root:Updating optimal policy...\n"
     ]
    },
    {
     "name": "stdout",
     "output_type": "stream",
     "text": [
      "Iteration 100/100 | Max Change (Delta): 0.029490\n",
      "\n",
      "Value iteration finished (max iterations reached).\n",
      "RUNNING THE L-BFGS-B CODE\n",
      "\n",
      "           * * *\n",
      "\n",
      "Machine precision = 2.220D-16\n",
      " N =            4     M =           10\n",
      "\n",
      "At X0         4 variables are exactly at the bounds\n",
      "\n",
      "At iterate    0    f=  1.30500D+04    |proj g|=  1.00000D+00\n",
      "\n",
      "At iterate    1    f=  1.25104D+04    |proj g|=  6.56823D-01\n",
      "\n",
      "At iterate    2    f=  1.25012D+04    |proj g|=  6.25187D-01\n",
      "\n",
      "At iterate    3    f=  1.24916D+04    |proj g|=  4.78816D-01\n",
      "\n",
      "At iterate    4    f=  1.24916D+04    |proj g|=  2.01404D-01\n",
      "\n",
      "At iterate    5    f=  1.24916D+04    |proj g|=  1.47591D-02\n",
      "\n",
      "At iterate    6    f=  1.24916D+04    |proj g|=  8.41414D-03\n",
      "\n",
      "           * * *\n",
      "\n",
      "Tit   = total number of iterations\n",
      "Tnf   = total number of function evaluations\n",
      "Tnint = total number of segments explored during Cauchy searches\n",
      "Skip  = number of BFGS updates skipped\n",
      "Nact  = number of active bounds at final generalized Cauchy point\n",
      "Projg = norm of the final projected gradient\n",
      "F     = final function value\n",
      "\n",
      "           * * *\n",
      "\n",
      "   N    Tit     Tnf  Tnint  Skip  Nact     Projg        F\n",
      "    4      6      8      9     0     0   8.414D-03   1.249D+04\n",
      "  F =   12491.588006628366     \n",
      "\n",
      "CONVERGENCE: REL_REDUCTION_OF_F_<=_FACTR*EPSMCH             \n"
     ]
    },
    {
     "name": "stderr",
     "output_type": "stream",
     "text": [
      "INFO:root:Theta updated. New theta_hat: [0.477 0.185 0.456 0.295]\n"
     ]
    },
    {
     "name": "stdout",
     "output_type": "stream",
     "text": [
      "Discretization setup:\n",
      "  - Cumulative Context (cc):    100 steps up to 8.00\n",
      "  - Cust. Degradation (cx):     50 steps up to 1.00\n",
      "  - Cust. Revenue (cu):         100 steps up to 1.00 (99.9th percentile)\n",
      "  - Rental Duration (T):        100 steps up to 76.01 (99.95th percentile)\n",
      "Pre-computing expectations from 100000 customer samples...\n",
      "Starting Numba-accelerated pre-computation of arrival dynamics...\n"
     ]
    },
    {
     "name": "stderr",
     "output_type": "stream",
     "text": [
      " 63%|██████▎   | 25355/40000 [29:40<14:22, 16.98it/s]"
     ]
    },
    {
     "name": "stdout",
     "output_type": "stream",
     "text": [
      "Pre-computation complete. ✅\n",
      "\n",
      "Starting Value Iteration...\n",
      "Iteration 10/100 | Max Change (Delta): 0.207032\n",
      "Iteration 20/100 | Max Change (Delta): 0.152255\n",
      "Iteration 30/100 | Max Change (Delta): 0.121446\n",
      "Iteration 40/100 | Max Change (Delta): 0.098642\n",
      "Iteration 50/100 | Max Change (Delta): 0.080536\n",
      "Iteration 60/100 | Max Change (Delta): 0.065841\n",
      "Iteration 70/100 | Max Change (Delta): 0.053845\n",
      "Iteration 80/100 | Max Change (Delta): 0.044038\n",
      "Iteration 90/100 | Max Change (Delta): 0.036019\n"
     ]
    },
    {
     "name": "stderr",
     "output_type": "stream",
     "text": [
      "INFO:root:Policy updated.\n",
      " 67%|██████▋   | 26715/40000 [30:47<13:00, 17.02it/s]INFO:root:Updating optimal policy...\n"
     ]
    },
    {
     "name": "stdout",
     "output_type": "stream",
     "text": [
      "Iteration 100/100 | Max Change (Delta): 0.029460\n",
      "\n",
      "Value iteration finished (max iterations reached).\n",
      "RUNNING THE L-BFGS-B CODE\n",
      "\n",
      "           * * *\n",
      "\n",
      "Machine precision = 2.220D-16\n",
      " N =            4     M =           10\n",
      "\n",
      "At X0         4 variables are exactly at the bounds\n",
      "\n",
      "At iterate    0    f=  1.38596D+04    |proj g|=  1.00000D+00\n",
      "\n",
      "At iterate    1    f=  1.32841D+04    |proj g|=  6.55386D-01\n",
      "\n",
      "At iterate    2    f=  1.32756D+04    |proj g|=  6.25947D-01\n",
      "\n",
      "At iterate    3    f=  1.32668D+04    |proj g|=  4.73205D-01\n",
      "\n",
      "At iterate    4    f=  1.32668D+04    |proj g|=  2.01378D-01\n",
      "\n",
      "At iterate    5    f=  1.32668D+04    |proj g|=  9.71557D-03\n",
      "\n",
      "At iterate    6    f=  1.32668D+04    |proj g|=  5.91225D-03\n",
      "\n",
      "           * * *\n",
      "\n",
      "Tit   = total number of iterations\n",
      "Tnf   = total number of function evaluations\n",
      "Tnint = total number of segments explored during Cauchy searches\n",
      "Skip  = number of BFGS updates skipped\n",
      "Nact  = number of active bounds at final generalized Cauchy point\n",
      "Projg = norm of the final projected gradient\n",
      "F     = final function value\n",
      "\n",
      "           * * *\n",
      "\n",
      "   N    Tit     Tnf  Tnint  Skip  Nact     Projg        F\n",
      "    4      6      8      9     0     0   5.912D-03   1.327D+04\n",
      "  F =   13266.834281309486     \n",
      "\n",
      "CONVERGENCE: REL_REDUCTION_OF_F_<=_FACTR*EPSMCH             \n"
     ]
    },
    {
     "name": "stderr",
     "output_type": "stream",
     "text": [
      "INFO:root:Theta updated. New theta_hat: [0.472 0.201 0.449 0.296]\n"
     ]
    },
    {
     "name": "stdout",
     "output_type": "stream",
     "text": [
      "Discretization setup:\n",
      "  - Cumulative Context (cc):    100 steps up to 8.00\n",
      "  - Cust. Degradation (cx):     50 steps up to 1.00\n",
      "  - Cust. Revenue (cu):         100 steps up to 1.00 (99.9th percentile)\n",
      "  - Rental Duration (T):        100 steps up to 76.01 (99.95th percentile)\n",
      "Pre-computing expectations from 100000 customer samples...\n"
     ]
    },
    {
     "name": "stderr",
     "output_type": "stream",
     "text": [
      " 67%|██████▋   | 26715/40000 [31:00<13:00, 17.02it/s]"
     ]
    },
    {
     "name": "stdout",
     "output_type": "stream",
     "text": [
      "Starting Numba-accelerated pre-computation of arrival dynamics...\n",
      "Pre-computation complete. ✅\n",
      "\n",
      "Starting Value Iteration...\n",
      "Iteration 10/100 | Max Change (Delta): 0.206052\n",
      "Iteration 20/100 | Max Change (Delta): 0.151456\n",
      "Iteration 30/100 | Max Change (Delta): 0.120827\n",
      "Iteration 40/100 | Max Change (Delta): 0.098140\n",
      "Iteration 50/100 | Max Change (Delta): 0.080129\n",
      "Iteration 60/100 | Max Change (Delta): 0.065508\n",
      "Iteration 70/100 | Max Change (Delta): 0.053573\n",
      "Iteration 80/100 | Max Change (Delta): 0.043816\n",
      "Iteration 90/100 | Max Change (Delta): 0.035837\n"
     ]
    },
    {
     "name": "stderr",
     "output_type": "stream",
     "text": [
      "INFO:root:Policy updated.\n",
      " 70%|██████▉   | 27931/40000 [32:08<12:17, 16.36it/s]INFO:root:Updating optimal policy...\n"
     ]
    },
    {
     "name": "stdout",
     "output_type": "stream",
     "text": [
      "Iteration 100/100 | Max Change (Delta): 0.029311\n",
      "\n",
      "Value iteration finished (max iterations reached).\n",
      "RUNNING THE L-BFGS-B CODE\n",
      "\n",
      "           * * *\n",
      "\n",
      "Machine precision = 2.220D-16\n",
      " N =            4     M =           10\n",
      "\n",
      "At X0         4 variables are exactly at the bounds\n",
      "\n",
      "At iterate    0    f=  1.46777D+04    |proj g|=  1.00000D+00\n",
      "\n",
      "At iterate    1    f=  1.40853D+04    |proj g|=  6.57685D-01\n",
      "\n",
      "At iterate    2    f=  1.40777D+04    |proj g|=  6.30962D-01\n",
      "\n",
      "At iterate    3    f=  1.40701D+04    |proj g|=  4.64814D-01\n",
      "\n",
      "At iterate    4    f=  1.40701D+04    |proj g|=  1.92860D-01\n",
      "\n",
      "At iterate    5    f=  1.40701D+04    |proj g|=  9.65621D-03\n",
      "\n",
      "           * * *\n",
      "\n",
      "Tit   = total number of iterations\n",
      "Tnf   = total number of function evaluations\n",
      "Tnint = total number of segments explored during Cauchy searches\n",
      "Skip  = number of BFGS updates skipped\n",
      "Nact  = number of active bounds at final generalized Cauchy point\n",
      "Projg = norm of the final projected gradient\n",
      "F     = final function value\n",
      "\n",
      "           * * *\n",
      "\n",
      "   N    Tit     Tnf  Tnint  Skip  Nact     Projg        F\n",
      "    4      5      7      8     0     0   9.656D-03   1.407D+04\n",
      "  F =   14070.134112822381     \n",
      "\n",
      "CONVERGENCE: REL_REDUCTION_OF_F_<=_FACTR*EPSMCH             \n"
     ]
    },
    {
     "name": "stderr",
     "output_type": "stream",
     "text": [
      "INFO:root:Theta updated. New theta_hat: [0.463 0.217 0.433 0.292]\n"
     ]
    },
    {
     "name": "stdout",
     "output_type": "stream",
     "text": [
      "Discretization setup:\n",
      "  - Cumulative Context (cc):    100 steps up to 8.00\n",
      "  - Cust. Degradation (cx):     50 steps up to 1.00\n",
      "  - Cust. Revenue (cu):         100 steps up to 1.00 (99.9th percentile)\n",
      "  - Rental Duration (T):        100 steps up to 76.01 (99.95th percentile)\n",
      "Pre-computing expectations from 100000 customer samples...\n"
     ]
    },
    {
     "name": "stderr",
     "output_type": "stream",
     "text": [
      " 70%|██████▉   | 27931/40000 [32:20<12:17, 16.36it/s]"
     ]
    },
    {
     "name": "stdout",
     "output_type": "stream",
     "text": [
      "Starting Numba-accelerated pre-computation of arrival dynamics...\n",
      "Pre-computation complete. ✅\n",
      "\n",
      "Starting Value Iteration...\n",
      "Iteration 10/100 | Max Change (Delta): 0.208978\n",
      "Iteration 20/100 | Max Change (Delta): 0.153607\n",
      "Iteration 30/100 | Max Change (Delta): 0.122481\n",
      "Iteration 40/100 | Max Change (Delta): 0.099448\n",
      "Iteration 50/100 | Max Change (Delta): 0.081187\n",
      "Iteration 60/100 | Max Change (Delta): 0.066370\n",
      "Iteration 70/100 | Max Change (Delta): 0.054277\n",
      "Iteration 80/100 | Max Change (Delta): 0.044392\n",
      "Iteration 90/100 | Max Change (Delta): 0.036308\n"
     ]
    },
    {
     "name": "stderr",
     "output_type": "stream",
     "text": [
      "INFO:root:Policy updated.\n",
      " 73%|███████▎  | 29147/40000 [33:29<11:19, 15.98it/s]INFO:root:Updating optimal policy...\n"
     ]
    },
    {
     "name": "stdout",
     "output_type": "stream",
     "text": [
      "Iteration 100/100 | Max Change (Delta): 0.029697\n",
      "\n",
      "Value iteration finished (max iterations reached).\n",
      "RUNNING THE L-BFGS-B CODE\n",
      "\n",
      "           * * *\n",
      "\n",
      "Machine precision = 2.220D-16\n",
      " N =            4     M =           10\n",
      "\n",
      "At X0         4 variables are exactly at the bounds\n",
      "\n",
      "At iterate    0    f=  1.55092D+04    |proj g|=  1.00000D+00\n",
      "\n",
      "At iterate    1    f=  1.48848D+04    |proj g|=  6.57528D-01\n",
      "\n",
      "At iterate    2    f=  1.48761D+04    |proj g|=  6.31148D-01\n",
      "\n",
      "At iterate    3    f=  1.48674D+04    |proj g|=  4.73607D-01\n",
      "\n",
      "At iterate    4    f=  1.48674D+04    |proj g|=  2.07696D-01\n"
     ]
    },
    {
     "name": "stderr",
     "output_type": "stream",
     "text": [
      " 73%|███████▎  | 29147/40000 [33:40<11:19, 15.98it/s]"
     ]
    },
    {
     "name": "stdout",
     "output_type": "stream",
     "text": [
      "\n",
      "At iterate    5    f=  1.48674D+04    |proj g|=  1.04729D-02\n",
      "\n",
      "           * * *\n",
      "\n",
      "Tit   = total number of iterations\n",
      "Tnf   = total number of function evaluations\n",
      "Tnint = total number of segments explored during Cauchy searches\n",
      "Skip  = number of BFGS updates skipped\n",
      "Nact  = number of active bounds at final generalized Cauchy point\n",
      "Projg = norm of the final projected gradient\n",
      "F     = final function value\n",
      "\n",
      "           * * *\n",
      "\n",
      "   N    Tit     Tnf  Tnint  Skip  Nact     Projg        F\n",
      "    4      5      7      8     0     0   1.047D-02   1.487D+04\n",
      "  F =   14867.364300527506     \n",
      "\n",
      "CONVERGENCE: REL_REDUCTION_OF_F_<=_FACTR*EPSMCH             \n"
     ]
    },
    {
     "name": "stderr",
     "output_type": "stream",
     "text": [
      "INFO:root:Theta updated. New theta_hat: [0.472 0.208 0.43  0.297]\n"
     ]
    },
    {
     "name": "stdout",
     "output_type": "stream",
     "text": [
      "Discretization setup:\n",
      "  - Cumulative Context (cc):    100 steps up to 8.00\n",
      "  - Cust. Degradation (cx):     50 steps up to 1.00\n",
      "  - Cust. Revenue (cu):         100 steps up to 1.00 (99.9th percentile)\n",
      "  - Rental Duration (T):        100 steps up to 76.01 (99.95th percentile)\n",
      "Pre-computing expectations from 100000 customer samples...\n",
      "Starting Numba-accelerated pre-computation of arrival dynamics...\n",
      "Pre-computation complete. ✅\n",
      "\n",
      "Starting Value Iteration...\n",
      "Iteration 10/100 | Max Change (Delta): 0.208095\n",
      "Iteration 20/100 | Max Change (Delta): 0.153008\n",
      "Iteration 30/100 | Max Change (Delta): 0.122046\n",
      "Iteration 40/100 | Max Change (Delta): 0.099111\n",
      "Iteration 50/100 | Max Change (Delta): 0.080916\n",
      "Iteration 60/100 | Max Change (Delta): 0.066150\n",
      "Iteration 70/100 | Max Change (Delta): 0.054098\n",
      "Iteration 80/100 | Max Change (Delta): 0.044245\n",
      "Iteration 90/100 | Max Change (Delta): 0.036188\n"
     ]
    },
    {
     "name": "stderr",
     "output_type": "stream",
     "text": [
      "INFO:root:Policy updated.\n",
      " 76%|███████▌  | 30440/40000 [34:52<10:03, 15.84it/s]INFO:root:Updating optimal policy...\n"
     ]
    },
    {
     "name": "stdout",
     "output_type": "stream",
     "text": [
      "Iteration 100/100 | Max Change (Delta): 0.029598\n",
      "\n",
      "Value iteration finished (max iterations reached).\n",
      "RUNNING THE L-BFGS-B CODE\n",
      "\n",
      "           * * *\n",
      "\n",
      "Machine precision = 2.220D-16\n",
      " N =            4     M =           10\n",
      "\n",
      "At X0         4 variables are exactly at the bounds\n",
      "\n",
      "At iterate    0    f=  1.63412D+04    |proj g|=  1.00000D+00\n",
      "\n",
      "At iterate    1    f=  1.56874D+04    |proj g|=  6.57075D-01\n",
      "\n",
      "At iterate    2    f=  1.56786D+04    |proj g|=  6.31665D-01\n",
      "\n",
      "At iterate    3    f=  1.56698D+04    |proj g|=  4.72381D-01\n",
      "\n",
      "At iterate    4    f=  1.56698D+04    |proj g|=  2.12857D-01\n",
      "\n",
      "At iterate    5    f=  1.56698D+04    |proj g|=  1.13230D-02\n",
      "\n",
      "           * * *\n",
      "\n",
      "Tit   = total number of iterations\n",
      "Tnf   = total number of function evaluations\n",
      "Tnint = total number of segments explored during Cauchy searches\n",
      "Skip  = number of BFGS updates skipped\n",
      "Nact  = number of active bounds at final generalized Cauchy point\n",
      "Projg = norm of the final projected gradient\n",
      "F     = final function value\n",
      "\n",
      "           * * *\n",
      "\n",
      "   N    Tit     Tnf  Tnint  Skip  Nact     Projg        F\n",
      "    4      5      7      8     0     0   1.132D-02   1.567D+04\n",
      "  F =   15669.796406824893     \n",
      "\n",
      "CONVERGENCE: REL_REDUCTION_OF_F_<=_FACTR*EPSMCH             \n"
     ]
    },
    {
     "name": "stderr",
     "output_type": "stream",
     "text": [
      "INFO:root:Theta updated. New theta_hat: [0.471 0.213 0.428 0.294]\n"
     ]
    },
    {
     "name": "stdout",
     "output_type": "stream",
     "text": [
      "Discretization setup:\n",
      "  - Cumulative Context (cc):    100 steps up to 8.00\n",
      "  - Cust. Degradation (cx):     50 steps up to 1.00\n",
      "  - Cust. Revenue (cu):         100 steps up to 1.00 (99.9th percentile)\n",
      "  - Rental Duration (T):        100 steps up to 76.01 (99.95th percentile)\n",
      "Pre-computing expectations from 100000 customer samples...\n",
      "Starting Numba-accelerated pre-computation of arrival dynamics...\n",
      "Pre-computation complete. ✅\n",
      "\n",
      "Starting Value Iteration...\n"
     ]
    },
    {
     "name": "stderr",
     "output_type": "stream",
     "text": [
      " 76%|███████▌  | 30440/40000 [35:10<10:03, 15.84it/s]"
     ]
    },
    {
     "name": "stdout",
     "output_type": "stream",
     "text": [
      "Iteration 10/100 | Max Change (Delta): 0.208265\n",
      "Iteration 20/100 | Max Change (Delta): 0.153053\n",
      "Iteration 30/100 | Max Change (Delta): 0.122000\n",
      "Iteration 40/100 | Max Change (Delta): 0.099052\n",
      "Iteration 50/100 | Max Change (Delta): 0.080863\n",
      "Iteration 60/100 | Max Change (Delta): 0.066105\n",
      "Iteration 70/100 | Max Change (Delta): 0.054060\n",
      "Iteration 80/100 | Max Change (Delta): 0.044214\n",
      "Iteration 90/100 | Max Change (Delta): 0.036163\n"
     ]
    },
    {
     "name": "stderr",
     "output_type": "stream",
     "text": [
      "INFO:root:Policy updated.\n",
      " 79%|███████▉  | 31734/40000 [36:15<08:44, 15.75it/s]INFO:root:Updating optimal policy...\n"
     ]
    },
    {
     "name": "stdout",
     "output_type": "stream",
     "text": [
      "Iteration 100/100 | Max Change (Delta): 0.029578\n",
      "\n",
      "Value iteration finished (max iterations reached).\n",
      "RUNNING THE L-BFGS-B CODE\n",
      "\n",
      "           * * *\n",
      "\n",
      "Machine precision = 2.220D-16\n",
      " N =            4     M =           10\n",
      "\n",
      "At X0         4 variables are exactly at the bounds\n",
      "\n",
      "At iterate    0    f=  1.71740D+04    |proj g|=  1.00000D+00\n",
      "\n",
      "At iterate    1    f=  1.65005D+04    |proj g|=  6.59066D-01\n",
      "\n",
      "At iterate    2    f=  1.64913D+04    |proj g|=  6.34217D-01\n",
      "\n",
      "At iterate    3    f=  1.64823D+04    |proj g|=  4.72416D-01\n",
      "\n",
      "At iterate    4    f=  1.64822D+04    |proj g|=  2.10998D-01\n",
      "\n",
      "At iterate    5    f=  1.64822D+04    |proj g|=  1.67539D-02\n",
      "\n",
      "           * * *\n",
      "\n",
      "Tit   = total number of iterations\n",
      "Tnf   = total number of function evaluations\n",
      "Tnint = total number of segments explored during Cauchy searches\n",
      "Skip  = number of BFGS updates skipped\n",
      "Nact  = number of active bounds at final generalized Cauchy point\n",
      "Projg = norm of the final projected gradient\n",
      "F     = final function value\n",
      "\n",
      "           * * *\n",
      "\n",
      "   N    Tit     Tnf  Tnint  Skip  Nact     Projg        F\n",
      "    4      5      7      8     0     0   1.675D-02   1.648D+04\n",
      "  F =   16482.249315704841     \n",
      "\n",
      "CONVERGENCE: REL_REDUCTION_OF_F_<=_FACTR*EPSMCH             \n"
     ]
    },
    {
     "name": "stderr",
     "output_type": "stream",
     "text": [
      "INFO:root:Theta updated. New theta_hat: [0.471 0.211 0.422 0.292]\n"
     ]
    },
    {
     "name": "stdout",
     "output_type": "stream",
     "text": [
      "Discretization setup:\n",
      "  - Cumulative Context (cc):    100 steps up to 8.00\n",
      "  - Cust. Degradation (cx):     50 steps up to 1.00\n",
      "  - Cust. Revenue (cu):         100 steps up to 1.00 (99.9th percentile)\n",
      "  - Rental Duration (T):        100 steps up to 76.01 (99.95th percentile)\n",
      "Pre-computing expectations from 100000 customer samples...\n"
     ]
    },
    {
     "name": "stderr",
     "output_type": "stream",
     "text": [
      " 79%|███████▉  | 31734/40000 [36:30<08:44, 15.75it/s]"
     ]
    },
    {
     "name": "stdout",
     "output_type": "stream",
     "text": [
      "Starting Numba-accelerated pre-computation of arrival dynamics...\n",
      "Pre-computation complete. ✅\n",
      "\n",
      "Starting Value Iteration...\n",
      "Iteration 10/100 | Max Change (Delta): 0.209289\n",
      "Iteration 20/100 | Max Change (Delta): 0.153830\n",
      "Iteration 30/100 | Max Change (Delta): 0.122586\n",
      "Iteration 40/100 | Max Change (Delta): 0.099518\n",
      "Iteration 50/100 | Max Change (Delta): 0.081240\n",
      "Iteration 60/100 | Max Change (Delta): 0.066412\n",
      "Iteration 70/100 | Max Change (Delta): 0.054311\n",
      "Iteration 80/100 | Max Change (Delta): 0.044420\n",
      "Iteration 90/100 | Max Change (Delta): 0.036331\n"
     ]
    },
    {
     "name": "stderr",
     "output_type": "stream",
     "text": [
      "INFO:root:Policy updated.\n",
      " 83%|████████▎ | 33045/40000 [37:38<07:21, 15.77it/s]INFO:root:Updating optimal policy...\n"
     ]
    },
    {
     "name": "stdout",
     "output_type": "stream",
     "text": [
      "Iteration 100/100 | Max Change (Delta): 0.029715\n",
      "\n",
      "Value iteration finished (max iterations reached).\n",
      "RUNNING THE L-BFGS-B CODE\n",
      "\n",
      "           * * *\n",
      "\n",
      "Machine precision = 2.220D-16\n",
      " N =            4     M =           10\n",
      "\n",
      "At X0         4 variables are exactly at the bounds\n",
      "\n",
      "At iterate    0    f=  1.80100D+04    |proj g|=  1.00000D+00\n",
      "\n",
      "At iterate    1    f=  1.73131D+04    |proj g|=  6.61478D-01\n",
      "\n",
      "At iterate    2    f=  1.73028D+04    |proj g|=  6.38594D-01\n",
      "\n",
      "At iterate    3    f=  1.72925D+04    |proj g|=  4.84803D-01\n"
     ]
    },
    {
     "name": "stderr",
     "output_type": "stream",
     "text": [
      " 83%|████████▎ | 33045/40000 [37:50<07:21, 15.77it/s]"
     ]
    },
    {
     "name": "stdout",
     "output_type": "stream",
     "text": [
      "\n",
      "At iterate    4    f=  1.72925D+04    |proj g|=  2.07583D-01\n",
      "\n",
      "At iterate    5    f=  1.72925D+04    |proj g|=  1.49969D-02\n",
      "\n",
      "           * * *\n",
      "\n",
      "Tit   = total number of iterations\n",
      "Tnf   = total number of function evaluations\n",
      "Tnint = total number of segments explored during Cauchy searches\n",
      "Skip  = number of BFGS updates skipped\n",
      "Nact  = number of active bounds at final generalized Cauchy point\n",
      "Projg = norm of the final projected gradient\n",
      "F     = final function value\n",
      "\n",
      "           * * *\n",
      "\n",
      "   N    Tit     Tnf  Tnint  Skip  Nact     Projg        F\n",
      "    4      5      7      8     0     0   1.500D-02   1.729D+04\n",
      "  F =   17292.527614000246     \n",
      "\n",
      "CONVERGENCE: REL_REDUCTION_OF_F_<=_FACTR*EPSMCH             \n"
     ]
    },
    {
     "name": "stderr",
     "output_type": "stream",
     "text": [
      "INFO:root:Theta updated. New theta_hat: [0.483 0.207 0.412 0.286]\n"
     ]
    },
    {
     "name": "stdout",
     "output_type": "stream",
     "text": [
      "Discretization setup:\n",
      "  - Cumulative Context (cc):    100 steps up to 8.00\n",
      "  - Cust. Degradation (cx):     50 steps up to 1.00\n",
      "  - Cust. Revenue (cu):         100 steps up to 1.00 (99.9th percentile)\n",
      "  - Rental Duration (T):        100 steps up to 76.01 (99.95th percentile)\n",
      "Pre-computing expectations from 100000 customer samples...\n",
      "Starting Numba-accelerated pre-computation of arrival dynamics...\n",
      "Pre-computation complete. ✅\n",
      "\n",
      "Starting Value Iteration...\n",
      "Iteration 10/100 | Max Change (Delta): 0.210659\n",
      "Iteration 20/100 | Max Change (Delta): 0.154757\n",
      "Iteration 30/100 | Max Change (Delta): 0.123322\n",
      "Iteration 40/100 | Max Change (Delta): 0.100120\n",
      "Iteration 50/100 | Max Change (Delta): 0.081732\n",
      "Iteration 60/100 | Max Change (Delta): 0.066814\n",
      "Iteration 70/100 | Max Change (Delta): 0.054640\n",
      "Iteration 80/100 | Max Change (Delta): 0.044689\n",
      "Iteration 90/100 | Max Change (Delta): 0.036551\n"
     ]
    },
    {
     "name": "stderr",
     "output_type": "stream",
     "text": [
      "INFO:root:Policy updated.\n",
      " 86%|████████▌ | 34319/40000 [39:02<06:04, 15.58it/s]INFO:root:Updating optimal policy...\n"
     ]
    },
    {
     "name": "stdout",
     "output_type": "stream",
     "text": [
      "Iteration 100/100 | Max Change (Delta): 0.029895\n",
      "\n",
      "Value iteration finished (max iterations reached).\n",
      "RUNNING THE L-BFGS-B CODE\n",
      "\n",
      "           * * *\n",
      "\n",
      "Machine precision = 2.220D-16\n",
      " N =            4     M =           10\n",
      "\n",
      "At X0         4 variables are exactly at the bounds\n",
      "\n",
      "At iterate    0    f=  1.88551D+04    |proj g|=  1.00000D+00\n",
      "\n",
      "At iterate    1    f=  1.81272D+04    |proj g|=  6.61474D-01\n",
      "\n",
      "At iterate    2    f=  1.81166D+04    |proj g|=  6.39845D-01\n",
      "\n",
      "At iterate    3    f=  1.81060D+04    |proj g|=  4.86508D-01\n",
      "\n",
      "At iterate    4    f=  1.81060D+04    |proj g|=  2.08618D-01\n",
      "\n",
      "At iterate    5    f=  1.81060D+04    |proj g|=  1.81363D-02\n",
      "\n",
      "           * * *\n",
      "\n",
      "Tit   = total number of iterations\n",
      "Tnf   = total number of function evaluations\n",
      "Tnint = total number of segments explored during Cauchy searches\n",
      "Skip  = number of BFGS updates skipped\n",
      "Nact  = number of active bounds at final generalized Cauchy point\n",
      "Projg = norm of the final projected gradient\n",
      "F     = final function value\n",
      "\n",
      "           * * *\n",
      "\n",
      "   N    Tit     Tnf  Tnint  Skip  Nact     Projg        F\n",
      "    4      5      7      8     0     0   1.814D-02   1.811D+04\n",
      "  F =   18105.951081321935     \n",
      "\n",
      "CONVERGENCE: REL_REDUCTION_OF_F_<=_FACTR*EPSMCH             \n"
     ]
    },
    {
     "name": "stderr",
     "output_type": "stream",
     "text": [
      "INFO:root:Theta updated. New theta_hat: [0.485 0.208 0.407 0.286]\n"
     ]
    },
    {
     "name": "stdout",
     "output_type": "stream",
     "text": [
      "Discretization setup:\n",
      "  - Cumulative Context (cc):    100 steps up to 8.00\n",
      "  - Cust. Degradation (cx):     50 steps up to 1.00\n",
      "  - Cust. Revenue (cu):         100 steps up to 1.00 (99.9th percentile)\n",
      "  - Rental Duration (T):        100 steps up to 76.01 (99.95th percentile)\n",
      "Pre-computing expectations from 100000 customer samples...\n",
      "Starting Numba-accelerated pre-computation of arrival dynamics...\n",
      "Pre-computation complete. ✅\n",
      "\n",
      "Starting Value Iteration...\n"
     ]
    },
    {
     "name": "stderr",
     "output_type": "stream",
     "text": [
      " 86%|████████▌ | 34319/40000 [39:20<06:04, 15.58it/s]"
     ]
    },
    {
     "name": "stdout",
     "output_type": "stream",
     "text": [
      "Iteration 10/100 | Max Change (Delta): 0.210797\n",
      "Iteration 20/100 | Max Change (Delta): 0.154915\n",
      "Iteration 30/100 | Max Change (Delta): 0.123397\n",
      "Iteration 40/100 | Max Change (Delta): 0.100172\n",
      "Iteration 50/100 | Max Change (Delta): 0.081771\n",
      "Iteration 60/100 | Max Change (Delta): 0.066845\n",
      "Iteration 70/100 | Max Change (Delta): 0.054665\n",
      "Iteration 80/100 | Max Change (Delta): 0.044709\n",
      "Iteration 90/100 | Max Change (Delta): 0.036567\n"
     ]
    },
    {
     "name": "stderr",
     "output_type": "stream",
     "text": [
      "INFO:root:Policy updated.\n",
      " 89%|████████▉ | 35550/40000 [40:24<04:48, 15.41it/s]INFO:root:Updating optimal policy...\n"
     ]
    },
    {
     "name": "stdout",
     "output_type": "stream",
     "text": [
      "Iteration 100/100 | Max Change (Delta): 0.029908\n",
      "\n",
      "Value iteration finished (max iterations reached).\n",
      "RUNNING THE L-BFGS-B CODE\n",
      "\n",
      "           * * *\n",
      "\n",
      "Machine precision = 2.220D-16\n",
      " N =            4     M =           10\n",
      "\n",
      "At X0         4 variables are exactly at the bounds\n",
      "\n",
      "At iterate    0    f=  1.96818D+04    |proj g|=  1.00000D+00\n",
      "\n",
      "At iterate    1    f=  1.89204D+04    |proj g|=  6.61396D-01\n",
      "\n",
      "At iterate    2    f=  1.89088D+04    |proj g|=  6.38685D-01\n",
      "\n",
      "At iterate    3    f=  1.88972D+04    |proj g|=  4.89113D-01\n",
      "\n",
      "At iterate    4    f=  1.88972D+04    |proj g|=  2.07151D-01\n",
      "\n",
      "At iterate    5    f=  1.88972D+04    |proj g|=  2.40580D-02\n",
      "\n",
      "           * * *\n",
      "\n",
      "Tit   = total number of iterations\n",
      "Tnf   = total number of function evaluations\n",
      "Tnint = total number of segments explored during Cauchy searches\n",
      "Skip  = number of BFGS updates skipped\n",
      "Nact  = number of active bounds at final generalized Cauchy point\n",
      "Projg = norm of the final projected gradient\n",
      "F     = final function value\n",
      "\n",
      "           * * *\n",
      "\n",
      "   N    Tit     Tnf  Tnint  Skip  Nact     Projg        F\n",
      "    4      5      7      8     0     0   2.406D-02   1.890D+04\n",
      "  F =   18897.188220449425     \n",
      "\n",
      "CONVERGENCE: REL_REDUCTION_OF_F_<=_FACTR*EPSMCH             \n"
     ]
    },
    {
     "name": "stderr",
     "output_type": "stream",
     "text": [
      "INFO:root:Theta updated. New theta_hat: [0.487 0.206 0.411 0.283]\n"
     ]
    },
    {
     "name": "stdout",
     "output_type": "stream",
     "text": [
      "Discretization setup:\n",
      "  - Cumulative Context (cc):    100 steps up to 8.00\n",
      "  - Cust. Degradation (cx):     50 steps up to 1.00\n",
      "  - Cust. Revenue (cu):         100 steps up to 1.00 (99.9th percentile)\n",
      "  - Rental Duration (T):        100 steps up to 76.01 (99.95th percentile)\n",
      "Pre-computing expectations from 100000 customer samples...\n",
      "Starting Numba-accelerated pre-computation of arrival dynamics...\n"
     ]
    },
    {
     "name": "stderr",
     "output_type": "stream",
     "text": [
      " 89%|████████▉ | 35550/40000 [40:41<04:48, 15.41it/s]"
     ]
    },
    {
     "name": "stdout",
     "output_type": "stream",
     "text": [
      "Pre-computation complete. ✅\n",
      "\n",
      "Starting Value Iteration...\n",
      "Iteration 10/100 | Max Change (Delta): 0.211019\n",
      "Iteration 20/100 | Max Change (Delta): 0.154986\n",
      "Iteration 30/100 | Max Change (Delta): 0.123476\n",
      "Iteration 40/100 | Max Change (Delta): 0.100225\n",
      "Iteration 50/100 | Max Change (Delta): 0.081812\n",
      "Iteration 60/100 | Max Change (Delta): 0.066878\n",
      "Iteration 70/100 | Max Change (Delta): 0.054692\n",
      "Iteration 80/100 | Max Change (Delta): 0.044731\n",
      "Iteration 90/100 | Max Change (Delta): 0.036585\n"
     ]
    },
    {
     "name": "stderr",
     "output_type": "stream",
     "text": [
      "INFO:root:Policy updated.\n",
      " 92%|█████████▏| 36628/40000 [41:45<03:47, 14.81it/s]INFO:root:Updating optimal policy...\n"
     ]
    },
    {
     "name": "stdout",
     "output_type": "stream",
     "text": [
      "Iteration 100/100 | Max Change (Delta): 0.029923\n",
      "\n",
      "Value iteration finished (max iterations reached).\n",
      "RUNNING THE L-BFGS-B CODE\n",
      "\n",
      "           * * *\n",
      "\n",
      "Machine precision = 2.220D-16\n",
      " N =            4     M =           10\n",
      "\n",
      "At X0         4 variables are exactly at the bounds\n",
      "\n",
      "At iterate    0    f=  2.05129D+04    |proj g|=  1.00000D+00\n",
      "\n",
      "At iterate    1    f=  1.97219D+04    |proj g|=  6.60992D-01\n",
      "\n",
      "At iterate    2    f=  1.97103D+04    |proj g|=  6.38711D-01\n",
      "\n",
      "At iterate    3    f=  1.96986D+04    |proj g|=  4.85517D-01\n",
      "\n",
      "At iterate    4    f=  1.96985D+04    |proj g|=  2.24039D-01\n",
      "\n",
      "At iterate    5    f=  1.96985D+04    |proj g|=  4.00360D-02\n",
      "\n",
      "           * * *\n",
      "\n",
      "Tit   = total number of iterations\n",
      "Tnf   = total number of function evaluations\n",
      "Tnint = total number of segments explored during Cauchy searches\n",
      "Skip  = number of BFGS updates skipped\n",
      "Nact  = number of active bounds at final generalized Cauchy point\n",
      "Projg = norm of the final projected gradient\n",
      "F     = final function value\n",
      "\n",
      "           * * *\n",
      "\n",
      "   N    Tit     Tnf  Tnint  Skip  Nact     Projg        F\n",
      "    4      5      7      8     0     0   4.004D-02   1.970D+04\n",
      "  F =   19698.544931772776     \n",
      "\n",
      "CONVERGENCE: REL_REDUCTION_OF_F_<=_FACTR*EPSMCH             \n"
     ]
    },
    {
     "name": "stderr",
     "output_type": "stream",
     "text": [
      "INFO:root:Theta updated. New theta_hat: [0.484 0.204 0.409 0.29 ]\n"
     ]
    },
    {
     "name": "stdout",
     "output_type": "stream",
     "text": [
      "Discretization setup:\n",
      "  - Cumulative Context (cc):    100 steps up to 8.00\n",
      "  - Cust. Degradation (cx):     50 steps up to 1.00\n",
      "  - Cust. Revenue (cu):         100 steps up to 1.00 (99.9th percentile)\n",
      "  - Rental Duration (T):        100 steps up to 76.01 (99.95th percentile)\n",
      "Pre-computing expectations from 100000 customer samples...\n"
     ]
    },
    {
     "name": "stderr",
     "output_type": "stream",
     "text": [
      " 92%|█████████▏| 36628/40000 [42:01<03:47, 14.81it/s]"
     ]
    },
    {
     "name": "stdout",
     "output_type": "stream",
     "text": [
      "Starting Numba-accelerated pre-computation of arrival dynamics...\n",
      "Pre-computation complete. ✅\n",
      "\n",
      "Starting Value Iteration...\n",
      "Iteration 10/100 | Max Change (Delta): 0.211663\n",
      "Iteration 20/100 | Max Change (Delta): 0.155487\n",
      "Iteration 30/100 | Max Change (Delta): 0.123882\n",
      "Iteration 40/100 | Max Change (Delta): 0.100558\n",
      "Iteration 50/100 | Max Change (Delta): 0.082085\n",
      "Iteration 60/100 | Max Change (Delta): 0.067101\n",
      "Iteration 70/100 | Max Change (Delta): 0.054874\n",
      "Iteration 80/100 | Max Change (Delta): 0.044880\n",
      "Iteration 90/100 | Max Change (Delta): 0.036707\n"
     ]
    },
    {
     "name": "stderr",
     "output_type": "stream",
     "text": [
      "INFO:root:Policy updated.\n",
      " 95%|█████████▍| 37919/40000 [43:07<02:18, 15.07it/s]INFO:root:Updating optimal policy...\n"
     ]
    },
    {
     "name": "stdout",
     "output_type": "stream",
     "text": [
      "Iteration 100/100 | Max Change (Delta): 0.030023\n",
      "\n",
      "Value iteration finished (max iterations reached).\n",
      "RUNNING THE L-BFGS-B CODE\n",
      "\n",
      "           * * *\n",
      "\n",
      "Machine precision = 2.220D-16\n",
      " N =            4     M =           10\n",
      "\n",
      "At X0         4 variables are exactly at the bounds\n",
      "\n",
      "At iterate    0    f=  2.13560D+04    |proj g|=  1.00000D+00\n",
      "\n",
      "At iterate    1    f=  2.05432D+04    |proj g|=  6.62296D-01\n",
      "\n",
      "At iterate    2    f=  2.05316D+04    |proj g|=  6.41001D-01\n",
      "\n",
      "At iterate    3    f=  2.05199D+04    |proj g|=  4.82312D-01\n"
     ]
    },
    {
     "name": "stderr",
     "output_type": "stream",
     "text": [
      " 95%|█████████▍| 37919/40000 [43:21<02:18, 15.07it/s]"
     ]
    },
    {
     "name": "stdout",
     "output_type": "stream",
     "text": [
      "\n",
      "At iterate    4    f=  2.05199D+04    |proj g|=  2.17503D-01\n",
      "\n",
      "At iterate    5    f=  2.05199D+04    |proj g|=  3.94097D-02\n",
      "\n",
      "           * * *\n",
      "\n",
      "Tit   = total number of iterations\n",
      "Tnf   = total number of function evaluations\n",
      "Tnint = total number of segments explored during Cauchy searches\n",
      "Skip  = number of BFGS updates skipped\n",
      "Nact  = number of active bounds at final generalized Cauchy point\n",
      "Projg = norm of the final projected gradient\n",
      "F     = final function value\n",
      "\n",
      "           * * *\n",
      "\n",
      "   N    Tit     Tnf  Tnint  Skip  Nact     Projg        F\n",
      "    4      5      7      8     0     0   3.941D-02   2.052D+04\n",
      "  F =   20519.894347108559     \n",
      "\n",
      "CONVERGENCE: REL_REDUCTION_OF_F_<=_FACTR*EPSMCH             \n"
     ]
    },
    {
     "name": "stderr",
     "output_type": "stream",
     "text": [
      "INFO:root:Theta updated. New theta_hat: [0.481 0.204 0.405 0.292]\n"
     ]
    },
    {
     "name": "stdout",
     "output_type": "stream",
     "text": [
      "Discretization setup:\n",
      "  - Cumulative Context (cc):    100 steps up to 8.00\n",
      "  - Cust. Degradation (cx):     50 steps up to 1.00\n",
      "  - Cust. Revenue (cu):         100 steps up to 1.00 (99.9th percentile)\n",
      "  - Rental Duration (T):        100 steps up to 76.01 (99.95th percentile)\n",
      "Pre-computing expectations from 100000 customer samples...\n",
      "Starting Numba-accelerated pre-computation of arrival dynamics...\n",
      "Pre-computation complete. ✅\n",
      "\n",
      "Starting Value Iteration...\n",
      "Iteration 10/100 | Max Change (Delta): 0.211901\n",
      "Iteration 20/100 | Max Change (Delta): 0.155612\n",
      "Iteration 30/100 | Max Change (Delta): 0.123952\n",
      "Iteration 40/100 | Max Change (Delta): 0.100609\n",
      "Iteration 50/100 | Max Change (Delta): 0.082124\n",
      "Iteration 60/100 | Max Change (Delta): 0.067133\n",
      "Iteration 70/100 | Max Change (Delta): 0.054900\n",
      "Iteration 80/100 | Max Change (Delta): 0.044901\n",
      "Iteration 90/100 | Max Change (Delta): 0.036725\n"
     ]
    },
    {
     "name": "stderr",
     "output_type": "stream",
     "text": [
      "INFO:root:Policy updated.\n",
      "100%|██████████| 40000/40000 [44:33<00:00, 14.96it/s]\n",
      "INFO:root:Simulation finished.\n"
     ]
    },
    {
     "name": "stdout",
     "output_type": "stream",
     "text": [
      "Iteration 100/100 | Max Change (Delta): 0.030037\n",
      "\n",
      "Value iteration finished (max iterations reached).\n",
      "Policy saved to models/simulator_20250916_095648.discrete_policy.pkl\n"
     ]
    },
    {
     "name": "stderr",
     "output_type": "stream",
     "text": [
      "INFO:root:Simulation state saved to models/simulator_20250916_095648.\n"
     ]
    }
   ],
   "source": [
    "pacific_tz = timezone('America/Los_Angeles')\n",
    "current_time = datetime.now(pacific_tz).strftime(\"%Y%m%d_%H%M%S\")\n",
    "\n",
    "# simulator.projected_volume_learner.is_terminated = True\n",
    "simulation_data = simulator.run(num_customers=NUM_CUSTOMERS)\n",
    "degradation_df = pd.DataFrame(simulator.degradation_history)\n",
    "simulation_df = pd.DataFrame(simulator.history)\n",
    "\n",
    "degradation_df.to_csv(f'data/degradation_data_{current_time}.csv', index=False)\n",
    "simulation_df.to_csv(f'data/simulation_data_{current_time}.csv', index=False)\n",
    "simulator.save(f'models/simulator_{current_time}')"
   ]
  },
  {
   "cell_type": "code",
   "execution_count": null,
   "id": "61174b40",
   "metadata": {},
   "outputs": [],
   "source": [
    "degradation_df = pd.DataFrame(simulator.degradation_history)\n",
    "simulation_df = pd.DataFrame(simulator.history)\n",
    "\n",
    "degradation_df.to_csv(f'data/degradation_data_{current_time}.csv', index=False)\n",
    "simulation_df.to_csv(f'data/simulation_data_{current_time}.csv', index=False)\n",
    "simulator.save(f'models/simulator_{current_time}')"
   ]
  },
  {
   "cell_type": "code",
   "execution_count": null,
   "id": "fa729332",
   "metadata": {},
   "outputs": [],
   "source": [
    "degradation_df = pd.DataFrame(simulator.degradation_history)\n",
    "simulation_df = pd.DataFrame(simulator.history)\n",
    "\n",
    "degradation_df.to_csv(f'data/degradation_data_{current_time}.csv', index=False)\n",
    "simulation_df.to_csv(f'data/simulation_data_{current_time}.csv', index=False)\n",
    "simulator.save(f'models/simulator_{current_time}')"
   ]
  },
  {
   "cell_type": "markdown",
   "id": "2ffaa1c1",
   "metadata": {},
   "source": [
    "### Convergence of $\\hat\\theta$"
   ]
  },
  {
   "cell_type": "code",
   "execution_count": null,
   "id": "221cf058",
   "metadata": {},
   "outputs": [],
   "source": [
    "# simulator = Simulator.load('models/simulator_0914')\n",
    "\n",
    "history = pd.DataFrame(simulator.history)\n",
    "degradation_history = pd.DataFrame(simulator.degradation_history)\n",
    "\n",
    "epsilons = [0.20 * (0.95 ** i) for i in range(len(simulator.theta_updates))]\n",
    "\n",
    "times = []\n",
    "\n",
    "for d in simulator.theta_updates:\n",
    "    idx, theta_hat = d['customer_idx'], d['theta_hat']\n",
    "    time = history[history.customer_id == idx]['calendar_time'].max()\n",
    "    times.append(time)\n",
    "    \n",
    "# plot L2, and L-inf norms of utility updates\n",
    "L2_errors = [np.linalg.norm(update['theta_hat'] - THETA_TRUE) for update in simulator.theta_updates]\n",
    "Linf_errors = [np.linalg.norm(update['theta_hat'] - THETA_TRUE, ord=np.inf) for update in simulator.theta_updates]\n",
    "\n",
    "plt.figure(figsize=(12, 6))\n",
    "plt.plot(times, L2_errors, label='$L_2$ Norm Error', marker='o')\n",
    "plt.plot(times, Linf_errors, label='$L_\\infty$ Norm Error', marker='x')\n",
    "plt.plot(times, epsilons, label='Exploration Rate (ε)', linestyle='--', color='gray')\n",
    "# plt.yscale('log')\n",
    "plt.xlabel('Number of Customers Processed', fontsize=14)\n",
    "plt.ylabel('Error Norm', fontsize=14)\n",
    "\n",
    "plt.title('Convergence of $\\|\\hat{\\\\theta} - \\\\theta\\|$', fontsize=18)\n",
    "plt.legend(fontsize=12)\n",
    "plt.grid(True)\n",
    "plt.savefig('figures/utility_convergence.pdf')\n",
    "plt.show()"
   ]
  },
  {
   "cell_type": "markdown",
   "id": "1c192729",
   "metadata": {},
   "source": [
    "### Convergence of $\\hat u$"
   ]
  },
  {
   "cell_type": "code",
   "execution_count": null,
   "id": "628dd0f7",
   "metadata": {},
   "outputs": [],
   "source": [
    "simulator.utility_updates\n",
    "\n",
    "# plot L2, and L-inf norms of utility updates\n",
    "L2_errors = [np.linalg.norm(update['u_hat'] - UTILITY_TRUE) for update in simulator.utility_updates]\n",
    "Linf_errors = [np.linalg.norm(update['u_hat'] - UTILITY_TRUE, ord=np.inf) for update in simulator.utility_updates]\n",
    "\n",
    "plt.figure(figsize=(12, 6))\n",
    "plt.plot(L2_errors, label='$L_2$ Norm Error', marker='o')\n",
    "plt.plot(Linf_errors, label='$L_\\infty$ Norm Error', marker='x')\n",
    "# plt.yscale('log')\n",
    "plt.xlabel('Number of Customers Processed', fontsize=14)\n",
    "plt.ylabel('Error Norm', fontsize=14)\n",
    "\n",
    "plt.title('Convergence of $\\|\\hat u - u\\|$', fontsize=18)\n",
    "plt.legend(fontsize=12)\n",
    "plt.grid(True)\n",
    "plt.savefig('figures/utility_convergence.pdf')\n",
    "plt.show()"
   ]
  },
  {
   "cell_type": "markdown",
   "id": "211146ca",
   "metadata": {},
   "source": [
    "### Revenue of Online Learner"
   ]
  },
  {
   "cell_type": "code",
   "execution_count": null,
   "id": "6288559c",
   "metadata": {},
   "outputs": [],
   "source": [
    "degradation_df = pd.DataFrame(simulator.degradation_history)\n",
    "simulation_df = pd.DataFrame(simulator.history)\n",
    "\n",
    "simulation_df['net_profit'] = simulation_df['profit'] + simulation_df['loss']\n",
    "simulation_df['cumulative_net_profit'] = simulation_df['net_profit'].cumsum()\n",
    "\n",
    "ax = plt.figure(figsize=(10,6))\n",
    "\n",
    "# plot cumulative profit and loss over time\n",
    "plt.plot(simulation_df['calendar_time'], simulation_df['cumulative_net_profit'], label='Cumulative Net Profit')\n",
    "plt.xlabel('Calendar Time')\n",
    "plt.ylabel('Cumulative Net Profit')\n",
    "plt.title('Cumulative Net Profit Over Time')\n",
    "plt.legend()\n",
    "plt.grid()\n",
    "plt.savefig('figures/cumulative_net_profit_online.pdf')\n",
    "plt.show()"
   ]
  },
  {
   "cell_type": "markdown",
   "id": "dec0fff9",
   "metadata": {},
   "source": [
    "## Training policy under perfect information"
   ]
  },
  {
   "cell_type": "markdown",
   "id": "de203c94",
   "metadata": {},
   "source": [
    "### Revenue of Optimal Policy"
   ]
  },
  {
   "cell_type": "code",
   "execution_count": null,
   "id": "a8793230",
   "metadata": {},
   "outputs": [],
   "source": [
    "class PerfectDegradationLearner:\n",
    "    def __init__(self, d, theta_true, hazard_model):\n",
    "        self.d = d\n",
    "        self.theta_true = theta_true\n",
    "        self.hazard_model = hazard_model  # Placeholder, not used\n",
    "        \n",
    "    def get_theta(self):\n",
    "        return self.theta_true\n",
    "    \n",
    "    def cum_baseline(self, t):\n",
    "        return self.hazard_model.Lambda_0(t)\n",
    "    \n",
    "    def inverse_cum_baseline(self, u):\n",
    "        return self.hazard_model.Lambda_0_inverse(u)\n",
    "    \n",
    "perfect_degradation_learner = PerfectDegradationLearner(\n",
    "    d=D, \n",
    "    theta_true=THETA_TRUE,\n",
    "    hazard_model=usage_exp_hazard_model,\n",
    ")\n",
    "\n",
    "# N_perfect = [100, 40, 80, 150]\n",
    "\n",
    "perfect_dpagent = DiscretizedDPAgent(\n",
    "    N=simulator.training_hyperparams['N'], # grid sizes [cum_context, context, duration, active_time]\n",
    "    max_cumulative_context=simulator.training_hyperparams['max_cumulative_context'],\n",
    "    # max_active_time=simulator.training_hyperparams['max_active_time'],\n",
    "    u_hat=UTILITY_TRUE,\n",
    "    degradation_learner=perfect_degradation_learner,\n",
    "    customer_generator=customer_gen,\n",
    "    params=simulator.mdp_params,\n",
    ")\n",
    "# perfect_dpagent.run_value_iteration(simulator.training_hyperparams['num_value_iterations'])\n",
    "\n",
    "# weight = torch.load('weights/perfect_dpagent_q_network.pth', map_location=torch.device('cuda'))\n",
    "# perfect_dpagent.q_network.load_state_dict(weight)\n",
    "# perfect_dpagent.q_network.to(perfect_dpagent.device)\n",
    "# perfect_dpagent.q_network.eval()\n",
    "perfect_dpagent._precompute_dynamics(100000)\n",
    "perfect_dpagent.run_value_iteration(150)\n",
    "perfect_policy = perfect_dpagent.get_policy('greedy')"
   ]
  },
  {
   "cell_type": "code",
   "execution_count": null,
   "id": "ade6b251",
   "metadata": {},
   "outputs": [],
   "source": [
    "simulation_df = pd.DataFrame(simulator.history)\n",
    "# simulator.degradation_learner = perfect_degradation_learner\n",
    "samples = simulator.run_full_exploit(100000, perfect_policy, {'tau': 0.01})\n",
    "samples = pd.DataFrame(samples)\n",
    "\n",
    "simulation_df['net_profit'] = simulation_df['profit'] + simulation_df['loss']\n",
    "simulation_df['cumulative_net_profit'] = simulation_df['net_profit'].cumsum()\n",
    "samples['net_profit'] = samples['profit'] + samples['loss']\n",
    "samples['cumulative_net_profit'] = samples['net_profit'].cumsum()\n",
    "\n",
    "samples['netprofit_per_time'] = samples['cumulative_net_profit'] / samples['calendar_time']\n",
    "simulation_df['netprofit_per_time'] = simulation_df['cumulative_net_profit'] / simulation_df['calendar_time']"
   ]
  },
  {
   "cell_type": "code",
   "execution_count": null,
   "id": "674b44a1",
   "metadata": {},
   "outputs": [],
   "source": [
    "def calculate_rolling_rate(df, time_col, value_col, window_size):\n",
    "    \"\"\"\n",
    "    Calculates the rate of a value over a rolling time window on irregular time series data.\n",
    "\n",
    "    Args:\n",
    "        df (pd.DataFrame): The input dataframe.\n",
    "        time_col (str): The name of the column with time data.\n",
    "        value_col (str): The name of the column with values to aggregate (e.g., 'net_profit').\n",
    "        window_size (int): The duration of the rolling time window.\n",
    "\n",
    "    Returns:\n",
    "        pd.Series: A series containing the calculated rolling rate for each row.\n",
    "    \"\"\"\n",
    "    # Ensure the dataframe is sorted by time, which is crucial.\n",
    "    df = df.sort_values(time_col).reset_index(drop=True)\n",
    "    \n",
    "    times = df[time_col].values\n",
    "    values = df[value_col].values\n",
    "    \n",
    "    # For each end time `t_i`, find the start time `t_i - window`.\n",
    "    start_times = times - window_size\n",
    "    \n",
    "    # Use searchsorted to find the index where each start_time would be inserted.\n",
    "    # This gives us the starting index of each time window efficiently.\n",
    "    start_indices = np.searchsorted(times, start_times, side='left')\n",
    "    \n",
    "    # Use a cumulative sum to efficiently calculate the sum over any slice [j, i].\n",
    "    value_cumsum = np.cumsum(values)\n",
    "    \n",
    "    # The sum for a window ending at `i` is cumsum[i] - cumsum[start_index - 1].\n",
    "    # We create a shifted cumulative sum array to handle the `start_index - 1` lookup.\n",
    "    shifted_cumsum = np.concatenate(([0], value_cumsum[:-1]))\n",
    "    \n",
    "    # Calculate the sum of values within each rolling window.\n",
    "    window_sums = value_cumsum - shifted_cumsum[start_indices]\n",
    "    \n",
    "    # The rate is the sum of profit in the window divided by the window's duration.\n",
    "    profit_rate = window_sums / window_size\n",
    "    \n",
    "    return pd.Series(profit_rate, index=df.index)\n",
    "\n",
    "\n",
    "# --- 2. Calculate net profit and the rolling rate for each DataFrame ---\n",
    "\n",
    "window_duration = 20000 # Define the time window for the rolling rate\n",
    "\n",
    "for df in [simulation_df]:\n",
    "# for df in [samples]:\n",
    "    df['net_profit'] = df['profit'] + df['loss']\n",
    "    # Add the new 'profit_rate' column using our helper function\n",
    "    df['profit_rate'] = calculate_rolling_rate(df, 'calendar_time', 'net_profit', window_duration)"
   ]
  },
  {
   "cell_type": "code",
   "execution_count": null,
   "id": "a3a5d8bd",
   "metadata": {},
   "outputs": [],
   "source": [
    "# --- 3. Plot the new rolling profit rate ---\n",
    "\n",
    "max_time = simulation_df['calendar_time'].max()\n",
    "# max_time = min(simulation_df['calendar_time'].max(), samples['calendar_time'].max())\n",
    "# samples_plot = samples[(window_duration <= samples['calendar_time']) & (samples['calendar_time'] <= max_time)]\n",
    "simulations_plot = simulation_df[\n",
    "    (window_duration <= simulation_df['calendar_time']) &\n",
    "    (simulation_df['calendar_time'] <= max_time)]\n",
    "\n",
    "\n",
    "plt.figure(figsize=(10, 6))\n",
    "\n",
    "# plt.plot(samples_plot['calendar_time'], samples_plot['profit_rate'], label=f'Optimal Policy (Rolling {window_duration} unit avg)')\n",
    "plt.plot(simulations_plot['calendar_time'], simulations_plot['profit_rate'], label=f'Online Learning (Rolling {window_duration} unit avg)')\n",
    "\n",
    "plt.xlabel('Calendar Time')\n",
    "plt.ylabel('Profit Rate (Profit / Time Unit)')\n",
    "plt.title(f'Rolling Profit Rate Over Time (Window = {window_duration} time units)')\n",
    "plt.legend()\n",
    "plt.grid(True)\n",
    "plt.show()"
   ]
  },
  {
   "cell_type": "code",
   "execution_count": null,
   "id": "a07a5571",
   "metadata": {},
   "outputs": [],
   "source": []
  }
 ],
 "metadata": {
  "kernelspec": {
   "display_name": "res",
   "language": "python",
   "name": "python3"
  },
  "language_info": {
   "codemirror_mode": {
    "name": "ipython",
    "version": 3
   },
   "file_extension": ".py",
   "mimetype": "text/x-python",
   "name": "python",
   "nbconvert_exporter": "python",
   "pygments_lexer": "ipython3",
   "version": "3.9.20"
  }
 },
 "nbformat": 4,
 "nbformat_minor": 5
}
