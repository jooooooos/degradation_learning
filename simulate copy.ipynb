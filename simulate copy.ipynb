{
 "cells": [
  {
   "cell_type": "code",
   "execution_count": 9,
   "id": "f1bf8ff4",
   "metadata": {},
   "outputs": [],
   "source": [
    "import pickle\n",
    "import numpy as np\n",
    "import pandas as pd\n",
    "from scipy.optimize import minimize\n",
    "import torch\n",
    "from policy import DPAgent\n",
    "from datetime import datetime\n",
    "from pytz import timezone\n",
    "\n",
    "from simulation import Simulator, CustomerGenerator\n",
    "from hazard_models import ExponentialHazard\n",
    "from utility_learner import ProjectedVolumeLearner, diam\n",
    "from degradation_learner import DegradationLearner\n",
    "\n",
    "from utils import unit_ball_rejection_sample, correct_signs\n",
    "import matplotlib.pyplot as plt\n",
    "from scipy.stats import gaussian_kde\n",
    "\n",
    "import logging\n",
    "logging.basicConfig(level=logging.INFO)\n",
    "\n",
    "np.set_printoptions(suppress=True)"
   ]
  },
  {
   "cell_type": "code",
   "execution_count": 10,
   "id": "52e08dea",
   "metadata": {},
   "outputs": [],
   "source": [
    "# --- 2. Define Sampling Functions ---\n",
    "# def context_sampler() -> np.ndarray:\n",
    "#     \"\"\"Samples a customer's context vector from a uniform distribution.\"\"\"\n",
    "#     return np.random.uniform(low=0.0, high=1.0, size=D)\n",
    "\n",
    "def context_sampler() -> np.ndarray:\n",
    "    \"\"\"Samples a customer's context vector uniformly from the unit ball.\"\"\"\n",
    "    return np.abs(unit_ball_rejection_sample(D))\n",
    "\n",
    "def rental_sampler() -> float:\n",
    "    \"\"\"Samples a customer's desired rental duration from an exponential distribution.\"\"\"\n",
    "    return np.random.exponential(scale=10.0)\n",
    "\n",
    "def interarrival_sampler() -> float:\n",
    "    \"\"\"Samples the time until the next customer arrives.\"\"\"\n",
    "    return np.random.exponential(scale=5.0)"
   ]
  },
  {
   "cell_type": "code",
   "execution_count": 19,
   "id": "8cc2c2dd",
   "metadata": {},
   "outputs": [],
   "source": [
    "# --- 1. Simulation Configuration ---\n",
    "D = 4                                  # Dimension of context vectors\n",
    "LAMBDA_VAL = 0.001                     # Baseline hazard constant\n",
    "NUM_CUSTOMERS = 20000                   # Total number of customers to simulate, i.e. T\n",
    "\n",
    "# Set a random seed for reproducibility\n",
    "np.random.seed(41)\n",
    "\n",
    "# Ground truth vectors\n",
    "THETA_TRUE = np.array([0.5, 0.2, 0.4, 0.3])#$, 0.4])    # For degradation\n",
    "UTILITY_TRUE = np.array([0.12450167, 0.10850869, 0.43930126, 0.71356037]) # context_sampler()  # For customer's willingness to pay\n",
    "\n",
    "# --- Machine's Pricing Vector 'r' ---\n",
    "# This is a fallback pricing vector, when we don't feed u_hat to calculate_price\n",
    "PRICING_R = np.zeros(D)"
   ]
  },
  {
   "cell_type": "code",
   "execution_count": 12,
   "id": "8e600551",
   "metadata": {},
   "outputs": [],
   "source": [
    "usage_exp_hazard_model = ExponentialHazard(lambda_val=LAMBDA_VAL)\n",
    "# spontaneous_exp_hazard_model = None # ExponentialHazard(lambda_val=0.01)\n",
    "\n",
    "customer_gen = CustomerGenerator(\n",
    "    d=D,\n",
    "    context_sampler=context_sampler,\n",
    "    rental_sampler=rental_sampler,\n",
    "    interarrival_sampler=interarrival_sampler\n",
    ")\n",
    "\n",
    "centroid_params = {\n",
    "    # 'num_samples': 2000,\n",
    "    # 'thin': None,\n",
    "    # 'burn_in': 500 * D ** 2,\n",
    "    # 'tol': 1e-4,\n",
    "    # 'rho_target': 0.01\n",
    "}\n",
    "\n",
    "termination_rule = lambda diameter: diameter < 0.0005  # Example custom termination rule\n",
    "\n",
    "projected_volume_learner = ProjectedVolumeLearner(\n",
    "    T=NUM_CUSTOMERS, \n",
    "    d=D, \n",
    "    centroid_params=centroid_params,\n",
    "    incentive_constant=1.1,\n",
    "    termination_rule=termination_rule,\n",
    ")\n",
    "\n",
    "mdp_params = {\n",
    "    'replacement_cost': 1.5,   # Cost to replace the machine\n",
    "    'failure_cost': 0.75,      # Additional penalty for in-service failure\n",
    "    'holding_cost_rate': 0.02,   # Cost per unit of idle time\n",
    "    'gamma': 0.99,             # Discount factor\n",
    "    'learning_rate': 1e-3,      # Learning rate for the Adam optimizer\n",
    "    'target_update_freq': 10    # How often to update the target network (in iterations)\n",
    "}\n",
    "\n",
    "training_hyperparams = {\n",
    "    'num_iterations': 50, # Number of training iterations per policy update\n",
    "    'dataset_size': 200000,      # Number of transitions to generate for the offline dataset\n",
    "    'batch_size': 256           # Batch size for training\n",
    "}\n",
    "\n",
    "policy_params = {\n",
    "    'type': 'softmax',\n",
    "    'tau': 1.0,\n",
    "    'epsilon': 0.1,\n",
    "}\n",
    "\n",
    "# Instantiate the Simulator with the new parameters\n",
    "simulator = Simulator(\n",
    "    d=D,\n",
    "    T=NUM_CUSTOMERS,\n",
    "    \n",
    "    theta_true=THETA_TRUE,\n",
    "    utility_true=UTILITY_TRUE,\n",
    "    pricing_r=PRICING_R,\n",
    "    \n",
    "    usage_hazard_model=usage_exp_hazard_model,\n",
    "    customer_generator=customer_gen,\n",
    "    projected_volume_learner=projected_volume_learner,  # Use default ProjectedVolumeLearner\n",
    "    \n",
    "    mdp_params=mdp_params,\n",
    "    training_hyperparams=training_hyperparams,\n",
    "    policy_params=policy_params,\n",
    "    policy_update_threshold=20,\n",
    "    time_normalize=True,\n",
    ")"
   ]
  },
  {
   "cell_type": "code",
   "execution_count": null,
   "id": "6288559c",
   "metadata": {},
   "outputs": [],
   "source": [
    "# get current time in \"YYYYMMDD_HHMMSS\" in pacific time\n",
    "pacific_tz = timezone('America/Los_Angeles')\n",
    "current_time = datetime.now(pacific_tz).strftime(\"%Y%m%d_%H%M%S\")\n",
    "\n",
    "# simulator.projected_volume_learner.is_terminated = True\n",
    "simulation_data = simulator.run(num_customers=NUM_CUSTOMERS)\n",
    "degradation_df = pd.DataFrame(simulator.degradation_history)\n",
    "simulation_df = pd.DataFrame(simulator.history)\n",
    "\n",
    "simulation_df['net_profit'] = simulation_df['profit'] + simulation_df['loss']\n",
    "simulation_df['cumulative_net_profit'] = simulation_df['net_profit'].cumsum()\n",
    "\n",
    "degradation_df.to_csv(f'data/degradation_data_{current_time}.csv', index=False)\n",
    "simulation_df.to_csv(f'data/simulation_data_{current_time}.csv', index=False)\n",
    "simulator.save(f'models/simulator_{current_time}')"
   ]
  },
  {
   "cell_type": "markdown",
   "id": "f93837c8",
   "metadata": {},
   "source": [
    "### Convergence of $\\hat\\theta$"
   ]
  },
  {
   "cell_type": "code",
   "execution_count": null,
   "id": "b0ed1813",
   "metadata": {},
   "outputs": [],
   "source": [
    "degradation_history"
   ]
  },
  {
   "cell_type": "code",
   "execution_count": null,
   "id": "5803e039",
   "metadata": {},
   "outputs": [],
   "source": [
    "degradation_history.event.sum() / len(degradation_history)"
   ]
  },
  {
   "cell_type": "code",
   "execution_count": null,
   "id": "00d38422",
   "metadata": {},
   "outputs": [],
   "source": [
    "# simulator = Simulator.load('models/simulator_0914')\n",
    "\n",
    "history = pd.DataFrame(simulator.history)\n",
    "degradation_history = pd.DataFrame(simulator.degradation_history)\n",
    "\n",
    "times = []\n",
    "\n",
    "for d in simulator.theta_updates:\n",
    "    idx, theta_hat = d['customer_idx'], d['theta_hat']\n",
    "    time = history[history.customer_id == idx]['calendar_time'].max()\n",
    "    times.append(time)\n",
    "    \n",
    "# plot L2, and L-inf norms of utility updates\n",
    "L2_errors = [np.linalg.norm(update['theta_hat'] - THETA_TRUE) for update in simulator.theta_updates]\n",
    "Linf_errors = [np.linalg.norm(update['theta_hat'] - THETA_TRUE, ord=np.inf) for update in simulator.theta_updates]\n",
    "\n",
    "plt.figure(figsize=(12, 6))\n",
    "plt.plot(times, L2_errors, label='$L_2$ Norm Error', marker='o')\n",
    "plt.plot(times, Linf_errors, label='$L_\\infty$ Norm Error', marker='x')\n",
    "# plt.yscale('log')\n",
    "plt.xlabel('Number of Customers Processed', fontsize=14)\n",
    "plt.ylabel('Error Norm', fontsize=14)\n",
    "\n",
    "plt.title('Convergence of $\\|\\hat{\\\\theta} - \\\\theta\\|$', fontsize=18)\n",
    "plt.legend(fontsize=12)\n",
    "plt.grid(True)\n",
    "plt.savefig('figures/utility_convergence.pdf')\n",
    "plt.show()"
   ]
  },
  {
   "cell_type": "markdown",
   "id": "6ba233bb",
   "metadata": {},
   "source": [
    "### Convergence of $\\hat u$"
   ]
  },
  {
   "cell_type": "code",
   "execution_count": null,
   "id": "b65831e9",
   "metadata": {},
   "outputs": [],
   "source": [
    "simulator.utility_updates\n",
    "\n",
    "# plot L2, and L-inf norms of utility updates\n",
    "L2_errors = [np.linalg.norm(update['u_hat'] - UTILITY_TRUE) for update in simulator.utility_updates]\n",
    "Linf_errors = [np.linalg.norm(update['u_hat'] - UTILITY_TRUE, ord=np.inf) for update in simulator.utility_updates]\n",
    "\n",
    "plt.figure(figsize=(12, 6))\n",
    "plt.plot(L2_errors, label='$L_2$ Norm Error', marker='o')\n",
    "plt.plot(Linf_errors, label='$L_\\infty$ Norm Error', marker='x')\n",
    "# plt.yscale('log')\n",
    "plt.xlabel('Number of Customers Processed', fontsize=14)\n",
    "plt.ylabel('Error Norm', fontsize=14)\n",
    "\n",
    "plt.title('Convergence of $\\|\\hat u - u\\|$', fontsize=18)\n",
    "plt.legend(fontsize=12)\n",
    "plt.grid(True)\n",
    "plt.savefig('figures/utility_convergence.pdf')\n",
    "plt.show()"
   ]
  },
  {
   "cell_type": "markdown",
   "id": "5eb03b37",
   "metadata": {},
   "source": [
    "### Revenue of Online Learner"
   ]
  },
  {
   "cell_type": "code",
   "execution_count": null,
   "id": "5a6df664",
   "metadata": {},
   "outputs": [],
   "source": [
    "degradation_df = pd.DataFrame(simulator.degradation_history)\n",
    "simulation_df = pd.DataFrame(simulator.history)\n",
    "\n",
    "simulation_df['net_profit'] = simulation_df['profit'] + simulation_df['loss']\n",
    "simulation_df['cumulative_net_profit'] = simulation_df['net_profit'].cumsum()\n",
    "\n",
    "ax = plt.figure(figsize=(10,6))\n",
    "\n",
    "# plot cumulative profit and loss over time\n",
    "plt.plot(simulation_df['calendar_time'], simulation_df['cumulative_net_profit'], label='Cumulative Net Profit')\n",
    "plt.xlabel('Calendar Time')\n",
    "plt.ylabel('Cumulative Net Profit')\n",
    "plt.title('Cumulative Net Profit Over Time')\n",
    "plt.legend()\n",
    "plt.grid()\n",
    "plt.show()"
   ]
  },
  {
   "cell_type": "markdown",
   "id": "dec0fff9",
   "metadata": {},
   "source": [
    "## Training policy under perfect information"
   ]
  },
  {
   "cell_type": "markdown",
   "id": "0cdf04cd",
   "metadata": {},
   "source": [
    "### Revenue of Optimal Policy"
   ]
  },
  {
   "cell_type": "markdown",
   "id": "24ea04ed",
   "metadata": {},
   "source": [
    "Think about how mnay failures are met at ~200 breakdowns\n",
    "-> how accurate that theta hat would be\n",
    "-> how much we should be steering policy to pick argmax Q\n",
    "-> use that decay rate to test optimal policy and see if it is still positive"
   ]
  },
  {
   "cell_type": "code",
   "execution_count": null,
   "id": "a8793230",
   "metadata": {},
   "outputs": [
    {
     "name": "stdout",
     "output_type": "stream",
     "text": [
      "Using device: cuda\n",
      "Generating 200000 experience samples...\n"
     ]
    },
    {
     "name": "stderr",
     "output_type": "stream",
     "text": [
      "100%|██████████| 200000/200000 [00:02<00:00, 72080.76it/s]\n"
     ]
    },
    {
     "name": "stdout",
     "output_type": "stream",
     "text": [
      "\n",
      "Starting FQI training loop...\n"
     ]
    },
    {
     "name": "stderr",
     "output_type": "stream",
     "text": [
      "  0%|          | 0/50 [00:00<?, ?it/s]INFO:root:Iter 1/50 | Loss: 1.7453 | Avg Q-Value: 0.22\n",
      "  2%|▏         | 1/50 [00:21<17:29, 21.43s/it]INFO:root:Iter 2/50 | Loss: 1.7286 | Avg Q-Value: 0.22\n",
      "  4%|▍         | 2/50 [00:41<16:19, 20.40s/it]INFO:root:Iter 3/50 | Loss: 1.7284 | Avg Q-Value: 0.21\n",
      "  6%|▌         | 3/50 [01:00<15:35, 19.91s/it]INFO:root:Iter 4/50 | Loss: 1.7209 | Avg Q-Value: 0.21\n",
      "  8%|▊         | 4/50 [01:20<15:12, 19.84s/it]INFO:root:Iter 5/50 | Loss: 1.7191 | Avg Q-Value: 0.22\n",
      " 10%|█         | 5/50 [01:39<14:50, 19.79s/it]INFO:root:Iter 6/50 | Loss: 1.7188 | Avg Q-Value: 0.21\n",
      " 12%|█▏        | 6/50 [02:00<14:41, 20.03s/it]INFO:root:Iter 7/50 | Loss: 1.7158 | Avg Q-Value: 0.20\n",
      " 14%|█▍        | 7/50 [02:20<14:18, 19.95s/it]INFO:root:Iter 8/50 | Loss: 1.7140 | Avg Q-Value: 0.23\n",
      " 16%|█▌        | 8/50 [02:39<13:47, 19.71s/it]INFO:root:Iter 9/50 | Loss: 1.7130 | Avg Q-Value: 0.25\n",
      " 18%|█▊        | 9/50 [02:59<13:34, 19.87s/it]INFO:root:Iter 10/50 | Loss: 1.7117 | Avg Q-Value: 0.26\n",
      " 20%|██        | 10/50 [03:20<13:24, 20.11s/it]INFO:root:Iter 11/50 | Loss: 1.7721 | Avg Q-Value: 0.44\n",
      " 22%|██▏       | 11/50 [03:41<13:18, 20.48s/it]INFO:root:Iter 12/50 | Loss: 1.7699 | Avg Q-Value: 0.43\n",
      " 24%|██▍       | 12/50 [04:02<13:03, 20.63s/it]INFO:root:Iter 13/50 | Loss: 1.7687 | Avg Q-Value: 0.45\n",
      " 26%|██▌       | 13/50 [04:22<12:41, 20.58s/it]INFO:root:Iter 14/50 | Loss: 1.7686 | Avg Q-Value: 0.48\n",
      " 28%|██▊       | 14/50 [04:43<12:22, 20.63s/it]INFO:root:Iter 15/50 | Loss: 1.7677 | Avg Q-Value: 0.44\n",
      " 30%|███       | 15/50 [05:03<11:55, 20.45s/it]INFO:root:Iter 16/50 | Loss: 1.7667 | Avg Q-Value: 0.48\n",
      " 32%|███▏      | 16/50 [05:23<11:31, 20.33s/it]INFO:root:Iter 17/50 | Loss: 1.7659 | Avg Q-Value: 0.45\n",
      " 34%|███▍      | 17/50 [05:44<11:10, 20.32s/it]INFO:root:Iter 18/50 | Loss: 1.7654 | Avg Q-Value: 0.48\n",
      " 36%|███▌      | 18/50 [06:05<10:57, 20.53s/it]INFO:root:Iter 19/50 | Loss: 1.7646 | Avg Q-Value: 0.46\n",
      " 38%|███▊      | 19/50 [06:27<10:49, 20.95s/it]INFO:root:Iter 20/50 | Loss: 1.7646 | Avg Q-Value: 0.48\n",
      " 40%|████      | 20/50 [06:49<10:37, 21.25s/it]"
     ]
    }
   ],
   "source": [
    "class PerfectDegradationLearner:\n",
    "    def __init__(self, d, theta_true, hazard_model):\n",
    "        self.d = d\n",
    "        self.theta_true = theta_true\n",
    "        self.hazard_model = hazard_model  # Placeholder, not used\n",
    "        \n",
    "    def get_theta(self):\n",
    "        return self.theta_true\n",
    "    \n",
    "    def cum_baseline(self, t):\n",
    "        return self.hazard_model.Lambda_0(t)\n",
    "    \n",
    "    def inverse_cum_baseline(self, u):\n",
    "        return self.hazard_model.Lambda_0_inverse(u)\n",
    "    \n",
    "perfect_degradation_learner = PerfectDegradationLearner(\n",
    "    d=D, \n",
    "    theta_true=THETA_TRUE,\n",
    "    hazard_model=usage_exp_hazard_model,\n",
    ")\n",
    "\n",
    "perfect_dpagent = DPAgent(\n",
    "    d=D,\n",
    "    u_hat=UTILITY_TRUE,\n",
    "    time_normalize=True,\n",
    "    degradation_learner=perfect_degradation_learner,\n",
    "    customer_generator=customer_gen,\n",
    "    params=mdp_params,\n",
    ")\n",
    "\n",
    "# weight = torch.load('weights/perfect_dpagent_q_network.pth', map_location=torch.device('cuda'))\n",
    "# perfect_dpagent.q_network.load_state_dict(weight)\n",
    "# perfect_dpagent.q_network.to(perfect_dpagent.device)\n",
    "# perfect_dpagent.q_network.eval()\n",
    "\n",
    "perfect_dpagent.train(\n",
    "    num_iterations=50,\n",
    "    dataset_size=200000,\n",
    "    batch_size=256\n",
    ")\n",
    "\n",
    "perfect_policy = perfect_dpagent.get_policy(\n",
    "    {'type': 'greedy', 'epsilon': 0.1, 'tau': 1.0}\n",
    ")"
   ]
  },
  {
   "cell_type": "code",
   "execution_count": 14,
   "id": "ae77e76e",
   "metadata": {},
   "outputs": [],
   "source": [
    "perfect_policy = perfect_dpagent.get_policy(\n",
    "    {'type': 'greedy', 'epsilon': 0.1, 'tau': 1.0}\n",
    ")"
   ]
  },
  {
   "cell_type": "code",
   "execution_count": 15,
   "id": "62c6267c",
   "metadata": {},
   "outputs": [
    {
     "name": "stderr",
     "output_type": "stream",
     "text": [
      "INFO:root:Starting simulation for 20000 customers...\n",
      "100%|██████████| 20000/20000 [00:14<00:00, 1423.22it/s]\n",
      "INFO:root:Simulation finished.\n"
     ]
    }
   ],
   "source": [
    "samples = simulator.run_full_exploit(20000, perfect_policy)\n",
    "samples = pd.DataFrame(samples)"
   ]
  },
  {
   "cell_type": "code",
   "execution_count": 16,
   "id": "e3753987",
   "metadata": {},
   "outputs": [
    {
     "data": {
      "image/png": "[encoded data removed]",
      "text/plain": [
       "<Figure size 1000x600 with 1 Axes>"
      ]
     },
     "metadata": {},
     "output_type": "display_data"
    }
   ],
   "source": [
    "samples['net_profit'] = samples['profit'] + samples['loss']\n",
    "samples['cumulative_net_profit'] = samples['net_profit'].cumsum()\n",
    "\n",
    "ax = plt.figure(figsize=(10,6))\n",
    "\n",
    "# plot cumulative profit and loss over time\n",
    "plt.plot(samples['calendar_time'], samples['cumulative_net_profit'], label='Cumulative Net Profit')\n",
    "plt.xlabel('Calendar Time')\n",
    "plt.ylabel('Cumulative Net Profit')\n",
    "plt.title('Cumulative Net Profit Over Time')\n",
    "plt.legend()\n",
    "plt.grid()\n",
    "plt.show()"
   ]
  },
  {
   "cell_type": "code",
   "execution_count": null,
   "id": "49f69731",
   "metadata": {},
   "outputs": [],
   "source": []
  }
 ],
 "metadata": {
  "kernelspec": {
   "display_name": "res",
   "language": "python",
   "name": "python3"
  },
  "language_info": {
   "codemirror_mode": {
    "name": "ipython",
    "version": 3
   },
   "file_extension": ".py",
   "mimetype": "text/x-python",
   "name": "python",
   "nbconvert_exporter": "python",
   "pygments_lexer": "ipython3",
   "version": "3.9.16"
  }
 },
 "nbformat": 4,
 "nbformat_minor": 5
}
