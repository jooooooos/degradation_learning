{
 "cells": [
  {
   "cell_type": "code",
   "execution_count": 1,
   "id": "f1bf8ff4",
   "metadata": {},
   "outputs": [],
   "source": [
    "import pickle\n",
    "import numpy as np\n",
    "import pandas as pd\n",
    "from scipy.optimize import minimize\n",
    "import torch\n",
    "\n",
    "from policy import DPAgent\n",
    "from new_new_policy import DiscretizedDPAgent\n",
    "from simulation import Simulator, CustomerGenerator\n",
    "from hazard_models import ExponentialHazard\n",
    "from utility_learner import ProjectedVolumeLearner, diam\n",
    "from degradation_learner import DegradationLearner\n",
    "from datetime import datetime\n",
    "from pytz import timezone\n",
    "\n",
    "from utils import unit_ball_rejection_sample, correct_signs\n",
    "import matplotlib.pyplot as plt\n",
    "from scipy.stats import gaussian_kde\n",
    "\n",
    "import logging\n",
    "logging.basicConfig(level=logging.INFO)\n",
    "\n",
    "np.set_printoptions(suppress=True)"
   ]
  },
  {
   "cell_type": "code",
   "execution_count": 2,
   "id": "52e08dea",
   "metadata": {},
   "outputs": [],
   "source": [
    "# --- 2. Define Sampling Functions ---\n",
    "# def context_sampler() -> np.ndarray:\n",
    "#     \"\"\"Samples a customer's context vector from a uniform distribution.\"\"\"\n",
    "#     return np.random.uniform(low=0.0, high=1.0, size=D)\n",
    "\n",
    "def context_sampler() -> np.ndarray:\n",
    "    \"\"\"Samples a customer's context vector uniformly from the unit ball.\"\"\"\n",
    "    return np.abs(unit_ball_rejection_sample(D))\n",
    "\n",
    "def rental_sampler() -> float:\n",
    "    \"\"\"Samples a customer's desired rental duration from an exponential distribution.\"\"\"\n",
    "    return np.random.exponential(scale=10.0)\n",
    "\n",
    "def interarrival_sampler() -> float:\n",
    "    \"\"\"Samples the time until the next customer arrives.\"\"\"\n",
    "    return np.random.exponential(scale=5.0)"
   ]
  },
  {
   "cell_type": "code",
   "execution_count": 3,
   "id": "8cc2c2dd",
   "metadata": {},
   "outputs": [],
   "source": [
    "# --- 1. Simulation Configuration ---\n",
    "D = 4                                  # Dimension of context vectors\n",
    "LAMBDA_VAL = 0.001                     # Baseline hazard constant\n",
    "NUM_CUSTOMERS = 40000                   # Total number of customers to simulate, i.e. T\n",
    "\n",
    "# Set a random seed for reproducibility\n",
    "# np.random.seed(41)\n",
    "\n",
    "# Ground truth vectors\n",
    "THETA_TRUE = np.array([0.5, 0.2, 0.4, 0.3])#$, 0.4])    # For degradation\n",
    "UTILITY_TRUE = np.array([0.372450167, 0.10850869, 0.33930126, 0.71356037])\n",
    "\n",
    "# context_sampler()  # For customer's willingness to pay\n",
    "\n",
    "# --- Machine's Pricing Vector 'r' ---\n",
    "# This is a fallback pricing vector, when we don't feed u_hat to calculate_price\n",
    "PRICING_R = np.zeros(D)"
   ]
  },
  {
   "cell_type": "code",
   "execution_count": 4,
   "id": "8e600551",
   "metadata": {},
   "outputs": [],
   "source": [
    "usage_exp_hazard_model = ExponentialHazard(lambda_val=LAMBDA_VAL)\n",
    "# spontaneous_exp_hazard_model = None # ExponentialHazard(lambda_val=0.01)\n",
    "\n",
    "customer_gen = CustomerGenerator(\n",
    "    d=D,\n",
    "    context_sampler=context_sampler,\n",
    "    rental_sampler=rental_sampler,\n",
    "    interarrival_sampler=interarrival_sampler\n",
    ")\n",
    "\n",
    "centroid_params = {\n",
    "    # 'num_samples': 2000,\n",
    "    # 'thin': None,\n",
    "    # 'burn_in': 500 * D ** 2,\n",
    "    # 'tol': 1e-4,\n",
    "    # 'rho_target': 0.01\n",
    "}\n",
    "\n",
    "termination_rule = lambda diameter: diameter < 0.0005  # Example custom termination rule\n",
    "\n",
    "projected_volume_learner = ProjectedVolumeLearner(\n",
    "    T=NUM_CUSTOMERS, \n",
    "    d=D, \n",
    "    centroid_params=centroid_params,\n",
    "    incentive_constant=1.1,\n",
    "    termination_rule=termination_rule,\n",
    ")\n",
    "\n",
    "mdp_params = {\n",
    "    'duration_lambda': 10.0,\n",
    "    'interarrival_lambda': 5.0,\n",
    "    'replacement_cost': 1.5,   # Cost to replace the machine\n",
    "    'failure_cost': 0.75,      # Additional penalty for in-service failure\n",
    "    'holding_cost_rate': 0.02,   # Cost per unit of idle time\n",
    "    'gamma': 0.99,             # Discount factor\n",
    "    'learning_rate': 1e-3,      # Learning rate for the Adam optimizer\n",
    "    'target_update_freq': 10    # How often to update the target network (in iterations)\n",
    "}\n",
    "\n",
    "training_hyperparams = {\n",
    "    # For FQI\n",
    "    'num_iterations': 1, # Number of training iterations per policy update\n",
    "    'dataset_size': 50000,      # Number of transitions to generate for the offline dataset\n",
    "    'batch_size': 256,           # Batch size for training\n",
    "\n",
    "    # For discrete DP\n",
    "    # 'N': [80, 20, 60, 150], # grid sizes [cum_context, context, duration, active_time\n",
    "    'N': [100, 50, 100, 100], # grid sizes [cum_context, context, revenue, duration]\n",
    "    'max_cumulative_context': 8.0,\n",
    "    # 'max_active_time': 150.0,\n",
    "    'num_value_iterations': 100,\n",
    "    \n",
    "}\n",
    "\n",
    "policy_type = 'decaying_epsilon_greedy'\n",
    "policy_kwargs = {\n",
    "    'current_epsilon': 0.10,\n",
    "    'decay_rate': 0.95,\n",
    "    'step': 0,\n",
    "}\n",
    "\n",
    "# Instantiate the Simulator with the new parameters\n",
    "simulator = Simulator(\n",
    "    d=D,\n",
    "    T=NUM_CUSTOMERS,\n",
    "    \n",
    "    theta_true=THETA_TRUE,\n",
    "    utility_true=UTILITY_TRUE,\n",
    "    pricing_r=PRICING_R,\n",
    "    \n",
    "    usage_hazard_model=usage_exp_hazard_model,\n",
    "    customer_generator=customer_gen,\n",
    "    projected_volume_learner=projected_volume_learner,  # Use default ProjectedVolumeLearner\n",
    "    \n",
    "    mdp_params=mdp_params,\n",
    "    discrete_dp=True,\n",
    "    policy_type=policy_type,\n",
    "    training_hyperparams=training_hyperparams,\n",
    "    policy_kwargs=policy_kwargs,\n",
    "    policy_update_threshold=100,\n",
    "    time_normalize=True,\n",
    ")"
   ]
  },
  {
   "cell_type": "code",
   "execution_count": 5,
   "id": "6ab40bba",
   "metadata": {},
   "outputs": [],
   "source": [
    "# # Lets you skip utility exploration with perfect u starting point\n",
    "# simulator.projected_volume_learner.centroids.append(UTILITY_TRUE)\n",
    "# simulator.projected_volume_learner.is_terminated = True\n",
    "# simulator.seen_breakdowns = 2\n",
    "\n",
    "# degradation_learner = DegradationLearner(d=simulator.d)\n",
    "# degradation_learner.theta = np.ones(D) * 0.1\n",
    "# degradation_learner.cum_baseline = lambda x: LAMBDA_VAL * x\n",
    "# degradation_learner.inverse_cum_baseline = lambda y: y / LAMBDA_VAL\n",
    "# simulator.degradation_learner = degradation_learner\n",
    "\n",
    "# # dp_agent = DPAgent(\n",
    "# #     d=simulator.d,\n",
    "# #     u_hat=UTILITY_TRUE,\n",
    "# #     time_normalize=simulator.time_normalize,\n",
    "# #     degradation_learner=simulator.degradation_learner,\n",
    "# #     customer_generator=simulator.customer_generator,\n",
    "# #     params=simulator.mdp_params\n",
    "# # )\n",
    "# # dp_agent.train(**simulator.training_hyperparams)\n",
    "\n",
    "# dp_agent = DiscretizedDPAgent(\n",
    "#     N=training_hyperparams['N'], # grid sizes [cum_context, context, duration, active_time]\n",
    "#     max_cumulative_context=training_hyperparams['max_cumulative_context'],\n",
    "#     # max_active_time=training_hyperparams['max_active_time'],\n",
    "#     u_hat=UTILITY_TRUE,\n",
    "#     degradation_learner=degradation_learner,\n",
    "#     customer_generator=customer_gen,\n",
    "#     params=mdp_params,\n",
    "# )\n",
    "# # dp_agent._precompute_dynamics(num_samples=50000)\n",
    "# dp_agent.run_value_iteration(100)\n",
    "\n",
    "# simulator.dp_agent = dp_agent\n",
    "# simulator.optimal_policy = dp_agent.get_policy(simulator.policy_type)\n",
    "# simulator.breakdowns_since_last_update = 0 # Reset the counter\n"
   ]
  },
  {
   "cell_type": "code",
   "execution_count": 6,
   "id": "5e90ec1a",
   "metadata": {},
   "outputs": [
    {
     "name": "stderr",
     "output_type": "stream",
     "text": [
      "INFO:root:Starting simulation for 40000 customers...\n",
      "  0%|          | 0/40000 [00:00<?, ?it/s]"
     ]
    },
    {
     "name": "stdout",
     "output_type": "stream",
     "text": [
      "Set parameter Username\n"
     ]
    },
    {
     "name": "stderr",
     "output_type": "stream",
     "text": [
      "INFO:gurobipy:Set parameter Username\n"
     ]
    },
    {
     "name": "stdout",
     "output_type": "stream",
     "text": [
      "Set parameter LicenseID to value 2651514\n"
     ]
    },
    {
     "name": "stderr",
     "output_type": "stream",
     "text": [
      "INFO:gurobipy:Set parameter LicenseID to value 2651514\n"
     ]
    },
    {
     "name": "stdout",
     "output_type": "stream",
     "text": [
      "Academic license - for non-commercial use only - expires 2026-04-14\n"
     ]
    },
    {
     "name": "stderr",
     "output_type": "stream",
     "text": [
      "INFO:gurobipy:Academic license - for non-commercial use only - expires 2026-04-14\n",
      "INFO:root:Customer 1: Diameter: 0.9933\n",
      "  0%|          | 1/40000 [00:03<34:42:00,  3.12s/it]INFO:root:Customer 2: Diameter: 0.6804\n",
      "  0%|          | 2/40000 [00:06<36:41:05,  3.30s/it]INFO:root:Customer 3: Diameter: 0.6768\n",
      "  0%|          | 3/40000 [00:10<39:27:08,  3.55s/it]INFO:root:Customer 3: Diameter: 0.6691\n",
      "  0%|          | 4/40000 [00:14<42:22:26,  3.81s/it]INFO:root:Customer 4: Diameter: 0.6095\n",
      "  0%|          | 5/40000 [00:19<45:28:42,  4.09s/it]INFO:root:Customer 4: Diameter: 0.2057\n",
      "  0%|          | 6/40000 [00:24<49:02:21,  4.41s/it]INFO:root:Customer 5: Diameter: 0.6168\n",
      "  0%|          | 7/40000 [00:29<52:23:52,  4.72s/it]INFO:root:Customer 6: Diameter: 0.3673\n",
      "  0%|          | 8/40000 [00:35<55:35:37,  5.00s/it]INFO:root:Customer 7: Diameter: 0.2814\n",
      "  0%|          | 9/40000 [00:41<58:31:22,  5.27s/it]INFO:root:Customer 8: Diameter: 0.3588\n",
      "  0%|          | 10/40000 [00:47<61:32:56,  5.54s/it]INFO:root:Customer 9: Diameter: 0.1626\n",
      "  0%|          | 11/40000 [00:53<64:45:04,  5.83s/it]INFO:root:Customer 10: Diameter: 0.2652\n",
      "  0%|          | 12/40000 [01:00<67:49:23,  6.11s/it]INFO:root:Customer 11: Diameter: 0.2044\n",
      "  0%|          | 13/40000 [01:07<70:56:49,  6.39s/it]INFO:root:Customer 12: Diameter: 0.1406\n",
      "  0%|          | 14/40000 [01:14<74:36:11,  6.72s/it]INFO:root:Customer 12: Diameter: 0.0673\n",
      "  0%|          | 15/40000 [01:22<78:27:11,  7.06s/it]INFO:root:Customer 13: Diameter: 0.0335\n",
      "  0%|          | 16/40000 [01:30<81:57:10,  7.38s/it]INFO:root:Customer 14: Diameter: 0.0625\n",
      "  0%|          | 17/40000 [01:39<85:05:13,  7.66s/it]INFO:root:Customer 15: Diameter: 0.0849\n",
      "  0%|          | 18/40000 [01:47<88:32:40,  7.97s/it]INFO:root:Customer 16: Diameter: 0.0427\n",
      "  0%|          | 19/40000 [01:56<92:01:45,  8.29s/it]INFO:root:Customer 16: Diameter: 0.0598\n",
      "  0%|          | 20/40000 [02:06<95:27:04,  8.59s/it]INFO:root:Customer 17: Diameter: 0.0242\n",
      "  0%|          | 21/40000 [02:15<98:59:40,  8.91s/it]INFO:root:Customer 17: Diameter: 0.0321\n",
      "  0%|          | 22/40000 [02:26<103:14:17,  9.30s/it]INFO:root:Customer 17: Diameter: 0.0301\n",
      "  0%|          | 23/40000 [02:36<107:04:40,  9.64s/it]INFO:root:Customer 18: Diameter: 0.0250\n",
      "  0%|          | 24/40000 [02:47<110:52:32,  9.98s/it]INFO:root:Customer 19: Diameter: 0.0210\n",
      "  0%|          | 25/40000 [02:58<114:36:50, 10.32s/it]INFO:root:Customer 20: Diameter: 0.0064\n",
      "  0%|          | 26/40000 [03:09<118:10:59, 10.64s/it]INFO:root:Customer 20: Diameter: 0.0108\n",
      "  0%|          | 27/40000 [03:21<122:02:13, 10.99s/it]INFO:root:Customer 21: Diameter: 0.0087\n",
      "  0%|          | 28/40000 [03:33<124:53:10, 11.25s/it]INFO:root:Customer 22: Diameter: 0.0101\n",
      "  0%|          | 29/40000 [03:45<127:30:52, 11.48s/it]INFO:root:Customer 22: Diameter: 0.0099\n",
      "  0%|          | 30/40000 [03:57<130:14:01, 11.73s/it]INFO:root:Customer 23: Diameter: 0.0089\n",
      "  0%|          | 31/40000 [04:10<133:43:05, 12.04s/it]INFO:root:Customer 24: Diameter: 0.0030\n",
      "  0%|          | 32/40000 [04:23<137:44:57, 12.41s/it]INFO:root:Customer 24: Diameter: 0.0055\n",
      "  0%|          | 33/40000 [04:37<141:11:26, 12.72s/it]INFO:root:Customer 24: Diameter: 0.0036\n",
      "  0%|          | 34/40000 [04:51<145:00:49, 13.06s/it]INFO:root:Customer 24: Diameter: 0.0025\n",
      "  0%|          | 35/40000 [05:05<148:51:03, 13.41s/it]INFO:root:Customer 24: Diameter: 0.0027\n",
      "  0%|          | 36/40000 [05:19<152:49:49, 13.77s/it]INFO:root:Customer 25: Diameter: 0.0022\n",
      "  0%|          | 37/40000 [05:34<156:34:48, 14.11s/it]INFO:root:Customer 26: Diameter: 0.0025\n",
      "  0%|          | 38/40000 [05:50<160:20:02, 14.44s/it]INFO:root:Customer 26: Diameter: 0.0010\n",
      "  0%|          | 39/40000 [06:05<163:46:27, 14.75s/it]INFO:root:Customer 27: Diameter: 0.0012\n",
      "  0%|          | 40/40000 [06:21<166:54:26, 15.04s/it]WARNING:root:Degenerate step in hit-and-run; skipping sample.\n",
      "INFO:root:Customer 28: Diameter: 0.0026\n",
      "  0%|          | 41/40000 [06:37<170:00:56, 15.32s/it]INFO:root:Customer 29: Diameter: 0.0010\n",
      "  0%|          | 42/40000 [06:53<173:40:23, 15.65s/it]WARNING:root:Degenerate step in hit-and-run; skipping sample.\n",
      "INFO:root:Customer 30: Diameter: 0.0007\n",
      "  0%|          | 43/40000 [07:10<176:45:03, 15.92s/it]INFO:root:Customer 31: Diameter: 0.0009\n",
      "  0%|          | 44/40000 [07:27<181:30:34, 16.35s/it]INFO:root:Customer 32: Diameter: 0.0004\n",
      "  0%|          | 45/40000 [07:44<184:34:36, 16.63s/it]INFO:root:Exploration phase completed at customer 32.\n",
      "INFO:root:Updating optimal policy...\n",
      "\n",
      " Nonpositive definiteness in Cholesky factorization in formk;\n",
      "   refresh the lbfgs memory and restart the iteration.\n",
      "INFO:root:Theta updated. New theta_hat: [1.    1.    0.106 1.   ]\n"
     ]
    },
    {
     "name": "stdout",
     "output_type": "stream",
     "text": [
      "RUNNING THE L-BFGS-B CODE\n",
      "\n",
      "           * * *\n",
      "\n",
      "Machine precision = 2.220D-16\n",
      " N =            4     M =           10\n",
      "\n",
      "At X0         4 variables are exactly at the bounds\n",
      "\n",
      "At iterate    0    f=  3.17805D+00    |proj g|=  1.00000D+00\n",
      "\n",
      "At iterate    1    f=  8.19697D-01    |proj g|=  3.05142D-01\n",
      "\n",
      "At iterate    2    f=  7.75176D-01    |proj g|=  2.61161D-01\n",
      "\n",
      "At iterate    3    f=  6.73739D-01    |proj g|=  5.46612D-02\n",
      "\n",
      "At iterate    4    f=  6.71556D-01    |proj g|=  2.55628D-02\n",
      "\n",
      "At iterate    5    f=  6.70907D-01    |proj g|=  1.72562D-03\n",
      "\n",
      "At iterate    6    f=  6.70904D-01    |proj g|=  5.66492D-05\n",
      "\n",
      "At iterate    7    f=  6.70904D-01    |proj g|=  1.27777D-07\n",
      "\n",
      "           * * *\n",
      "\n",
      "Tit   = total number of iterations\n",
      "Tnf   = total number of function evaluations\n",
      "Tnint = total number of segments explored during Cauchy searches\n",
      "Skip  = number of BFGS updates skipped\n",
      "Nact  = number of active bounds at final generalized Cauchy point\n",
      "Projg = norm of the final projected gradient\n",
      "F     = final function value\n",
      "\n",
      "           * * *\n",
      "\n",
      "   N    Tit     Tnf  Tnint  Skip  Nact     Projg        F\n",
      "    4      7      8     12     0     3   1.278D-07   6.709D-01\n",
      "  F =  0.67090397345893216     \n",
      "\n",
      "CONVERGENCE: NORM_OF_PROJECTED_GRADIENT_<=_PGTOL            \n",
      "Discretization setup:\n",
      "  - Cumulative Context (cc):    100 steps up to 8.00\n",
      "  - Cust. Degradation (cx):     50 steps up to 1.00\n",
      "  - Cust. Revenue (cu):         100 steps up to 1.00 (99.9th percentile)\n",
      "  - Rental Duration (T):        100 steps up to 76.01 (99.95th percentile)\n",
      "Pre-computing expectations from 100000 customer samples...\n",
      "Starting Numba-accelerated pre-computation of arrival dynamics...\n"
     ]
    },
    {
     "name": "stderr",
     "output_type": "stream",
     "text": [
      "OMP: Info #276: omp_set_nested routine deprecated, please use omp_set_max_active_levels instead.\n"
     ]
    },
    {
     "name": "stdout",
     "output_type": "stream",
     "text": [
      "Pre-computation complete. ✅\n",
      "\n",
      "Starting Value Iteration...\n",
      "Iteration 10/100 | Max Change (Delta): 0.094873\n",
      "Iteration 20/100 | Max Change (Delta): 0.064984\n",
      "Iteration 30/100 | Max Change (Delta): 0.052534\n",
      "Iteration 40/100 | Max Change (Delta): 0.042941\n",
      "Iteration 50/100 | Max Change (Delta): 0.035121\n",
      "Iteration 60/100 | Max Change (Delta): 0.028725\n",
      "Iteration 70/100 | Max Change (Delta): 0.023495\n",
      "Iteration 80/100 | Max Change (Delta): 0.019216\n",
      "Iteration 90/100 | Max Change (Delta): 0.015717\n"
     ]
    },
    {
     "name": "stderr",
     "output_type": "stream",
     "text": [
      "INFO:root:Policy updated.\n",
      "  8%|▊         | 3348/40000 [09:01<14:59, 40.75it/s]  INFO:root:Updating optimal policy...\n"
     ]
    },
    {
     "name": "stdout",
     "output_type": "stream",
     "text": [
      "Iteration 100/100 | Max Change (Delta): 0.012855\n",
      "\n",
      "Value iteration finished (max iterations reached).\n",
      "RUNNING THE L-BFGS-B CODE\n",
      "\n",
      "           * * *\n",
      "\n",
      "Machine precision = 2.220D-16\n",
      " N =            4     M =           10\n",
      "\n",
      "At X0         4 variables are exactly at the bounds\n",
      "\n",
      "At iterate    0    f=  5.98117D+02    |proj g|=  1.00000D+00\n",
      "\n",
      "At iterate    1    f=  5.73233D+02    |proj g|=  5.93776D-01\n",
      "\n",
      "At iterate    2    f=  5.72819D+02    |proj g|=  5.35317D-01\n",
      "\n",
      "At iterate    3    f=  5.72459D+02    |proj g|=  1.01426D-01\n"
     ]
    },
    {
     "name": "stderr",
     "output_type": "stream",
     "text": [
      "INFO:root:Theta updated. New theta_hat: [0.605 0.358 0.402 0.255]\n"
     ]
    },
    {
     "name": "stdout",
     "output_type": "stream",
     "text": [
      "\n",
      "At iterate    4    f=  5.72458D+02    |proj g|=  1.63755D-02\n",
      "\n",
      "At iterate    5    f=  5.72458D+02    |proj g|=  5.24267D-03\n",
      "\n",
      "At iterate    6    f=  5.72458D+02    |proj g|=  3.91915D-04\n",
      "\n",
      "At iterate    7    f=  5.72458D+02    |proj g|=  1.49063D-05\n",
      "\n",
      "           * * *\n",
      "\n",
      "Tit   = total number of iterations\n",
      "Tnf   = total number of function evaluations\n",
      "Tnint = total number of segments explored during Cauchy searches\n",
      "Skip  = number of BFGS updates skipped\n",
      "Nact  = number of active bounds at final generalized Cauchy point\n",
      "Projg = norm of the final projected gradient\n",
      "F     = final function value\n",
      "\n",
      "           * * *\n",
      "\n",
      "   N    Tit     Tnf  Tnint  Skip  Nact     Projg        F\n",
      "    4      7      9     10     0     0   1.491D-05   5.725D+02\n",
      "  F =   572.45831284813653     \n",
      "\n",
      "CONVERGENCE: REL_REDUCTION_OF_F_<=_FACTR*EPSMCH             \n",
      "Discretization setup:\n",
      "  - Cumulative Context (cc):    100 steps up to 8.00\n",
      "  - Cust. Degradation (cx):     50 steps up to 1.00\n",
      "  - Cust. Revenue (cu):         100 steps up to 1.00 (99.9th percentile)\n",
      "  - Rental Duration (T):        100 steps up to 76.01 (99.95th percentile)\n",
      "Pre-computing expectations from 100000 customer samples...\n",
      "Starting Numba-accelerated pre-computation of arrival dynamics...\n",
      "Pre-computation complete. ✅\n",
      "\n",
      "Starting Value Iteration...\n",
      "Iteration 10/100 | Max Change (Delta): 0.179504\n"
     ]
    },
    {
     "name": "stderr",
     "output_type": "stream",
     "text": [
      "  8%|▊         | 3348/40000 [09:20<14:59, 40.75it/s]"
     ]
    },
    {
     "name": "stdout",
     "output_type": "stream",
     "text": [
      "Iteration 20/100 | Max Change (Delta): 0.133317\n",
      "Iteration 30/100 | Max Change (Delta): 0.106869\n",
      "Iteration 40/100 | Max Change (Delta): 0.087054\n",
      "Iteration 50/100 | Max Change (Delta): 0.071145\n",
      "Iteration 60/100 | Max Change (Delta): 0.058180\n",
      "Iteration 70/100 | Max Change (Delta): 0.047584\n",
      "Iteration 80/100 | Max Change (Delta): 0.038919\n",
      "Iteration 90/100 | Max Change (Delta): 0.031832\n"
     ]
    },
    {
     "name": "stderr",
     "output_type": "stream",
     "text": [
      "INFO:root:Policy updated.\n",
      " 15%|█▌        | 6196/40000 [10:23<15:03, 37.40it/s]INFO:root:Updating optimal policy...\n"
     ]
    },
    {
     "name": "stdout",
     "output_type": "stream",
     "text": [
      "Iteration 100/100 | Max Change (Delta): 0.026036\n",
      "\n",
      "Value iteration finished (max iterations reached).\n",
      "RUNNING THE L-BFGS-B CODE\n",
      "\n",
      "           * * *\n",
      "\n",
      "Machine precision = 2.220D-16\n",
      " N =            4     M =           10\n",
      "\n",
      "At X0         4 variables are exactly at the bounds\n",
      "\n",
      "At iterate    0    f=  1.18286D+03    |proj g|=  1.00000D+00\n",
      "\n",
      "At iterate    1    f=  1.12658D+03    |proj g|=  6.43439D-01\n",
      "\n",
      "At iterate    2    f=  1.12586D+03    |proj g|=  5.85652D-01\n",
      "\n",
      "At iterate    3    f=  1.12491D+03    |proj g|=  4.38949D-01\n",
      "\n",
      "At iterate    4    f=  1.12491D+03    |proj g|=  7.42393D-02\n",
      "\n",
      "At iterate    5    f=  1.12491D+03    |proj g|=  4.04273D-02\n",
      "\n",
      "At iterate    6    f=  1.12491D+03    |proj g|=  2.87952D-03\n"
     ]
    },
    {
     "name": "stderr",
     "output_type": "stream",
     "text": [
      "INFO:root:Theta updated. New theta_hat: [0.571 0.217 0.342 0.352]\n"
     ]
    },
    {
     "name": "stdout",
     "output_type": "stream",
     "text": [
      "\n",
      "At iterate    7    f=  1.12491D+03    |proj g|=  4.65887D-04\n",
      "\n",
      "           * * *\n",
      "\n",
      "Tit   = total number of iterations\n",
      "Tnf   = total number of function evaluations\n",
      "Tnint = total number of segments explored during Cauchy searches\n",
      "Skip  = number of BFGS updates skipped\n",
      "Nact  = number of active bounds at final generalized Cauchy point\n",
      "Projg = norm of the final projected gradient\n",
      "F     = final function value\n",
      "\n",
      "           * * *\n",
      "\n",
      "   N    Tit     Tnf  Tnint  Skip  Nact     Projg        F\n",
      "    4      7      9     10     0     0   4.659D-04   1.125D+03\n",
      "  F =   1124.9070312257215     \n",
      "\n",
      "CONVERGENCE: REL_REDUCTION_OF_F_<=_FACTR*EPSMCH             \n",
      "Discretization setup:\n",
      "  - Cumulative Context (cc):    100 steps up to 8.00\n",
      "  - Cust. Degradation (cx):     50 steps up to 1.00\n",
      "  - Cust. Revenue (cu):         100 steps up to 1.00 (99.9th percentile)\n",
      "  - Rental Duration (T):        100 steps up to 76.01 (99.95th percentile)\n",
      "Pre-computing expectations from 100000 customer samples...\n",
      "Starting Numba-accelerated pre-computation of arrival dynamics...\n",
      "Pre-computation complete. ✅\n",
      "\n",
      "Starting Value Iteration...\n",
      "Iteration 10/100 | Max Change (Delta): 0.196869\n"
     ]
    },
    {
     "name": "stderr",
     "output_type": "stream",
     "text": [
      " 15%|█▌        | 6196/40000 [10:40<15:03, 37.40it/s]"
     ]
    },
    {
     "name": "stdout",
     "output_type": "stream",
     "text": [
      "Iteration 20/100 | Max Change (Delta): 0.145039\n",
      "Iteration 30/100 | Max Change (Delta): 0.115918\n",
      "Iteration 40/100 | Max Change (Delta): 0.094289\n",
      "Iteration 50/100 | Max Change (Delta): 0.077020\n",
      "Iteration 60/100 | Max Change (Delta): 0.062976\n",
      "Iteration 70/100 | Max Change (Delta): 0.051504\n",
      "Iteration 80/100 | Max Change (Delta): 0.042125\n",
      "Iteration 90/100 | Max Change (Delta): 0.034454\n"
     ]
    },
    {
     "name": "stderr",
     "output_type": "stream",
     "text": [
      "INFO:root:Policy updated.\n",
      " 20%|██        | 8019/40000 [11:42<17:17, 30.84it/s]INFO:root:Updating optimal policy...\n"
     ]
    },
    {
     "name": "stdout",
     "output_type": "stream",
     "text": [
      "Iteration 100/100 | Max Change (Delta): 0.028180\n",
      "\n",
      "Value iteration finished (max iterations reached).\n",
      "RUNNING THE L-BFGS-B CODE\n",
      "\n",
      "           * * *\n",
      "\n",
      "Machine precision = 2.220D-16\n",
      " N =            4     M =           10\n",
      "\n",
      "At X0         4 variables are exactly at the bounds\n",
      "\n",
      "At iterate    0    f=  1.79670D+03    |proj g|=  1.00000D+00\n",
      "\n",
      "At iterate    1    f=  1.71697D+03    |proj g|=  6.71021D-01\n",
      "\n",
      "At iterate    2    f=  1.71519D+03    |proj g|=  6.25941D-01\n",
      "\n",
      "At iterate    3    f=  1.71317D+03    |proj g|=  4.57882D-01\n",
      "\n",
      "At iterate    4    f=  1.71316D+03    |proj g|=  9.84783D-02\n",
      "\n",
      "At iterate    5    f=  1.71316D+03    |proj g|=  1.55085D-02\n",
      "\n",
      "At iterate    6    f=  1.71316D+03    |proj g|=  1.11925D-02\n",
      "\n",
      "           * * *\n",
      "\n",
      "Tit   = total number of iterations\n",
      "Tnf   = total number of function evaluations\n",
      "Tnint = total number of segments explored during Cauchy searches\n",
      "Skip  = number of BFGS updates skipped\n",
      "Nact  = number of active bounds at final generalized Cauchy point\n",
      "Projg = norm of the final projected gradient\n",
      "F     = final function value\n",
      "\n",
      "           * * *\n",
      "\n",
      "   N    Tit     Tnf  Tnint  Skip  Nact     Projg        F\n",
      "    4      6      8      9     0     0   1.119D-02   1.713D+03\n",
      "  F =   1713.1617703222421     \n",
      "\n",
      "CONVERGENCE: REL_REDUCTION_OF_F_<=_FACTR*EPSMCH             \n"
     ]
    },
    {
     "name": "stderr",
     "output_type": "stream",
     "text": [
      "INFO:root:Theta updated. New theta_hat: [0.51  0.151 0.448 0.269]\n"
     ]
    },
    {
     "name": "stdout",
     "output_type": "stream",
     "text": [
      "Discretization setup:\n",
      "  - Cumulative Context (cc):    100 steps up to 8.00\n",
      "  - Cust. Degradation (cx):     50 steps up to 1.00\n",
      "  - Cust. Revenue (cu):         100 steps up to 1.00 (99.9th percentile)\n",
      "  - Rental Duration (T):        100 steps up to 76.01 (99.95th percentile)\n",
      "Pre-computing expectations from 100000 customer samples...\n",
      "Starting Numba-accelerated pre-computation of arrival dynamics...\n",
      "Pre-computation complete. ✅\n",
      "\n",
      "Starting Value Iteration...\n",
      "Iteration 10/100 | Max Change (Delta): 0.212691\n"
     ]
    },
    {
     "name": "stderr",
     "output_type": "stream",
     "text": [
      " 20%|██        | 8019/40000 [12:00<17:17, 30.84it/s]"
     ]
    },
    {
     "name": "stdout",
     "output_type": "stream",
     "text": [
      "Iteration 20/100 | Max Change (Delta): 0.156380\n",
      "Iteration 30/100 | Max Change (Delta): 0.124497\n",
      "Iteration 40/100 | Max Change (Delta): 0.101073\n",
      "Iteration 50/100 | Max Change (Delta): 0.082503\n",
      "Iteration 60/100 | Max Change (Delta): 0.067444\n",
      "Iteration 70/100 | Max Change (Delta): 0.055155\n",
      "Iteration 80/100 | Max Change (Delta): 0.045109\n",
      "Iteration 90/100 | Max Change (Delta): 0.036895\n"
     ]
    },
    {
     "name": "stderr",
     "output_type": "stream",
     "text": [
      "INFO:root:Policy updated.\n",
      " 24%|██▍       | 9610/40000 [13:02<19:05, 26.54it/s]INFO:root:Updating optimal policy...\n"
     ]
    },
    {
     "name": "stdout",
     "output_type": "stream",
     "text": [
      "Iteration 100/100 | Max Change (Delta): 0.030177\n",
      "\n",
      "Value iteration finished (max iterations reached).\n",
      "RUNNING THE L-BFGS-B CODE\n",
      "\n",
      "           * * *\n",
      "\n",
      "Machine precision = 2.220D-16\n",
      " N =            4     M =           10\n",
      "\n",
      "At X0         4 variables are exactly at the bounds\n",
      "\n",
      "At iterate    0    f=  2.44346D+03    |proj g|=  1.00000D+00\n",
      "\n",
      "At iterate    1    f=  2.33411D+03    |proj g|=  6.65825D-01\n",
      "\n",
      "At iterate    2    f=  2.33095D+03    |proj g|=  6.32881D-01\n",
      "\n",
      "At iterate    3    f=  2.32707D+03    |proj g|=  5.87865D-01\n",
      "\n",
      "At iterate    4    f=  2.32707D+03    |proj g|=  4.10972D-02\n",
      "\n",
      "At iterate    5    f=  2.32707D+03    |proj g|=  3.67665D-03\n",
      "\n",
      "At iterate    6    f=  2.32707D+03    |proj g|=  2.65415D-03\n",
      "\n",
      "           * * *\n",
      "\n",
      "Tit   = total number of iterations\n",
      "Tnf   = total number of function evaluations\n",
      "Tnint = total number of segments explored during Cauchy searches\n",
      "Skip  = number of BFGS updates skipped\n",
      "Nact  = number of active bounds at final generalized Cauchy point\n",
      "Projg = norm of the final projected gradient\n",
      "F     = final function value\n",
      "\n",
      "           * * *\n",
      "\n",
      "   N    Tit     Tnf  Tnint  Skip  Nact     Projg        F\n",
      "    4      6      8      9     0     0   2.654D-03   2.327D+03\n",
      "  F =   2327.0672021122537     \n",
      "\n",
      "CONVERGENCE: REL_REDUCTION_OF_F_<=_FACTR*EPSMCH             \n"
     ]
    },
    {
     "name": "stderr",
     "output_type": "stream",
     "text": [
      "INFO:root:Theta updated. New theta_hat: [0.585 0.161 0.429 0.216]\n"
     ]
    },
    {
     "name": "stdout",
     "output_type": "stream",
     "text": [
      "Discretization setup:\n",
      "  - Cumulative Context (cc):    100 steps up to 8.00\n",
      "  - Cust. Degradation (cx):     50 steps up to 1.00\n",
      "  - Cust. Revenue (cu):         100 steps up to 1.00 (99.9th percentile)\n",
      "  - Rental Duration (T):        100 steps up to 76.01 (99.95th percentile)\n",
      "Pre-computing expectations from 100000 customer samples...\n",
      "Starting Numba-accelerated pre-computation of arrival dynamics...\n",
      "Pre-computation complete. ✅\n",
      "\n",
      "Starting Value Iteration...\n",
      "Iteration 10/100 | Max Change (Delta): 0.210424\n"
     ]
    },
    {
     "name": "stderr",
     "output_type": "stream",
     "text": [
      " 24%|██▍       | 9610/40000 [13:20<19:05, 26.54it/s]"
     ]
    },
    {
     "name": "stdout",
     "output_type": "stream",
     "text": [
      "Iteration 20/100 | Max Change (Delta): 0.154944\n",
      "Iteration 30/100 | Max Change (Delta): 0.123486\n",
      "Iteration 40/100 | Max Change (Delta): 0.100312\n",
      "Iteration 50/100 | Max Change (Delta): 0.081901\n",
      "Iteration 60/100 | Max Change (Delta): 0.066956\n",
      "Iteration 70/100 | Max Change (Delta): 0.054757\n",
      "Iteration 80/100 | Max Change (Delta): 0.044785\n",
      "Iteration 90/100 | Max Change (Delta): 0.036630\n"
     ]
    },
    {
     "name": "stderr",
     "output_type": "stream",
     "text": [
      "INFO:root:Policy updated.\n",
      " 28%|██▊       | 11059/40000 [14:22<20:32, 23.48it/s]INFO:root:Updating optimal policy...\n"
     ]
    },
    {
     "name": "stdout",
     "output_type": "stream",
     "text": [
      "Iteration 100/100 | Max Change (Delta): 0.029960\n",
      "\n",
      "Value iteration finished (max iterations reached).\n",
      "RUNNING THE L-BFGS-B CODE\n",
      "\n",
      "           * * *\n",
      "\n",
      "Machine precision = 2.220D-16\n",
      " N =            4     M =           10\n",
      "\n",
      "At X0         4 variables are exactly at the bounds\n",
      "\n",
      "At iterate    0    f=  3.08457D+03    |proj g|=  1.00000D+00\n",
      "\n",
      "At iterate    1    f=  2.93155D+03    |proj g|=  6.48165D-01\n",
      "\n",
      "At iterate    2    f=  2.92749D+03    |proj g|=  6.12047D-01\n",
      "\n",
      "At iterate    3    f=  2.92292D+03    |proj g|=  5.86143D-01\n",
      "\n",
      "At iterate    4    f=  2.92291D+03    |proj g|=  4.78076D-02\n"
     ]
    },
    {
     "name": "stderr",
     "output_type": "stream",
     "text": [
      "INFO:root:Theta updated. New theta_hat: [0.583 0.196 0.464 0.228]\n"
     ]
    },
    {
     "name": "stdout",
     "output_type": "stream",
     "text": [
      "\n",
      "At iterate    5    f=  2.92291D+03    |proj g|=  4.72664D-03\n",
      "\n",
      "           * * *\n",
      "\n",
      "Tit   = total number of iterations\n",
      "Tnf   = total number of function evaluations\n",
      "Tnint = total number of segments explored during Cauchy searches\n",
      "Skip  = number of BFGS updates skipped\n",
      "Nact  = number of active bounds at final generalized Cauchy point\n",
      "Projg = norm of the final projected gradient\n",
      "F     = final function value\n",
      "\n",
      "           * * *\n",
      "\n",
      "   N    Tit     Tnf  Tnint  Skip  Nact     Projg        F\n",
      "    4      5      7      8     0     0   4.727D-03   2.923D+03\n",
      "  F =   2922.9143755642308     \n",
      "\n",
      "CONVERGENCE: REL_REDUCTION_OF_F_<=_FACTR*EPSMCH             \n",
      "Discretization setup:\n",
      "  - Cumulative Context (cc):    100 steps up to 8.00\n",
      "  - Cust. Degradation (cx):     50 steps up to 1.00\n",
      "  - Cust. Revenue (cu):         100 steps up to 1.00 (99.9th percentile)\n",
      "  - Rental Duration (T):        100 steps up to 76.01 (99.95th percentile)\n",
      "Pre-computing expectations from 100000 customer samples...\n",
      "Starting Numba-accelerated pre-computation of arrival dynamics...\n",
      "Pre-computation complete. ✅\n",
      "\n",
      "Starting Value Iteration...\n",
      "Iteration 10/100 | Max Change (Delta): 0.198850\n"
     ]
    },
    {
     "name": "stderr",
     "output_type": "stream",
     "text": [
      " 28%|██▊       | 11059/40000 [14:40<20:32, 23.48it/s]"
     ]
    },
    {
     "name": "stdout",
     "output_type": "stream",
     "text": [
      "Iteration 20/100 | Max Change (Delta): 0.146770\n",
      "Iteration 30/100 | Max Change (Delta): 0.117239\n",
      "Iteration 40/100 | Max Change (Delta): 0.095334\n",
      "Iteration 50/100 | Max Change (Delta): 0.077871\n",
      "Iteration 60/100 | Max Change (Delta): 0.063671\n",
      "Iteration 70/100 | Max Change (Delta): 0.052073\n",
      "Iteration 80/100 | Max Change (Delta): 0.042590\n",
      "Iteration 90/100 | Max Change (Delta): 0.034834\n"
     ]
    },
    {
     "name": "stderr",
     "output_type": "stream",
     "text": [
      "INFO:root:Policy updated.\n",
      " 30%|███       | 12190/40000 [15:44<22:55, 20.22it/s]INFO:root:Updating optimal policy...\n"
     ]
    },
    {
     "name": "stdout",
     "output_type": "stream",
     "text": [
      "Iteration 100/100 | Max Change (Delta): 0.028491\n",
      "\n",
      "Value iteration finished (max iterations reached).\n",
      "RUNNING THE L-BFGS-B CODE\n",
      "\n",
      "           * * *\n",
      "\n",
      "Machine precision = 2.220D-16\n",
      " N =            4     M =           10\n",
      "\n",
      "At X0         4 variables are exactly at the bounds\n",
      "\n",
      "At iterate    0    f=  3.78977D+03    |proj g|=  1.00000D+00\n",
      "\n",
      "At iterate    1    f=  3.61126D+03    |proj g|=  6.54247D-01\n",
      "\n",
      "At iterate    2    f=  3.60454D+03    |proj g|=  6.26681D-01\n",
      "\n",
      "At iterate    3    f=  3.59703D+03    |proj g|=  6.40288D-01\n",
      "\n",
      "At iterate    4    f=  3.59703D+03    |proj g|=  8.02369D-02\n",
      "\n",
      "At iterate    5    f=  3.59703D+03    |proj g|=  5.45492D-03\n"
     ]
    },
    {
     "name": "stderr",
     "output_type": "stream",
     "text": [
      "INFO:root:Theta updated. New theta_hat: [0.635 0.154 0.439 0.231]\n"
     ]
    },
    {
     "name": "stdout",
     "output_type": "stream",
     "text": [
      "\n",
      "At iterate    6    f=  3.59703D+03    |proj g|=  2.54283D-03\n",
      "\n",
      "           * * *\n",
      "\n",
      "Tit   = total number of iterations\n",
      "Tnf   = total number of function evaluations\n",
      "Tnint = total number of segments explored during Cauchy searches\n",
      "Skip  = number of BFGS updates skipped\n",
      "Nact  = number of active bounds at final generalized Cauchy point\n",
      "Projg = norm of the final projected gradient\n",
      "F     = final function value\n",
      "\n",
      "           * * *\n",
      "\n",
      "   N    Tit     Tnf  Tnint  Skip  Nact     Projg        F\n",
      "    4      6      8      9     0     0   2.543D-03   3.597D+03\n",
      "  F =   3597.0260823864301     \n",
      "\n",
      "CONVERGENCE: REL_REDUCTION_OF_F_<=_FACTR*EPSMCH             \n",
      "Discretization setup:\n",
      "  - Cumulative Context (cc):    100 steps up to 8.00\n",
      "  - Cust. Degradation (cx):     50 steps up to 1.00\n",
      "  - Cust. Revenue (cu):         100 steps up to 1.00 (99.9th percentile)\n",
      "  - Rental Duration (T):        100 steps up to 76.01 (99.95th percentile)\n",
      "Pre-computing expectations from 100000 customer samples...\n",
      "Starting Numba-accelerated pre-computation of arrival dynamics...\n",
      "Pre-computation complete. ✅\n",
      "\n",
      "Starting Value Iteration...\n",
      "Iteration 10/100 | Max Change (Delta): 0.200717\n"
     ]
    },
    {
     "name": "stderr",
     "output_type": "stream",
     "text": [
      " 30%|███       | 12190/40000 [16:00<22:55, 20.22it/s]"
     ]
    },
    {
     "name": "stdout",
     "output_type": "stream",
     "text": [
      "Iteration 20/100 | Max Change (Delta): 0.148232\n",
      "Iteration 30/100 | Max Change (Delta): 0.118428\n",
      "Iteration 40/100 | Max Change (Delta): 0.096306\n",
      "Iteration 50/100 | Max Change (Delta): 0.078664\n",
      "Iteration 60/100 | Max Change (Delta): 0.064319\n",
      "Iteration 70/100 | Max Change (Delta): 0.052603\n",
      "Iteration 80/100 | Max Change (Delta): 0.043023\n",
      "Iteration 90/100 | Max Change (Delta): 0.035189\n"
     ]
    },
    {
     "name": "stderr",
     "output_type": "stream",
     "text": [
      "INFO:root:Policy updated.\n",
      " 34%|███▍      | 13647/40000 [17:05<22:33, 19.47it/s]INFO:root:Updating optimal policy...\n"
     ]
    },
    {
     "name": "stdout",
     "output_type": "stream",
     "text": [
      "Iteration 100/100 | Max Change (Delta): 0.028781\n",
      "\n",
      "Value iteration finished (max iterations reached).\n",
      "RUNNING THE L-BFGS-B CODE\n",
      "\n",
      "           * * *\n",
      "\n",
      "Machine precision = 2.220D-16\n",
      " N =            4     M =           10\n",
      "\n",
      "At X0         4 variables are exactly at the bounds\n",
      "\n",
      "At iterate    0    f=  4.53212D+03    |proj g|=  1.00000D+00\n",
      "\n",
      "At iterate    1    f=  4.32451D+03    |proj g|=  6.53495D-01\n",
      "\n",
      "At iterate    2    f=  4.31766D+03    |proj g|=  6.32428D-01\n",
      "\n",
      "At iterate    3    f=  4.30980D+03    |proj g|=  6.35317D-01\n",
      "\n",
      "At iterate    4    f=  4.30979D+03    |proj g|=  9.10805D-02\n",
      "\n",
      "At iterate    5    f=  4.30979D+03    |proj g|=  1.23319D-02\n"
     ]
    },
    {
     "name": "stderr",
     "output_type": "stream",
     "text": [
      "INFO:root:Theta updated. New theta_hat: [0.63  0.178 0.42  0.227]\n"
     ]
    },
    {
     "name": "stdout",
     "output_type": "stream",
     "text": [
      "\n",
      "At iterate    6    f=  4.30979D+03    |proj g|=  6.06709D-03\n",
      "\n",
      "           * * *\n",
      "\n",
      "Tit   = total number of iterations\n",
      "Tnf   = total number of function evaluations\n",
      "Tnint = total number of segments explored during Cauchy searches\n",
      "Skip  = number of BFGS updates skipped\n",
      "Nact  = number of active bounds at final generalized Cauchy point\n",
      "Projg = norm of the final projected gradient\n",
      "F     = final function value\n",
      "\n",
      "           * * *\n",
      "\n",
      "   N    Tit     Tnf  Tnint  Skip  Nact     Projg        F\n",
      "    4      6      8      9     0     0   6.067D-03   4.310D+03\n",
      "  F =   4309.7925222906069     \n",
      "\n",
      "CONVERGENCE: REL_REDUCTION_OF_F_<=_FACTR*EPSMCH             \n",
      "Discretization setup:\n",
      "  - Cumulative Context (cc):    100 steps up to 8.00\n",
      "  - Cust. Degradation (cx):     50 steps up to 1.00\n",
      "  - Cust. Revenue (cu):         100 steps up to 1.00 (99.9th percentile)\n",
      "  - Rental Duration (T):        100 steps up to 76.01 (99.95th percentile)\n",
      "Pre-computing expectations from 100000 customer samples...\n",
      "Starting Numba-accelerated pre-computation of arrival dynamics...\n",
      "Pre-computation complete. ✅\n",
      "\n",
      "Starting Value Iteration...\n",
      "Iteration 10/100 | Max Change (Delta): 0.200737\n"
     ]
    },
    {
     "name": "stderr",
     "output_type": "stream",
     "text": [
      " 34%|███▍      | 13647/40000 [17:20<22:33, 19.47it/s]"
     ]
    },
    {
     "name": "stdout",
     "output_type": "stream",
     "text": [
      "Iteration 20/100 | Max Change (Delta): 0.148202\n",
      "Iteration 30/100 | Max Change (Delta): 0.118350\n",
      "Iteration 40/100 | Max Change (Delta): 0.096230\n",
      "Iteration 50/100 | Max Change (Delta): 0.078598\n",
      "Iteration 60/100 | Max Change (Delta): 0.064264\n",
      "Iteration 70/100 | Max Change (Delta): 0.052557\n",
      "Iteration 80/100 | Max Change (Delta): 0.042986\n",
      "Iteration 90/100 | Max Change (Delta): 0.035158\n"
     ]
    },
    {
     "name": "stderr",
     "output_type": "stream",
     "text": [
      "INFO:root:Policy updated.\n",
      " 38%|███▊      | 15236/40000 [18:27<21:12, 19.46it/s]INFO:root:Updating optimal policy...\n"
     ]
    },
    {
     "name": "stdout",
     "output_type": "stream",
     "text": [
      "Iteration 100/100 | Max Change (Delta): 0.028756\n",
      "\n",
      "Value iteration finished (max iterations reached).\n",
      "RUNNING THE L-BFGS-B CODE\n",
      "\n",
      "           * * *\n",
      "\n",
      "Machine precision = 2.220D-16\n",
      " N =            4     M =           10\n",
      "\n",
      "At X0         4 variables are exactly at the bounds\n",
      "\n",
      "At iterate    0    f=  5.26793D+03    |proj g|=  1.00000D+00\n",
      "\n",
      "At iterate    1    f=  5.02601D+03    |proj g|=  6.50997D-01\n",
      "\n",
      "At iterate    2    f=  5.01946D+03    |proj g|=  6.24888D-01\n",
      "\n",
      "At iterate    3    f=  5.01185D+03    |proj g|=  5.95603D-01\n",
      "\n",
      "At iterate    4    f=  5.01184D+03    |proj g|=  1.14861D-01\n",
      "\n",
      "At iterate    5    f=  5.01184D+03    |proj g|=  1.27158D-02\n"
     ]
    },
    {
     "name": "stderr",
     "output_type": "stream",
     "text": [
      "INFO:root:Theta updated. New theta_hat: [0.591 0.187 0.442 0.233]\n"
     ]
    },
    {
     "name": "stdout",
     "output_type": "stream",
     "text": [
      "\n",
      "At iterate    6    f=  5.01184D+03    |proj g|=  7.68470D-03\n",
      "\n",
      "           * * *\n",
      "\n",
      "Tit   = total number of iterations\n",
      "Tnf   = total number of function evaluations\n",
      "Tnint = total number of segments explored during Cauchy searches\n",
      "Skip  = number of BFGS updates skipped\n",
      "Nact  = number of active bounds at final generalized Cauchy point\n",
      "Projg = norm of the final projected gradient\n",
      "F     = final function value\n",
      "\n",
      "           * * *\n",
      "\n",
      "   N    Tit     Tnf  Tnint  Skip  Nact     Projg        F\n",
      "    4      6      8      9     0     0   7.685D-03   5.012D+03\n",
      "  F =   5011.8427416829363     \n",
      "\n",
      "CONVERGENCE: REL_REDUCTION_OF_F_<=_FACTR*EPSMCH             \n",
      "Discretization setup:\n",
      "  - Cumulative Context (cc):    100 steps up to 8.00\n",
      "  - Cust. Degradation (cx):     50 steps up to 1.00\n",
      "  - Cust. Revenue (cu):         100 steps up to 1.00 (99.9th percentile)\n",
      "  - Rental Duration (T):        100 steps up to 76.01 (99.95th percentile)\n",
      "Pre-computing expectations from 100000 customer samples...\n",
      "Starting Numba-accelerated pre-computation of arrival dynamics...\n",
      "Pre-computation complete. ✅\n",
      "\n",
      "Starting Value Iteration...\n"
     ]
    },
    {
     "name": "stderr",
     "output_type": "stream",
     "text": [
      " 38%|███▊      | 15236/40000 [18:40<21:12, 19.46it/s]"
     ]
    },
    {
     "name": "stdout",
     "output_type": "stream",
     "text": [
      "Iteration 10/100 | Max Change (Delta): 0.200982\n",
      "Iteration 20/100 | Max Change (Delta): 0.148322\n",
      "Iteration 30/100 | Max Change (Delta): 0.118442\n",
      "Iteration 40/100 | Max Change (Delta): 0.096294\n",
      "Iteration 50/100 | Max Change (Delta): 0.078647\n",
      "Iteration 60/100 | Max Change (Delta): 0.064303\n",
      "Iteration 70/100 | Max Change (Delta): 0.052590\n",
      "Iteration 80/100 | Max Change (Delta): 0.043012\n",
      "Iteration 90/100 | Max Change (Delta): 0.035180\n"
     ]
    },
    {
     "name": "stderr",
     "output_type": "stream",
     "text": [
      "INFO:root:Policy updated.\n",
      " 42%|████▏     | 16791/40000 [19:49<20:04, 19.26it/s]INFO:root:Updating optimal policy...\n"
     ]
    },
    {
     "name": "stdout",
     "output_type": "stream",
     "text": [
      "Iteration 100/100 | Max Change (Delta): 0.028774\n",
      "\n",
      "Value iteration finished (max iterations reached).\n",
      "RUNNING THE L-BFGS-B CODE\n",
      "\n",
      "           * * *\n",
      "\n",
      "Machine precision = 2.220D-16\n",
      " N =            4     M =           10\n",
      "\n",
      "At X0         4 variables are exactly at the bounds\n",
      "\n",
      "At iterate    0    f=  6.01492D+03    |proj g|=  1.00000D+00\n",
      "\n",
      "At iterate    1    f=  5.74805D+03    |proj g|=  6.55505D-01\n",
      "\n",
      "At iterate    2    f=  5.74275D+03    |proj g|=  6.33509D-01\n"
     ]
    },
    {
     "name": "stderr",
     "output_type": "stream",
     "text": [
      " 42%|████▏     | 16791/40000 [20:00<20:04, 19.26it/s]"
     ]
    },
    {
     "name": "stdout",
     "output_type": "stream",
     "text": [
      "\n",
      "At iterate    3    f=  5.73666D+03    |proj g|=  5.54172D-01\n",
      "\n",
      "At iterate    4    f=  5.73666D+03    |proj g|=  9.04516D-02\n",
      "\n",
      "At iterate    5    f=  5.73666D+03    |proj g|=  1.04353D-02\n",
      "\n",
      "           * * *\n",
      "\n",
      "Tit   = total number of iterations\n",
      "Tnf   = total number of function evaluations\n",
      "Tnint = total number of segments explored during Cauchy searches\n",
      "Skip  = number of BFGS updates skipped\n",
      "Nact  = number of active bounds at final generalized Cauchy point\n",
      "Projg = norm of the final projected gradient\n",
      "F     = final function value\n",
      "\n",
      "           * * *\n",
      "\n",
      "   N    Tit     Tnf  Tnint  Skip  Nact     Projg        F\n",
      "    4      5      7      8     0     0   1.044D-02   5.737D+03\n",
      "  F =   5736.6605727340975     \n",
      "\n",
      "CONVERGENCE: REL_REDUCTION_OF_F_<=_FACTR*EPSMCH             \n"
     ]
    },
    {
     "name": "stderr",
     "output_type": "stream",
     "text": [
      "INFO:root:Theta updated. New theta_hat: [0.552 0.201 0.42  0.26 ]\n"
     ]
    },
    {
     "name": "stdout",
     "output_type": "stream",
     "text": [
      "Discretization setup:\n",
      "  - Cumulative Context (cc):    100 steps up to 8.00\n",
      "  - Cust. Degradation (cx):     50 steps up to 1.00\n",
      "  - Cust. Revenue (cu):         100 steps up to 1.00 (99.9th percentile)\n",
      "  - Rental Duration (T):        100 steps up to 76.01 (99.95th percentile)\n",
      "Pre-computing expectations from 100000 customer samples...\n",
      "Starting Numba-accelerated pre-computation of arrival dynamics...\n",
      "Pre-computation complete. ✅\n",
      "\n",
      "Starting Value Iteration...\n",
      "Iteration 10/100 | Max Change (Delta): 0.204526\n",
      "Iteration 20/100 | Max Change (Delta): 0.150595\n",
      "Iteration 30/100 | Max Change (Delta): 0.120191\n",
      "Iteration 40/100 | Max Change (Delta): 0.097663\n",
      "Iteration 50/100 | Max Change (Delta): 0.079750\n",
      "Iteration 60/100 | Max Change (Delta): 0.065202\n",
      "Iteration 70/100 | Max Change (Delta): 0.053323\n",
      "Iteration 80/100 | Max Change (Delta): 0.043612\n",
      "Iteration 90/100 | Max Change (Delta): 0.035670\n"
     ]
    },
    {
     "name": "stderr",
     "output_type": "stream",
     "text": [
      "INFO:root:Policy updated.\n",
      " 46%|████▌     | 18233/40000 [21:27<20:31, 17.67it/s]INFO:root:Updating optimal policy...\n"
     ]
    },
    {
     "name": "stdout",
     "output_type": "stream",
     "text": [
      "Iteration 100/100 | Max Change (Delta): 0.029175\n",
      "\n",
      "Value iteration finished (max iterations reached).\n",
      "RUNNING THE L-BFGS-B CODE\n",
      "\n",
      "           * * *\n",
      "\n",
      "Machine precision = 2.220D-16\n",
      " N =            4     M =           10\n",
      "\n",
      "At X0         4 variables are exactly at the bounds\n",
      "\n",
      "At iterate    0    f=  6.76805D+03    |proj g|=  1.00000D+00\n",
      "\n",
      "At iterate    1    f=  6.47015D+03    |proj g|=  6.54930D-01\n",
      "\n",
      "At iterate    2    f=  6.46485D+03    |proj g|=  6.36171D-01\n",
      "\n",
      "At iterate    3    f=  6.45867D+03    |proj g|=  5.50701D-01\n"
     ]
    },
    {
     "name": "stderr",
     "output_type": "stream",
     "text": [
      " 46%|████▌     | 18233/40000 [21:40<20:31, 17.67it/s]"
     ]
    },
    {
     "name": "stdout",
     "output_type": "stream",
     "text": [
      "\n",
      "At iterate    4    f=  6.45867D+03    |proj g|=  8.90552D-02\n",
      "\n",
      "At iterate    5    f=  6.45867D+03    |proj g|=  4.56938D-03\n",
      "\n",
      "           * * *\n",
      "\n",
      "Tit   = total number of iterations\n",
      "Tnf   = total number of function evaluations\n",
      "Tnint = total number of segments explored during Cauchy searches\n",
      "Skip  = number of BFGS updates skipped\n",
      "Nact  = number of active bounds at final generalized Cauchy point\n",
      "Projg = norm of the final projected gradient\n",
      "F     = final function value\n",
      "\n",
      "           * * *\n",
      "\n",
      "   N    Tit     Tnf  Tnint  Skip  Nact     Projg        F\n",
      "    4      5      7      8     0     0   4.569D-03   6.459D+03\n",
      "  F =   6458.6656219626675     \n",
      "\n",
      "CONVERGENCE: REL_REDUCTION_OF_F_<=_FACTR*EPSMCH             \n"
     ]
    },
    {
     "name": "stderr",
     "output_type": "stream",
     "text": [
      "INFO:root:Theta updated. New theta_hat: [0.549 0.228 0.412 0.243]\n"
     ]
    },
    {
     "name": "stdout",
     "output_type": "stream",
     "text": [
      "Discretization setup:\n",
      "  - Cumulative Context (cc):    100 steps up to 8.00\n",
      "  - Cust. Degradation (cx):     50 steps up to 1.00\n",
      "  - Cust. Revenue (cu):         100 steps up to 1.00 (99.9th percentile)\n",
      "  - Rental Duration (T):        100 steps up to 76.01 (99.95th percentile)\n",
      "Pre-computing expectations from 100000 customer samples...\n",
      "Starting Numba-accelerated pre-computation of arrival dynamics...\n",
      "Pre-computation complete. ✅\n",
      "\n",
      "Starting Value Iteration...\n",
      "Iteration 10/100 | Max Change (Delta): 0.204459\n",
      "Iteration 20/100 | Max Change (Delta): 0.150527\n",
      "Iteration 30/100 | Max Change (Delta): 0.120091\n",
      "Iteration 40/100 | Max Change (Delta): 0.097573\n",
      "Iteration 50/100 | Max Change (Delta): 0.079675\n",
      "Iteration 60/100 | Max Change (Delta): 0.065140\n",
      "Iteration 70/100 | Max Change (Delta): 0.053272\n",
      "Iteration 80/100 | Max Change (Delta): 0.043571\n",
      "Iteration 90/100 | Max Change (Delta): 0.035636\n"
     ]
    },
    {
     "name": "stderr",
     "output_type": "stream",
     "text": [
      "INFO:root:Policy updated.\n",
      " 49%|████▊     | 19478/40000 [23:15<22:02, 15.51it/s]INFO:root:Updating optimal policy...\n"
     ]
    },
    {
     "name": "stdout",
     "output_type": "stream",
     "text": [
      "Iteration 100/100 | Max Change (Delta): 0.029147\n",
      "\n",
      "Value iteration finished (max iterations reached).\n",
      "RUNNING THE L-BFGS-B CODE\n",
      "\n",
      "           * * *\n",
      "\n",
      "Machine precision = 2.220D-16\n",
      " N =            4     M =           10\n",
      "\n",
      "At X0         4 variables are exactly at the bounds\n",
      "\n",
      "At iterate    0    f=  7.53016D+03    |proj g|=  1.00000D+00\n",
      "\n",
      "At iterate    1    f=  7.20933D+03    |proj g|=  6.58092D-01\n",
      "\n",
      "At iterate    2    f=  7.20283D+03    |proj g|=  6.27267D-01\n"
     ]
    },
    {
     "name": "stderr",
     "output_type": "stream",
     "text": [
      " 49%|████▊     | 19478/40000 [23:30<22:02, 15.51it/s]"
     ]
    },
    {
     "name": "stdout",
     "output_type": "stream",
     "text": [
      "\n",
      "At iterate    3    f=  7.19524D+03    |proj g|=  5.33778D-01\n",
      "\n",
      "At iterate    4    f=  7.19523D+03    |proj g|=  1.00892D-01\n",
      "\n",
      "At iterate    5    f=  7.19523D+03    |proj g|=  9.14247D-03\n",
      "\n",
      "           * * *\n",
      "\n",
      "Tit   = total number of iterations\n",
      "Tnf   = total number of function evaluations\n",
      "Tnint = total number of segments explored during Cauchy searches\n",
      "Skip  = number of BFGS updates skipped\n",
      "Nact  = number of active bounds at final generalized Cauchy point\n",
      "Projg = norm of the final projected gradient\n",
      "F     = final function value\n",
      "\n",
      "           * * *\n",
      "\n",
      "   N    Tit     Tnf  Tnint  Skip  Nact     Projg        F\n",
      "    4      5      7      8     0     0   9.142D-03   7.195D+03\n",
      "  F =   7195.2341662790777     \n",
      "\n",
      "CONVERGENCE: REL_REDUCTION_OF_F_<=_FACTR*EPSMCH             \n"
     ]
    },
    {
     "name": "stderr",
     "output_type": "stream",
     "text": [
      "INFO:root:Theta updated. New theta_hat: [0.532 0.21  0.451 0.229]\n"
     ]
    },
    {
     "name": "stdout",
     "output_type": "stream",
     "text": [
      "Discretization setup:\n",
      "  - Cumulative Context (cc):    100 steps up to 8.00\n",
      "  - Cust. Degradation (cx):     50 steps up to 1.00\n",
      "  - Cust. Revenue (cu):         100 steps up to 1.00 (99.9th percentile)\n",
      "  - Rental Duration (T):        100 steps up to 76.01 (99.95th percentile)\n",
      "Pre-computing expectations from 100000 customer samples...\n",
      "Starting Numba-accelerated pre-computation of arrival dynamics...\n",
      "Pre-computation complete. ✅\n",
      "\n",
      "Starting Value Iteration...\n",
      "Iteration 10/100 | Max Change (Delta): 0.206053\n",
      "Iteration 20/100 | Max Change (Delta): 0.151762\n",
      "Iteration 30/100 | Max Change (Delta): 0.121035\n",
      "Iteration 40/100 | Max Change (Delta): 0.098330\n",
      "Iteration 50/100 | Max Change (Delta): 0.080290\n",
      "Iteration 60/100 | Max Change (Delta): 0.065642\n",
      "Iteration 70/100 | Max Change (Delta): 0.053683\n",
      "Iteration 80/100 | Max Change (Delta): 0.043906\n",
      "Iteration 90/100 | Max Change (Delta): 0.035911\n"
     ]
    },
    {
     "name": "stderr",
     "output_type": "stream",
     "text": [
      "INFO:root:Policy updated.\n",
      " 52%|█████▏    | 20893/40000 [25:29<23:25, 13.59it/s]INFO:root:Updating optimal policy...\n"
     ]
    },
    {
     "name": "stdout",
     "output_type": "stream",
     "text": [
      "Iteration 100/100 | Max Change (Delta): 0.029372\n",
      "\n",
      "Value iteration finished (max iterations reached).\n",
      "RUNNING THE L-BFGS-B CODE\n",
      "\n",
      "           * * *\n",
      "\n",
      "Machine precision = 2.220D-16\n",
      " N =            4     M =           10\n",
      "\n",
      "At X0         4 variables are exactly at the bounds\n",
      "\n",
      "At iterate    0    f=  8.29832D+03    |proj g|=  1.00000D+00\n",
      "\n",
      "At iterate    1    f=  7.95800D+03    |proj g|=  6.60963D-01\n"
     ]
    },
    {
     "name": "stderr",
     "output_type": "stream",
     "text": [
      " 52%|█████▏    | 20893/40000 [25:40<23:25, 13.59it/s]"
     ]
    },
    {
     "name": "stdout",
     "output_type": "stream",
     "text": [
      "\n",
      "At iterate    2    f=  7.95138D+03    |proj g|=  6.34247D-01\n",
      "\n",
      "At iterate    3    f=  7.94377D+03    |proj g|=  5.31352D-01\n",
      "\n",
      "At iterate    4    f=  7.94376D+03    |proj g|=  9.48748D-02\n",
      "\n",
      "At iterate    5    f=  7.94376D+03    |proj g|=  1.83972D-02\n",
      "\n",
      "           * * *\n",
      "\n",
      "Tit   = total number of iterations\n",
      "Tnf   = total number of function evaluations\n",
      "Tnint = total number of segments explored during Cauchy searches\n",
      "Skip  = number of BFGS updates skipped\n",
      "Nact  = number of active bounds at final generalized Cauchy point\n",
      "Projg = norm of the final projected gradient\n",
      "F     = final function value\n",
      "\n",
      "           * * *\n",
      "\n",
      "   N    Tit     Tnf  Tnint  Skip  Nact     Projg        F\n",
      "    4      5      7      8     0     0   1.840D-02   7.944D+03\n",
      "  F =   7943.7629819343902     \n",
      "\n",
      "CONVERGENCE: REL_REDUCTION_OF_F_<=_FACTR*EPSMCH             \n"
     ]
    },
    {
     "name": "stderr",
     "output_type": "stream",
     "text": [
      "INFO:root:Theta updated. New theta_hat: [0.529 0.214 0.434 0.232]\n"
     ]
    },
    {
     "name": "stdout",
     "output_type": "stream",
     "text": [
      "Discretization setup:\n",
      "  - Cumulative Context (cc):    100 steps up to 8.00\n",
      "  - Cust. Degradation (cx):     50 steps up to 1.00\n",
      "  - Cust. Revenue (cu):         100 steps up to 1.00 (99.9th percentile)\n",
      "  - Rental Duration (T):        100 steps up to 76.01 (99.95th percentile)\n",
      "Pre-computing expectations from 100000 customer samples...\n",
      "Starting Numba-accelerated pre-computation of arrival dynamics...\n",
      "Pre-computation complete. ✅\n",
      "\n",
      "Starting Value Iteration...\n",
      "Iteration 10/100 | Max Change (Delta): 0.207160\n",
      "Iteration 20/100 | Max Change (Delta): 0.152514\n",
      "Iteration 30/100 | Max Change (Delta): 0.121539\n",
      "Iteration 40/100 | Max Change (Delta): 0.098716\n",
      "Iteration 50/100 | Max Change (Delta): 0.080595\n",
      "Iteration 60/100 | Max Change (Delta): 0.065887\n",
      "Iteration 70/100 | Max Change (Delta): 0.053883\n",
      "Iteration 80/100 | Max Change (Delta): 0.044070\n",
      "Iteration 90/100 | Max Change (Delta): 0.036045\n"
     ]
    },
    {
     "name": "stderr",
     "output_type": "stream",
     "text": [
      "INFO:root:Policy updated.\n",
      " 56%|█████▌    | 22275/40000 [27:09<21:39, 13.64it/s]INFO:root:Updating optimal policy...\n"
     ]
    },
    {
     "name": "stdout",
     "output_type": "stream",
     "text": [
      "Iteration 100/100 | Max Change (Delta): 0.029481\n",
      "\n",
      "Value iteration finished (max iterations reached).\n"
     ]
    },
    {
     "name": "stderr",
     "output_type": "stream",
     "text": [
      " 56%|█████▌    | 22275/40000 [27:20<21:39, 13.64it/s]"
     ]
    },
    {
     "name": "stdout",
     "output_type": "stream",
     "text": [
      "RUNNING THE L-BFGS-B CODE\n",
      "\n",
      "           * * *\n",
      "\n",
      "Machine precision = 2.220D-16\n",
      " N =            4     M =           10\n",
      "\n",
      "At X0         4 variables are exactly at the bounds\n",
      "\n",
      "At iterate    0    f=  9.08287D+03    |proj g|=  1.00000D+00\n",
      "\n",
      "At iterate    1    f=  8.70514D+03    |proj g|=  6.57317D-01\n",
      "\n",
      "At iterate    2    f=  8.69885D+03    |proj g|=  6.32780D-01\n",
      "\n",
      "At iterate    3    f=  8.69153D+03    |proj g|=  5.22235D-01\n",
      "\n",
      "At iterate    4    f=  8.69153D+03    |proj g|=  1.19985D-01\n",
      "\n",
      "At iterate    5    f=  8.69153D+03    |proj g|=  4.16043D-02\n",
      "\n",
      "           * * *\n",
      "\n",
      "Tit   = total number of iterations\n",
      "Tnf   = total number of function evaluations\n",
      "Tnint = total number of segments explored during Cauchy searches\n",
      "Skip  = number of BFGS updates skipped\n",
      "Nact  = number of active bounds at final generalized Cauchy point\n",
      "Projg = norm of the final projected gradient\n",
      "F     = final function value\n",
      "\n",
      "           * * *\n",
      "\n",
      "   N    Tit     Tnf  Tnint  Skip  Nact     Projg        F\n",
      "    4      5      7      8     0     0   4.160D-02   8.692D+03\n",
      "  F =   8691.5302178873699     \n",
      "\n",
      "CONVERGENCE: REL_REDUCTION_OF_F_<=_FACTR*EPSMCH             \n"
     ]
    },
    {
     "name": "stderr",
     "output_type": "stream",
     "text": [
      "INFO:root:Theta updated. New theta_hat: [0.52  0.209 0.429 0.259]\n"
     ]
    },
    {
     "name": "stdout",
     "output_type": "stream",
     "text": [
      "Discretization setup:\n",
      "  - Cumulative Context (cc):    100 steps up to 8.00\n",
      "  - Cust. Degradation (cx):     50 steps up to 1.00\n",
      "  - Cust. Revenue (cu):         100 steps up to 1.00 (99.9th percentile)\n",
      "  - Rental Duration (T):        100 steps up to 76.01 (99.95th percentile)\n",
      "Pre-computing expectations from 100000 customer samples...\n",
      "Starting Numba-accelerated pre-computation of arrival dynamics...\n",
      "Pre-computation complete. ✅\n",
      "\n",
      "Starting Value Iteration...\n",
      "Iteration 10/100 | Max Change (Delta): 0.206441\n",
      "Iteration 20/100 | Max Change (Delta): 0.151888\n",
      "Iteration 30/100 | Max Change (Delta): 0.121092\n",
      "Iteration 40/100 | Max Change (Delta): 0.098353\n",
      "Iteration 50/100 | Max Change (Delta): 0.080303\n",
      "Iteration 60/100 | Max Change (Delta): 0.065650\n",
      "Iteration 70/100 | Max Change (Delta): 0.053689\n",
      "Iteration 80/100 | Max Change (Delta): 0.043911\n",
      "Iteration 90/100 | Max Change (Delta): 0.035915\n"
     ]
    },
    {
     "name": "stderr",
     "output_type": "stream",
     "text": [
      "INFO:root:Policy updated.\n",
      " 59%|█████▉    | 23762/40000 [29:33<21:49, 12.40it/s]INFO:root:Updating optimal policy...\n"
     ]
    },
    {
     "name": "stdout",
     "output_type": "stream",
     "text": [
      "Iteration 100/100 | Max Change (Delta): 0.029375\n",
      "\n",
      "Value iteration finished (max iterations reached).\n"
     ]
    },
    {
     "name": "stderr",
     "output_type": "stream",
     "text": [
      " 59%|█████▉    | 23762/40000 [29:51<21:49, 12.40it/s]"
     ]
    },
    {
     "name": "stdout",
     "output_type": "stream",
     "text": [
      "RUNNING THE L-BFGS-B CODE\n",
      "\n",
      "           * * *\n",
      "\n",
      "Machine precision = 2.220D-16\n",
      " N =            4     M =           10\n",
      "\n",
      "At X0         4 variables are exactly at the bounds\n",
      "\n",
      "At iterate    0    f=  9.87017D+03    |proj g|=  1.00000D+00\n",
      "\n",
      "At iterate    1    f=  9.45409D+03    |proj g|=  6.54495D-01\n",
      "\n",
      "At iterate    2    f=  9.44773D+03    |proj g|=  6.30410D-01\n",
      "\n",
      "At iterate    3    f=  9.44049D+03    |proj g|=  5.19304D-01\n",
      "\n",
      "At iterate    4    f=  9.44048D+03    |proj g|=  1.19204D-01\n",
      "\n",
      "At iterate    5    f=  9.44048D+03    |proj g|=  4.52400D-02\n",
      "\n",
      "           * * *\n",
      "\n",
      "Tit   = total number of iterations\n",
      "Tnf   = total number of function evaluations\n",
      "Tnint = total number of segments explored during Cauchy searches\n",
      "Skip  = number of BFGS updates skipped\n",
      "Nact  = number of active bounds at final generalized Cauchy point\n",
      "Projg = norm of the final projected gradient\n",
      "F     = final function value\n",
      "\n",
      "           * * *\n",
      "\n",
      "   N    Tit     Tnf  Tnint  Skip  Nact     Projg        F\n",
      "    4      5      7      8     0     0   4.524D-02   9.440D+03\n",
      "  F =   9440.4833962501179     \n",
      "\n",
      "CONVERGENCE: REL_REDUCTION_OF_F_<=_FACTR*EPSMCH             \n"
     ]
    },
    {
     "name": "stderr",
     "output_type": "stream",
     "text": [
      "INFO:root:Theta updated. New theta_hat: [0.517 0.226 0.427 0.258]\n"
     ]
    },
    {
     "name": "stdout",
     "output_type": "stream",
     "text": [
      "Discretization setup:\n",
      "  - Cumulative Context (cc):    100 steps up to 8.00\n",
      "  - Cust. Degradation (cx):     50 steps up to 1.00\n",
      "  - Cust. Revenue (cu):         100 steps up to 1.00 (99.9th percentile)\n",
      "  - Rental Duration (T):        100 steps up to 76.01 (99.95th percentile)\n",
      "Pre-computing expectations from 100000 customer samples...\n",
      "Starting Numba-accelerated pre-computation of arrival dynamics...\n",
      "Pre-computation complete. ✅\n",
      "\n",
      "Starting Value Iteration...\n",
      "Iteration 10/100 | Max Change (Delta): 0.204068\n",
      "Iteration 20/100 | Max Change (Delta): 0.150289\n",
      "Iteration 30/100 | Max Change (Delta): 0.119808\n",
      "Iteration 40/100 | Max Change (Delta): 0.097330\n",
      "Iteration 50/100 | Max Change (Delta): 0.079474\n",
      "Iteration 60/100 | Max Change (Delta): 0.064974\n",
      "Iteration 70/100 | Max Change (Delta): 0.053136\n",
      "Iteration 80/100 | Max Change (Delta): 0.043459\n",
      "Iteration 90/100 | Max Change (Delta): 0.035545\n"
     ]
    },
    {
     "name": "stderr",
     "output_type": "stream",
     "text": [
      "INFO:root:Policy updated.\n",
      " 63%|██████▎   | 25109/40000 [32:40<24:07, 10.28it/s]INFO:root:Updating optimal policy...\n"
     ]
    },
    {
     "name": "stdout",
     "output_type": "stream",
     "text": [
      "Iteration 100/100 | Max Change (Delta): 0.029073\n",
      "\n",
      "Value iteration finished (max iterations reached).\n",
      "RUNNING THE L-BFGS-B CODE\n",
      "\n",
      "           * * *\n",
      "\n",
      "Machine precision = 2.220D-16\n",
      " N =            4     M =           10\n",
      "\n",
      "At X0         4 variables are exactly at the bounds\n",
      "\n",
      "At iterate    0    f=  1.06686D+04    |proj g|=  1.00000D+00\n",
      "\n",
      "At iterate    1    f=  1.02113D+04    |proj g|=  6.49063D-01\n",
      "\n",
      "At iterate    2    f=  1.02035D+04    |proj g|=  6.17196D-01\n",
      "\n",
      "At iterate    3    f=  1.01950D+04    |proj g|=  5.18037D-01\n",
      "\n",
      "At iterate    4    f=  1.01950D+04    |proj g|=  1.47044D-01\n",
      "\n",
      "At iterate    5    f=  1.01950D+04    |proj g|=  6.00806D-02\n",
      "\n",
      "           * * *\n",
      "\n",
      "Tit   = total number of iterations\n",
      "Tnf   = total number of function evaluations\n",
      "Tnint = total number of segments explored during Cauchy searches\n",
      "Skip  = number of BFGS updates skipped\n",
      "Nact  = number of active bounds at final generalized Cauchy point\n",
      "Projg = norm of the final projected gradient\n",
      "F     = final function value\n",
      "\n",
      "           * * *\n",
      "\n",
      "   N    Tit     Tnf  Tnint  Skip  Nact     Projg        F\n",
      "    4      5      7      8     0     0   6.008D-02   1.020D+04\n",
      "  F =   10195.011118319637     \n",
      "\n",
      "CONVERGENCE: REL_REDUCTION_OF_F_<=_FACTR*EPSMCH             \n"
     ]
    },
    {
     "name": "stderr",
     "output_type": "stream",
     "text": [
      "INFO:root:Theta updated. New theta_hat: [0.516 0.232 0.457 0.246]\n"
     ]
    },
    {
     "name": "stdout",
     "output_type": "stream",
     "text": [
      "Discretization setup:\n",
      "  - Cumulative Context (cc):    100 steps up to 8.00\n",
      "  - Cust. Degradation (cx):     50 steps up to 1.00\n",
      "  - Cust. Revenue (cu):         100 steps up to 1.00 (99.9th percentile)\n",
      "  - Rental Duration (T):        100 steps up to 76.01 (99.95th percentile)\n",
      "Pre-computing expectations from 100000 customer samples...\n",
      "Starting Numba-accelerated pre-computation of arrival dynamics...\n",
      "Pre-computation complete. ✅\n",
      "\n",
      "Starting Value Iteration...\n",
      "Iteration 10/100 | Max Change (Delta): 0.201203\n",
      "Iteration 20/100 | Max Change (Delta): 0.148177\n",
      "Iteration 30/100 | Max Change (Delta): 0.118323\n",
      "Iteration 40/100 | Max Change (Delta): 0.096169\n",
      "Iteration 50/100 | Max Change (Delta): 0.078537\n",
      "Iteration 60/100 | Max Change (Delta): 0.064211\n",
      "Iteration 70/100 | Max Change (Delta): 0.052514\n",
      "Iteration 80/100 | Max Change (Delta): 0.042950\n",
      "Iteration 90/100 | Max Change (Delta): 0.035129\n"
     ]
    },
    {
     "name": "stderr",
     "output_type": "stream",
     "text": [
      "INFO:root:Policy updated.\n",
      " 67%|██████▋   | 26683/40000 [36:21<24:43,  8.98it/s]INFO:root:Updating optimal policy...\n"
     ]
    },
    {
     "name": "stdout",
     "output_type": "stream",
     "text": [
      "Iteration 100/100 | Max Change (Delta): 0.028732\n",
      "\n",
      "Value iteration finished (max iterations reached).\n",
      "RUNNING THE L-BFGS-B CODE\n",
      "\n",
      "           * * *\n",
      "\n",
      "Machine precision = 2.220D-16\n",
      " N =            4     M =           10\n",
      "\n",
      "At X0         4 variables are exactly at the bounds\n",
      "\n",
      "At iterate    0    f=  1.14733D+04    |proj g|=  1.00000D+00\n",
      "\n",
      "At iterate    1    f=  1.10006D+04    |proj g|=  6.55181D-01\n",
      "\n",
      "At iterate    2    f=  1.09918D+04    |proj g|=  6.29897D-01\n",
      "\n",
      "At iterate    3    f=  1.09819D+04    |proj g|=  5.37977D-01\n",
      "\n",
      "At iterate    4    f=  1.09819D+04    |proj g|=  1.82372D-01\n",
      "\n",
      "At iterate    5    f=  1.09819D+04    |proj g|=  7.55922D-02\n",
      "\n",
      "           * * *\n",
      "\n",
      "Tit   = total number of iterations\n",
      "Tnf   = total number of function evaluations\n",
      "Tnint = total number of segments explored during Cauchy searches\n",
      "Skip  = number of BFGS updates skipped\n",
      "Nact  = number of active bounds at final generalized Cauchy point\n",
      "Projg = norm of the final projected gradient\n",
      "F     = final function value\n",
      "\n",
      "           * * *\n",
      "\n",
      "   N    Tit     Tnf  Tnint  Skip  Nact     Projg        F\n",
      "    4      5      7      8     0     0   7.559D-02   1.098D+04\n",
      "  F =   10981.895407758415     \n",
      "\n",
      "CONVERGENCE: REL_REDUCTION_OF_F_<=_FACTR*EPSMCH             \n"
     ]
    },
    {
     "name": "stderr",
     "output_type": "stream",
     "text": [
      "INFO:root:Theta updated. New theta_hat: [0.535 0.226 0.43  0.237]\n"
     ]
    },
    {
     "name": "stdout",
     "output_type": "stream",
     "text": [
      "Discretization setup:\n",
      "  - Cumulative Context (cc):    100 steps up to 8.00\n",
      "  - Cust. Degradation (cx):     50 steps up to 1.00\n",
      "  - Cust. Revenue (cu):         100 steps up to 1.00 (99.9th percentile)\n",
      "  - Rental Duration (T):        100 steps up to 76.01 (99.95th percentile)\n",
      "Pre-computing expectations from 100000 customer samples...\n",
      "Starting Numba-accelerated pre-computation of arrival dynamics...\n",
      "Pre-computation complete. ✅\n",
      "\n",
      "Starting Value Iteration...\n",
      "Iteration 10/100 | Max Change (Delta): 0.204740\n",
      "Iteration 20/100 | Max Change (Delta): 0.150771\n",
      "Iteration 30/100 | Max Change (Delta): 0.120238\n",
      "Iteration 40/100 | Max Change (Delta): 0.097679\n",
      "Iteration 50/100 | Max Change (Delta): 0.079758\n",
      "Iteration 60/100 | Max Change (Delta): 0.065207\n",
      "Iteration 70/100 | Max Change (Delta): 0.053327\n",
      "Iteration 80/100 | Max Change (Delta): 0.043615\n",
      "Iteration 90/100 | Max Change (Delta): 0.035673\n"
     ]
    },
    {
     "name": "stderr",
     "output_type": "stream",
     "text": [
      "INFO:root:Policy updated.\n",
      " 70%|███████   | 28002/40000 [40:56<27:42,  7.22it/s]INFO:root:Updating optimal policy...\n"
     ]
    },
    {
     "name": "stdout",
     "output_type": "stream",
     "text": [
      "Iteration 100/100 | Max Change (Delta): 0.029177\n",
      "\n",
      "Value iteration finished (max iterations reached).\n",
      "RUNNING THE L-BFGS-B CODE\n",
      "\n",
      "           * * *\n",
      "\n",
      "Machine precision = 2.220D-16\n",
      " N =            4     M =           10\n",
      "\n",
      "At X0         4 variables are exactly at the bounds\n",
      "\n",
      "At iterate    0    f=  1.22705D+04    |proj g|=  1.00000D+00\n",
      "\n",
      "At iterate    1    f=  1.17716D+04    |proj g|=  6.56036D-01\n",
      "\n",
      "At iterate    2    f=  1.17628D+04    |proj g|=  6.32738D-01\n",
      "\n",
      "At iterate    3    f=  1.17530D+04    |proj g|=  5.33875D-01\n",
      "\n",
      "At iterate    4    f=  1.17530D+04    |proj g|=  1.72167D-01\n",
      "\n",
      "At iterate    5    f=  1.17530D+04    |proj g|=  7.02955D-02\n",
      "\n",
      "           * * *\n",
      "\n",
      "Tit   = total number of iterations\n",
      "Tnf   = total number of function evaluations\n",
      "Tnint = total number of segments explored during Cauchy searches\n",
      "Skip  = number of BFGS updates skipped\n",
      "Nact  = number of active bounds at final generalized Cauchy point\n",
      "Projg = norm of the final projected gradient\n",
      "F     = final function value\n",
      "\n",
      "           * * *\n",
      "\n",
      "   N    Tit     Tnf  Tnint  Skip  Nact     Projg        F\n",
      "    4      5      7      8     0     0   7.030D-02   1.175D+04\n",
      "  F =   11752.971608089456     \n",
      "\n",
      "CONVERGENCE: REL_REDUCTION_OF_F_<=_FACTR*EPSMCH             \n"
     ]
    },
    {
     "name": "stderr",
     "output_type": "stream",
     "text": [
      "INFO:root:Theta updated. New theta_hat: [0.531 0.228 0.423 0.243]\n"
     ]
    },
    {
     "name": "stdout",
     "output_type": "stream",
     "text": [
      "Discretization setup:\n",
      "  - Cumulative Context (cc):    100 steps up to 8.00\n",
      "  - Cust. Degradation (cx):     50 steps up to 1.00\n",
      "  - Cust. Revenue (cu):         100 steps up to 1.00 (99.9th percentile)\n",
      "  - Rental Duration (T):        100 steps up to 76.01 (99.95th percentile)\n",
      "Pre-computing expectations from 100000 customer samples...\n",
      "Starting Numba-accelerated pre-computation of arrival dynamics...\n",
      "Pre-computation complete. ✅\n",
      "\n",
      "Starting Value Iteration...\n",
      "Iteration 10/100 | Max Change (Delta): 0.206144\n",
      "Iteration 20/100 | Max Change (Delta): 0.151705\n",
      "Iteration 30/100 | Max Change (Delta): 0.121021\n",
      "Iteration 40/100 | Max Change (Delta): 0.098311\n",
      "Iteration 50/100 | Max Change (Delta): 0.080272\n",
      "Iteration 60/100 | Max Change (Delta): 0.065626\n",
      "Iteration 70/100 | Max Change (Delta): 0.053670\n",
      "Iteration 80/100 | Max Change (Delta): 0.043896\n",
      "Iteration 90/100 | Max Change (Delta): 0.035902\n"
     ]
    },
    {
     "name": "stderr",
     "output_type": "stream",
     "text": [
      "INFO:root:Policy updated.\n",
      " 73%|███████▎  | 29281/40000 [46:51<31:41,  5.64it/s]INFO:root:Updating optimal policy...\n"
     ]
    },
    {
     "name": "stdout",
     "output_type": "stream",
     "text": [
      "Iteration 100/100 | Max Change (Delta): 0.029365\n",
      "\n",
      "Value iteration finished (max iterations reached).\n",
      "RUNNING THE L-BFGS-B CODE\n",
      "\n",
      "           * * *\n",
      "\n",
      "Machine precision = 2.220D-16\n",
      " N =            4     M =           10\n",
      "\n",
      "At X0         4 variables are exactly at the bounds\n",
      "\n",
      "At iterate    0    f=  1.30923D+04    |proj g|=  1.00000D+00\n",
      "\n",
      "At iterate    1    f=  1.25782D+04    |proj g|=  6.61811D-01\n",
      "\n",
      "At iterate    2    f=  1.25670D+04    |proj g|=  6.37809D-01\n",
      "\n",
      "At iterate    3    f=  1.25546D+04    |proj g|=  5.48655D-01\n",
      "\n",
      "At iterate    4    f=  1.25546D+04    |proj g|=  1.97401D-01\n",
      "\n",
      "At iterate    5    f=  1.25546D+04    |proj g|=  7.55783D-02\n",
      "\n",
      "           * * *\n",
      "\n",
      "Tit   = total number of iterations\n",
      "Tnf   = total number of function evaluations\n",
      "Tnint = total number of segments explored during Cauchy searches\n",
      "Skip  = number of BFGS updates skipped\n",
      "Nact  = number of active bounds at final generalized Cauchy point\n",
      "Projg = norm of the final projected gradient\n",
      "F     = final function value\n",
      "\n",
      "           * * *\n",
      "\n",
      "   N    Tit     Tnf  Tnint  Skip  Nact     Projg        F\n",
      "    4      5      7      8     0     0   7.558D-02   1.255D+04\n",
      "  F =   12554.642935984211     \n",
      "\n",
      "CONVERGENCE: REL_REDUCTION_OF_F_<=_FACTR*EPSMCH             \n"
     ]
    },
    {
     "name": "stderr",
     "output_type": "stream",
     "text": [
      "INFO:root:Theta updated. New theta_hat: [0.546 0.205 0.418 0.239]\n"
     ]
    },
    {
     "name": "stdout",
     "output_type": "stream",
     "text": [
      "Discretization setup:\n",
      "  - Cumulative Context (cc):    100 steps up to 8.00\n",
      "  - Cust. Degradation (cx):     50 steps up to 1.00\n",
      "  - Cust. Revenue (cu):         100 steps up to 1.00 (99.9th percentile)\n",
      "  - Rental Duration (T):        100 steps up to 76.01 (99.95th percentile)\n",
      "Pre-computing expectations from 100000 customer samples...\n",
      "Starting Numba-accelerated pre-computation of arrival dynamics...\n",
      "Pre-computation complete. ✅\n",
      "\n",
      "Starting Value Iteration...\n",
      "Iteration 10/100 | Max Change (Delta): 0.207811\n",
      "Iteration 20/100 | Max Change (Delta): 0.153028\n",
      "Iteration 30/100 | Max Change (Delta): 0.121991\n",
      "Iteration 40/100 | Max Change (Delta): 0.099088\n",
      "Iteration 50/100 | Max Change (Delta): 0.080902\n",
      "Iteration 60/100 | Max Change (Delta): 0.066140\n",
      "Iteration 70/100 | Max Change (Delta): 0.054090\n",
      "Iteration 80/100 | Max Change (Delta): 0.044239\n",
      "Iteration 90/100 | Max Change (Delta): 0.036183\n"
     ]
    },
    {
     "name": "stderr",
     "output_type": "stream",
     "text": [
      "INFO:root:Policy updated.\n",
      " 77%|███████▋  | 30675/40000 [52:07<29:51,  5.20it/s]INFO:root:Updating optimal policy...\n"
     ]
    },
    {
     "name": "stdout",
     "output_type": "stream",
     "text": [
      "Iteration 100/100 | Max Change (Delta): 0.029594\n",
      "\n",
      "Value iteration finished (max iterations reached).\n",
      "RUNNING THE L-BFGS-B CODE\n",
      "\n",
      "           * * *\n",
      "\n",
      "Machine precision = 2.220D-16\n",
      " N =            4     M =           10\n",
      "\n",
      "At X0         4 variables are exactly at the bounds\n",
      "\n",
      "At iterate    0    f=  1.39167D+04    |proj g|=  1.00000D+00\n",
      "\n",
      "At iterate    1    f=  1.33815D+04    |proj g|=  6.63488D-01\n",
      "\n",
      "At iterate    2    f=  1.33707D+04    |proj g|=  6.40730D-01\n",
      "\n",
      "At iterate    3    f=  1.33588D+04    |proj g|=  5.38943D-01\n",
      "\n",
      "At iterate    4    f=  1.33587D+04    |proj g|=  2.01337D-01\n",
      "\n",
      "At iterate    5    f=  1.33587D+04    |proj g|=  8.00674D-02\n",
      "\n",
      "           * * *\n",
      "\n",
      "Tit   = total number of iterations\n",
      "Tnf   = total number of function evaluations\n",
      "Tnint = total number of segments explored during Cauchy searches\n",
      "Skip  = number of BFGS updates skipped\n",
      "Nact  = number of active bounds at final generalized Cauchy point\n",
      "Projg = norm of the final projected gradient\n",
      "F     = final function value\n",
      "\n",
      "           * * *\n",
      "\n",
      "   N    Tit     Tnf  Tnint  Skip  Nact     Projg        F\n",
      "    4      5      7      8     0     0   8.007D-02   1.336D+04\n",
      "  F =   13358.744794605273     \n",
      "\n",
      "CONVERGENCE: REL_REDUCTION_OF_F_<=_FACTR*EPSMCH             \n"
     ]
    },
    {
     "name": "stderr",
     "output_type": "stream",
     "text": [
      "INFO:root:Theta updated. New theta_hat: [0.536 0.203 0.411 0.247]\n"
     ]
    },
    {
     "name": "stdout",
     "output_type": "stream",
     "text": [
      "Discretization setup:\n",
      "  - Cumulative Context (cc):    100 steps up to 8.00\n",
      "  - Cust. Degradation (cx):     50 steps up to 1.00\n",
      "  - Cust. Revenue (cu):         100 steps up to 1.00 (99.9th percentile)\n",
      "  - Rental Duration (T):        100 steps up to 76.01 (99.95th percentile)\n",
      "Pre-computing expectations from 100000 customer samples...\n",
      "Starting Numba-accelerated pre-computation of arrival dynamics...\n",
      "Pre-computation complete. ✅\n",
      "\n",
      "Starting Value Iteration...\n",
      "Iteration 10/100 | Max Change (Delta): 0.208745\n",
      "Iteration 20/100 | Max Change (Delta): 0.153651\n",
      "Iteration 30/100 | Max Change (Delta): 0.122408\n",
      "Iteration 40/100 | Max Change (Delta): 0.099406\n",
      "Iteration 50/100 | Max Change (Delta): 0.081153\n",
      "Iteration 60/100 | Max Change (Delta): 0.066343\n",
      "Iteration 70/100 | Max Change (Delta): 0.054255\n",
      "Iteration 80/100 | Max Change (Delta): 0.044374\n",
      "Iteration 90/100 | Max Change (Delta): 0.036293\n"
     ]
    },
    {
     "name": "stderr",
     "output_type": "stream",
     "text": [
      "INFO:root:Policy updated.\n",
      " 80%|███████▉  | 31944/40000 [56:56<27:08,  4.95it/s]INFO:root:Updating optimal policy...\n"
     ]
    },
    {
     "name": "stdout",
     "output_type": "stream",
     "text": [
      "Iteration 100/100 | Max Change (Delta): 0.029685\n",
      "\n",
      "Value iteration finished (max iterations reached).\n",
      "RUNNING THE L-BFGS-B CODE\n",
      "\n",
      "           * * *\n",
      "\n",
      "Machine precision = 2.220D-16\n",
      " N =            4     M =           10\n",
      "\n",
      "At X0         4 variables are exactly at the bounds\n",
      "\n",
      "At iterate    0    f=  1.47330D+04    |proj g|=  1.00000D+00\n",
      "\n",
      "At iterate    1    f=  1.41660D+04    |proj g|=  6.61523D-01\n",
      "\n",
      "At iterate    2    f=  1.41552D+04    |proj g|=  6.35819D-01\n",
      "\n",
      "At iterate    3    f=  1.41431D+04    |proj g|=  5.28106D-01\n",
      "\n",
      "At iterate    4    f=  1.41431D+04    |proj g|=  2.25837D-01\n",
      "\n",
      "At iterate    5    f=  1.41431D+04    |proj g|=  9.44321D-02\n",
      "\n",
      "           * * *\n",
      "\n",
      "Tit   = total number of iterations\n",
      "Tnf   = total number of function evaluations\n",
      "Tnint = total number of segments explored during Cauchy searches\n",
      "Skip  = number of BFGS updates skipped\n",
      "Nact  = number of active bounds at final generalized Cauchy point\n",
      "Projg = norm of the final projected gradient\n",
      "F     = final function value\n",
      "\n",
      "           * * *\n",
      "\n",
      "   N    Tit     Tnf  Tnint  Skip  Nact     Projg        F\n",
      "    4      5      7      8     0     0   9.443D-02   1.414D+04\n",
      "  F =   14143.064978289936     \n",
      "\n",
      "CONVERGENCE: REL_REDUCTION_OF_F_<=_FACTR*EPSMCH             \n"
     ]
    },
    {
     "name": "stderr",
     "output_type": "stream",
     "text": [
      "INFO:root:Theta updated. New theta_hat: [0.526 0.199 0.422 0.255]\n"
     ]
    },
    {
     "name": "stdout",
     "output_type": "stream",
     "text": [
      "Discretization setup:\n",
      "  - Cumulative Context (cc):    100 steps up to 8.00\n",
      "  - Cust. Degradation (cx):     50 steps up to 1.00\n",
      "  - Cust. Revenue (cu):         100 steps up to 1.00 (99.9th percentile)\n",
      "  - Rental Duration (T):        100 steps up to 76.01 (99.95th percentile)\n",
      "Pre-computing expectations from 100000 customer samples...\n",
      "Starting Numba-accelerated pre-computation of arrival dynamics...\n",
      "Pre-computation complete. ✅\n",
      "\n",
      "Starting Value Iteration...\n",
      "Iteration 10/100 | Max Change (Delta): 0.208087\n",
      "Iteration 20/100 | Max Change (Delta): 0.153139\n",
      "Iteration 30/100 | Max Change (Delta): 0.122038\n",
      "Iteration 40/100 | Max Change (Delta): 0.099114\n",
      "Iteration 50/100 | Max Change (Delta): 0.080919\n",
      "Iteration 60/100 | Max Change (Delta): 0.066153\n",
      "Iteration 70/100 | Max Change (Delta): 0.054100\n",
      "Iteration 80/100 | Max Change (Delta): 0.044247\n",
      "Iteration 90/100 | Max Change (Delta): 0.036190\n"
     ]
    },
    {
     "name": "stderr",
     "output_type": "stream",
     "text": [
      "INFO:root:Policy updated.\n",
      " 83%|████████▎ | 33106/40000 [5:32:43<7:38:41,  3.99s/it]INFO:root:Updating optimal policy...\n"
     ]
    },
    {
     "name": "stdout",
     "output_type": "stream",
     "text": [
      "Iteration 100/100 | Max Change (Delta): 0.029600\n",
      "\n",
      "Value iteration finished (max iterations reached).\n",
      "RUNNING THE L-BFGS-B CODE\n",
      "\n",
      "           * * *\n",
      "\n",
      "Machine precision = 2.220D-16\n",
      " N =            4     M =           10\n",
      "\n",
      "At X0         4 variables are exactly at the bounds\n",
      "\n",
      "At iterate    0    f=  1.55529D+04    |proj g|=  1.00000D+00\n",
      "\n",
      "At iterate    1    f=  1.49534D+04    |proj g|=  6.60250D-01\n",
      "\n",
      "At iterate    2    f=  1.49431D+04    |proj g|=  6.36568D-01\n",
      "\n",
      "At iterate    3    f=  1.49318D+04    |proj g|=  5.20593D-01\n",
      "\n",
      "At iterate    4    f=  1.49318D+04    |proj g|=  1.81161D-01\n",
      "\n",
      "At iterate    5    f=  1.49318D+04    |proj g|=  6.82978D-02\n",
      "\n",
      "           * * *\n",
      "\n",
      "Tit   = total number of iterations\n",
      "Tnf   = total number of function evaluations\n",
      "Tnint = total number of segments explored during Cauchy searches\n",
      "Skip  = number of BFGS updates skipped\n",
      "Nact  = number of active bounds at final generalized Cauchy point\n",
      "Projg = norm of the final projected gradient\n",
      "F     = final function value\n",
      "\n",
      "           * * *\n",
      "\n",
      "   N    Tit     Tnf  Tnint  Skip  Nact     Projg        F\n",
      "    4      5      7      8     0     0   6.830D-02   1.493D+04\n",
      "  F =   14931.801847726369     \n",
      "\n",
      "CONVERGENCE: REL_REDUCTION_OF_F_<=_FACTR*EPSMCH             \n"
     ]
    },
    {
     "name": "stderr",
     "output_type": "stream",
     "text": [
      "INFO:root:Theta updated. New theta_hat: [0.518 0.212 0.416 0.259]\n"
     ]
    },
    {
     "name": "stdout",
     "output_type": "stream",
     "text": [
      "Discretization setup:\n",
      "  - Cumulative Context (cc):    100 steps up to 8.00\n",
      "  - Cust. Degradation (cx):     50 steps up to 1.00\n",
      "  - Cust. Revenue (cu):         100 steps up to 1.00 (99.9th percentile)\n",
      "  - Rental Duration (T):        100 steps up to 76.01 (99.95th percentile)\n",
      "Pre-computing expectations from 100000 customer samples...\n",
      "Starting Numba-accelerated pre-computation of arrival dynamics...\n",
      "Pre-computation complete. ✅\n",
      "\n",
      "Starting Value Iteration...\n",
      "Iteration 10/100 | Max Change (Delta): 0.207906\n",
      "Iteration 20/100 | Max Change (Delta): 0.153003\n",
      "Iteration 30/100 | Max Change (Delta): 0.121918\n",
      "Iteration 40/100 | Max Change (Delta): 0.099015\n",
      "Iteration 50/100 | Max Change (Delta): 0.080837\n",
      "Iteration 60/100 | Max Change (Delta): 0.066085\n",
      "Iteration 70/100 | Max Change (Delta): 0.054045\n",
      "Iteration 80/100 | Max Change (Delta): 0.044202\n",
      "Iteration 90/100 | Max Change (Delta): 0.036153\n"
     ]
    },
    {
     "name": "stderr",
     "output_type": "stream",
     "text": [
      "INFO:root:Policy updated.\n",
      " 86%|████████▌ | 34299/40000 [10:14:46<10:54:02,  6.88s/it]INFO:root:Updating optimal policy...\n"
     ]
    },
    {
     "name": "stdout",
     "output_type": "stream",
     "text": [
      "Iteration 100/100 | Max Change (Delta): 0.029569\n",
      "\n",
      "Value iteration finished (max iterations reached).\n",
      "RUNNING THE L-BFGS-B CODE\n",
      "\n",
      "           * * *\n",
      "\n",
      "Machine precision = 2.220D-16\n",
      " N =            4     M =           10\n",
      "\n",
      "At X0         4 variables are exactly at the bounds\n",
      "\n",
      "At iterate    0    f=  1.63775D+04    |proj g|=  1.00000D+00\n",
      "\n",
      "At iterate    1    f=  1.57361D+04    |proj g|=  6.56290D-01\n",
      "\n",
      "At iterate    2    f=  1.57256D+04    |proj g|=  6.32096D-01\n",
      "\n",
      "At iterate    3    f=  1.57143D+04    |proj g|=  5.16416D-01\n",
      "\n",
      "At iterate    4    f=  1.57143D+04    |proj g|=  1.72614D-01\n",
      "\n",
      "At iterate    5    f=  1.57143D+04    |proj g|=  6.01048D-02\n",
      "\n",
      "           * * *\n",
      "\n",
      "Tit   = total number of iterations\n",
      "Tnf   = total number of function evaluations\n",
      "Tnint = total number of segments explored during Cauchy searches\n",
      "Skip  = number of BFGS updates skipped\n",
      "Nact  = number of active bounds at final generalized Cauchy point\n",
      "Projg = norm of the final projected gradient\n",
      "F     = final function value\n",
      "\n",
      "           * * *\n",
      "\n",
      "   N    Tit     Tnf  Tnint  Skip  Nact     Projg        F\n",
      "    4      5      7      8     0     0   6.010D-02   1.571D+04\n",
      "  F =   15714.268098079441     \n",
      "\n",
      "CONVERGENCE: REL_REDUCTION_OF_F_<=_FACTR*EPSMCH             \n"
     ]
    },
    {
     "name": "stderr",
     "output_type": "stream",
     "text": [
      "INFO:root:Theta updated. New theta_hat: [0.514 0.22  0.423 0.26 ]\n"
     ]
    },
    {
     "name": "stdout",
     "output_type": "stream",
     "text": [
      "Discretization setup:\n",
      "  - Cumulative Context (cc):    100 steps up to 8.00\n",
      "  - Cust. Degradation (cx):     50 steps up to 1.00\n",
      "  - Cust. Revenue (cu):         100 steps up to 1.00 (99.9th percentile)\n",
      "  - Rental Duration (T):        100 steps up to 76.01 (99.95th percentile)\n",
      "Pre-computing expectations from 100000 customer samples...\n",
      "Starting Numba-accelerated pre-computation of arrival dynamics...\n",
      "Pre-computation complete. ✅\n",
      "\n",
      "Starting Value Iteration...\n",
      "Iteration 10/100 | Max Change (Delta): 0.206643\n",
      "Iteration 20/100 | Max Change (Delta): 0.151968\n",
      "Iteration 30/100 | Max Change (Delta): 0.121188\n",
      "Iteration 40/100 | Max Change (Delta): 0.098421\n",
      "Iteration 50/100 | Max Change (Delta): 0.080354\n",
      "Iteration 60/100 | Max Change (Delta): 0.065691\n",
      "Iteration 70/100 | Max Change (Delta): 0.053723\n",
      "Iteration 80/100 | Max Change (Delta): 0.043939\n",
      "Iteration 90/100 | Max Change (Delta): 0.035937\n"
     ]
    },
    {
     "name": "stderr",
     "output_type": "stream",
     "text": [
      "INFO:root:Policy updated.\n",
      " 89%|████████▉ | 35617/40000 [11:43:42<7:18:47,  6.01s/it] INFO:root:Updating optimal policy...\n"
     ]
    },
    {
     "name": "stdout",
     "output_type": "stream",
     "text": [
      "Iteration 100/100 | Max Change (Delta): 0.029393\n",
      "\n",
      "Value iteration finished (max iterations reached).\n",
      "RUNNING THE L-BFGS-B CODE\n",
      "\n",
      "           * * *\n",
      "\n",
      "Machine precision = 2.220D-16\n",
      " N =            4     M =           10\n",
      "\n",
      "At X0         4 variables are exactly at the bounds\n",
      "\n",
      "At iterate    0    f=  1.72120D+04    |proj g|=  1.00000D+00\n",
      "\n",
      "At iterate    1    f=  1.65488D+04    |proj g|=  6.58172D-01\n",
      "\n",
      "At iterate    2    f=  1.65383D+04    |proj g|=  6.32236D-01\n",
      "\n",
      "At iterate    3    f=  1.65269D+04    |proj g|=  5.03299D-01\n",
      "\n",
      "At iterate    4    f=  1.65269D+04    |proj g|=  1.80645D-01\n",
      "\n",
      "At iterate    5    f=  1.65269D+04    |proj g|=  5.80194D-02\n",
      "\n",
      "           * * *\n",
      "\n",
      "Tit   = total number of iterations\n",
      "Tnf   = total number of function evaluations\n",
      "Tnint = total number of segments explored during Cauchy searches\n",
      "Skip  = number of BFGS updates skipped\n",
      "Nact  = number of active bounds at final generalized Cauchy point\n",
      "Projg = norm of the final projected gradient\n",
      "F     = final function value\n",
      "\n",
      "           * * *\n",
      "\n",
      "   N    Tit     Tnf  Tnint  Skip  Nact     Projg        F\n",
      "    4      5      7      8     0     0   5.802D-02   1.653D+04\n",
      "  F =   16526.930389427314     \n",
      "\n",
      "CONVERGENCE: REL_REDUCTION_OF_F_<=_FACTR*EPSMCH             \n"
     ]
    },
    {
     "name": "stderr",
     "output_type": "stream",
     "text": [
      "INFO:root:Theta updated. New theta_hat: [0.502 0.21  0.427 0.269]\n"
     ]
    },
    {
     "name": "stdout",
     "output_type": "stream",
     "text": [
      "Discretization setup:\n",
      "  - Cumulative Context (cc):    100 steps up to 8.00\n",
      "  - Cust. Degradation (cx):     50 steps up to 1.00\n",
      "  - Cust. Revenue (cu):         100 steps up to 1.00 (99.9th percentile)\n",
      "  - Rental Duration (T):        100 steps up to 76.01 (99.95th percentile)\n",
      "Pre-computing expectations from 100000 customer samples...\n",
      "Starting Numba-accelerated pre-computation of arrival dynamics...\n",
      "Pre-computation complete. ✅\n",
      "\n",
      "Starting Value Iteration...\n",
      "Iteration 10/100 | Max Change (Delta): 0.208833\n",
      "Iteration 20/100 | Max Change (Delta): 0.153599\n",
      "Iteration 30/100 | Max Change (Delta): 0.122481\n",
      "Iteration 40/100 | Max Change (Delta): 0.099461\n",
      "Iteration 50/100 | Max Change (Delta): 0.081202\n",
      "Iteration 60/100 | Max Change (Delta): 0.066383\n",
      "Iteration 70/100 | Max Change (Delta): 0.054288\n",
      "Iteration 80/100 | Max Change (Delta): 0.044401\n",
      "Iteration 90/100 | Max Change (Delta): 0.036316\n"
     ]
    },
    {
     "name": "stderr",
     "output_type": "stream",
     "text": [
      "INFO:root:Policy updated.\n",
      " 93%|█████████▎| 37032/40000 [11:52:08<3:27:14,  4.19s/it]INFO:root:Updating optimal policy...\n"
     ]
    },
    {
     "name": "stdout",
     "output_type": "stream",
     "text": [
      "Iteration 100/100 | Max Change (Delta): 0.029703\n",
      "\n",
      "Value iteration finished (max iterations reached).\n",
      "RUNNING THE L-BFGS-B CODE\n",
      "\n",
      "           * * *\n",
      "\n",
      "Machine precision = 2.220D-16\n",
      " N =            4     M =           10\n",
      "\n",
      "At X0         4 variables are exactly at the bounds\n",
      "\n",
      "At iterate    0    f=  1.80506D+04    |proj g|=  1.00000D+00\n",
      "\n",
      "At iterate    1    f=  1.73693D+04    |proj g|=  6.60326D-01\n",
      "\n",
      "At iterate    2    f=  1.73579D+04    |proj g|=  6.35827D-01\n",
      "\n",
      "At iterate    3    f=  1.73455D+04    |proj g|=  5.08732D-01\n",
      "\n",
      "At iterate    4    f=  1.73455D+04    |proj g|=  2.10046D-01\n",
      "\n",
      "At iterate    5    f=  1.73455D+04    |proj g|=  7.49051D-02\n",
      "\n",
      "           * * *\n",
      "\n",
      "Tit   = total number of iterations\n",
      "Tnf   = total number of function evaluations\n",
      "Tnint = total number of segments explored during Cauchy searches\n",
      "Skip  = number of BFGS updates skipped\n",
      "Nact  = number of active bounds at final generalized Cauchy point\n",
      "Projg = norm of the final projected gradient\n",
      "F     = final function value\n",
      "\n",
      "           * * *\n",
      "\n",
      "   N    Tit     Tnf  Tnint  Skip  Nact     Projg        F\n",
      "    4      5      7      8     0     0   7.491D-02   1.735D+04\n",
      "  F =   17345.494957058105     \n",
      "\n",
      "CONVERGENCE: REL_REDUCTION_OF_F_<=_FACTR*EPSMCH             \n"
     ]
    },
    {
     "name": "stderr",
     "output_type": "stream",
     "text": [
      "INFO:root:Theta updated. New theta_hat: [0.507 0.204 0.419 0.268]\n"
     ]
    },
    {
     "name": "stdout",
     "output_type": "stream",
     "text": [
      "Discretization setup:\n",
      "  - Cumulative Context (cc):    100 steps up to 8.00\n",
      "  - Cust. Degradation (cx):     50 steps up to 1.00\n",
      "  - Cust. Revenue (cu):         100 steps up to 1.00 (99.9th percentile)\n",
      "  - Rental Duration (T):        100 steps up to 76.01 (99.95th percentile)\n",
      "Pre-computing expectations from 100000 customer samples...\n",
      "Starting Numba-accelerated pre-computation of arrival dynamics...\n",
      "Pre-computation complete. ✅\n",
      "\n",
      "Starting Value Iteration...\n",
      "Iteration 10/100 | Max Change (Delta): 0.209538\n",
      "Iteration 20/100 | Max Change (Delta): 0.154105\n",
      "Iteration 30/100 | Max Change (Delta): 0.122792\n",
      "Iteration 40/100 | Max Change (Delta): 0.099701\n",
      "Iteration 50/100 | Max Change (Delta): 0.081393\n",
      "Iteration 60/100 | Max Change (Delta): 0.066537\n",
      "Iteration 70/100 | Max Change (Delta): 0.054414\n",
      "Iteration 80/100 | Max Change (Delta): 0.044504\n",
      "Iteration 90/100 | Max Change (Delta): 0.036400\n"
     ]
    },
    {
     "name": "stderr",
     "output_type": "stream",
     "text": [
      "INFO:root:Policy updated.\n",
      " 96%|█████████▌| 38289/40000 [11:58:30<1:27:20,  3.06s/it]INFO:root:Updating optimal policy...\n"
     ]
    },
    {
     "name": "stdout",
     "output_type": "stream",
     "text": [
      "Iteration 100/100 | Max Change (Delta): 0.029771\n",
      "\n",
      "Value iteration finished (max iterations reached).\n",
      "RUNNING THE L-BFGS-B CODE\n",
      "\n",
      "           * * *\n",
      "\n",
      "Machine precision = 2.220D-16\n",
      " N =            4     M =           10\n",
      "\n",
      "At X0         4 variables are exactly at the bounds\n",
      "\n",
      "At iterate    0    f=  1.88865D+04    |proj g|=  1.00000D+00\n",
      "\n",
      "At iterate    1    f=  1.81742D+04    |proj g|=  6.60570D-01\n",
      "\n",
      "At iterate    2    f=  1.81611D+04    |proj g|=  6.35753D-01\n",
      "\n",
      "At iterate    3    f=  1.81469D+04    |proj g|=  5.17870D-01\n",
      "\n",
      "At iterate    4    f=  1.81469D+04    |proj g|=  2.40027D-01\n",
      "\n",
      "At iterate    5    f=  1.81469D+04    |proj g|=  8.52514D-02\n",
      "\n",
      "           * * *\n",
      "\n",
      "Tit   = total number of iterations\n",
      "Tnf   = total number of function evaluations\n",
      "Tnint = total number of segments explored during Cauchy searches\n",
      "Skip  = number of BFGS updates skipped\n",
      "Nact  = number of active bounds at final generalized Cauchy point\n",
      "Projg = norm of the final projected gradient\n",
      "F     = final function value\n",
      "\n",
      "           * * *\n",
      "\n",
      "   N    Tit     Tnf  Tnint  Skip  Nact     Projg        F\n",
      "    4      5      7      8     0     0   8.525D-02   1.815D+04\n",
      "  F =   18146.892029376457     \n",
      "\n",
      "CONVERGENCE: REL_REDUCTION_OF_F_<=_FACTR*EPSMCH             \n"
     ]
    },
    {
     "name": "stderr",
     "output_type": "stream",
     "text": [
      "INFO:root:Theta updated. New theta_hat: [0.516 0.2   0.421 0.262]\n"
     ]
    },
    {
     "name": "stdout",
     "output_type": "stream",
     "text": [
      "Discretization setup:\n",
      "  - Cumulative Context (cc):    100 steps up to 8.00\n",
      "  - Cust. Degradation (cx):     50 steps up to 1.00\n",
      "  - Cust. Revenue (cu):         100 steps up to 1.00 (99.9th percentile)\n",
      "  - Rental Duration (T):        100 steps up to 76.01 (99.95th percentile)\n",
      "Pre-computing expectations from 100000 customer samples...\n",
      "Starting Numba-accelerated pre-computation of arrival dynamics...\n",
      "Pre-computation complete. ✅\n",
      "\n",
      "Starting Value Iteration...\n",
      "Iteration 10/100 | Max Change (Delta): 0.208715\n",
      "Iteration 20/100 | Max Change (Delta): 0.153586\n",
      "Iteration 30/100 | Max Change (Delta): 0.122396\n",
      "Iteration 40/100 | Max Change (Delta): 0.099400\n",
      "Iteration 50/100 | Max Change (Delta): 0.081152\n",
      "Iteration 60/100 | Max Change (Delta): 0.066342\n",
      "Iteration 70/100 | Max Change (Delta): 0.054255\n",
      "Iteration 80/100 | Max Change (Delta): 0.044374\n",
      "Iteration 90/100 | Max Change (Delta): 0.036293\n"
     ]
    },
    {
     "name": "stderr",
     "output_type": "stream",
     "text": [
      "INFO:root:Policy updated.\n",
      "100%|██████████| 40000/40000 [12:04:56<00:00,  1.09s/it]  \n",
      "INFO:root:Simulation finished.\n"
     ]
    },
    {
     "name": "stdout",
     "output_type": "stream",
     "text": [
      "Iteration 100/100 | Max Change (Delta): 0.029685\n",
      "\n",
      "Value iteration finished (max iterations reached).\n",
      "Policy saved to models/simulator_20250915_214415.discrete_policy.pkl\n"
     ]
    },
    {
     "name": "stderr",
     "output_type": "stream",
     "text": [
      "INFO:root:Simulation state saved to models/simulator_20250915_214415.\n"
     ]
    }
   ],
   "source": [
    "pacific_tz = timezone('America/Los_Angeles')\n",
    "current_time = datetime.now(pacific_tz).strftime(\"%Y%m%d_%H%M%S\")\n",
    "\n",
    "# simulator.projected_volume_learner.is_terminated = True\n",
    "simulation_data = simulator.run(num_customers=NUM_CUSTOMERS)\n",
    "degradation_df = pd.DataFrame(simulator.degradation_history)\n",
    "simulation_df = pd.DataFrame(simulator.history)\n",
    "\n",
    "degradation_df.to_csv(f'data/degradation_data_{current_time}.csv', index=False)\n",
    "simulation_df.to_csv(f'data/simulation_data_{current_time}.csv', index=False)\n",
    "simulator.save(f'models/simulator_{current_time}')"
   ]
  },
  {
   "cell_type": "code",
   "execution_count": null,
   "id": "5befa52f",
   "metadata": {},
   "outputs": [],
   "source": [
    "degradation_df = pd.DataFrame(simulator.degradation_history)\n",
    "simulation_df = pd.DataFrame(simulator.history)\n",
    "\n",
    "degradation_df.to_csv(f'data/degradation_data_{current_time}.csv', index=False)\n",
    "simulation_df.to_csv(f'data/simulation_data_{current_time}.csv', index=False)\n",
    "simulator.save(f'models/simulator_{current_time}')"
   ]
  },
  {
   "cell_type": "code",
   "execution_count": null,
   "id": "85a5ca6f",
   "metadata": {},
   "outputs": [],
   "source": []
  },
  {
   "cell_type": "code",
   "execution_count": null,
   "id": "b2839ef2",
   "metadata": {},
   "outputs": [],
   "source": [
    "degradation_df = pd.DataFrame(simulator.degradation_history)\n",
    "simulation_df = pd.DataFrame(simulator.history)\n",
    "\n",
    "degradation_df.to_csv(f'data/degradation_data_{current_time}.csv', index=False)\n",
    "simulation_df.to_csv(f'data/simulation_data_{current_time}.csv', index=False)\n",
    "simulator.save(f'models/simulator_{current_time}')"
   ]
  },
  {
   "cell_type": "markdown",
   "id": "2ffaa1c1",
   "metadata": {},
   "source": [
    "### Convergence of $\\hat\\theta$"
   ]
  },
  {
   "cell_type": "code",
   "execution_count": null,
   "id": "221cf058",
   "metadata": {},
   "outputs": [],
   "source": [
    "# simulator = Simulator.load('models/simulator_0914')\n",
    "\n",
    "history = pd.DataFrame(simulator.history)\n",
    "degradation_history = pd.DataFrame(simulator.degradation_history)\n",
    "\n",
    "epsilons = [0.20 * (0.95 ** i) for i in range(len(simulator.theta_updates))]\n",
    "\n",
    "times = []\n",
    "\n",
    "for d in simulator.theta_updates:\n",
    "    idx, theta_hat = d['customer_idx'], d['theta_hat']\n",
    "    time = history[history.customer_id == idx]['calendar_time'].max()\n",
    "    times.append(time)\n",
    "    \n",
    "# plot L2, and L-inf norms of utility updates\n",
    "L2_errors = [np.linalg.norm(update['theta_hat'] - THETA_TRUE) for update in simulator.theta_updates]\n",
    "Linf_errors = [np.linalg.norm(update['theta_hat'] - THETA_TRUE, ord=np.inf) for update in simulator.theta_updates]\n",
    "\n",
    "plt.figure(figsize=(12, 6))\n",
    "plt.plot(times, L2_errors, label='$L_2$ Norm Error', marker='o')\n",
    "plt.plot(times, Linf_errors, label='$L_\\infty$ Norm Error', marker='x')\n",
    "plt.plot(times, epsilons, label='Exploration Rate (ε)', linestyle='--', color='gray')\n",
    "# plt.yscale('log')\n",
    "plt.xlabel('Number of Customers Processed', fontsize=14)\n",
    "plt.ylabel('Error Norm', fontsize=14)\n",
    "\n",
    "plt.title('Convergence of $\\|\\hat{\\\\theta} - \\\\theta\\|$', fontsize=18)\n",
    "plt.legend(fontsize=12)\n",
    "plt.grid(True)\n",
    "plt.savefig('figures/utility_convergence.pdf')\n",
    "plt.show()"
   ]
  },
  {
   "cell_type": "markdown",
   "id": "1c192729",
   "metadata": {},
   "source": [
    "### Convergence of $\\hat u$"
   ]
  },
  {
   "cell_type": "code",
   "execution_count": null,
   "id": "628dd0f7",
   "metadata": {},
   "outputs": [],
   "source": [
    "simulator.utility_updates\n",
    "\n",
    "# plot L2, and L-inf norms of utility updates\n",
    "L2_errors = [np.linalg.norm(update['u_hat'] - UTILITY_TRUE) for update in simulator.utility_updates]\n",
    "Linf_errors = [np.linalg.norm(update['u_hat'] - UTILITY_TRUE, ord=np.inf) for update in simulator.utility_updates]\n",
    "\n",
    "plt.figure(figsize=(12, 6))\n",
    "plt.plot(L2_errors, label='$L_2$ Norm Error', marker='o')\n",
    "plt.plot(Linf_errors, label='$L_\\infty$ Norm Error', marker='x')\n",
    "# plt.yscale('log')\n",
    "plt.xlabel('Number of Customers Processed', fontsize=14)\n",
    "plt.ylabel('Error Norm', fontsize=14)\n",
    "\n",
    "plt.title('Convergence of $\\|\\hat u - u\\|$', fontsize=18)\n",
    "plt.legend(fontsize=12)\n",
    "plt.grid(True)\n",
    "plt.savefig('figures/utility_convergence.pdf')\n",
    "plt.show()"
   ]
  },
  {
   "cell_type": "markdown",
   "id": "211146ca",
   "metadata": {},
   "source": [
    "### Revenue of Online Learner"
   ]
  },
  {
   "cell_type": "code",
   "execution_count": null,
   "id": "6288559c",
   "metadata": {},
   "outputs": [],
   "source": [
    "degradation_df = pd.DataFrame(simulator.degradation_history)\n",
    "simulation_df = pd.DataFrame(simulator.history)\n",
    "\n",
    "simulation_df['net_profit'] = simulation_df['profit'] + simulation_df['loss']\n",
    "simulation_df['cumulative_net_profit'] = simulation_df['net_profit'].cumsum()\n",
    "\n",
    "ax = plt.figure(figsize=(10,6))\n",
    "\n",
    "# plot cumulative profit and loss over time\n",
    "plt.plot(simulation_df['calendar_time'], simulation_df['cumulative_net_profit'], label='Cumulative Net Profit')\n",
    "plt.xlabel('Calendar Time')\n",
    "plt.ylabel('Cumulative Net Profit')\n",
    "plt.title('Cumulative Net Profit Over Time')\n",
    "plt.legend()\n",
    "plt.grid()\n",
    "plt.savefig('figures/cumulative_net_profit_online.pdf')\n",
    "plt.show()"
   ]
  },
  {
   "cell_type": "markdown",
   "id": "dec0fff9",
   "metadata": {},
   "source": [
    "## Training policy under perfect information"
   ]
  },
  {
   "cell_type": "markdown",
   "id": "de203c94",
   "metadata": {},
   "source": [
    "### Revenue of Optimal Policy"
   ]
  },
  {
   "cell_type": "code",
   "execution_count": null,
   "id": "a8793230",
   "metadata": {},
   "outputs": [],
   "source": [
    "class PerfectDegradationLearner:\n",
    "    def __init__(self, d, theta_true, hazard_model):\n",
    "        self.d = d\n",
    "        self.theta_true = theta_true\n",
    "        self.hazard_model = hazard_model  # Placeholder, not used\n",
    "        \n",
    "    def get_theta(self):\n",
    "        return self.theta_true\n",
    "    \n",
    "    def cum_baseline(self, t):\n",
    "        return self.hazard_model.Lambda_0(t)\n",
    "    \n",
    "    def inverse_cum_baseline(self, u):\n",
    "        return self.hazard_model.Lambda_0_inverse(u)\n",
    "    \n",
    "perfect_degradation_learner = PerfectDegradationLearner(\n",
    "    d=D, \n",
    "    theta_true=THETA_TRUE,\n",
    "    hazard_model=usage_exp_hazard_model,\n",
    ")\n",
    "\n",
    "# N_perfect = [100, 40, 80, 150]\n",
    "\n",
    "perfect_dpagent = DiscretizedDPAgent(\n",
    "    N=simulator.training_hyperparams['N'], # grid sizes [cum_context, context, duration, active_time]\n",
    "    max_cumulative_context=simulator.training_hyperparams['max_cumulative_context'],\n",
    "    # max_active_time=simulator.training_hyperparams['max_active_time'],\n",
    "    u_hat=UTILITY_TRUE,\n",
    "    degradation_learner=perfect_degradation_learner,\n",
    "    customer_generator=customer_gen,\n",
    "    params=simulator.mdp_params,\n",
    ")\n",
    "# perfect_dpagent.run_value_iteration(simulator.training_hyperparams['num_value_iterations'])\n",
    "\n",
    "# weight = torch.load('weights/perfect_dpagent_q_network.pth', map_location=torch.device('cuda'))\n",
    "# perfect_dpagent.q_network.load_state_dict(weight)\n",
    "# perfect_dpagent.q_network.to(perfect_dpagent.device)\n",
    "# perfect_dpagent.q_network.eval()\n",
    "perfect_dpagent._precompute_dynamics(100000)\n",
    "perfect_dpagent.run_value_iteration(150)\n",
    "perfect_policy = perfect_dpagent.get_policy('greedy')"
   ]
  },
  {
   "cell_type": "code",
   "execution_count": null,
   "id": "ade6b251",
   "metadata": {},
   "outputs": [],
   "source": [
    "simulation_df = pd.DataFrame(simulator.history)\n",
    "# simulator.degradation_learner = perfect_degradation_learner\n",
    "samples = simulator.run_full_exploit(100000, perfect_policy, {'tau': 0.01})\n",
    "samples = pd.DataFrame(samples)\n",
    "\n",
    "simulation_df['net_profit'] = simulation_df['profit'] + simulation_df['loss']\n",
    "simulation_df['cumulative_net_profit'] = simulation_df['net_profit'].cumsum()\n",
    "samples['net_profit'] = samples['profit'] + samples['loss']\n",
    "samples['cumulative_net_profit'] = samples['net_profit'].cumsum()\n",
    "\n",
    "samples['netprofit_per_time'] = samples['cumulative_net_profit'] / samples['calendar_time']\n",
    "simulation_df['netprofit_per_time'] = simulation_df['cumulative_net_profit'] / simulation_df['calendar_time']"
   ]
  },
  {
   "cell_type": "code",
   "execution_count": null,
   "id": "674b44a1",
   "metadata": {},
   "outputs": [],
   "source": [
    "def calculate_rolling_rate(df, time_col, value_col, window_size):\n",
    "    \"\"\"\n",
    "    Calculates the rate of a value over a rolling time window on irregular time series data.\n",
    "\n",
    "    Args:\n",
    "        df (pd.DataFrame): The input dataframe.\n",
    "        time_col (str): The name of the column with time data.\n",
    "        value_col (str): The name of the column with values to aggregate (e.g., 'net_profit').\n",
    "        window_size (int): The duration of the rolling time window.\n",
    "\n",
    "    Returns:\n",
    "        pd.Series: A series containing the calculated rolling rate for each row.\n",
    "    \"\"\"\n",
    "    # Ensure the dataframe is sorted by time, which is crucial.\n",
    "    df = df.sort_values(time_col).reset_index(drop=True)\n",
    "    \n",
    "    times = df[time_col].values\n",
    "    values = df[value_col].values\n",
    "    \n",
    "    # For each end time `t_i`, find the start time `t_i - window`.\n",
    "    start_times = times - window_size\n",
    "    \n",
    "    # Use searchsorted to find the index where each start_time would be inserted.\n",
    "    # This gives us the starting index of each time window efficiently.\n",
    "    start_indices = np.searchsorted(times, start_times, side='left')\n",
    "    \n",
    "    # Use a cumulative sum to efficiently calculate the sum over any slice [j, i].\n",
    "    value_cumsum = np.cumsum(values)\n",
    "    \n",
    "    # The sum for a window ending at `i` is cumsum[i] - cumsum[start_index - 1].\n",
    "    # We create a shifted cumulative sum array to handle the `start_index - 1` lookup.\n",
    "    shifted_cumsum = np.concatenate(([0], value_cumsum[:-1]))\n",
    "    \n",
    "    # Calculate the sum of values within each rolling window.\n",
    "    window_sums = value_cumsum - shifted_cumsum[start_indices]\n",
    "    \n",
    "    # The rate is the sum of profit in the window divided by the window's duration.\n",
    "    profit_rate = window_sums / window_size\n",
    "    \n",
    "    return pd.Series(profit_rate, index=df.index)\n",
    "\n",
    "\n",
    "# --- 2. Calculate net profit and the rolling rate for each DataFrame ---\n",
    "\n",
    "window_duration = 20000 # Define the time window for the rolling rate\n",
    "\n",
    "for df in [simulation_df]:\n",
    "# for df in [samples]:\n",
    "    df['net_profit'] = df['profit'] + df['loss']\n",
    "    # Add the new 'profit_rate' column using our helper function\n",
    "    df['profit_rate'] = calculate_rolling_rate(df, 'calendar_time', 'net_profit', window_duration)"
   ]
  },
  {
   "cell_type": "code",
   "execution_count": null,
   "id": "a3a5d8bd",
   "metadata": {},
   "outputs": [],
   "source": [
    "# --- 3. Plot the new rolling profit rate ---\n",
    "\n",
    "# max_time = min(simulation_df['calendar_time'].max(), samples['calendar_time'].max())\n",
    "max_time = simulation_df['calendar_time'].max()\n",
    "# samples_plot = samples[(window_duration <= samples['calendar_time']) & (samples['calendar_time'] <= max_time)]\n",
    "simulations_plot = simulation_df[\n",
    "    (window_duration <= simulation_df['calendar_time']) &\n",
    "    (simulation_df['calendar_time'] <= max_time)]\n",
    "\n",
    "\n",
    "plt.figure(figsize=(10, 6))\n",
    "\n",
    "# plt.plot(samples_plot['calendar_time'], samples_plot['profit_rate'], label=f'Optimal Policy (Rolling {window_duration} unit avg)')\n",
    "plt.plot(simulations_plot['calendar_time'], simulations_plot['profit_rate'], label=f'Online Learning (Rolling {window_duration} unit avg)')\n",
    "\n",
    "plt.xlabel('Calendar Time')\n",
    "plt.ylabel('Profit Rate (Profit / Time Unit)')\n",
    "plt.title(f'Rolling Profit Rate Over Time (Window = {window_duration} time units)')\n",
    "plt.legend()\n",
    "plt.grid(True)\n",
    "plt.show()"
   ]
  },
  {
   "cell_type": "code",
   "execution_count": null,
   "id": "a07a5571",
   "metadata": {},
   "outputs": [],
   "source": []
  }
 ],
 "metadata": {
  "kernelspec": {
   "display_name": "res",
   "language": "python",
   "name": "python3"
  },
  "language_info": {
   "codemirror_mode": {
    "name": "ipython",
    "version": 3
   },
   "file_extension": ".py",
   "mimetype": "text/x-python",
   "name": "python",
   "nbconvert_exporter": "python",
   "pygments_lexer": "ipython3",
   "version": "3.9.20"
  }
 },
 "nbformat": 4,
 "nbformat_minor": 5
}
