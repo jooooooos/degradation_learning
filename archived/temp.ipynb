{
 "cells": [
  {
   "cell_type": "code",
   "execution_count": 1,
   "metadata": {},
   "outputs": [],
   "source": [
    "import numpy as np\n",
    "import matplotlib.pyplot as plt\n",
    "import seaborn as sns\n",
    "\n",
    "from tqdm.notebook import tqdm, trange\n",
    "from numba import njit, prange"
   ]
  },
  {
   "cell_type": "code",
   "execution_count": 2,
   "metadata": {},
   "outputs": [],
   "source": [
    "N = 100\n",
    "\n",
    "a, b, m = 0.1, 0.02, 2.5 # parameters for the failure rate function\n",
    "theta = 1 # degradation rate\n",
    "\n",
    "max_degradation = 50\n",
    "c = 3 # per-time holding cost\n",
    "RC = 15 # replacement const\n",
    "u = 10 # utility constant\n",
    "\n",
    "def failure_rate(d):\n",
    "    \"\"\"\n",
    "    Calculate the failure rate of the machine based on its current degradation level.\n",
    "    The failure rate is modeled as a quadratic function of the degradation level.\n",
    "    The parameters a, b, and m are constants that define the shape of the function.\n",
    "\n",
    "    Args:\n",
    "        d (float): Current degradation level\n",
    "\n",
    "    Returns:\n",
    "        float: Failure rate\n",
    "    \"\"\"\n",
    "    return a + b(d - m) ** 2\n",
    "\n",
    "def failure_probability(d, x, max_degradation=max_degradation):\n",
    "    \"\"\"\n",
    "    Calculate the probability of failure based on the current degradation level and an increment in degradation level.\n",
    "\n",
    "    Args:\n",
    "        d (float): Current degradation level\n",
    "        x (float): Increment in degradation level\n",
    "        max_degradation (float): Maximum degradation level\n",
    "\n",
    "    Returns:\n",
    "        p: Probability of failure\n",
    "    \"\"\"\n",
    "    if d + x > max_degradation:\n",
    "        return 1\n",
    "    return 1 - np.exp(\n",
    "        -(\n",
    "            a*x + b*x*(3*m**2 - 3*m*(x+2*d) + x**2 + 3*x*d + 3*d**2)/3   \n",
    "        )\n",
    "    )\n",
    "\n",
    "def get_random_increment_x():\n",
    "    \"\"\"\n",
    "    Sample a random increment x from a discrete uniform distribution.\n",
    "\n",
    "    Returns:\n",
    "        x: Random increment\n",
    "    \"\"\"\n",
    "    return np.random.randint(N) / N\n",
    "\n",
    "def simulate_machine():\n",
    "    usage = 0\n",
    "    time_until_failure = 0\n",
    "    \n",
    "    while True:\n",
    "        x = get_random_increment_x()\n",
    "        \n",
    "        p = np.random.random()\n",
    "        if p <= failure_probability(usage, x):\n",
    "            # machine failure\n",
    "            return usage, time_until_failure\n",
    "        usage += x\n",
    "        time_until_failure += 1\n"
   ]
  },
  {
   "cell_type": "code",
   "execution_count": 3,
   "metadata": {},
   "outputs": [],
   "source": [
    "precision = 2"
   ]
  },
  {
   "cell_type": "code",
   "execution_count": 4,
   "metadata": {},
   "outputs": [],
   "source": [
    "contexts = np.arange(0.2, 1 + 1/N, 1 / N).round(precision).tolist()\n",
    "states = np.arange(0, max_degradation, 1/N).round(precision).tolist()\n",
    "actions = [0, 1]\n",
    "\n",
    "n_states = len(states)\n",
    "n_contexts = len(contexts)\n",
    "n_actions = len(actions)\n",
    "\n",
    "P = np.zeros((n_states, n_contexts, n_actions, n_states, n_contexts), dtype=np.float32)\n",
    "R = np.zeros((n_states, n_contexts, n_actions, n_states), dtype=np.float32)"
   ]
  },
  {
   "cell_type": "code",
   "execution_count": 5,
   "metadata": {},
   "outputs": [
    {
     "data": {
      "text/plain": [
       "0.9998774575838142"
      ]
     },
     "execution_count": 5,
     "metadata": {},
     "output_type": "execute_result"
    }
   ],
   "source": [
    "failure_probability(49.80, 0.20)"
   ]
  },
  {
   "cell_type": "code",
   "execution_count": 6,
   "metadata": {},
   "outputs": [
    {
     "data": {
      "application/vnd.jupyter.widget-view+json": {
       "model_id": "fb7b2d61e88141df92188252e981db31",
       "version_major": 2,
       "version_minor": 0
      },
      "text/plain": [
       "0it [00:00, ?it/s]"
      ]
     },
     "metadata": {},
     "output_type": "display_data"
    }
   ],
   "source": [
    "# initialize the transition and reward matrices\n",
    "\n",
    "for s_ind, s in tqdm(enumerate(states)):\n",
    "    for x_ind, x in enumerate(contexts):\n",
    "        for a_ind, a in enumerate(actions):\n",
    "            if a == 0: # do nothing\n",
    "                P[s_ind, x_ind, a_ind, s_ind, :] = 1 / n_contexts\n",
    "                R[s_ind, x_ind, a_ind, s_ind] = -c\n",
    "            else: # replace\n",
    "                ns = round(s + x, precision)\n",
    "                ind_ns = round(ns * 100) if ns <= states[-1] else 0\n",
    "                \n",
    "                # upon failure, the machine is replaced and the degradation level is reset to 0\n",
    "                p = failure_probability(s, x)\n",
    "                P[s_ind, x_ind, a_ind, 0] = p / n_contexts\n",
    "                P[s_ind, x_ind, a_ind, ind_ns] = (1 - p) / n_contexts\n",
    "                \n",
    "                R[s_ind, x_ind, a_ind, ind_ns] = u * x\n",
    "                R[s_ind, x_ind, a_ind, 0] = u * x - RC\n",
    "                \n",
    "                # if s == 4.31 and x == .80:\n",
    "                #     print(s_ind, x_ind, ns, ind_ns)\n",
    "                #     print(P[s_ind, x_ind, a_ind, n_states-1])\n",
    "                #     print(P[s_ind, x_ind, a_ind, ind_ns])"
   ]
  },
  {
   "cell_type": "code",
   "execution_count": 7,
   "metadata": {},
   "outputs": [
    {
     "name": "stdout",
     "output_type": "stream",
     "text": [
      "Current state: 14.31\n",
      "Increment: 0.8\n",
      "\n",
      "Next state: 15.11\n",
      "Success Probability: 0.04132866859436035\n",
      "Failure Probability: 0.9586713314056396\n",
      "Reward, No Action: -3.0\n",
      "Reward, No Failure: 8.0\n",
      "Reward, Failure: -7.0\n"
     ]
    }
   ],
   "source": [
    "s, x = 14.31, .80\n",
    "s_ind = round(s * 100)\n",
    "x_ind = round(x*100 - 20)\n",
    "ns = round(s + x, 2)\n",
    "ns_ind = min(\n",
    "    round(ns * 100),\n",
    "    n_states-1\n",
    ")\n",
    "\n",
    "print(f\"Current state: {s}\\nIncrement: {x}\\n\")\n",
    "print(f\"Next state: {'Terminal' if ns_ind == n_states - 1 else states[ns_ind]}\")\n",
    "print(f\"Success Probability: {P[s_ind, x_ind, 1, ns_ind].sum()}\")\n",
    "print(f\"Failure Probability: {P[s_ind, x_ind, 1, 0].sum()}\")\n",
    "print(f\"Reward, No Action: {R[s_ind, x_ind, 0, s_ind]}\\nReward, No Failure: {R[s_ind, x_ind, 1, ns_ind]}\\nReward, Failure: {R[s_ind, x_ind, 1, 0]}\")"
   ]
  },
  {
   "cell_type": "code",
   "execution_count": 8,
   "metadata": {},
   "outputs": [],
   "source": [
    "# arr = P[s_ind, x_ind, 1, :]\n",
    "\n",
    "# nonzero_indices = np.nonzero(arr)[0]  # Get indices of nonzero elements\n",
    "# nonzero_values = arr[nonzero_indices]\n",
    "# result = list(zip(nonzero_indices, nonzero_values))\n",
    "\n",
    "# print(result)"
   ]
  },
  {
   "cell_type": "code",
   "execution_count": 9,
   "metadata": {},
   "outputs": [
    {
     "data": {
      "text/plain": [
       "((5000, 81, 2, 5000, 81), (5000, 81, 2, 5000))"
      ]
     },
     "execution_count": 9,
     "metadata": {},
     "output_type": "execute_result"
    }
   ],
   "source": [
    "P.shape, R.shape"
   ]
  },
  {
   "cell_type": "code",
   "execution_count": 10,
   "metadata": {},
   "outputs": [
    {
     "data": {
      "text/plain": [
       "(5000, 81, 2)"
      ]
     },
     "execution_count": 10,
     "metadata": {},
     "output_type": "execute_result"
    }
   ],
   "source": [
    "n_states, n_contexts, n_actions"
   ]
  },
  {
   "cell_type": "code",
   "execution_count": 11,
   "metadata": {},
   "outputs": [],
   "source": [
    "import torch\n",
    "\n",
    "# Assumed shapes\n",
    "# P: [n_states, n_contexts, n_actions, n_states, n_contexts]\n",
    "# R: [n_states, n_contexts, n_actions, n_states]\n",
    "# V_prev: [n_states, n_contexts]\n",
    "\n",
    "device = torch.device('mps')  # or 'cuda' if available, or 'cpu'"
   ]
  },
  {
   "cell_type": "code",
   "execution_count": 12,
   "metadata": {},
   "outputs": [
    {
     "data": {
      "text/plain": [
       "(5000, 81, 2, 5000, 81)"
      ]
     },
     "execution_count": 12,
     "metadata": {},
     "output_type": "execute_result"
    }
   ],
   "source": [
    "P.shape"
   ]
  },
  {
   "cell_type": "code",
   "execution_count": 13,
   "metadata": {},
   "outputs": [
    {
     "ename": "",
     "evalue": "",
     "output_type": "error",
     "traceback": [
      "\u001b[1;31mThe Kernel crashed while executing code in the current cell or a previous cell. \n",
      "\u001b[1;31mPlease review the code in the cell(s) to identify a possible cause of the failure. \n",
      "\u001b[1;31mClick <a href='https://aka.ms/vscodeJupyterKernelCrash'>here</a> for more info. \n",
      "\u001b[1;31mView Jupyter <a href='command:jupyter.viewOutput'>log</a> for further details."
     ]
    }
   ],
   "source": [
    "# Keep large P on CPU\n",
    "P = torch.tensor(P, dtype=torch.float32, device='cpu')  # huge!\n",
    "R = torch.tensor(R, dtype=torch.float32, device='cpu')  # large\n",
    "V = np.zeros((n_states, n_contexts))\n",
    "\n",
    "V_prev = torch.tensor(V, dtype=torch.float32, device=device)  # small enough to fit\n",
    "n_states, n_contexts, n_actions = P.shape[:3]\n",
    "Q = torch.zeros((n_states, n_contexts, n_actions), device=device)\n",
    "\n",
    "gamma = 0.99\n",
    "\n",
    "for s in trange(n_states):\n",
    "    for x in range(n_contexts):\n",
    "        for a in range(n_actions):\n",
    "            # Only move one slice of P and R to GPU\n",
    "            P_sxa = P[s, x, a].to(device)  # [n_states, n_contexts]\n",
    "            R_sxa = R[s, x, a].to(device)  # [n_states]\n",
    "\n",
    "            reward = (P_sxa * R_sxa[:, None]).sum()\n",
    "            future = (P_sxa * V_prev).sum()\n",
    "\n",
    "            Q[s, x, a] = reward + gamma * future\n",
    "\n",
    "# Convert back to numpy if needed\n",
    "Q = Q.cpu().numpy()"
   ]
  },
  {
   "cell_type": "code",
   "execution_count": null,
   "metadata": {},
   "outputs": [],
   "source": [
    "def value_iteration(P, R, gamma, theta, max_iter):\n",
    "    n_states, n_contexts, n_actions, _, _ = P.shape\n",
    "    V = np.zeros((n_states, n_contexts))\n",
    "    policy = np.zeros((n_states, n_contexts), dtype=np.int64)\n",
    "\n",
    "    for _ in trange(max_iter):\n",
    "        delta = 0.0\n",
    "        V_prev = V.copy()\n",
    "        \n",
    "        # We can parallelize over s and x, but must do a 2D loop\n",
    "        \n",
    "        Q = np.zeros((n_states, n_contexts, n_actions))\n",
    "        \n",
    "        reward = np.einsum('sxasn,sxas...->sxa', P, R[..., np.newaxis])\n",
    "        future = np.einsum('sxasn,sn->sxa', P, V_prev)\n",
    "        Q = reward + gamma * future\n",
    "\n",
    "        # Total Q-value\n",
    "        return Q\n",
    "                        \n",
    "    #             best_a = np.argmax(Q_values)\n",
    "    #             best_v = Q_values[best_a]\n",
    "    #             policy[s, x] = best_a\n",
    "    #             V[s, x] = best_v\n",
    "    #             diff = abs(best_v - V_prev[s,x])\n",
    "                \n",
    "    #             if diff > delta:\n",
    "    #                 delta = diff\n",
    "    #     if delta < theta:\n",
    "    #         break\n",
    "\n",
    "    # return V, policy\n"
   ]
  },
  {
   "cell_type": "code",
   "execution_count": null,
   "metadata": {},
   "outputs": [],
   "source": [
    "V, policy = value_iteration(\n",
    "    P, R,\n",
    "    gamma=1.0, theta=1e-8, max_iter=10000\n",
    ")"
   ]
  },
  {
   "cell_type": "code",
   "execution_count": null,
   "metadata": {},
   "outputs": [],
   "source": [
    "Q = value_iteration(\n",
    "    P, R,\n",
    "    gamma=1.0, theta=1e-8, max_iter=10000\n",
    ")"
   ]
  },
  {
   "cell_type": "code",
   "execution_count": null,
   "metadata": {},
   "outputs": [],
   "source": [
    "# plot the value function as heatmap\n",
    "\n",
    "plt.figure(figsize=(6, 4))\n",
    "sns.heatmap(V, cmap=\"YlGnBu\", cbar=True, xticklabels=contexts, yticklabels=states)\n",
    "plt.title(\"Value Function Heatmap\")\n",
    "plt.xlabel(\"Contexts\")\n",
    "plt.ylabel(\"States\")\n",
    "\n",
    "# set x ticks to be multiples of 2\n",
    "# set y ticks to be multiples of 0.1\n",
    "plt.xticks(ticks=np.arange(0, len(contexts), 10), labels=contexts[::10])\n",
    "plt.yticks(ticks=np.arange(0, len(states), 500), labels=states[::500])\n",
    "plt.grid(False)\n",
    "plt.tight_layout()\n",
    "plt.show()"
   ]
  },
  {
   "cell_type": "code",
   "execution_count": null,
   "metadata": {},
   "outputs": [],
   "source": []
  }
 ],
 "metadata": {
  "kernelspec": {
   "display_name": "res",
   "language": "python",
   "name": "python3"
  },
  "language_info": {
   "codemirror_mode": {
    "name": "ipython",
    "version": 3
   },
   "file_extension": ".py",
   "mimetype": "text/x-python",
   "name": "python",
   "nbconvert_exporter": "python",
   "pygments_lexer": "ipython3",
   "version": "3.9.20"
  }
 },
 "nbformat": 4,
 "nbformat_minor": 2
}
