{
 "cells": [
  {
   "cell_type": "code",
   "execution_count": 50,
   "metadata": {},
   "outputs": [],
   "source": [
    "import numpy as np\n",
    "import matplotlib.pyplot as plt\n",
    "from tqdm.notebook import tqdm, trange\n",
    "np.set_printoptions(suppress=True)\n",
    "\n",
    "import autograd.numpy as anp\n",
    "from autograd import hessian, grad\n",
    "from autograd import grad as grad_a\n",
    "\n",
    "import jax\n",
    "import jax.numpy as jnp\n",
    "from jax import jit\n",
    "from jax import grad as grad_j"
   ]
  },
  {
   "cell_type": "code",
   "execution_count": 3,
   "metadata": {},
   "outputs": [],
   "source": [
    "N = 100\n",
    "\n",
    "a, b, m = 0.1, 0.02, 2.5 # parameters for the failure rate function\n",
    "\n",
    "def failure_probability(d, x):\n",
    "    \"\"\"\n",
    "    Calculate the probability of failure based on the current degradation level and an increment in degradation level.\n",
    "\n",
    "    Args:\n",
    "        d (float): Current degradation level\n",
    "        x (float): Increment in degradation level\n",
    "        max_degradation (float): Maximum degradation level\n",
    "\n",
    "    Returns:\n",
    "        p: Probability of failure\n",
    "    \"\"\"\n",
    "    return 1 - np.exp(\n",
    "        -(\n",
    "            a*x + b*x*(3*m**2 - 3*m*(x+2*d) + x**2 + 3*x*d + 3*d**2)/3   \n",
    "        )\n",
    "    )\n",
    "\n",
    "def log_likelihood(theta, X, Z, y):\n",
    "    \"\"\"\n",
    "    Calculate the log-likelihood of the model given the parameters and data.\n",
    "\n",
    "    Args:\n",
    "        theta (np.ndarray): Model parameters\n",
    "        X (np.ndarray): Current observed contexts\n",
    "        Z (np.ndarray): Cumulative observed contexts\n",
    "        y (np.ndarray): Failure outcome\n",
    "\n",
    "    Returns:\n",
    "        log_likelihood: Log-likelihood value\n",
    "    \"\"\"\n",
    "    p = failure_probability(Z @ theta.T, X @ theta.T).flatten()\n",
    "    return np.sum(y * np.log(p) + (1 - y) * np.log(1 - p))\n",
    "\n",
    "def failure_probability_anp(d, x):\n",
    "    return 1 - anp.exp(-(\n",
    "        a * x + b * x * (3 * m**2 - 3 * m * (x + 2 * d) + x**2 + 3 * x * d + 3 * d**2) / 3\n",
    "    ))\n",
    "\n",
    "def log_likelihood_anp(theta, X, Z, y):\n",
    "    theta = theta.reshape(-1, 1)\n",
    "    d = anp.dot(Z, theta)  # (n, 1)\n",
    "    x = anp.dot(X, theta)  # (n, 1)\n",
    "    p = failure_probability_anp(d, x).flatten()\n",
    "    p = anp.clip(p, 1e-8, 1 - 1e-8)  # avoid log(0)\n",
    "    return anp.sum(y * anp.log(p) + (1 - y) * anp.log(1 - p))\n",
    "\n",
    "def compute_hessian_and_se(theta_hat, X, Z, y):\n",
    "    hess_fn = hessian(log_likelihood_anp)\n",
    "    H = hess_fn(theta_hat, X, Z, y)\n",
    "    cov = -np.linalg.inv(H)  # negative because log-likelihood is maximized, not minimized\n",
    "    std_errors = np.sqrt(np.diag(cov))\n",
    "    return H, cov, std_errors\n",
    "\n",
    "def get_random_increment_x():\n",
    "    \"\"\"\n",
    "    Sample a random increment x from a discrete uniform distribution.\n",
    "\n",
    "    Returns:\n",
    "        x: Random increment\n",
    "    \"\"\"\n",
    "    return np.random.randint(N) / N\n",
    "\n",
    "def simulate_machine(theta, d):\n",
    "    usage = np.zeros(d)\n",
    "    time_until_failure = 0\n",
    "    contexts = np.zeros((0, d))\n",
    "    \n",
    "    while True:\n",
    "        x = np.random.uniform(0, 1, size=d)\n",
    "        contexts = np.vstack((contexts, x))\n",
    "        \n",
    "        current_degradation = theta @ usage\n",
    "        additional_degradation = theta @ x\n",
    "        p = np.random.random()\n",
    "        if p <= failure_probability(current_degradation, additional_degradation):\n",
    "            # machine failure\n",
    "            return contexts\n",
    "        usage += x\n",
    "        time_until_failure += 1\n"
   ]
  },
  {
   "cell_type": "markdown",
   "metadata": {},
   "source": [
    "Create a sample trajectory and see its log-likelihood and Fisher information"
   ]
  },
  {
   "cell_type": "code",
   "execution_count": 96,
   "metadata": {},
   "outputs": [],
   "source": [
    "d = 15\n",
    "theta = np.random.uniform(0, 1, size=(1,d))\n",
    "contexts = simulate_machine(theta=theta, d=d)\n",
    "cumulative_contexts = np.cumsum(contexts, axis=0)\n",
    "cumulative_contexts = np.vstack((np.zeros(d), cumulative_contexts[:-1]))\n",
    "y = np.zeros(len(contexts))\n",
    "y[-1] = 1"
   ]
  },
  {
   "cell_type": "code",
   "execution_count": 97,
   "metadata": {},
   "outputs": [
    {
     "name": "stderr",
     "output_type": "stream",
     "text": [
      "/var/folders/k0/fk1yjsp11fg_7yjml4xg3kmc0000gn/T/ipykernel_79551/558438223.py:56: RuntimeWarning: invalid value encountered in sqrt\n",
      "  std_errors = np.sqrt(np.diag(cov))\n"
     ]
    }
   ],
   "source": [
    "avg_log_likelihood = log_likelihood(theta=theta, X=contexts, Z=cumulative_contexts, y=y) / len(contexts)\n",
    "H, cov, std_errs = compute_hessian_and_se(theta.flatten(), X=contexts, Z=cumulative_contexts, y=y)"
   ]
  },
  {
   "cell_type": "code",
   "execution_count": 98,
   "metadata": {},
   "outputs": [
    {
     "data": {
      "text/plain": [
       "(-0.6367192445001768,\n",
       " array([            nan,  1.22360357e+17,             nan,  8.24664329e+16,\n",
       "                    nan,             nan,             nan,  1.81638045e+17,\n",
       "         4.70490094e+09,             nan,  2.68229065e+09, -0.00000000e+00,\n",
       "         3.09454797e+17,             nan,  2.82251285e+17]))"
      ]
     },
     "execution_count": 98,
     "metadata": {},
     "output_type": "execute_result"
    }
   ],
   "source": [
    "avg_log_likelihood, std_errs"
   ]
  },
  {
   "cell_type": "code",
   "execution_count": 99,
   "metadata": {},
   "outputs": [],
   "source": [
    "X, Z, y = np.zeros((0, d)), np.zeros((0, d)), np.zeros(0)\n",
    "\n",
    "for i in range(500):\n",
    "    contexts = simulate_machine(theta=theta, d=d)\n",
    "    cumulative_contexts = np.cumsum(contexts, axis=0)\n",
    "    cumulative_contexts = np.vstack((np.zeros(d), cumulative_contexts[:-1]))\n",
    "    \n",
    "    X = np.vstack((X, contexts))\n",
    "    Z = np.vstack((Z, cumulative_contexts))\n",
    "    y_temp = np.zeros(contexts.shape[0])\n",
    "    y_temp[-1] = 1\n",
    "    y = np.concatenate((y, y_temp))"
   ]
  },
  {
   "cell_type": "code",
   "execution_count": 100,
   "metadata": {},
   "outputs": [
    {
     "data": {
      "text/plain": [
       "array([[0.59131553, 0.60951556, 0.89197034, 0.98020172, 0.34501594,\n",
       "        0.18477516, 0.82445028, 0.67304943, 0.49415291, 0.73250509,\n",
       "        0.89123581, 0.74942051, 0.06764342, 0.97528009, 0.7120251 ]])"
      ]
     },
     "execution_count": 100,
     "metadata": {},
     "output_type": "execute_result"
    }
   ],
   "source": [
    "theta"
   ]
  },
  {
   "cell_type": "code",
   "execution_count": 101,
   "metadata": {},
   "outputs": [
    {
     "data": {
      "text/plain": [
       "(-0.5392286997935356,\n",
       " array([0.47462341, 0.47137324, 0.44511635, 0.44968223, 0.44556066,\n",
       "        0.44814241, 0.47620086, 0.48811033, 0.43361021, 0.48218269,\n",
       "        0.47923732, 0.45667863, 0.42682661, 0.45226198, 0.46482922]))"
      ]
     },
     "execution_count": 101,
     "metadata": {},
     "output_type": "execute_result"
    }
   ],
   "source": [
    "avg_log_likelihood = log_likelihood_anp(theta=theta, X=X, Z=Z, y=y) / len(X)\n",
    "H, cov, std_errs = compute_hessian_and_se(theta.flatten(), X=X, Z=Z, y=y)\n",
    "avg_log_likelihood, std_errs"
   ]
  },
  {
   "cell_type": "code",
   "execution_count": 102,
   "metadata": {},
   "outputs": [
    {
     "data": {
      "text/plain": [
       "(-0.8548291027373381,\n",
       " array([0.50355889, 0.4706071 , 0.53950426, 0.48087311, 0.4698978 ,\n",
       "        0.50224862, 0.58432243, 0.46386875, 0.48673497, 0.46380227,\n",
       "        0.47102247, 0.45985276, 0.43587186, 0.47706726, 0.51184732]))"
      ]
     },
     "execution_count": 102,
     "metadata": {},
     "output_type": "execute_result"
    }
   ],
   "source": [
    "fake_theta = 1-theta\n",
    "avg_log_likelihood = log_likelihood_anp(theta=fake_theta, X=X, Z=Z, y=y) / len(X)\n",
    "H, cov, std_errs = compute_hessian_and_se(fake_theta.flatten(), X=X, Z=Z, y=y)\n",
    "avg_log_likelihood, std_errs"
   ]
  },
  {
   "cell_type": "code",
   "execution_count": 103,
   "metadata": {},
   "outputs": [],
   "source": [
    "grad_fn = grad_a(log_likelihood_anp)\n",
    "\n",
    "def gradient_ascent_autograd(theta_init, X, Z, y, batch_size=5, learning_rate=0.01, num_epochs=10):\n",
    "    \"\"\"\n",
    "    Perform mini-batch gradient ascent over multiple epochs using autograd.\n",
    "\n",
    "    Each epoch shuffles the full dataset and processes it in mini-batches.\n",
    "    Logs log-likelihood at the end of each epoch.\n",
    "    \"\"\"\n",
    "    theta = theta_init.copy()\n",
    "    n = X.shape[0]\n",
    "    \n",
    "    for epoch in trange(num_epochs):\n",
    "        indices = np.random.permutation(n)\n",
    "        X_shuffled = X[indices]\n",
    "        Z_shuffled = Z[indices]\n",
    "        y_shuffled = y[indices]\n",
    "\n",
    "        for start in range(0, n, batch_size):\n",
    "            end = start + batch_size\n",
    "            batch_X = X_shuffled[start:end]\n",
    "            batch_Z = Z_shuffled[start:end]\n",
    "            batch_y = y_shuffled[start:end]\n",
    "\n",
    "            gradient = grad_fn(theta, batch_X, batch_Z, batch_y)\n",
    "            # gradient ascent (maximizing log-likelihood)\n",
    "            theta += learning_rate * gradient\n",
    "\n",
    "        ll = log_likelihood_anp(theta, X, Z, y) / len(X)\n",
    "        \n",
    "        # print(f\"Epoch {epoch+1}: Log-likelihood = {ll:.4f}\")\n",
    "    return theta"
   ]
  },
  {
   "cell_type": "code",
   "execution_count": 104,
   "metadata": {},
   "outputs": [
    {
     "data": {
      "application/vnd.jupyter.widget-view+json": {
       "model_id": "2bc9fdc93fdc4199bfaf1035ed4f354a",
       "version_major": 2,
       "version_minor": 0
      },
      "text/plain": [
       "  0%|          | 0/2 [00:00<?, ?it/s]"
      ]
     },
     "metadata": {},
     "output_type": "display_data"
    }
   ],
   "source": [
    "theta_hat = gradient_ascent_autograd(\n",
    "    theta_init=np.random.uniform(size=d),\n",
    "    X=X,\n",
    "    Z=Z,\n",
    "    y=y,\n",
    "    batch_size=20,\n",
    "    learning_rate=0.001,\n",
    "    num_epochs=2,\n",
    ")"
   ]
  },
  {
   "cell_type": "code",
   "execution_count": 105,
   "metadata": {},
   "outputs": [
    {
     "data": {
      "text/plain": [
       "(-0.5767703418437308, -0.5392286997935356)"
      ]
     },
     "execution_count": 105,
     "metadata": {},
     "output_type": "execute_result"
    }
   ],
   "source": [
    "avg_log_likelihood_hat = log_likelihood_anp(theta=theta_hat, X=X, Z=Z, y=y) / len(X)\n",
    "avg_log_likelihood_true = log_likelihood_anp(theta=theta, X=X, Z=Z, y=y) / len(X)\n",
    "\n",
    "avg_log_likelihood_hat, avg_log_likelihood_true"
   ]
  },
  {
   "cell_type": "code",
   "execution_count": 106,
   "metadata": {},
   "outputs": [],
   "source": [
    "# Vectorized failure probability in JAX\n",
    "def failure_probability_jax(d, x):\n",
    "    return 1 - jnp.exp(-(\n",
    "        a * x + b * x * (3 * m**2 - 3 * m * (x + 2 * d) + x**2 + 3 * x * d + 3 * d**2) / 3\n",
    "    ))\n",
    "\n",
    "# Vectorized log-likelihood in JAX\n",
    "def log_likelihood_jax(theta, X, Z, y):\n",
    "    d = Z @ theta\n",
    "    x = X @ theta\n",
    "    p = failure_probability_jax(d, x)\n",
    "    p = jnp.clip(p, 1e-8, 1 - 1e-8)\n",
    "    return jnp.sum(y * jnp.log(p) + (1 - y) * jnp.log(1 - p))\n",
    "\n",
    "# JAX gradient function\n",
    "grad_fn_jax = jit(grad_j(log_likelihood_jax))\n",
    "log_likelihood_jax = jit(log_likelihood_jax)"
   ]
  },
  {
   "cell_type": "code",
   "execution_count": 107,
   "metadata": {},
   "outputs": [],
   "source": [
    "def gradient_ascent_jax(\n",
    "    theta_init,\n",
    "    X,\n",
    "    Z,\n",
    "    y,\n",
    "    batch_size=5,\n",
    "    learning_rate=0.01,\n",
    "    num_epochs=100,\n",
    "    early_stopping_tol=1e-4,\n",
    "    early_stopping_min_epochs=5,\n",
    "    tq_disable=False,\n",
    "):\n",
    "    theta = theta_init.copy()\n",
    "    n = X.shape[0]\n",
    "    prev_ll = -jnp.inf\n",
    "    \n",
    "    for epoch in trange(num_epochs, disable=tq_disable):\n",
    "        perm = jax.random.permutation(jax.random.PRNGKey(epoch), n)\n",
    "        X_shuffled = X[perm]\n",
    "        Z_shuffled = Z[perm]\n",
    "        y_shuffled = y[perm]\n",
    "\n",
    "        for start in range(0, n, batch_size):\n",
    "            end = min(start + batch_size, n)\n",
    "            batch_X = X_shuffled[start:end]\n",
    "            batch_Z = Z_shuffled[start:end]\n",
    "            batch_y = y_shuffled[start:end]\n",
    "\n",
    "            gradient = grad_fn_jax(theta, batch_X, batch_Z, batch_y)\n",
    "            theta += learning_rate * gradient  # gradient ascent\n",
    "\n",
    "        # Optionally: compute log-likelihood\n",
    "        ll = log_likelihood_jax(theta, X, Z, y) / n\n",
    "        # Early stopping check\n",
    "        if epoch >= early_stopping_min_epochs:\n",
    "            if jnp.abs(ll - prev_ll) < early_stopping_tol:\n",
    "                # print(f\"Early stopped at epoch {epoch+1} (ΔLL = {ll - prev_ll:.6f})\")\n",
    "                break\n",
    "\n",
    "        prev_ll = ll\n",
    "    return theta"
   ]
  },
  {
   "cell_type": "code",
   "execution_count": 108,
   "metadata": {},
   "outputs": [
    {
     "data": {
      "application/vnd.jupyter.widget-view+json": {
       "model_id": "35e42915cdff4ea4be1053c631f74528",
       "version_major": 2,
       "version_minor": 0
      },
      "text/plain": [
       "  0%|          | 0/1000 [00:00<?, ?it/s]"
      ]
     },
     "metadata": {},
     "output_type": "display_data"
    }
   ],
   "source": [
    "# Make sure X, Z, y are JAX arrays\n",
    "X_jax = jnp.array(X)\n",
    "Z_jax = jnp.array(Z)\n",
    "y_jax = jnp.array(y)\n",
    "\n",
    "theta_hat = gradient_ascent_jax(\n",
    "    theta_init=np.random.uniform(size=d), \n",
    "    X=X_jax, \n",
    "    Z=Z_jax, \n",
    "    y=y_jax,\n",
    "    batch_size=20,\n",
    "    learning_rate=0.001,\n",
    "    num_epochs=1000,\n",
    ")"
   ]
  },
  {
   "cell_type": "code",
   "execution_count": 109,
   "metadata": {},
   "outputs": [
    {
     "data": {
      "text/plain": [
       "(-0.54188907877238, -0.5392286997935356)"
      ]
     },
     "execution_count": 109,
     "metadata": {},
     "output_type": "execute_result"
    }
   ],
   "source": [
    "avg_log_likelihood_hat = log_likelihood_anp(theta=theta_hat, X=X, Z=Z, y=y) / len(X)\n",
    "avg_log_likelihood_true = log_likelihood_anp(theta=theta, X=X, Z=Z, y=y) / len(X)\n",
    "avg_log_likelihood_hat, avg_log_likelihood_true"
   ]
  },
  {
   "cell_type": "markdown",
   "metadata": {},
   "source": [
    "### Plot number of samples vs. conf. bound of metrics\n",
    "\n",
    "Metrics: max-norm, 2d-norm, and log-likelihood"
   ]
  },
  {
   "cell_type": "code",
   "execution_count": 122,
   "metadata": {},
   "outputs": [],
   "source": [
    "def run_sample_complexity_study(\n",
    "    true_theta,\n",
    "    d=5,\n",
    "    num_init_trajs=10,\n",
    "    jump_size=2,\n",
    "    num_increments=10,\n",
    "    num_repeat=20,\n",
    "    learning_rate=0.001,\n",
    "    num_epochs=1000,\n",
    "    batch_size=20,\n",
    "    seed=42\n",
    "):\n",
    "    key = jax.random.PRNGKey(seed)\n",
    "    \n",
    "    # traj sizes grow exponentially in jump_size\n",
    "    traj_sizes = [num_init_trajs * (jump_size ** i) for i in range(num_increments)]\n",
    "    \n",
    "    l2_errors = []\n",
    "    max_errors = []\n",
    "    log_likelihoods = []\n",
    "\n",
    "    for k in tqdm(traj_sizes):\n",
    "        l2s, maxs, lls = [], [], []\n",
    "\n",
    "        for _ in range(num_repeat):\n",
    "            # simulate k trajectories\n",
    "            X, Z, y = [], [], []\n",
    "            for _ in range(k):\n",
    "                contexts = simulate_machine(theta=true_theta, d=d)\n",
    "                cum_contexts = np.cumsum(contexts, axis=0)\n",
    "                cum_contexts = np.vstack((np.zeros(d), cum_contexts[:-1]))\n",
    "\n",
    "                X.append(contexts)\n",
    "                Z.append(cum_contexts)\n",
    "                y.append(np.concatenate([np.zeros(len(contexts)-1), [1]]))\n",
    "\n",
    "            X_full = jnp.array(np.vstack(X))\n",
    "            Z_full = jnp.array(np.vstack(Z))\n",
    "            y_full = jnp.array(np.concatenate(y))\n",
    "\n",
    "            # random theta init\n",
    "            theta_init = jax.random.uniform(key, shape=(d,), minval=0, maxval=1)\n",
    "\n",
    "            # gradient ascent\n",
    "            theta_hat = gradient_ascent_jax(\n",
    "                theta_init=theta_init,\n",
    "                X=X_full,\n",
    "                Z=Z_full,\n",
    "                y=y_full,\n",
    "                batch_size=batch_size,\n",
    "                learning_rate=learning_rate,\n",
    "                num_epochs=num_epochs,\n",
    "                tq_disable=True,\n",
    "            )\n",
    "\n",
    "            # metrics\n",
    "            l2s.append(jnp.linalg.norm(theta_hat - true_theta))\n",
    "            maxs.append(jnp.max(jnp.abs(theta_hat - true_theta)))\n",
    "            lls.append(float(log_likelihood_jax(theta_hat, X_full, Z_full, y_full)) / len(X_full))\n",
    "\n",
    "        # store stats\n",
    "        l2_errors.append((np.mean(l2s), np.std(l2s)))\n",
    "        max_errors.append((np.mean(maxs), np.std(maxs)))\n",
    "        log_likelihoods.append((np.mean(lls), np.std(lls)))\n",
    "\n",
    "    return traj_sizes, l2_errors, max_errors, log_likelihoods\n"
   ]
  },
  {
   "cell_type": "code",
   "execution_count": null,
   "metadata": {},
   "outputs": [],
   "source": [
    "def plot_with_ci(x, means_and_stds, ylabel, title):\n",
    "    means = [m for m, _ in means_and_stds]\n",
    "    stds = [s for _, s in means_and_stds]\n",
    "    means = np.array(means)\n",
    "    stds = np.array(stds)\n",
    "\n",
    "    plt.figure(figsize=(6, 4))\n",
    "    plt.plot(x, means, label=\"Mean\")\n",
    "    plt.fill_between(x, means - 1.96*stds, means + 1.96*stds, alpha=0.3, label=\"95% CI\")\n",
    "    plt.xscale(\"log\")\n",
    "    plt.xlabel(\"Number of Trajectories\")\n",
    "    plt.ylabel(ylabel)\n",
    "    plt.title(title)\n",
    "    plt.grid()\n",
    "    plt.legend()\n",
    "    plt.tight_layout()\n",
    "    plt.show()\n"
   ]
  },
  {
   "cell_type": "code",
   "execution_count": 124,
   "metadata": {},
   "outputs": [
    {
     "data": {
      "application/vnd.jupyter.widget-view+json": {
       "model_id": "79d3839325194fbcbe3f36ae19469574",
       "version_major": 2,
       "version_minor": 0
      },
      "text/plain": [
       "  0%|          | 0/10 [00:00<?, ?it/s]"
      ]
     },
     "metadata": {},
     "output_type": "display_data"
    }
   ],
   "source": [
    "true_theta = jnp.array(theta)  # your ground truth theta\n",
    "traj_sizes, l2s, maxs, lls = run_sample_complexity_study(true_theta, d=theta.shape[1])\n"
   ]
  },
  {
   "cell_type": "code",
   "execution_count": 125,
   "metadata": {},
   "outputs": [
    {
     "data": {
      "image/png": "[encoded data removed]",
      "text/plain": [
       "<Figure size 600x400 with 1 Axes>"
      ]
     },
     "metadata": {},
     "output_type": "display_data"
    },
    {
     "data": {
      "image/png": "[encoded data removed]",
      "text/plain": [
       "<Figure size 600x400 with 1 Axes>"
      ]
     },
     "metadata": {},
     "output_type": "display_data"
    },
    {
     "data": {
      "image/png": "[encoded data removed]",
      "text/plain": [
       "<Figure size 600x400 with 1 Axes>"
      ]
     },
     "metadata": {},
     "output_type": "display_data"
    }
   ],
   "source": [
    "plot_with_ci(traj_sizes, l2s, \"L2 Error\", \"Sample Complexity: L2 Norm\")\n",
    "plot_with_ci(traj_sizes, maxs, \"Max Error\", \"Sample Complexity: Max Norm\")\n",
    "plot_with_ci(traj_sizes, lls, \"Avg Log-Likelihood\", \"Sample Complexity: Log-Likelihood\")"
   ]
  },
  {
   "cell_type": "code",
   "execution_count": null,
   "metadata": {},
   "outputs": [],
   "source": []
  }
 ],
 "metadata": {
  "kernelspec": {
   "display_name": "res",
   "language": "python",
   "name": "python3"
  },
  "language_info": {
   "codemirror_mode": {
    "name": "ipython",
    "version": 3
   },
   "file_extension": ".py",
   "mimetype": "text/x-python",
   "name": "python",
   "nbconvert_exporter": "python",
   "pygments_lexer": "ipython3",
   "version": "3.9.20"
  }
 },
 "nbformat": 4,
 "nbformat_minor": 2
}
